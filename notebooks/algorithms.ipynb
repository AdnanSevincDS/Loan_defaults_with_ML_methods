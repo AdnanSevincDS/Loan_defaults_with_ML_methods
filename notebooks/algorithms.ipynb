{
 "cells": [
  {
   "cell_type": "markdown",
   "id": "1dac36e8-5c2a-4a5d-b04a-652da5320d1f",
   "metadata": {
    "id": "1dac36e8-5c2a-4a5d-b04a-652da5320d1f"
   },
   "source": [
    "# Import libraries"
   ]
  },
  {
   "cell_type": "code",
   "execution_count": 1,
   "id": "f2024bd1-03db-4495-990b-2a2644c6edf4",
   "metadata": {
    "executionInfo": {
     "elapsed": 1837,
     "status": "ok",
     "timestamp": 1681231714332,
     "user": {
      "displayName": "Adnan sevinç",
      "userId": "10606629957436102111"
     },
     "user_tz": -120
    },
    "id": "f2024bd1-03db-4495-990b-2a2644c6edf4"
   },
   "outputs": [],
   "source": [
    "# Basic Libraries\n",
    "import pandas as pd\n",
    "import numpy as np\n",
    "import json\n",
    "import time\n",
    "import os\n",
    "import math\n",
    "from datetime import datetime\n",
    "\n",
    "import sidetable \n",
    "from prettytable import PrettyTable\n",
    "\n",
    "# Visualizations\n",
    "import matplotlib.pyplot as plt\n",
    "import seaborn as sns \n",
    "\n",
    "# Models\n",
    "from sklearn.linear_model import LogisticRegression\n",
    "from sklearn.tree import DecisionTreeClassifier\n",
    "from sklearn.ensemble import RandomForestClassifier\n",
    "from xgboost import XGBClassifier\n",
    "\n",
    "# XGBOOST\n",
    "import xgboost\n",
    "\n",
    "# Sklearn library\n",
    "from sklearn.model_selection import train_test_split, GridSearchCV\n",
    "from sklearn.metrics import accuracy_score, roc_auc_score, classification_report, confusion_matrix, ConfusionMatrixDisplay\n",
    "from sklearn.preprocessing import StandardScaler\n",
    "\n",
    "# Helper functions\n",
    "from src.utils.helper_functions import (\n",
    "    auc_gini_score, \n",
    "    scale_and_prepare_data, \n",
    "    get_output,\n",
    "    class_report_and_cm,\n",
    "    run_grid_search\n",
    ")\n",
    "\n",
    "# Hint\n",
    "from typing import List\n",
    "\n",
    "import warnings\n",
    "warnings.filterwarnings('ignore')"
   ]
  },
  {
   "cell_type": "markdown",
   "id": "36c3e3bb-dd98-46be-914b-4924bd5cc20a",
   "metadata": {
    "id": "36c3e3bb-dd98-46be-914b-4924bd5cc20a"
   },
   "source": [
    "# Load Dataset"
   ]
  },
  {
   "cell_type": "code",
   "execution_count": 2,
   "id": "d4e191e5",
   "metadata": {},
   "outputs": [],
   "source": [
    "path = '/Users/Adnan_Sevinc/Library/CloudStorage/OneDrive-EPAM/adnan_sevinc_personal/GitHub/loan_defaults_with_ML_methods/data'"
   ]
  },
  {
   "cell_type": "code",
   "execution_count": 3,
   "id": "e66de068",
   "metadata": {},
   "outputs": [],
   "source": [
    "X_train = pd.read_csv(os.path.join(path, 'X_train.csv'))"
   ]
  },
  {
   "cell_type": "code",
   "execution_count": 4,
   "id": "J757oI7DlcJF",
   "metadata": {
    "executionInfo": {
     "elapsed": 424,
     "status": "ok",
     "timestamp": 1681231738026,
     "user": {
      "displayName": "Adnan sevinç",
      "userId": "10606629957436102111"
     },
     "user_tz": -120
    },
    "id": "J757oI7DlcJF"
   },
   "outputs": [],
   "source": [
    "y_train = pd.read_csv(os.path.join(path, 'y_train.csv'))"
   ]
  },
  {
   "cell_type": "code",
   "execution_count": 5,
   "id": "znN4Swqvlfh0",
   "metadata": {
    "executionInfo": {
     "elapsed": 223,
     "status": "ok",
     "timestamp": 1681231738246,
     "user": {
      "displayName": "Adnan sevinç",
      "userId": "10606629957436102111"
     },
     "user_tz": -120
    },
    "id": "znN4Swqvlfh0"
   },
   "outputs": [],
   "source": [
    "X_test = pd.read_csv(os.path.join(path, 'X_test.csv'))"
   ]
  },
  {
   "cell_type": "code",
   "execution_count": 6,
   "id": "dVLEZOqHnMlm",
   "metadata": {
    "executionInfo": {
     "elapsed": 2075,
     "status": "ok",
     "timestamp": 1681231740318,
     "user": {
      "displayName": "Adnan sevinç",
      "userId": "10606629957436102111"
     },
     "user_tz": -120
    },
    "id": "dVLEZOqHnMlm"
   },
   "outputs": [],
   "source": [
    "y_test = pd.read_csv(os.path.join(path, 'y_test.csv'))"
   ]
  },
  {
   "cell_type": "code",
   "execution_count": 7,
   "id": "63eec503-0887-4d97-846c-c0a67f942925",
   "metadata": {},
   "outputs": [
    {
     "data": {
      "text/plain": [
       "{'X_train': {'Row': 52876, 'Column': 80},\n",
       " 'y_train': {'Row': 52876, 'Column': 1},\n",
       " 'X_test': {'Row': 188864, 'Column': 80},\n",
       " 'y_test': {'Row': 188864, 'Column': 1}}"
      ]
     },
     "execution_count": 7,
     "metadata": {},
     "output_type": "execute_result"
    }
   ],
   "source": [
    "data_size = {\n",
    "    'X_train': {'Row': X_train.shape[0], 'Column': X_train.shape[1]},\n",
    "    'y_train': {'Row': y_train.shape[0], 'Column': y_train.shape[1]},\n",
    "    'X_test': {'Row': X_test.shape[0], 'Column': X_test.shape[1]},\n",
    "    'y_test': {'Row': y_test.shape[0], 'Column': y_test.shape[1]}\n",
    "}\n",
    "\n",
    "data_size"
   ]
  },
  {
   "cell_type": "code",
   "execution_count": 8,
   "id": "65204ba2-c95c-44cc-8baf-0418005fe377",
   "metadata": {},
   "outputs": [
    {
     "data": {
      "text/plain": [
       "default\n",
       "0          0.5\n",
       "1          0.5\n",
       "Name: proportion, dtype: float64"
      ]
     },
     "execution_count": 8,
     "metadata": {},
     "output_type": "execute_result"
    }
   ],
   "source": [
    "# Explore default rate for y_train\n",
    "y_train.value_counts(normalize=True)"
   ]
  },
  {
   "cell_type": "code",
   "execution_count": 9,
   "id": "20f1f1f8-dd96-468d-a426-2dda12081e94",
   "metadata": {},
   "outputs": [
    {
     "data": {
      "text/plain": [
       "default\n",
       "0          0.940004\n",
       "1          0.059996\n",
       "Name: proportion, dtype: float64"
      ]
     },
     "execution_count": 9,
     "metadata": {},
     "output_type": "execute_result"
    }
   ],
   "source": [
    "# Explore default rate for y_test\n",
    "y_test.value_counts(normalize=True)"
   ]
  },
  {
   "cell_type": "markdown",
   "id": "VT_3n9wCrJHK",
   "metadata": {
    "id": "VT_3n9wCrJHK"
   },
   "source": [
    "# Scale Dataset"
   ]
  },
  {
   "cell_type": "code",
   "execution_count": 10,
   "id": "i6A4yLUArkTJ",
   "metadata": {
    "executionInfo": {
     "elapsed": 27,
     "status": "ok",
     "timestamp": 1681231740332,
     "user": {
      "displayName": "Adnan sevinç",
      "userId": "10606629957436102111"
     },
     "user_tz": -120
    },
    "id": "i6A4yLUArkTJ"
   },
   "outputs": [],
   "source": [
    "X_train, X_test, y_train, y_test = scale_and_prepare_data(X_train, X_test, y_train, y_test)"
   ]
  },
  {
   "cell_type": "markdown",
   "id": "366a1fcd-de4c-4203-9c61-cb21e6a4e70b",
   "metadata": {
    "id": "366a1fcd-de4c-4203-9c61-cb21e6a4e70b"
   },
   "source": [
    "# Modeling"
   ]
  },
  {
   "cell_type": "markdown",
   "id": "tnExtMVYwzy-",
   "metadata": {
    "id": "tnExtMVYwzy-"
   },
   "source": [
    "## Logistic Regression"
   ]
  },
  {
   "cell_type": "markdown",
   "id": "dbfb3fe3-d786-4e33-a14f-b6bd466e502a",
   "metadata": {},
   "source": [
    "Build and fit Logistic Regression model"
   ]
  },
  {
   "cell_type": "code",
   "execution_count": 11,
   "id": "jEREbVtGwxDG",
   "metadata": {
    "colab": {
     "base_uri": "https://localhost:8080/",
     "height": 111
    },
    "executionInfo": {
     "elapsed": 323,
     "status": "ok",
     "timestamp": 1681145833594,
     "user": {
      "displayName": "Adnan sevinç",
      "userId": "10606629957436102111"
     },
     "user_tz": -120
    },
    "id": "jEREbVtGwxDG",
    "outputId": "79018525-5137-44db-c400-edb7403b1cc0"
   },
   "outputs": [
    {
     "data": {
      "text/html": [
       "<style>#sk-container-id-1 {color: black;background-color: white;}#sk-container-id-1 pre{padding: 0;}#sk-container-id-1 div.sk-toggleable {background-color: white;}#sk-container-id-1 label.sk-toggleable__label {cursor: pointer;display: block;width: 100%;margin-bottom: 0;padding: 0.3em;box-sizing: border-box;text-align: center;}#sk-container-id-1 label.sk-toggleable__label-arrow:before {content: \"▸\";float: left;margin-right: 0.25em;color: #696969;}#sk-container-id-1 label.sk-toggleable__label-arrow:hover:before {color: black;}#sk-container-id-1 div.sk-estimator:hover label.sk-toggleable__label-arrow:before {color: black;}#sk-container-id-1 div.sk-toggleable__content {max-height: 0;max-width: 0;overflow: hidden;text-align: left;background-color: #f0f8ff;}#sk-container-id-1 div.sk-toggleable__content pre {margin: 0.2em;color: black;border-radius: 0.25em;background-color: #f0f8ff;}#sk-container-id-1 input.sk-toggleable__control:checked~div.sk-toggleable__content {max-height: 200px;max-width: 100%;overflow: auto;}#sk-container-id-1 input.sk-toggleable__control:checked~label.sk-toggleable__label-arrow:before {content: \"▾\";}#sk-container-id-1 div.sk-estimator input.sk-toggleable__control:checked~label.sk-toggleable__label {background-color: #d4ebff;}#sk-container-id-1 div.sk-label input.sk-toggleable__control:checked~label.sk-toggleable__label {background-color: #d4ebff;}#sk-container-id-1 input.sk-hidden--visually {border: 0;clip: rect(1px 1px 1px 1px);clip: rect(1px, 1px, 1px, 1px);height: 1px;margin: -1px;overflow: hidden;padding: 0;position: absolute;width: 1px;}#sk-container-id-1 div.sk-estimator {font-family: monospace;background-color: #f0f8ff;border: 1px dotted black;border-radius: 0.25em;box-sizing: border-box;margin-bottom: 0.5em;}#sk-container-id-1 div.sk-estimator:hover {background-color: #d4ebff;}#sk-container-id-1 div.sk-parallel-item::after {content: \"\";width: 100%;border-bottom: 1px solid gray;flex-grow: 1;}#sk-container-id-1 div.sk-label:hover label.sk-toggleable__label {background-color: #d4ebff;}#sk-container-id-1 div.sk-serial::before {content: \"\";position: absolute;border-left: 1px solid gray;box-sizing: border-box;top: 0;bottom: 0;left: 50%;z-index: 0;}#sk-container-id-1 div.sk-serial {display: flex;flex-direction: column;align-items: center;background-color: white;padding-right: 0.2em;padding-left: 0.2em;position: relative;}#sk-container-id-1 div.sk-item {position: relative;z-index: 1;}#sk-container-id-1 div.sk-parallel {display: flex;align-items: stretch;justify-content: center;background-color: white;position: relative;}#sk-container-id-1 div.sk-item::before, #sk-container-id-1 div.sk-parallel-item::before {content: \"\";position: absolute;border-left: 1px solid gray;box-sizing: border-box;top: 0;bottom: 0;left: 50%;z-index: -1;}#sk-container-id-1 div.sk-parallel-item {display: flex;flex-direction: column;z-index: 1;position: relative;background-color: white;}#sk-container-id-1 div.sk-parallel-item:first-child::after {align-self: flex-end;width: 50%;}#sk-container-id-1 div.sk-parallel-item:last-child::after {align-self: flex-start;width: 50%;}#sk-container-id-1 div.sk-parallel-item:only-child::after {width: 0;}#sk-container-id-1 div.sk-dashed-wrapped {border: 1px dashed gray;margin: 0 0.4em 0.5em 0.4em;box-sizing: border-box;padding-bottom: 0.4em;background-color: white;}#sk-container-id-1 div.sk-label label {font-family: monospace;font-weight: bold;display: inline-block;line-height: 1.2em;}#sk-container-id-1 div.sk-label-container {text-align: center;}#sk-container-id-1 div.sk-container {/* jupyter's `normalize.less` sets `[hidden] { display: none; }` but bootstrap.min.css set `[hidden] { display: none !important; }` so we also need the `!important` here to be able to override the default hidden behavior on the sphinx rendered scikit-learn.org. See: https://github.com/scikit-learn/scikit-learn/issues/21755 */display: inline-block !important;position: relative;}#sk-container-id-1 div.sk-text-repr-fallback {display: none;}</style><div id=\"sk-container-id-1\" class=\"sk-top-container\"><div class=\"sk-text-repr-fallback\"><pre>LogisticRegression(random_state=42)</pre><b>In a Jupyter environment, please rerun this cell to show the HTML representation or trust the notebook. <br />On GitHub, the HTML representation is unable to render, please try loading this page with nbviewer.org.</b></div><div class=\"sk-container\" hidden><div class=\"sk-item\"><div class=\"sk-estimator sk-toggleable\"><input class=\"sk-toggleable__control sk-hidden--visually\" id=\"sk-estimator-id-1\" type=\"checkbox\" checked><label for=\"sk-estimator-id-1\" class=\"sk-toggleable__label sk-toggleable__label-arrow\">LogisticRegression</label><div class=\"sk-toggleable__content\"><pre>LogisticRegression(random_state=42)</pre></div></div></div></div></div>"
      ],
      "text/plain": [
       "LogisticRegression(random_state=42)"
      ]
     },
     "execution_count": 11,
     "metadata": {},
     "output_type": "execute_result"
    }
   ],
   "source": [
    "logistic_regression_model = LogisticRegression(random_state=42)\n",
    "logistic_regression_model.fit(X_train, y_train)"
   ]
  },
  {
   "cell_type": "code",
   "execution_count": 12,
   "id": "4ef02059-3a55-41ec-ad1d-a32e2be2d413",
   "metadata": {},
   "outputs": [],
   "source": [
    "logistic_regression_model_output = get_output(logistic_regression_model,y_train, X_train, y_test, X_test)"
   ]
  },
  {
   "cell_type": "code",
   "execution_count": 13,
   "id": "89fe6137-110a-4e86-b651-251a346dc5ca",
   "metadata": {},
   "outputs": [
    {
     "data": {
      "text/html": [
       "<div>\n",
       "<style scoped>\n",
       "    .dataframe tbody tr th:only-of-type {\n",
       "        vertical-align: middle;\n",
       "    }\n",
       "\n",
       "    .dataframe tbody tr th {\n",
       "        vertical-align: top;\n",
       "    }\n",
       "\n",
       "    .dataframe thead th {\n",
       "        text-align: right;\n",
       "    }\n",
       "</style>\n",
       "<table border=\"1\" class=\"dataframe\">\n",
       "  <thead>\n",
       "    <tr style=\"text-align: right;\">\n",
       "      <th></th>\n",
       "      <th>Train_AUCROC</th>\n",
       "      <th>Test_AUCROC</th>\n",
       "      <th>Train_Gini</th>\n",
       "      <th>Test_Gini</th>\n",
       "    </tr>\n",
       "  </thead>\n",
       "  <tbody>\n",
       "    <tr>\n",
       "      <th>0</th>\n",
       "      <td>0.76008</td>\n",
       "      <td>0.759007</td>\n",
       "      <td>0.52016</td>\n",
       "      <td>0.518013</td>\n",
       "    </tr>\n",
       "  </tbody>\n",
       "</table>\n",
       "</div>"
      ],
      "text/plain": [
       "   Train_AUCROC  Test_AUCROC  Train_Gini  Test_Gini\n",
       "0       0.76008     0.759007     0.52016   0.518013"
      ]
     },
     "execution_count": 13,
     "metadata": {},
     "output_type": "execute_result"
    }
   ],
   "source": [
    "logistic_regression_model_output"
   ]
  },
  {
   "cell_type": "markdown",
   "id": "bf107aae-1d08-44d3-a6f7-1c3bf76e8044",
   "metadata": {},
   "source": [
    "Predict model"
   ]
  },
  {
   "cell_type": "code",
   "execution_count": 14,
   "id": "8af19f2c-a9d4-4152-b24c-2e2761c4bb8c",
   "metadata": {},
   "outputs": [],
   "source": [
    "logistic_regression_model_pred = logistic_regression_model.predict(X_test)"
   ]
  },
  {
   "cell_type": "code",
   "execution_count": 15,
   "id": "189ae0fa-8000-45d7-878d-0c4bcbe0ebcd",
   "metadata": {},
   "outputs": [
    {
     "name": "stdout",
     "output_type": "stream",
     "text": [
      "Classification report:\n",
      "\n",
      "              precision    recall  f1-score   support\n",
      "\n",
      "           0       0.98      0.75      0.85    177533\n",
      "           1       0.16      0.77      0.27     11331\n",
      "\n",
      "    accuracy                           0.75    188864\n",
      "   macro avg       0.57      0.76      0.56    188864\n",
      "weighted avg       0.93      0.75      0.81    188864\n",
      "\n",
      "Display confusion matrix:\n",
      "\n",
      "[[132889  44644]\n",
      " [  2612   8719]]\n"
     ]
    },
    {
     "data": {
      "image/png": "[encoded data removed]",
      "text/plain": [
       "<Figure size 640x480 with 2 Axes>"
      ]
     },
     "metadata": {},
     "output_type": "display_data"
    }
   ],
   "source": [
    "class_report_and_cm(y_test, logistic_regression_model_pred, logistic_regression_model)"
   ]
  },
  {
   "cell_type": "markdown",
   "id": "bba71385-e54e-416e-acf6-fb5aa0cbd582",
   "metadata": {
    "id": "bba71385-e54e-416e-acf6-fb5aa0cbd582"
   },
   "source": [
    "## Decision Tree"
   ]
  },
  {
   "cell_type": "markdown",
   "id": "71b81b0d-a06f-488f-aa27-12d7a4e0e92e",
   "metadata": {},
   "source": [
    "Build and fit Decision Tree model"
   ]
  },
  {
   "cell_type": "code",
   "execution_count": 16,
   "id": "adebaf17-50f1-4dd2-a495-4a4691a1e5b1",
   "metadata": {
    "colab": {
     "base_uri": "https://localhost:8080/"
    },
    "executionInfo": {
     "elapsed": 19,
     "status": "ok",
     "timestamp": 1681145835285,
     "user": {
      "displayName": "Adnan sevinç",
      "userId": "10606629957436102111"
     },
     "user_tz": -120
    },
    "id": "adebaf17-50f1-4dd2-a495-4a4691a1e5b1",
    "outputId": "394483c2-0783-4065-c83b-b727dad3aa37"
   },
   "outputs": [
    {
     "name": "stdout",
     "output_type": "stream",
     "text": [
      "Running Time: 0.006615783333333333\n"
     ]
    }
   ],
   "source": [
    "start = datetime.now()\n",
    "\n",
    "decision_tree_model = DecisionTreeClassifier(random_state=42)\n",
    "decision_tree_model.fit(X_train, y_train)\n",
    "\n",
    "print(f\"Running Time: {(datetime.now()-start).total_seconds()/60}\")"
   ]
  },
  {
   "cell_type": "code",
   "execution_count": 17,
   "id": "00f0035e-4f39-4c72-b9ba-9716b037d8f3",
   "metadata": {},
   "outputs": [],
   "source": [
    "decision_tree_model_output = get_output(decision_tree_model,y_train, X_train, y_test, X_test)"
   ]
  },
  {
   "cell_type": "code",
   "execution_count": 18,
   "id": "f6cdab34-3d97-4942-8202-538de80f8017",
   "metadata": {},
   "outputs": [
    {
     "data": {
      "text/html": [
       "<div>\n",
       "<style scoped>\n",
       "    .dataframe tbody tr th:only-of-type {\n",
       "        vertical-align: middle;\n",
       "    }\n",
       "\n",
       "    .dataframe tbody tr th {\n",
       "        vertical-align: top;\n",
       "    }\n",
       "\n",
       "    .dataframe thead th {\n",
       "        text-align: right;\n",
       "    }\n",
       "</style>\n",
       "<table border=\"1\" class=\"dataframe\">\n",
       "  <thead>\n",
       "    <tr style=\"text-align: right;\">\n",
       "      <th></th>\n",
       "      <th>Train_AUCROC</th>\n",
       "      <th>Test_AUCROC</th>\n",
       "      <th>Train_Gini</th>\n",
       "      <th>Test_Gini</th>\n",
       "    </tr>\n",
       "  </thead>\n",
       "  <tbody>\n",
       "    <tr>\n",
       "      <th>0</th>\n",
       "      <td>1.0</td>\n",
       "      <td>0.670158</td>\n",
       "      <td>1.0</td>\n",
       "      <td>0.340316</td>\n",
       "    </tr>\n",
       "  </tbody>\n",
       "</table>\n",
       "</div>"
      ],
      "text/plain": [
       "   Train_AUCROC  Test_AUCROC  Train_Gini  Test_Gini\n",
       "0           1.0     0.670158         1.0   0.340316"
      ]
     },
     "execution_count": 18,
     "metadata": {},
     "output_type": "execute_result"
    }
   ],
   "source": [
    "decision_tree_model_output"
   ]
  },
  {
   "cell_type": "markdown",
   "id": "71bd94a2-e077-485a-bb01-0d0d47529e95",
   "metadata": {},
   "source": [
    "Predict model"
   ]
  },
  {
   "cell_type": "code",
   "execution_count": 19,
   "id": "0341b55a-1e37-4080-88dd-e59e577dae7d",
   "metadata": {},
   "outputs": [],
   "source": [
    "decision_tree_model_pred = decision_tree_model.predict(X_test)"
   ]
  },
  {
   "cell_type": "code",
   "execution_count": 20,
   "id": "5da21ec1-2cf8-4279-b0ec-6d2ab2f27e43",
   "metadata": {
    "colab": {
     "base_uri": "https://localhost:8080/"
    },
    "executionInfo": {
     "elapsed": 14,
     "status": "ok",
     "timestamp": 1681145835670,
     "user": {
      "displayName": "Adnan sevinç",
      "userId": "10606629957436102111"
     },
     "user_tz": -120
    },
    "id": "5da21ec1-2cf8-4279-b0ec-6d2ab2f27e43",
    "outputId": "dc22fcb6-c7c7-4073-9a2c-9194858adafd"
   },
   "outputs": [
    {
     "name": "stdout",
     "output_type": "stream",
     "text": [
      "Classification report:\n",
      "\n",
      "              precision    recall  f1-score   support\n",
      "\n",
      "           0       0.97      0.67      0.79    177533\n",
      "           1       0.12      0.67      0.20     11331\n",
      "\n",
      "    accuracy                           0.67    188864\n",
      "   macro avg       0.54      0.67      0.50    188864\n",
      "weighted avg       0.92      0.67      0.76    188864\n",
      "\n",
      "Display confusion matrix:\n",
      "\n",
      "[[119454  58079]\n",
      " [  3768   7563]]\n"
     ]
    },
    {
     "data": {
      "image/png": "[encoded data removed]",
      "text/plain": [
       "<Figure size 640x480 with 2 Axes>"
      ]
     },
     "metadata": {},
     "output_type": "display_data"
    }
   ],
   "source": [
    "class_report_and_cm(y_test, decision_tree_model_pred, decision_tree_model)"
   ]
  },
  {
   "cell_type": "markdown",
   "id": "db5ed31f-28ff-476b-a6e9-28255aea5386",
   "metadata": {
    "id": "db5ed31f-28ff-476b-a6e9-28255aea5386"
   },
   "source": [
    "# Random Forest"
   ]
  },
  {
   "cell_type": "markdown",
   "id": "2e726f99-cec2-48e3-ac7c-86a1d928905e",
   "metadata": {},
   "source": [
    "Build and fit Random Forest model"
   ]
  },
  {
   "cell_type": "code",
   "execution_count": 21,
   "id": "95b1d5f0-b099-4944-86f2-8e15c681fdcb",
   "metadata": {
    "colab": {
     "base_uri": "https://localhost:8080/"
    },
    "executionInfo": {
     "elapsed": 9192,
     "status": "ok",
     "timestamp": 1681145846432,
     "user": {
      "displayName": "Adnan sevinç",
      "userId": "10606629957436102111"
     },
     "user_tz": -120
    },
    "id": "95b1d5f0-b099-4944-86f2-8e15c681fdcb",
    "outputId": "f3db4e32-8074-4849-a399-1e19591c5e62"
   },
   "outputs": [
    {
     "name": "stdout",
     "output_type": "stream",
     "text": [
      "Running Time: 0.06617296666666667\n"
     ]
    }
   ],
   "source": [
    "start = datetime.now()\n",
    "\n",
    "random_forest_model = RandomForestClassifier(random_state=42)  \n",
    "random_forest_model.fit(X_train, y_train)\n",
    "\n",
    "print(f\"Running Time: {(datetime.now()-start).total_seconds()/60}\")"
   ]
  },
  {
   "cell_type": "code",
   "execution_count": 22,
   "id": "f8c4283b-97f6-4f40-bc75-f0928459ac92",
   "metadata": {},
   "outputs": [],
   "source": [
    "random_forest_model_output = get_output(random_forest_model,y_train, X_train, y_test, X_test)"
   ]
  },
  {
   "cell_type": "code",
   "execution_count": 23,
   "id": "1d8f4704-b45b-46b2-8ad2-4b5c9adf59cf",
   "metadata": {},
   "outputs": [
    {
     "data": {
      "text/html": [
       "<div>\n",
       "<style scoped>\n",
       "    .dataframe tbody tr th:only-of-type {\n",
       "        vertical-align: middle;\n",
       "    }\n",
       "\n",
       "    .dataframe tbody tr th {\n",
       "        vertical-align: top;\n",
       "    }\n",
       "\n",
       "    .dataframe thead th {\n",
       "        text-align: right;\n",
       "    }\n",
       "</style>\n",
       "<table border=\"1\" class=\"dataframe\">\n",
       "  <thead>\n",
       "    <tr style=\"text-align: right;\">\n",
       "      <th></th>\n",
       "      <th>Train_AUCROC</th>\n",
       "      <th>Test_AUCROC</th>\n",
       "      <th>Train_Gini</th>\n",
       "      <th>Test_Gini</th>\n",
       "    </tr>\n",
       "  </thead>\n",
       "  <tbody>\n",
       "    <tr>\n",
       "      <th>0</th>\n",
       "      <td>1.0</td>\n",
       "      <td>0.758728</td>\n",
       "      <td>1.0</td>\n",
       "      <td>0.517457</td>\n",
       "    </tr>\n",
       "  </tbody>\n",
       "</table>\n",
       "</div>"
      ],
      "text/plain": [
       "   Train_AUCROC  Test_AUCROC  Train_Gini  Test_Gini\n",
       "0           1.0     0.758728         1.0   0.517457"
      ]
     },
     "execution_count": 23,
     "metadata": {},
     "output_type": "execute_result"
    }
   ],
   "source": [
    "random_forest_model_output"
   ]
  },
  {
   "cell_type": "markdown",
   "id": "760ba629-db83-411a-9eca-4118069a2e0b",
   "metadata": {},
   "source": [
    "Predict Model"
   ]
  },
  {
   "cell_type": "code",
   "execution_count": 24,
   "id": "93bc0e51-ad73-485d-a1eb-0a36c93fd501",
   "metadata": {},
   "outputs": [],
   "source": [
    "random_forest_model_pred = random_forest_model.predict(X_test)"
   ]
  },
  {
   "cell_type": "markdown",
   "id": "aa7bec60-7c7d-408e-8368-9ef609fd3f3d",
   "metadata": {},
   "source": [
    "Print score of Random Forest model"
   ]
  },
  {
   "cell_type": "code",
   "execution_count": 25,
   "id": "24aa48da-458d-4eea-a379-7b3fe928585e",
   "metadata": {},
   "outputs": [
    {
     "name": "stdout",
     "output_type": "stream",
     "text": [
      "Classification report:\n",
      "\n",
      "              precision    recall  f1-score   support\n",
      "\n",
      "           0       0.98      0.74      0.84    177533\n",
      "           1       0.16      0.78      0.26     11331\n",
      "\n",
      "    accuracy                           0.74    188864\n",
      "   macro avg       0.57      0.76      0.55    188864\n",
      "weighted avg       0.93      0.74      0.81    188864\n",
      "\n",
      "Display confusion matrix:\n",
      "\n",
      "[[130675  46858]\n",
      " [  2477   8854]]\n"
     ]
    },
    {
     "data": {
      "image/png": "[encoded data removed]",
      "text/plain": [
       "<Figure size 640x480 with 2 Axes>"
      ]
     },
     "metadata": {},
     "output_type": "display_data"
    }
   ],
   "source": [
    "class_report_and_cm(y_test, random_forest_model_pred, random_forest_model)"
   ]
  },
  {
   "cell_type": "markdown",
   "id": "9e18d494-cd2e-4405-a5ca-30dc16fb6ed8",
   "metadata": {
    "id": "9e18d494-cd2e-4405-a5ca-30dc16fb6ed8"
   },
   "source": [
    "# XGBoost"
   ]
  },
  {
   "cell_type": "markdown",
   "id": "5f564c1e-07fa-434b-9c5e-a1d9a2a66549",
   "metadata": {},
   "source": [
    "Build and fit XGBoost model"
   ]
  },
  {
   "cell_type": "code",
   "execution_count": 26,
   "id": "b7132369-8e6b-4c51-af9a-019edae5bce9",
   "metadata": {},
   "outputs": [
    {
     "name": "stdout",
     "output_type": "stream",
     "text": [
      "Running Time: 0.007061799999999999\n"
     ]
    }
   ],
   "source": [
    "start = datetime.now()\n",
    "\n",
    "xgboost_model = xgboost.XGBClassifier(seed=42, objective='binary:logistic')\n",
    "xgboost_model.fit(X_train, y_train)\n",
    "\n",
    "print(f\"Running Time: {(datetime.now()-start).total_seconds()/60}\")"
   ]
  },
  {
   "cell_type": "code",
   "execution_count": 27,
   "id": "deb03816-da68-49d0-95c2-a8ad881f5db2",
   "metadata": {},
   "outputs": [],
   "source": [
    "xgboost_model_output = get_output(xgboost_model,y_train, X_train, y_test, X_test)"
   ]
  },
  {
   "cell_type": "code",
   "execution_count": 28,
   "id": "43771251-e468-4d84-94b9-2f1d02790a7d",
   "metadata": {},
   "outputs": [
    {
     "data": {
      "text/html": [
       "<div>\n",
       "<style scoped>\n",
       "    .dataframe tbody tr th:only-of-type {\n",
       "        vertical-align: middle;\n",
       "    }\n",
       "\n",
       "    .dataframe tbody tr th {\n",
       "        vertical-align: top;\n",
       "    }\n",
       "\n",
       "    .dataframe thead th {\n",
       "        text-align: right;\n",
       "    }\n",
       "</style>\n",
       "<table border=\"1\" class=\"dataframe\">\n",
       "  <thead>\n",
       "    <tr style=\"text-align: right;\">\n",
       "      <th></th>\n",
       "      <th>Train_AUCROC</th>\n",
       "      <th>Test_AUCROC</th>\n",
       "      <th>Train_Gini</th>\n",
       "      <th>Test_Gini</th>\n",
       "    </tr>\n",
       "  </thead>\n",
       "  <tbody>\n",
       "    <tr>\n",
       "      <th>0</th>\n",
       "      <td>0.812372</td>\n",
       "      <td>0.760401</td>\n",
       "      <td>0.624745</td>\n",
       "      <td>0.520803</td>\n",
       "    </tr>\n",
       "  </tbody>\n",
       "</table>\n",
       "</div>"
      ],
      "text/plain": [
       "   Train_AUCROC  Test_AUCROC  Train_Gini  Test_Gini\n",
       "0      0.812372     0.760401    0.624745   0.520803"
      ]
     },
     "execution_count": 28,
     "metadata": {},
     "output_type": "execute_result"
    }
   ],
   "source": [
    "xgboost_model_output"
   ]
  },
  {
   "cell_type": "markdown",
   "id": "0a0982d1-47e5-4897-b9ba-cc1e62f12668",
   "metadata": {},
   "source": [
    "Predict Model"
   ]
  },
  {
   "cell_type": "code",
   "execution_count": 29,
   "id": "2f20d471-0147-4ea3-a758-6b75520ae233",
   "metadata": {},
   "outputs": [],
   "source": [
    "xgboost_model_pred = xgboost_model.predict(X_test)"
   ]
  },
  {
   "cell_type": "code",
   "execution_count": 30,
   "id": "f75c6a77-7010-4402-a584-7a8aacf2cf9d",
   "metadata": {},
   "outputs": [
    {
     "name": "stdout",
     "output_type": "stream",
     "text": [
      "Classification report:\n",
      "\n",
      "              precision    recall  f1-score   support\n",
      "\n",
      "           0       0.98      0.73      0.84    177533\n",
      "           1       0.16      0.79      0.26     11331\n",
      "\n",
      "    accuracy                           0.74    188864\n",
      "   macro avg       0.57      0.76      0.55    188864\n",
      "weighted avg       0.93      0.74      0.81    188864\n",
      "\n",
      "Display confusion matrix:\n",
      "\n",
      "[[130423  47110]\n",
      " [  2423   8908]]\n"
     ]
    },
    {
     "data": {
      "image/png": "[encoded data removed]",
      "text/plain": [
       "<Figure size 640x480 with 2 Axes>"
      ]
     },
     "metadata": {},
     "output_type": "display_data"
    }
   ],
   "source": [
    "class_report_and_cm(y_test, xgboost_model_pred, xgboost_model)"
   ]
  },
  {
   "cell_type": "markdown",
   "id": "322f317d-7c98-4ce3-a6c9-22b0e3f00246",
   "metadata": {},
   "source": [
    "# Conclusion"
   ]
  },
  {
   "cell_type": "code",
   "execution_count": 31,
   "id": "5fdf5f6b-fe31-4998-96e1-a67decf560a1",
   "metadata": {},
   "outputs": [],
   "source": [
    "output_df = pd.concat(\n",
    "    [logistic_regression_model_output,\n",
    "    decision_tree_model_output,\n",
    "    random_forest_model_output,\n",
    "    xgboost_model_output\n",
    "    ]\n",
    ")\n",
    "output_df.index = [\"LR\", \"DT\", \"RF\", \"XGBoost\"]"
   ]
  },
  {
   "cell_type": "code",
   "execution_count": 32,
   "id": "7b457159-aa95-484a-be73-13c9e3f16ec9",
   "metadata": {},
   "outputs": [
    {
     "data": {
      "text/html": [
       "<div>\n",
       "<style scoped>\n",
       "    .dataframe tbody tr th:only-of-type {\n",
       "        vertical-align: middle;\n",
       "    }\n",
       "\n",
       "    .dataframe tbody tr th {\n",
       "        vertical-align: top;\n",
       "    }\n",
       "\n",
       "    .dataframe thead th {\n",
       "        text-align: right;\n",
       "    }\n",
       "</style>\n",
       "<table border=\"1\" class=\"dataframe\">\n",
       "  <thead>\n",
       "    <tr style=\"text-align: right;\">\n",
       "      <th></th>\n",
       "      <th>Train_AUCROC</th>\n",
       "      <th>Test_AUCROC</th>\n",
       "      <th>Train_Gini</th>\n",
       "      <th>Test_Gini</th>\n",
       "    </tr>\n",
       "  </thead>\n",
       "  <tbody>\n",
       "    <tr>\n",
       "      <th>XGBoost</th>\n",
       "      <td>0.812372</td>\n",
       "      <td>76.040</td>\n",
       "      <td>62.474</td>\n",
       "      <td>52.080</td>\n",
       "    </tr>\n",
       "    <tr>\n",
       "      <th>LR</th>\n",
       "      <td>0.760080</td>\n",
       "      <td>75.901</td>\n",
       "      <td>52.016</td>\n",
       "      <td>51.801</td>\n",
       "    </tr>\n",
       "    <tr>\n",
       "      <th>RF</th>\n",
       "      <td>1.000000</td>\n",
       "      <td>75.873</td>\n",
       "      <td>100.000</td>\n",
       "      <td>51.746</td>\n",
       "    </tr>\n",
       "    <tr>\n",
       "      <th>DT</th>\n",
       "      <td>1.000000</td>\n",
       "      <td>67.016</td>\n",
       "      <td>100.000</td>\n",
       "      <td>34.032</td>\n",
       "    </tr>\n",
       "  </tbody>\n",
       "</table>\n",
       "</div>"
      ],
      "text/plain": [
       "         Train_AUCROC  Test_AUCROC  Train_Gini  Test_Gini\n",
       "XGBoost      0.812372       76.040      62.474     52.080\n",
       "LR           0.760080       75.901      52.016     51.801\n",
       "RF           1.000000       75.873     100.000     51.746\n",
       "DT           1.000000       67.016     100.000     34.032"
      ]
     },
     "execution_count": 32,
     "metadata": {},
     "output_type": "execute_result"
    }
   ],
   "source": [
    "# Convert to % for better visibility and rounding\n",
    "output_df.iloc[:,1:] = (output_df.iloc[:,1:] * 100).round(3)\n",
    "\n",
    "# Sort values by Test_AUCROC\n",
    "output_df.sort_values(by='Test_AUCROC', ascending=False)"
   ]
  },
  {
   "cell_type": "markdown",
   "id": "90ff9939-2089-4b6b-b513-3e7e7273a0c1",
   "metadata": {},
   "source": [
    "In this study, the credit scoring models were built by employing logistic regression (LR), decision tree (DT), random forest (RF), and XGBoost on Freddie Mac Single-Family Loan-Level Dataset. \n",
    "\n",
    "The dataset was divided into a training set and a test set with 70% and 30% ratios, respectively.\n",
    "Train and test sets were selected in a stratified and shuffled way with respect to the distribution of the dependent variable in order to  have equal case distribution. On the one hand, stratified sampling was used to make sure that the sample selected for the analysis was representative of the population regarding the distribution of the dependent variable. On the other hand, shuffled sampling was performed in order to make sure that the data points were assigned to the train and test sets at random In order to deal with\n",
    "the imbalanced dataset problem we utilized the undersampling  technique. However, it is crucial to acknowledge that we are eliminating some information from the dataset by utilizing the undersampling technique.\n",
    "\n",
    "The predictive performance of Logistic Regression, Decision Tree, Random Forest, and XGBoost models in predicting mortgage loan defaults  was evaluated using test AUC. These models were evaluated with their hyperparameters set to their default values to see how these models perform with default settings.\n",
    "\n",
    "The XGBoost model yielded the highest AUC of 76.040%. However, the predictive performance of the models is slightly different from one another, except for the decision tree, which performed poorly in comparison to the other methods.\n",
    "\n",
    "It's worth noting that the predictive performance of these models could be potentially improved with hyperparameter tuning and/or by implementing different sampling techniques to alleviate imbalances in the dataset such as oversampling (SMOTE) methods. In the ```algorithms_tuning.pynb``` notebook, we will perform hyperparameter tuning to see if we can boost the predictive power of these models.\n",
    "\n",
    "Although machine learning methods demonstrate super performance, their opacity is a practical concern. The opacity of the machine learning method  is critical for decision-makers since they are required to provide clear and transparent justifications for their decisions. Because of these reasons, financial institutions, particularly banks, prefer to employ the logistic regression method due to its transparency, interpretability, and comprehensibility."
   ]
  }
 ],
 "metadata": {
  "colab": {
   "provenance": []
  },
  "domo": {
   "notebook_id": "9693bfa3-d058-4bd5-9fb5-5eb568662c30"
  },
  "gpuClass": "standard",
  "kernelspec": {
   "display_name": "Python 3 (ipykernel)",
   "language": "python",
   "name": "python3"
  },
  "language_info": {
   "codemirror_mode": {
    "name": "ipython",
    "version": 3
   },
   "file_extension": ".py",
   "mimetype": "text/x-python",
   "name": "python",
   "nbconvert_exporter": "python",
   "pygments_lexer": "ipython3",
   "version": "3.11.7"
  }
 },
 "nbformat": 4,
 "nbformat_minor": 5
}
