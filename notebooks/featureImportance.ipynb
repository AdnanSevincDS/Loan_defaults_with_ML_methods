{
 "cells": [
  {
   "cell_type": "markdown",
   "id": "1dac36e8-5c2a-4a5d-b04a-652da5320d1f",
   "metadata": {
    "id": "1dac36e8-5c2a-4a5d-b04a-652da5320d1f",
    "papermill": {
     "duration": 0.040734,
     "end_time": "2023-03-19T01:44:47.122636",
     "exception": false,
     "start_time": "2023-03-19T01:44:47.081902",
     "status": "completed"
    },
    "tags": []
   },
   "source": [
    "# Libraries"
   ]
  },
  {
   "cell_type": "code",
   "execution_count": 1,
   "id": "wRmdi0Q5Tyeg",
   "metadata": {
    "colab": {
     "base_uri": "https://localhost:8080/"
    },
    "executionInfo": {
     "elapsed": 9095,
     "status": "ok",
     "timestamp": 1681464246342,
     "user": {
      "displayName": "Adnan sevinç",
      "userId": "10606629957436102111"
     },
     "user_tz": -120
    },
    "id": "wRmdi0Q5Tyeg",
    "outputId": "c5c7a7f9-66db-4c6c-f6f3-27d7ccb9b975"
   },
   "outputs": [
    {
     "name": "stdout",
     "output_type": "stream",
     "text": [
      "Requirement already satisfied: prettytable in /opt/anaconda3/lib/python3.11/site-packages (3.10.0)\n",
      "Requirement already satisfied: wcwidth in /opt/anaconda3/lib/python3.11/site-packages (from prettytable) (0.2.5)\n",
      "Requirement already satisfied: sidetable in /opt/anaconda3/lib/python3.11/site-packages (0.9.1)\n",
      "Requirement already satisfied: pandas>=1.0 in /opt/anaconda3/lib/python3.11/site-packages (from sidetable) (2.1.4)\n",
      "Requirement already satisfied: numpy<2,>=1.23.2 in /opt/anaconda3/lib/python3.11/site-packages (from pandas>=1.0->sidetable) (1.26.4)\n",
      "Requirement already satisfied: python-dateutil>=2.8.2 in /opt/anaconda3/lib/python3.11/site-packages (from pandas>=1.0->sidetable) (2.8.2)\n",
      "Requirement already satisfied: pytz>=2020.1 in /opt/anaconda3/lib/python3.11/site-packages (from pandas>=1.0->sidetable) (2023.3.post1)\n",
      "Requirement already satisfied: tzdata>=2022.1 in /opt/anaconda3/lib/python3.11/site-packages (from pandas>=1.0->sidetable) (2023.3)\n",
      "Requirement already satisfied: six>=1.5 in /opt/anaconda3/lib/python3.11/site-packages (from python-dateutil>=2.8.2->pandas>=1.0->sidetable) (1.16.0)\n"
     ]
    }
   ],
   "source": [
    "!pip install prettytable\n",
    "!pip install sidetable"
   ]
  },
  {
   "cell_type": "code",
   "execution_count": 2,
   "id": "f2024bd1-03db-4495-990b-2a2644c6edf4",
   "metadata": {
    "executionInfo": {
     "elapsed": 8,
     "status": "ok",
     "timestamp": 1681464251940,
     "user": {
      "displayName": "Adnan sevinç",
      "userId": "10606629957436102111"
     },
     "user_tz": -120
    },
    "id": "f2024bd1-03db-4495-990b-2a2644c6edf4",
    "papermill": {
     "duration": 3.882948,
     "end_time": "2023-03-19T01:44:51.149571",
     "exception": false,
     "start_time": "2023-03-19T01:44:47.266623",
     "status": "completed"
    },
    "tags": []
   },
   "outputs": [],
   "source": [
    "# Basic Libraries\n",
    "\n",
    "import pandas as pd\n",
    "import numpy as np\n",
    "import json\n",
    "import time\n",
    "#import opendatasets as od\n",
    "import os\n",
    "\n",
    "import sidetable #for frequency table\n",
    "from prettytable import PrettyTable\n",
    "#from skimpy import skim\n",
    "from datetime import datetime\n",
    "import math\n",
    "#from skimpy import skim # for frequency \n",
    "\n",
    "# Vizualizations\n",
    "import matplotlib.pyplot as plt\n",
    "\n",
    "\n",
    "# Naive Bayes\n",
    "\n",
    "from sklearn.naive_bayes import MultinomialNB\n",
    "\n",
    "# Logistic Regression\n",
    "from sklearn.linear_model import LogisticRegression\n",
    "from sklearn.linear_model import LogisticRegressionCV\n",
    "\n",
    "# Grid Search\n",
    "from sklearn.model_selection import GridSearchCV\n",
    "from sklearn.metrics import accuracy_score\n",
    "#\n",
    "from sklearn.model_selection import train_test_split\n",
    "from sklearn.preprocessing import StandardScaler\n",
    "from sklearn.metrics import roc_auc_score\n",
    "from sklearn.metrics import classification_report,confusion_matrix,ConfusionMatrixDisplay,precision_recall_fscore_support,balanced_accuracy_score\n",
    "\n",
    "#XGBOOST\n",
    "import xgboost"
   ]
  },
  {
   "cell_type": "code",
   "execution_count": 3,
   "id": "0e119520-ffe9-42b1-a667-e152ee804dff",
   "metadata": {
    "executionInfo": {
     "elapsed": 7,
     "status": "ok",
     "timestamp": 1681464251941,
     "user": {
      "displayName": "Adnan sevinç",
      "userId": "10606629957436102111"
     },
     "user_tz": -120
    },
    "id": "0e119520-ffe9-42b1-a667-e152ee804dff",
    "papermill": {
     "duration": 0.045109,
     "end_time": "2023-03-19T01:44:51.498337",
     "exception": false,
     "start_time": "2023-03-19T01:44:51.453228",
     "status": "completed"
    },
    "tags": []
   },
   "outputs": [],
   "source": [
    "pd.set_option('display.max_rows', 200)\n",
    "pd.set_option(\"display.max_columns\", 250)"
   ]
  },
  {
   "cell_type": "markdown",
   "id": "36c3e3bb-dd98-46be-914b-4924bd5cc20a",
   "metadata": {
    "id": "36c3e3bb-dd98-46be-914b-4924bd5cc20a",
    "papermill": {
     "duration": 0.05606,
     "end_time": "2023-03-19T01:44:51.590778",
     "exception": false,
     "start_time": "2023-03-19T01:44:51.534718",
     "status": "completed"
    },
    "tags": []
   },
   "source": [
    "# Load Dataset"
   ]
  },
  {
   "cell_type": "code",
   "execution_count": 4,
   "id": "sAtyuICkT6kZ",
   "metadata": {
    "colab": {
     "base_uri": "https://localhost:8080/"
    },
    "executionInfo": {
     "elapsed": 376,
     "status": "ok",
     "timestamp": 1681464271959,
     "user": {
      "displayName": "Adnan sevinç",
      "userId": "10606629957436102111"
     },
     "user_tz": -120
    },
    "id": "sAtyuICkT6kZ",
    "outputId": "02fa1fc8-00cd-4c28-d9cd-cc90517c8ce3"
   },
   "outputs": [],
   "source": [
    "path = '/Users/Adnan_Sevinc/Library/CloudStorage/OneDrive-EPAM/adnan_sevinc_personal/GitHub/A-case-study-DS/dataset'"
   ]
  },
  {
   "cell_type": "code",
   "execution_count": 5,
   "id": "DTvhyXvvT6iL",
   "metadata": {
    "executionInfo": {
     "elapsed": 747,
     "status": "ok",
     "timestamp": 1681464272703,
     "user": {
      "displayName": "Adnan sevinç",
      "userId": "10606629957436102111"
     },
     "user_tz": -120
    },
    "id": "DTvhyXvvT6iL"
   },
   "outputs": [],
   "source": [
    "X_train =  pd.read_csv(os.path.join(path,'X_train.csv'))"
   ]
  },
  {
   "cell_type": "code",
   "execution_count": 6,
   "id": "4SHSWgfST6ff",
   "metadata": {
    "executionInfo": {
     "elapsed": 4,
     "status": "ok",
     "timestamp": 1681464272703,
     "user": {
      "displayName": "Adnan sevinç",
      "userId": "10606629957436102111"
     },
     "user_tz": -120
    },
    "id": "4SHSWgfST6ff"
   },
   "outputs": [],
   "source": [
    "y_train =  pd.read_csv(os.path.join(path,'y_train.csv'))"
   ]
  },
  {
   "cell_type": "code",
   "execution_count": 7,
   "id": "yRaoVVu7T6aq",
   "metadata": {
    "executionInfo": {
     "elapsed": 1745,
     "status": "ok",
     "timestamp": 1681464274446,
     "user": {
      "displayName": "Adnan sevinç",
      "userId": "10606629957436102111"
     },
     "user_tz": -120
    },
    "id": "yRaoVVu7T6aq"
   },
   "outputs": [],
   "source": [
    "X_test =  pd.read_csv(os.path.join(path,'X_test.csv'))"
   ]
  },
  {
   "cell_type": "code",
   "execution_count": 8,
   "id": "5eDNx3DVT6YM",
   "metadata": {
    "executionInfo": {
     "elapsed": 468,
     "status": "ok",
     "timestamp": 1681464274908,
     "user": {
      "displayName": "Adnan sevinç",
      "userId": "10606629957436102111"
     },
     "user_tz": -120
    },
    "id": "5eDNx3DVT6YM"
   },
   "outputs": [],
   "source": [
    "y_test =  pd.read_csv(os.path.join(path,'y_test.csv'))"
   ]
  },
  {
   "cell_type": "code",
   "execution_count": 9,
   "id": "iUvnU7R6T6VI",
   "metadata": {
    "executionInfo": {
     "elapsed": 51,
     "status": "ok",
     "timestamp": 1681464274909,
     "user": {
      "displayName": "Adnan sevinç",
      "userId": "10606629957436102111"
     },
     "user_tz": -120
    },
    "id": "iUvnU7R6T6VI"
   },
   "outputs": [],
   "source": [
    "dataSize = PrettyTable()\n",
    "dataSize.field_names = [\" \",\"Column\", \"Row\"]\n",
    "\n",
    "\n",
    "dataSize.add_row( [\"X_train\" , X_train.shape[0],X_train.shape[1]]) \n",
    "dataSize.add_row([\"y_train\" , y_train.shape[0],y_train.shape[1]]) \n",
    "dataSize.add_row([\"X_test\" , X_test.shape[0],X_test.shape[1]]) \n",
    "dataSize.add_row([\"y_test\" , y_test.shape[0],y_test.shape[1]]) "
   ]
  },
  {
   "cell_type": "code",
   "execution_count": 10,
   "id": "u0KGA0zpUEOj",
   "metadata": {
    "colab": {
     "base_uri": "https://localhost:8080/"
    },
    "executionInfo": {
     "elapsed": 52,
     "status": "ok",
     "timestamp": 1681464274910,
     "user": {
      "displayName": "Adnan sevinç",
      "userId": "10606629957436102111"
     },
     "user_tz": -120
    },
    "id": "u0KGA0zpUEOj",
    "outputId": "ee60864d-527e-4331-8c7b-951050c804db"
   },
   "outputs": [
    {
     "name": "stdout",
     "output_type": "stream",
     "text": [
      "+---------+--------+-----+\n",
      "|         | Column | Row |\n",
      "+---------+--------+-----+\n",
      "| X_train | 52876  |  80 |\n",
      "| y_train | 52876  |  1  |\n",
      "|  X_test | 188864 |  80 |\n",
      "|  y_test | 188864 |  1  |\n",
      "+---------+--------+-----+\n"
     ]
    }
   ],
   "source": [
    "print(dataSize)"
   ]
  },
  {
   "cell_type": "code",
   "execution_count": 11,
   "id": "FKfilC40UELX",
   "metadata": {
    "colab": {
     "base_uri": "https://localhost:8080/",
     "height": 112
    },
    "executionInfo": {
     "elapsed": 51,
     "status": "ok",
     "timestamp": 1681464274911,
     "user": {
      "displayName": "Adnan sevinç",
      "userId": "10606629957436102111"
     },
     "user_tz": -120
    },
    "id": "FKfilC40UELX",
    "outputId": "6c53be0d-cc7d-4577-ce1c-b98e006e78e2"
   },
   "outputs": [
    {
     "data": {
      "text/html": [
       "<div>\n",
       "<style scoped>\n",
       "    .dataframe tbody tr th:only-of-type {\n",
       "        vertical-align: middle;\n",
       "    }\n",
       "\n",
       "    .dataframe tbody tr th {\n",
       "        vertical-align: top;\n",
       "    }\n",
       "\n",
       "    .dataframe thead th {\n",
       "        text-align: right;\n",
       "    }\n",
       "</style>\n",
       "<table border=\"1\" class=\"dataframe\">\n",
       "  <thead>\n",
       "    <tr style=\"text-align: right;\">\n",
       "      <th></th>\n",
       "      <th>default</th>\n",
       "      <th>count</th>\n",
       "      <th>percent</th>\n",
       "      <th>cumulative_count</th>\n",
       "      <th>cumulative_percent</th>\n",
       "    </tr>\n",
       "  </thead>\n",
       "  <tbody>\n",
       "    <tr>\n",
       "      <th>0</th>\n",
       "      <td>1</td>\n",
       "      <td>26438</td>\n",
       "      <td>50.0</td>\n",
       "      <td>26438</td>\n",
       "      <td>50.0</td>\n",
       "    </tr>\n",
       "    <tr>\n",
       "      <th>1</th>\n",
       "      <td>0</td>\n",
       "      <td>26438</td>\n",
       "      <td>50.0</td>\n",
       "      <td>52876</td>\n",
       "      <td>100.0</td>\n",
       "    </tr>\n",
       "  </tbody>\n",
       "</table>\n",
       "</div>"
      ],
      "text/plain": [
       "   default  count  percent  cumulative_count  cumulative_percent\n",
       "0        1  26438     50.0             26438                50.0\n",
       "1        0  26438     50.0             52876               100.0"
      ]
     },
     "execution_count": 11,
     "metadata": {},
     "output_type": "execute_result"
    }
   ],
   "source": [
    "y_train .stb.freq([\"default\"]) #1 is defaulted"
   ]
  },
  {
   "cell_type": "code",
   "execution_count": 12,
   "id": "2DyB1tHBUEHK",
   "metadata": {
    "colab": {
     "base_uri": "https://localhost:8080/",
     "height": 112
    },
    "executionInfo": {
     "elapsed": 50,
     "status": "ok",
     "timestamp": 1681464274912,
     "user": {
      "displayName": "Adnan sevinç",
      "userId": "10606629957436102111"
     },
     "user_tz": -120
    },
    "id": "2DyB1tHBUEHK",
    "outputId": "44113be1-8684-4332-d5e7-715276d7bdd3"
   },
   "outputs": [
    {
     "data": {
      "text/html": [
       "<div>\n",
       "<style scoped>\n",
       "    .dataframe tbody tr th:only-of-type {\n",
       "        vertical-align: middle;\n",
       "    }\n",
       "\n",
       "    .dataframe tbody tr th {\n",
       "        vertical-align: top;\n",
       "    }\n",
       "\n",
       "    .dataframe thead th {\n",
       "        text-align: right;\n",
       "    }\n",
       "</style>\n",
       "<table border=\"1\" class=\"dataframe\">\n",
       "  <thead>\n",
       "    <tr style=\"text-align: right;\">\n",
       "      <th></th>\n",
       "      <th>default</th>\n",
       "      <th>count</th>\n",
       "      <th>percent</th>\n",
       "      <th>cumulative_count</th>\n",
       "      <th>cumulative_percent</th>\n",
       "    </tr>\n",
       "  </thead>\n",
       "  <tbody>\n",
       "    <tr>\n",
       "      <th>0</th>\n",
       "      <td>0</td>\n",
       "      <td>177533</td>\n",
       "      <td>94.000445</td>\n",
       "      <td>177533</td>\n",
       "      <td>94.000445</td>\n",
       "    </tr>\n",
       "    <tr>\n",
       "      <th>1</th>\n",
       "      <td>1</td>\n",
       "      <td>11331</td>\n",
       "      <td>5.999555</td>\n",
       "      <td>188864</td>\n",
       "      <td>100.000000</td>\n",
       "    </tr>\n",
       "  </tbody>\n",
       "</table>\n",
       "</div>"
      ],
      "text/plain": [
       "   default   count    percent  cumulative_count  cumulative_percent\n",
       "0        0  177533  94.000445            177533           94.000445\n",
       "1        1   11331   5.999555            188864          100.000000"
      ]
     },
     "execution_count": 12,
     "metadata": {},
     "output_type": "execute_result"
    }
   ],
   "source": [
    "y_test .stb.freq([\"default\"]) #1 is defaulted"
   ]
  },
  {
   "cell_type": "markdown",
   "id": "ARH1Y6OeBx6i",
   "metadata": {
    "id": "ARH1Y6OeBx6i"
   },
   "source": [
    "# To A 1-D array"
   ]
  },
  {
   "cell_type": "code",
   "execution_count": 13,
   "id": "KnrPogO6BxwG",
   "metadata": {
    "executionInfo": {
     "elapsed": 49,
     "status": "ok",
     "timestamp": 1681464274912,
     "user": {
      "displayName": "Adnan sevinç",
      "userId": "10606629957436102111"
     },
     "user_tz": -120
    },
    "id": "KnrPogO6BxwG"
   },
   "outputs": [],
   "source": [
    "y_train = y_train.values.ravel()"
   ]
  },
  {
   "cell_type": "code",
   "execution_count": 14,
   "id": "gKiTjG-iBxnG",
   "metadata": {
    "executionInfo": {
     "elapsed": 49,
     "status": "ok",
     "timestamp": 1681464274913,
     "user": {
      "displayName": "Adnan sevinç",
      "userId": "10606629957436102111"
     },
     "user_tz": -120
    },
    "id": "gKiTjG-iBxnG"
   },
   "outputs": [],
   "source": [
    "y_test = y_test.values.ravel()"
   ]
  },
  {
   "cell_type": "markdown",
   "id": "hk8cb-6l0vlg",
   "metadata": {
    "id": "hk8cb-6l0vlg"
   },
   "source": [
    "#Columns Name for Feature Importance"
   ]
  },
  {
   "cell_type": "code",
   "execution_count": 15,
   "id": "0r8sqCUh1gDP",
   "metadata": {
    "colab": {
     "base_uri": "https://localhost:8080/",
     "height": 270
    },
    "executionInfo": {
     "elapsed": 50,
     "status": "ok",
     "timestamp": 1681464274914,
     "user": {
      "displayName": "Adnan sevinç",
      "userId": "10606629957436102111"
     },
     "user_tz": -120
    },
    "id": "0r8sqCUh1gDP",
    "outputId": "43e913ba-71ca-4af5-ab75-d8f2cca2b7f4"
   },
   "outputs": [
    {
     "data": {
      "text/html": [
       "<div>\n",
       "<style scoped>\n",
       "    .dataframe tbody tr th:only-of-type {\n",
       "        vertical-align: middle;\n",
       "    }\n",
       "\n",
       "    .dataframe tbody tr th {\n",
       "        vertical-align: top;\n",
       "    }\n",
       "\n",
       "    .dataframe thead th {\n",
       "        text-align: right;\n",
       "    }\n",
       "</style>\n",
       "<table border=\"1\" class=\"dataframe\">\n",
       "  <thead>\n",
       "    <tr style=\"text-align: right;\">\n",
       "      <th></th>\n",
       "      <th>CreditScore</th>\n",
       "      <th>FirstTimeHomebuyerFlag</th>\n",
       "      <th>MetropolitanStatisticalAreaMSAOrMetropolitanDivision</th>\n",
       "      <th>MortgageInsurancePercentageMI</th>\n",
       "      <th>OriginalDebttoIncomeDTIRatio</th>\n",
       "      <th>OriginalUPB</th>\n",
       "      <th>OriginalLoantoValueLTV</th>\n",
       "      <th>OriginalInterestRate</th>\n",
       "      <th>Channel</th>\n",
       "      <th>OriginalLoanTerm</th>\n",
       "      <th>NumberofBorrowers</th>\n",
       "      <th>NumberofUnits_1</th>\n",
       "      <th>NumberofUnits_2</th>\n",
       "      <th>NumberofUnits_3</th>\n",
       "      <th>NumberofUnits_4</th>\n",
       "      <th>OccupancyStatus_I</th>\n",
       "      <th>OccupancyStatus_P</th>\n",
       "      <th>OccupancyStatus_S</th>\n",
       "      <th>PropertyState_AK</th>\n",
       "      <th>PropertyState_AL</th>\n",
       "      <th>PropertyState_AR</th>\n",
       "      <th>PropertyState_AZ</th>\n",
       "      <th>PropertyState_CA</th>\n",
       "      <th>PropertyState_CO</th>\n",
       "      <th>PropertyState_CT</th>\n",
       "      <th>PropertyState_DC</th>\n",
       "      <th>PropertyState_DE</th>\n",
       "      <th>PropertyState_FL</th>\n",
       "      <th>PropertyState_GA</th>\n",
       "      <th>PropertyState_GU</th>\n",
       "      <th>PropertyState_HI</th>\n",
       "      <th>PropertyState_IA</th>\n",
       "      <th>PropertyState_ID</th>\n",
       "      <th>PropertyState_IL</th>\n",
       "      <th>PropertyState_IN</th>\n",
       "      <th>PropertyState_KS</th>\n",
       "      <th>PropertyState_KY</th>\n",
       "      <th>PropertyState_LA</th>\n",
       "      <th>PropertyState_MA</th>\n",
       "      <th>PropertyState_MD</th>\n",
       "      <th>PropertyState_ME</th>\n",
       "      <th>PropertyState_MI</th>\n",
       "      <th>PropertyState_MN</th>\n",
       "      <th>PropertyState_MO</th>\n",
       "      <th>PropertyState_MS</th>\n",
       "      <th>PropertyState_MT</th>\n",
       "      <th>PropertyState_NC</th>\n",
       "      <th>PropertyState_ND</th>\n",
       "      <th>PropertyState_NE</th>\n",
       "      <th>PropertyState_NH</th>\n",
       "      <th>PropertyState_NJ</th>\n",
       "      <th>PropertyState_NM</th>\n",
       "      <th>PropertyState_NV</th>\n",
       "      <th>PropertyState_NY</th>\n",
       "      <th>PropertyState_OH</th>\n",
       "      <th>PropertyState_OK</th>\n",
       "      <th>PropertyState_OR</th>\n",
       "      <th>PropertyState_PA</th>\n",
       "      <th>PropertyState_PR</th>\n",
       "      <th>PropertyState_RI</th>\n",
       "      <th>PropertyState_SC</th>\n",
       "      <th>PropertyState_SD</th>\n",
       "      <th>PropertyState_TN</th>\n",
       "      <th>PropertyState_TX</th>\n",
       "      <th>PropertyState_UT</th>\n",
       "      <th>PropertyState_VA</th>\n",
       "      <th>PropertyState_VI</th>\n",
       "      <th>PropertyState_VT</th>\n",
       "      <th>PropertyState_WA</th>\n",
       "      <th>PropertyState_WI</th>\n",
       "      <th>PropertyState_WV</th>\n",
       "      <th>PropertyState_WY</th>\n",
       "      <th>PropertyType_CO</th>\n",
       "      <th>PropertyType_CP</th>\n",
       "      <th>PropertyType_MH</th>\n",
       "      <th>PropertyType_PU</th>\n",
       "      <th>PropertyType_SF</th>\n",
       "      <th>LoanPurpose_C</th>\n",
       "      <th>LoanPurpose_N</th>\n",
       "      <th>LoanPurpose_P</th>\n",
       "    </tr>\n",
       "  </thead>\n",
       "  <tbody>\n",
       "    <tr>\n",
       "      <th>0</th>\n",
       "      <td>703.0</td>\n",
       "      <td>0</td>\n",
       "      <td>33700.0</td>\n",
       "      <td>0</td>\n",
       "      <td>49.0</td>\n",
       "      <td>110000</td>\n",
       "      <td>38.0</td>\n",
       "      <td>6.750</td>\n",
       "      <td>0</td>\n",
       "      <td>360</td>\n",
       "      <td>1.0</td>\n",
       "      <td>True</td>\n",
       "      <td>False</td>\n",
       "      <td>False</td>\n",
       "      <td>False</td>\n",
       "      <td>False</td>\n",
       "      <td>True</td>\n",
       "      <td>False</td>\n",
       "      <td>False</td>\n",
       "      <td>False</td>\n",
       "      <td>False</td>\n",
       "      <td>False</td>\n",
       "      <td>True</td>\n",
       "      <td>False</td>\n",
       "      <td>False</td>\n",
       "      <td>False</td>\n",
       "      <td>False</td>\n",
       "      <td>False</td>\n",
       "      <td>False</td>\n",
       "      <td>False</td>\n",
       "      <td>False</td>\n",
       "      <td>False</td>\n",
       "      <td>False</td>\n",
       "      <td>False</td>\n",
       "      <td>False</td>\n",
       "      <td>False</td>\n",
       "      <td>False</td>\n",
       "      <td>False</td>\n",
       "      <td>False</td>\n",
       "      <td>False</td>\n",
       "      <td>False</td>\n",
       "      <td>False</td>\n",
       "      <td>False</td>\n",
       "      <td>False</td>\n",
       "      <td>False</td>\n",
       "      <td>False</td>\n",
       "      <td>False</td>\n",
       "      <td>False</td>\n",
       "      <td>False</td>\n",
       "      <td>False</td>\n",
       "      <td>False</td>\n",
       "      <td>False</td>\n",
       "      <td>False</td>\n",
       "      <td>False</td>\n",
       "      <td>False</td>\n",
       "      <td>False</td>\n",
       "      <td>False</td>\n",
       "      <td>False</td>\n",
       "      <td>False</td>\n",
       "      <td>False</td>\n",
       "      <td>False</td>\n",
       "      <td>False</td>\n",
       "      <td>False</td>\n",
       "      <td>False</td>\n",
       "      <td>False</td>\n",
       "      <td>False</td>\n",
       "      <td>False</td>\n",
       "      <td>False</td>\n",
       "      <td>False</td>\n",
       "      <td>False</td>\n",
       "      <td>False</td>\n",
       "      <td>False</td>\n",
       "      <td>False</td>\n",
       "      <td>False</td>\n",
       "      <td>False</td>\n",
       "      <td>False</td>\n",
       "      <td>True</td>\n",
       "      <td>True</td>\n",
       "      <td>False</td>\n",
       "      <td>False</td>\n",
       "    </tr>\n",
       "    <tr>\n",
       "      <th>1</th>\n",
       "      <td>717.0</td>\n",
       "      <td>0</td>\n",
       "      <td>12220.0</td>\n",
       "      <td>0</td>\n",
       "      <td>28.0</td>\n",
       "      <td>103000</td>\n",
       "      <td>67.0</td>\n",
       "      <td>6.125</td>\n",
       "      <td>0</td>\n",
       "      <td>180</td>\n",
       "      <td>2.0</td>\n",
       "      <td>True</td>\n",
       "      <td>False</td>\n",
       "      <td>False</td>\n",
       "      <td>False</td>\n",
       "      <td>False</td>\n",
       "      <td>True</td>\n",
       "      <td>False</td>\n",
       "      <td>False</td>\n",
       "      <td>True</td>\n",
       "      <td>False</td>\n",
       "      <td>False</td>\n",
       "      <td>False</td>\n",
       "      <td>False</td>\n",
       "      <td>False</td>\n",
       "      <td>False</td>\n",
       "      <td>False</td>\n",
       "      <td>False</td>\n",
       "      <td>False</td>\n",
       "      <td>False</td>\n",
       "      <td>False</td>\n",
       "      <td>False</td>\n",
       "      <td>False</td>\n",
       "      <td>False</td>\n",
       "      <td>False</td>\n",
       "      <td>False</td>\n",
       "      <td>False</td>\n",
       "      <td>False</td>\n",
       "      <td>False</td>\n",
       "      <td>False</td>\n",
       "      <td>False</td>\n",
       "      <td>False</td>\n",
       "      <td>False</td>\n",
       "      <td>False</td>\n",
       "      <td>False</td>\n",
       "      <td>False</td>\n",
       "      <td>False</td>\n",
       "      <td>False</td>\n",
       "      <td>False</td>\n",
       "      <td>False</td>\n",
       "      <td>False</td>\n",
       "      <td>False</td>\n",
       "      <td>False</td>\n",
       "      <td>False</td>\n",
       "      <td>False</td>\n",
       "      <td>False</td>\n",
       "      <td>False</td>\n",
       "      <td>False</td>\n",
       "      <td>False</td>\n",
       "      <td>False</td>\n",
       "      <td>False</td>\n",
       "      <td>False</td>\n",
       "      <td>False</td>\n",
       "      <td>False</td>\n",
       "      <td>False</td>\n",
       "      <td>False</td>\n",
       "      <td>False</td>\n",
       "      <td>False</td>\n",
       "      <td>False</td>\n",
       "      <td>False</td>\n",
       "      <td>False</td>\n",
       "      <td>False</td>\n",
       "      <td>False</td>\n",
       "      <td>False</td>\n",
       "      <td>False</td>\n",
       "      <td>False</td>\n",
       "      <td>True</td>\n",
       "      <td>True</td>\n",
       "      <td>False</td>\n",
       "      <td>False</td>\n",
       "    </tr>\n",
       "    <tr>\n",
       "      <th>2</th>\n",
       "      <td>658.0</td>\n",
       "      <td>0</td>\n",
       "      <td>26420.0</td>\n",
       "      <td>25</td>\n",
       "      <td>49.0</td>\n",
       "      <td>80000</td>\n",
       "      <td>90.0</td>\n",
       "      <td>7.125</td>\n",
       "      <td>1</td>\n",
       "      <td>360</td>\n",
       "      <td>1.0</td>\n",
       "      <td>True</td>\n",
       "      <td>False</td>\n",
       "      <td>False</td>\n",
       "      <td>False</td>\n",
       "      <td>False</td>\n",
       "      <td>False</td>\n",
       "      <td>True</td>\n",
       "      <td>False</td>\n",
       "      <td>False</td>\n",
       "      <td>False</td>\n",
       "      <td>False</td>\n",
       "      <td>False</td>\n",
       "      <td>False</td>\n",
       "      <td>False</td>\n",
       "      <td>False</td>\n",
       "      <td>False</td>\n",
       "      <td>False</td>\n",
       "      <td>False</td>\n",
       "      <td>False</td>\n",
       "      <td>False</td>\n",
       "      <td>False</td>\n",
       "      <td>False</td>\n",
       "      <td>False</td>\n",
       "      <td>False</td>\n",
       "      <td>False</td>\n",
       "      <td>False</td>\n",
       "      <td>False</td>\n",
       "      <td>False</td>\n",
       "      <td>False</td>\n",
       "      <td>False</td>\n",
       "      <td>False</td>\n",
       "      <td>False</td>\n",
       "      <td>False</td>\n",
       "      <td>False</td>\n",
       "      <td>False</td>\n",
       "      <td>False</td>\n",
       "      <td>False</td>\n",
       "      <td>False</td>\n",
       "      <td>False</td>\n",
       "      <td>False</td>\n",
       "      <td>False</td>\n",
       "      <td>False</td>\n",
       "      <td>False</td>\n",
       "      <td>False</td>\n",
       "      <td>False</td>\n",
       "      <td>False</td>\n",
       "      <td>False</td>\n",
       "      <td>False</td>\n",
       "      <td>False</td>\n",
       "      <td>False</td>\n",
       "      <td>False</td>\n",
       "      <td>False</td>\n",
       "      <td>True</td>\n",
       "      <td>False</td>\n",
       "      <td>False</td>\n",
       "      <td>False</td>\n",
       "      <td>False</td>\n",
       "      <td>False</td>\n",
       "      <td>False</td>\n",
       "      <td>False</td>\n",
       "      <td>False</td>\n",
       "      <td>False</td>\n",
       "      <td>False</td>\n",
       "      <td>False</td>\n",
       "      <td>True</td>\n",
       "      <td>False</td>\n",
       "      <td>False</td>\n",
       "      <td>False</td>\n",
       "      <td>True</td>\n",
       "    </tr>\n",
       "    <tr>\n",
       "      <th>3</th>\n",
       "      <td>737.0</td>\n",
       "      <td>0</td>\n",
       "      <td>25860.0</td>\n",
       "      <td>0</td>\n",
       "      <td>29.0</td>\n",
       "      <td>60000</td>\n",
       "      <td>80.0</td>\n",
       "      <td>6.375</td>\n",
       "      <td>0</td>\n",
       "      <td>180</td>\n",
       "      <td>1.0</td>\n",
       "      <td>True</td>\n",
       "      <td>False</td>\n",
       "      <td>False</td>\n",
       "      <td>False</td>\n",
       "      <td>True</td>\n",
       "      <td>False</td>\n",
       "      <td>False</td>\n",
       "      <td>False</td>\n",
       "      <td>False</td>\n",
       "      <td>False</td>\n",
       "      <td>False</td>\n",
       "      <td>False</td>\n",
       "      <td>False</td>\n",
       "      <td>False</td>\n",
       "      <td>False</td>\n",
       "      <td>False</td>\n",
       "      <td>False</td>\n",
       "      <td>False</td>\n",
       "      <td>False</td>\n",
       "      <td>False</td>\n",
       "      <td>False</td>\n",
       "      <td>False</td>\n",
       "      <td>False</td>\n",
       "      <td>False</td>\n",
       "      <td>False</td>\n",
       "      <td>False</td>\n",
       "      <td>False</td>\n",
       "      <td>False</td>\n",
       "      <td>False</td>\n",
       "      <td>False</td>\n",
       "      <td>False</td>\n",
       "      <td>False</td>\n",
       "      <td>False</td>\n",
       "      <td>False</td>\n",
       "      <td>False</td>\n",
       "      <td>True</td>\n",
       "      <td>False</td>\n",
       "      <td>False</td>\n",
       "      <td>False</td>\n",
       "      <td>False</td>\n",
       "      <td>False</td>\n",
       "      <td>False</td>\n",
       "      <td>False</td>\n",
       "      <td>False</td>\n",
       "      <td>False</td>\n",
       "      <td>False</td>\n",
       "      <td>False</td>\n",
       "      <td>False</td>\n",
       "      <td>False</td>\n",
       "      <td>False</td>\n",
       "      <td>False</td>\n",
       "      <td>False</td>\n",
       "      <td>False</td>\n",
       "      <td>False</td>\n",
       "      <td>False</td>\n",
       "      <td>False</td>\n",
       "      <td>False</td>\n",
       "      <td>False</td>\n",
       "      <td>False</td>\n",
       "      <td>False</td>\n",
       "      <td>False</td>\n",
       "      <td>False</td>\n",
       "      <td>False</td>\n",
       "      <td>False</td>\n",
       "      <td>False</td>\n",
       "      <td>True</td>\n",
       "      <td>True</td>\n",
       "      <td>False</td>\n",
       "      <td>False</td>\n",
       "    </tr>\n",
       "    <tr>\n",
       "      <th>4</th>\n",
       "      <td>781.0</td>\n",
       "      <td>0</td>\n",
       "      <td>30073.0</td>\n",
       "      <td>25</td>\n",
       "      <td>46.0</td>\n",
       "      <td>110000</td>\n",
       "      <td>95.0</td>\n",
       "      <td>6.500</td>\n",
       "      <td>1</td>\n",
       "      <td>240</td>\n",
       "      <td>2.0</td>\n",
       "      <td>True</td>\n",
       "      <td>False</td>\n",
       "      <td>False</td>\n",
       "      <td>False</td>\n",
       "      <td>False</td>\n",
       "      <td>True</td>\n",
       "      <td>False</td>\n",
       "      <td>False</td>\n",
       "      <td>False</td>\n",
       "      <td>False</td>\n",
       "      <td>False</td>\n",
       "      <td>False</td>\n",
       "      <td>False</td>\n",
       "      <td>False</td>\n",
       "      <td>False</td>\n",
       "      <td>False</td>\n",
       "      <td>False</td>\n",
       "      <td>False</td>\n",
       "      <td>False</td>\n",
       "      <td>False</td>\n",
       "      <td>True</td>\n",
       "      <td>False</td>\n",
       "      <td>False</td>\n",
       "      <td>False</td>\n",
       "      <td>False</td>\n",
       "      <td>False</td>\n",
       "      <td>False</td>\n",
       "      <td>False</td>\n",
       "      <td>False</td>\n",
       "      <td>False</td>\n",
       "      <td>False</td>\n",
       "      <td>False</td>\n",
       "      <td>False</td>\n",
       "      <td>False</td>\n",
       "      <td>False</td>\n",
       "      <td>False</td>\n",
       "      <td>False</td>\n",
       "      <td>False</td>\n",
       "      <td>False</td>\n",
       "      <td>False</td>\n",
       "      <td>False</td>\n",
       "      <td>False</td>\n",
       "      <td>False</td>\n",
       "      <td>False</td>\n",
       "      <td>False</td>\n",
       "      <td>False</td>\n",
       "      <td>False</td>\n",
       "      <td>False</td>\n",
       "      <td>False</td>\n",
       "      <td>False</td>\n",
       "      <td>False</td>\n",
       "      <td>False</td>\n",
       "      <td>False</td>\n",
       "      <td>False</td>\n",
       "      <td>False</td>\n",
       "      <td>False</td>\n",
       "      <td>False</td>\n",
       "      <td>False</td>\n",
       "      <td>False</td>\n",
       "      <td>False</td>\n",
       "      <td>False</td>\n",
       "      <td>False</td>\n",
       "      <td>False</td>\n",
       "      <td>False</td>\n",
       "      <td>False</td>\n",
       "      <td>True</td>\n",
       "      <td>False</td>\n",
       "      <td>True</td>\n",
       "      <td>False</td>\n",
       "    </tr>\n",
       "  </tbody>\n",
       "</table>\n",
       "</div>"
      ],
      "text/plain": [
       "   CreditScore  FirstTimeHomebuyerFlag  \\\n",
       "0        703.0                       0   \n",
       "1        717.0                       0   \n",
       "2        658.0                       0   \n",
       "3        737.0                       0   \n",
       "4        781.0                       0   \n",
       "\n",
       "   MetropolitanStatisticalAreaMSAOrMetropolitanDivision  \\\n",
       "0                                            33700.0      \n",
       "1                                            12220.0      \n",
       "2                                            26420.0      \n",
       "3                                            25860.0      \n",
       "4                                            30073.0      \n",
       "\n",
       "   MortgageInsurancePercentageMI  OriginalDebttoIncomeDTIRatio  OriginalUPB  \\\n",
       "0                              0                          49.0       110000   \n",
       "1                              0                          28.0       103000   \n",
       "2                             25                          49.0        80000   \n",
       "3                              0                          29.0        60000   \n",
       "4                             25                          46.0       110000   \n",
       "\n",
       "   OriginalLoantoValueLTV  OriginalInterestRate  Channel  OriginalLoanTerm  \\\n",
       "0                    38.0                 6.750        0               360   \n",
       "1                    67.0                 6.125        0               180   \n",
       "2                    90.0                 7.125        1               360   \n",
       "3                    80.0                 6.375        0               180   \n",
       "4                    95.0                 6.500        1               240   \n",
       "\n",
       "   NumberofBorrowers  NumberofUnits_1  NumberofUnits_2  NumberofUnits_3  \\\n",
       "0                1.0             True            False            False   \n",
       "1                2.0             True            False            False   \n",
       "2                1.0             True            False            False   \n",
       "3                1.0             True            False            False   \n",
       "4                2.0             True            False            False   \n",
       "\n",
       "   NumberofUnits_4  OccupancyStatus_I  OccupancyStatus_P  OccupancyStatus_S  \\\n",
       "0            False              False               True              False   \n",
       "1            False              False               True              False   \n",
       "2            False              False              False               True   \n",
       "3            False               True              False              False   \n",
       "4            False              False               True              False   \n",
       "\n",
       "   PropertyState_AK  PropertyState_AL  PropertyState_AR  PropertyState_AZ  \\\n",
       "0             False             False             False             False   \n",
       "1             False              True             False             False   \n",
       "2             False             False             False             False   \n",
       "3             False             False             False             False   \n",
       "4             False             False             False             False   \n",
       "\n",
       "   PropertyState_CA  PropertyState_CO  PropertyState_CT  PropertyState_DC  \\\n",
       "0              True             False             False             False   \n",
       "1             False             False             False             False   \n",
       "2             False             False             False             False   \n",
       "3             False             False             False             False   \n",
       "4             False             False             False             False   \n",
       "\n",
       "   PropertyState_DE  PropertyState_FL  PropertyState_GA  PropertyState_GU  \\\n",
       "0             False             False             False             False   \n",
       "1             False             False             False             False   \n",
       "2             False             False             False             False   \n",
       "3             False             False             False             False   \n",
       "4             False             False             False             False   \n",
       "\n",
       "   PropertyState_HI  PropertyState_IA  PropertyState_ID  PropertyState_IL  \\\n",
       "0             False             False             False             False   \n",
       "1             False             False             False             False   \n",
       "2             False             False             False             False   \n",
       "3             False             False             False             False   \n",
       "4             False              True             False             False   \n",
       "\n",
       "   PropertyState_IN  PropertyState_KS  PropertyState_KY  PropertyState_LA  \\\n",
       "0             False             False             False             False   \n",
       "1             False             False             False             False   \n",
       "2             False             False             False             False   \n",
       "3             False             False             False             False   \n",
       "4             False             False             False             False   \n",
       "\n",
       "   PropertyState_MA  PropertyState_MD  PropertyState_ME  PropertyState_MI  \\\n",
       "0             False             False             False             False   \n",
       "1             False             False             False             False   \n",
       "2             False             False             False             False   \n",
       "3             False             False             False             False   \n",
       "4             False             False             False             False   \n",
       "\n",
       "   PropertyState_MN  PropertyState_MO  PropertyState_MS  PropertyState_MT  \\\n",
       "0             False             False             False             False   \n",
       "1             False             False             False             False   \n",
       "2             False             False             False             False   \n",
       "3             False             False             False             False   \n",
       "4             False             False             False             False   \n",
       "\n",
       "   PropertyState_NC  PropertyState_ND  PropertyState_NE  PropertyState_NH  \\\n",
       "0             False             False             False             False   \n",
       "1             False             False             False             False   \n",
       "2             False             False             False             False   \n",
       "3              True             False             False             False   \n",
       "4             False             False             False             False   \n",
       "\n",
       "   PropertyState_NJ  PropertyState_NM  PropertyState_NV  PropertyState_NY  \\\n",
       "0             False             False             False             False   \n",
       "1             False             False             False             False   \n",
       "2             False             False             False             False   \n",
       "3             False             False             False             False   \n",
       "4             False             False             False             False   \n",
       "\n",
       "   PropertyState_OH  PropertyState_OK  PropertyState_OR  PropertyState_PA  \\\n",
       "0             False             False             False             False   \n",
       "1             False             False             False             False   \n",
       "2             False             False             False             False   \n",
       "3             False             False             False             False   \n",
       "4             False             False             False             False   \n",
       "\n",
       "   PropertyState_PR  PropertyState_RI  PropertyState_SC  PropertyState_SD  \\\n",
       "0             False             False             False             False   \n",
       "1             False             False             False             False   \n",
       "2             False             False             False             False   \n",
       "3             False             False             False             False   \n",
       "4             False             False             False             False   \n",
       "\n",
       "   PropertyState_TN  PropertyState_TX  PropertyState_UT  PropertyState_VA  \\\n",
       "0             False             False             False             False   \n",
       "1             False             False             False             False   \n",
       "2             False              True             False             False   \n",
       "3             False             False             False             False   \n",
       "4             False             False             False             False   \n",
       "\n",
       "   PropertyState_VI  PropertyState_VT  PropertyState_WA  PropertyState_WI  \\\n",
       "0             False             False             False             False   \n",
       "1             False             False             False             False   \n",
       "2             False             False             False             False   \n",
       "3             False             False             False             False   \n",
       "4             False             False             False             False   \n",
       "\n",
       "   PropertyState_WV  PropertyState_WY  PropertyType_CO  PropertyType_CP  \\\n",
       "0             False             False            False            False   \n",
       "1             False             False            False            False   \n",
       "2             False             False            False            False   \n",
       "3             False             False            False            False   \n",
       "4             False             False            False            False   \n",
       "\n",
       "   PropertyType_MH  PropertyType_PU  PropertyType_SF  LoanPurpose_C  \\\n",
       "0            False            False             True           True   \n",
       "1            False            False             True           True   \n",
       "2            False             True            False          False   \n",
       "3            False            False             True           True   \n",
       "4            False            False             True          False   \n",
       "\n",
       "   LoanPurpose_N  LoanPurpose_P  \n",
       "0          False          False  \n",
       "1          False          False  \n",
       "2          False           True  \n",
       "3          False          False  \n",
       "4           True          False  "
      ]
     },
     "execution_count": 15,
     "metadata": {},
     "output_type": "execute_result"
    }
   ],
   "source": [
    "X_train.head()"
   ]
  },
  {
   "cell_type": "code",
   "execution_count": 16,
   "id": "fWacYeqG03Zq",
   "metadata": {
    "executionInfo": {
     "elapsed": 50,
     "status": "ok",
     "timestamp": 1681464274915,
     "user": {
      "displayName": "Adnan sevinç",
      "userId": "10606629957436102111"
     },
     "user_tz": -120
    },
    "id": "fWacYeqG03Zq"
   },
   "outputs": [],
   "source": [
    "ColNames = X_train.columns"
   ]
  },
  {
   "cell_type": "code",
   "execution_count": 17,
   "id": "IJCmeAqP1bHh",
   "metadata": {
    "colab": {
     "base_uri": "https://localhost:8080/"
    },
    "executionInfo": {
     "elapsed": 51,
     "status": "ok",
     "timestamp": 1681464274916,
     "user": {
      "displayName": "Adnan sevinç",
      "userId": "10606629957436102111"
     },
     "user_tz": -120
    },
    "id": "IJCmeAqP1bHh",
    "outputId": "7942cbac-e3f1-43c2-996c-dca3a8b5fba1"
   },
   "outputs": [
    {
     "data": {
      "text/plain": [
       "80"
      ]
     },
     "execution_count": 17,
     "metadata": {},
     "output_type": "execute_result"
    }
   ],
   "source": [
    "len(ColNames)"
   ]
  },
  {
   "cell_type": "code",
   "execution_count": 18,
   "id": "OhcR0l9i03Jw",
   "metadata": {
    "colab": {
     "base_uri": "https://localhost:8080/"
    },
    "executionInfo": {
     "elapsed": 45,
     "status": "ok",
     "timestamp": 1681464274916,
     "user": {
      "displayName": "Adnan sevinç",
      "userId": "10606629957436102111"
     },
     "user_tz": -120
    },
    "id": "OhcR0l9i03Jw",
    "outputId": "a48fe21f-0ce3-4dee-8845-9eebe58d03ed"
   },
   "outputs": [
    {
     "data": {
      "text/plain": [
       "Index(['CreditScore', 'FirstTimeHomebuyerFlag',\n",
       "       'MetropolitanStatisticalAreaMSAOrMetropolitanDivision',\n",
       "       'MortgageInsurancePercentageMI', 'OriginalDebttoIncomeDTIRatio',\n",
       "       'OriginalUPB', 'OriginalLoantoValueLTV', 'OriginalInterestRate',\n",
       "       'Channel', 'OriginalLoanTerm', 'NumberofBorrowers', 'NumberofUnits_1',\n",
       "       'NumberofUnits_2', 'NumberofUnits_3', 'NumberofUnits_4',\n",
       "       'OccupancyStatus_I', 'OccupancyStatus_P', 'OccupancyStatus_S',\n",
       "       'PropertyState_AK', 'PropertyState_AL', 'PropertyState_AR',\n",
       "       'PropertyState_AZ', 'PropertyState_CA', 'PropertyState_CO',\n",
       "       'PropertyState_CT', 'PropertyState_DC', 'PropertyState_DE',\n",
       "       'PropertyState_FL', 'PropertyState_GA', 'PropertyState_GU',\n",
       "       'PropertyState_HI', 'PropertyState_IA', 'PropertyState_ID',\n",
       "       'PropertyState_IL', 'PropertyState_IN', 'PropertyState_KS',\n",
       "       'PropertyState_KY', 'PropertyState_LA', 'PropertyState_MA',\n",
       "       'PropertyState_MD', 'PropertyState_ME', 'PropertyState_MI',\n",
       "       'PropertyState_MN', 'PropertyState_MO', 'PropertyState_MS',\n",
       "       'PropertyState_MT', 'PropertyState_NC', 'PropertyState_ND',\n",
       "       'PropertyState_NE', 'PropertyState_NH', 'PropertyState_NJ',\n",
       "       'PropertyState_NM', 'PropertyState_NV', 'PropertyState_NY',\n",
       "       'PropertyState_OH', 'PropertyState_OK', 'PropertyState_OR',\n",
       "       'PropertyState_PA', 'PropertyState_PR', 'PropertyState_RI',\n",
       "       'PropertyState_SC', 'PropertyState_SD', 'PropertyState_TN',\n",
       "       'PropertyState_TX', 'PropertyState_UT', 'PropertyState_VA',\n",
       "       'PropertyState_VI', 'PropertyState_VT', 'PropertyState_WA',\n",
       "       'PropertyState_WI', 'PropertyState_WV', 'PropertyState_WY',\n",
       "       'PropertyType_CO', 'PropertyType_CP', 'PropertyType_MH',\n",
       "       'PropertyType_PU', 'PropertyType_SF', 'LoanPurpose_C', 'LoanPurpose_N',\n",
       "       'LoanPurpose_P'],\n",
       "      dtype='object')"
      ]
     },
     "execution_count": 18,
     "metadata": {},
     "output_type": "execute_result"
    }
   ],
   "source": [
    "ColNames"
   ]
  },
  {
   "cell_type": "markdown",
   "id": "2CY5rWbnUP38",
   "metadata": {
    "id": "2CY5rWbnUP38"
   },
   "source": [
    "# Standart Scaler"
   ]
  },
  {
   "cell_type": "code",
   "execution_count": 19,
   "id": "MJlflV6iURlM",
   "metadata": {
    "executionInfo": {
     "elapsed": 43,
     "status": "ok",
     "timestamp": 1681464274917,
     "user": {
      "displayName": "Adnan sevinç",
      "userId": "10606629957436102111"
     },
     "user_tz": -120
    },
    "id": "MJlflV6iURlM"
   },
   "outputs": [],
   "source": [
    "#https://scikit-learn.org/stable/common_pitfalls.html\n",
    "#https://towardsdatascience.com/what-and-why-behind-fit-transform-vs-transform-in-scikit-learn-78f915cf96fe"
   ]
  },
  {
   "cell_type": "code",
   "execution_count": 20,
   "id": "IIOuLaJfUUGR",
   "metadata": {
    "executionInfo": {
     "elapsed": 43,
     "status": "ok",
     "timestamp": 1681464274917,
     "user": {
      "displayName": "Adnan sevinç",
      "userId": "10606629957436102111"
     },
     "user_tz": -120
    },
    "id": "IIOuLaJfUUGR"
   },
   "outputs": [],
   "source": [
    "# Standardize\n",
    "from sklearn.preprocessing import StandardScaler\n",
    "scaler = StandardScaler()"
   ]
  },
  {
   "cell_type": "code",
   "execution_count": 21,
   "id": "I3xFw1rhUUAt",
   "metadata": {
    "executionInfo": {
     "elapsed": 42,
     "status": "ok",
     "timestamp": 1681464274917,
     "user": {
      "displayName": "Adnan sevinç",
      "userId": "10606629957436102111"
     },
     "user_tz": -120
    },
    "id": "I3xFw1rhUUAt"
   },
   "outputs": [],
   "source": [
    "X_train_scaled = scaler.fit_transform(X_train)"
   ]
  },
  {
   "cell_type": "code",
   "execution_count": 22,
   "id": "qtb--RiaUT9p",
   "metadata": {
    "executionInfo": {
     "elapsed": 282,
     "status": "ok",
     "timestamp": 1681464275157,
     "user": {
      "displayName": "Adnan sevinç",
      "userId": "10606629957436102111"
     },
     "user_tz": -120
    },
    "id": "qtb--RiaUT9p"
   },
   "outputs": [],
   "source": [
    "X_test_scaled= scaler.transform(X_test)"
   ]
  },
  {
   "cell_type": "code",
   "execution_count": 23,
   "id": "iq6Sf8AIUT4q",
   "metadata": {
    "executionInfo": {
     "elapsed": 8,
     "status": "ok",
     "timestamp": 1681464275158,
     "user": {
      "displayName": "Adnan sevinç",
      "userId": "10606629957436102111"
     },
     "user_tz": -120
    },
    "id": "iq6Sf8AIUT4q"
   },
   "outputs": [],
   "source": [
    "X_train = X_train_scaled.copy()"
   ]
  },
  {
   "cell_type": "code",
   "execution_count": 24,
   "id": "Aay1vOLfURdv",
   "metadata": {
    "executionInfo": {
     "elapsed": 8,
     "status": "ok",
     "timestamp": 1681464275158,
     "user": {
      "displayName": "Adnan sevinç",
      "userId": "10606629957436102111"
     },
     "user_tz": -120
    },
    "id": "Aay1vOLfURdv"
   },
   "outputs": [],
   "source": [
    "X_test = X_test_scaled.copy()"
   ]
  },
  {
   "cell_type": "markdown",
   "id": "366a1fcd-de4c-4203-9c61-cb21e6a4e70b",
   "metadata": {
    "id": "366a1fcd-de4c-4203-9c61-cb21e6a4e70b",
    "papermill": {
     "duration": 0.059679,
     "end_time": "2023-03-19T01:46:14.029884",
     "exception": false,
     "start_time": "2023-03-19T01:46:13.970205",
     "status": "completed"
    },
    "tags": []
   },
   "source": [
    "# Modeling"
   ]
  },
  {
   "cell_type": "markdown",
   "id": "fd860deb-83ff-4fc0-92ec-134980d44748",
   "metadata": {
    "id": "fd860deb-83ff-4fc0-92ec-134980d44748",
    "papermill": {
     "duration": 0.067286,
     "end_time": "2023-03-19T01:47:35.490081",
     "exception": false,
     "start_time": "2023-03-19T01:47:35.422795",
     "status": "completed"
    },
    "tags": []
   },
   "source": [
    "## XGBOOST"
   ]
  },
  {
   "cell_type": "code",
   "execution_count": 25,
   "id": "wCw8KLN7z9oE",
   "metadata": {
    "executionInfo": {
     "elapsed": 7,
     "status": "ok",
     "timestamp": 1681464275158,
     "user": {
      "displayName": "Adnan sevinç",
      "userId": "10606629957436102111"
     },
     "user_tz": -120
    },
    "id": "wCw8KLN7z9oE"
   },
   "outputs": [],
   "source": [
    "from datetime import datetime"
   ]
  },
  {
   "cell_type": "code",
   "execution_count": 26,
   "id": "38121411-27cc-4e68-8299-048df919624b",
   "metadata": {
    "executionInfo": {
     "elapsed": 8,
     "status": "ok",
     "timestamp": 1681464275159,
     "user": {
      "displayName": "Adnan sevinç",
      "userId": "10606629957436102111"
     },
     "user_tz": -120
    },
    "id": "38121411-27cc-4e68-8299-048df919624b",
    "papermill": {
     "duration": 0.079607,
     "end_time": "2023-03-19T01:47:35.637209",
     "exception": false,
     "start_time": "2023-03-19T01:47:35.557602",
     "status": "completed"
    },
    "tags": []
   },
   "outputs": [],
   "source": [
    "from xgboost import XGBClassifier"
   ]
  },
  {
   "cell_type": "code",
   "execution_count": 27,
   "id": "bea21c2c-b4e1-4611-8cdf-70c30475bf1c",
   "metadata": {
    "colab": {
     "base_uri": "https://localhost:8080/"
    },
    "executionInfo": {
     "elapsed": 69133,
     "status": "ok",
     "timestamp": 1681464344284,
     "user": {
      "displayName": "Adnan sevinç",
      "userId": "10606629957436102111"
     },
     "user_tz": -120
    },
    "id": "bea21c2c-b4e1-4611-8cdf-70c30475bf1c",
    "outputId": "4bed7cfa-4dad-473e-efbd-5e9fa7addebd",
    "papermill": {
     "duration": 0.068284,
     "end_time": "2023-03-19T01:47:35.921383",
     "exception": false,
     "start_time": "2023-03-19T01:47:35.853099",
     "status": "completed"
    },
    "tags": []
   },
   "outputs": [
    {
     "name": "stdout",
     "output_type": "stream",
     "text": [
      "Running Time: 0.010666100000000001\n"
     ]
    }
   ],
   "source": [
    "\n",
    "start = datetime.now()\n",
    "\n",
    "# parameters is taken from hyper parameter optimization\n",
    "XGBOOSTModel = xgboost.XGBClassifier(\n",
    "                        n_estimators = 200, \n",
    "                        max_depth = 6,\n",
    "                        learning_rate= 0.05,\n",
    "                        subsample= 0.5,\n",
    "                        seed=42,\n",
    "                        objective='binary:logistic')\n",
    "\n",
    "XGBOOSTModel.fit(X_train, y_train)\n",
    "\n",
    "print(f\"Running Time: {(datetime.now()-start).total_seconds()/60}\")"
   ]
  },
  {
   "cell_type": "code",
   "execution_count": 28,
   "id": "OWOxEhcU1raC",
   "metadata": {
    "colab": {
     "base_uri": "https://localhost:8080/"
    },
    "executionInfo": {
     "elapsed": 25,
     "status": "ok",
     "timestamp": 1681464344285,
     "user": {
      "displayName": "Adnan sevinç",
      "userId": "10606629957436102111"
     },
     "user_tz": -120
    },
    "id": "OWOxEhcU1raC",
    "outputId": "b0b7c2e4-af39-4a81-baaf-893c75c2be9b"
   },
   "outputs": [
    {
     "data": {
      "text/plain": [
       "array([0.05963596, 0.00933623, 0.00879544, 0.02567169, 0.01265682,\n",
       "       0.01744973, 0.01947449, 0.04039611, 0.0171537 , 0.01735271,\n",
       "       0.03720567, 0.00883594, 0.00673042, 0.01259926, 0.00896152,\n",
       "       0.01230837, 0.00820801, 0.00807369, 0.01170875, 0.00915674,\n",
       "       0.00913207, 0.02565707, 0.03851038, 0.00956887, 0.00994898,\n",
       "       0.00934023, 0.00897167, 0.0340607 , 0.01036161, 0.        ,\n",
       "       0.00399612, 0.00704356, 0.0078477 , 0.00859434, 0.00804769,\n",
       "       0.01108835, 0.01075689, 0.00742258, 0.00962159, 0.00897234,\n",
       "       0.01081842, 0.01681077, 0.01096978, 0.00843367, 0.00896567,\n",
       "       0.00936266, 0.01111383, 0.00967866, 0.00939328, 0.00726829,\n",
       "       0.00990963, 0.00891472, 0.02152751, 0.01117188, 0.00915128,\n",
       "       0.01196131, 0.0076536 , 0.01296395, 0.01091952, 0.00678151,\n",
       "       0.00991342, 0.00805524, 0.00886365, 0.02079331, 0.01012547,\n",
       "       0.00847538, 0.        , 0.00575546, 0.00877958, 0.00880365,\n",
       "       0.00589333, 0.01095132, 0.00958478, 0.01207818, 0.00948017,\n",
       "       0.0067201 , 0.00887421, 0.00688842, 0.01244134, 0.02309898],\n",
       "      dtype=float32)"
      ]
     },
     "execution_count": 28,
     "metadata": {},
     "output_type": "execute_result"
    }
   ],
   "source": [
    "XGBOOSTModel.feature_importances_"
   ]
  },
  {
   "cell_type": "code",
   "execution_count": 29,
   "id": "4phfOkd07_Rm",
   "metadata": {
    "colab": {
     "base_uri": "https://localhost:8080/"
    },
    "executionInfo": {
     "elapsed": 21,
     "status": "ok",
     "timestamp": 1681464344286,
     "user": {
      "displayName": "Adnan sevinç",
      "userId": "10606629957436102111"
     },
     "user_tz": -120
    },
    "id": "4phfOkd07_Rm",
    "outputId": "6faa646e-94e0-40fb-d49c-958508ac4a60"
   },
   "outputs": [
    {
     "data": {
      "text/plain": [
       "array([29, 66, 30, 67, 70, 75, 12, 59, 77, 31, 49, 37, 56, 32, 34, 61, 17,\n",
       "       16, 43, 65, 33, 68,  2, 69, 11, 62, 76, 51, 14, 44, 26, 39, 20, 54,\n",
       "       19,  1, 25, 45, 48, 74, 23, 72, 38, 47, 50, 60, 24, 64, 28, 36, 40,\n",
       "       58, 71, 42, 35, 46, 53, 18, 55, 73, 15, 78, 13,  4, 57, 41,  8,  9,\n",
       "        5,  6, 63, 52, 79, 21,  3, 27, 10, 22,  7,  0])"
      ]
     },
     "execution_count": 29,
     "metadata": {},
     "output_type": "execute_result"
    }
   ],
   "source": [
    "XGBOOSTModel.feature_importances_.argsort() # Index by ascending order of Feature Importance"
   ]
  },
  {
   "cell_type": "code",
   "execution_count": 30,
   "id": "qiGnOfRu8sIZ",
   "metadata": {
    "colab": {
     "base_uri": "https://localhost:8080/"
    },
    "executionInfo": {
     "elapsed": 13,
     "status": "ok",
     "timestamp": 1681464344286,
     "user": {
      "displayName": "Adnan sevinç",
      "userId": "10606629957436102111"
     },
     "user_tz": -120
    },
    "id": "qiGnOfRu8sIZ",
    "outputId": "cdad23ac-0f67-4620-d603-d5cb27ee1611"
   },
   "outputs": [
    {
     "data": {
      "text/plain": [
       "array([ 0,  7, 22, 10, 27,  3, 21, 79, 52, 63,  6,  5,  9,  8, 41, 57,  4,\n",
       "       13, 78, 15, 73, 55, 18, 53, 46, 35, 42, 71, 58, 40, 36, 28, 64, 24,\n",
       "       60, 50, 47, 38, 72, 23, 74, 48, 45, 25,  1, 19, 54, 20, 39, 26, 44,\n",
       "       14, 51, 76, 62, 11, 69,  2, 68, 33, 65, 43, 16, 17, 61, 34, 32, 56,\n",
       "       37, 49, 31, 77, 59, 12, 75, 70, 67, 30, 66, 29])"
      ]
     },
     "execution_count": 30,
     "metadata": {},
     "output_type": "execute_result"
    }
   ],
   "source": [
    "XGBOOSTModel.feature_importances_.argsort()[::-1] # Index by ascending order of Feature Importance"
   ]
  },
  {
   "cell_type": "code",
   "execution_count": 33,
   "id": "24yYjqEz9EeK",
   "metadata": {
    "colab": {
     "base_uri": "https://localhost:8080/",
     "height": 838
    },
    "executionInfo": {
     "elapsed": 1860,
     "status": "ok",
     "timestamp": 1681464483282,
     "user": {
      "displayName": "Adnan sevinç",
      "userId": "10606629957436102111"
     },
     "user_tz": -120
    },
    "id": "24yYjqEz9EeK",
    "outputId": "1d177390-e451-404d-8280-5a27fcdf1874"
   },
   "outputs": [
    {
     "data": {
      "text/plain": [
       "Text(0.5, 1.0, 'The Most 20 Important Features')"
      ]
     },
     "execution_count": 33,
     "metadata": {},
     "output_type": "execute_result"
    },
    {
     "data": {
      "image/png": "[encoded data removed]",
      "text/plain": [
       "<Figure size 1000x1000 with 1 Axes>"
      ]
     },
     "metadata": {},
     "output_type": "display_data"
    }
   ],
   "source": [
    "Top = 20\n",
    "sorted_idx = XGBOOSTModel.feature_importances_.argsort()[::-1][0:Top]\n",
    "\n",
    "fig, ax = plt.subplots(figsize=(10, 10))\n",
    "plt.barh(ColNames[sorted_idx], XGBOOSTModel.feature_importances_[sorted_idx])\n",
    "plt.xlabel(\"XGBoost Feature Importance\")\n",
    "ax.set_title(f'The Most {Top} Important Features')"
   ]
  }
 ],
 "metadata": {
  "colab": {
   "provenance": []
  },
  "domo": {
   "notebook_id": "e5263409-2339-4f40-a06e-1befe3662997"
  },
  "gpuClass": "standard",
  "kernelspec": {
   "display_name": "Python 3 (ipykernel)",
   "language": "python",
   "name": "python3"
  },
  "language_info": {
   "codemirror_mode": {
    "name": "ipython",
    "version": 3
   },
   "file_extension": ".py",
   "mimetype": "text/x-python",
   "name": "python",
   "nbconvert_exporter": "python",
   "pygments_lexer": "ipython3",
   "version": "3.11.7"
  },
  "papermill": {
   "default_parameters": {},
   "duration": 4520.99764,
   "end_time": "2023-03-19T03:00:04.540527",
   "environment_variables": {},
   "exception": null,
   "input_path": "MachineLearningHyperUnderSampling.ipynb",
   "output_path": "/home/domo/recent_executions/2023-03-19T01-44-43/output.ipynb",
   "parameters": {},
   "start_time": "2023-03-19T01:44:43.542887",
   "version": "2.4.0"
  }
 },
 "nbformat": 4,
 "nbformat_minor": 5
}
