{
 "cells": [
  {
   "cell_type": "code",
   "execution_count": 1,
   "id": "d1d9ba16-866d-4821-b877-9260ba270d8b",
   "metadata": {
    "scrolled": true
   },
   "outputs": [
    {
     "name": "stdout",
     "output_type": "stream",
     "text": [
      "\u001b[33mDEPRECATION: Loading egg at /opt/anaconda3/lib/python3.11/site-packages/src-0.1.0-py3.11.egg is deprecated. pip 24.3 will enforce this behaviour change. A possible replacement is to use pip for package installation.. Discussion can be found at https://github.com/pypa/pip/issues/12330\u001b[0m\u001b[33m\n",
      "\u001b[0mName: src\n",
      "Version: 0.1.0\n",
      "Summary: ML_Demo\n",
      "Home-page: \n",
      "Author: Adnan Sevinc\n",
      "Author-email: \n",
      "License: \n",
      "Location: /opt/anaconda3/lib/python3.11/site-packages/src-0.1.0-py3.11.egg\n",
      "Requires: \n",
      "Required-by: \n",
      "Note: you may need to restart the kernel to use updated packages.\n"
     ]
    }
   ],
   "source": [
    "pip show src"
   ]
  },
  {
   "cell_type": "markdown",
   "id": "384e5132-e0f9-4b6a-9b0c-6cd9f5753fba",
   "metadata": {
    "id": "1dac36e8-5c2a-4a5d-b04a-652da5320d1f",
    "papermill": {
     "duration": 0.040734,
     "end_time": "2023-03-19T01:44:47.122636",
     "exception": false,
     "start_time": "2023-03-19T01:44:47.081902",
     "status": "completed"
    },
    "tags": []
   },
   "source": [
    "# Import Libraries"
   ]
  },
  {
   "cell_type": "code",
   "execution_count": 23,
   "id": "ee0148ec-aad1-4174-bdbb-98ebb3aa2eaf",
   "metadata": {},
   "outputs": [
    {
     "name": "stdout",
     "output_type": "stream",
     "text": [
      "\u001b[33mDEPRECATION: Loading egg at /opt/anaconda3/lib/python3.11/site-packages/src-0.1.0-py3.11.egg is deprecated. pip 24.3 will enforce this behaviour change. A possible replacement is to use pip for package installation.. Discussion can be found at https://github.com/pypa/pip/issues/12330\u001b[0m\u001b[33m\n",
      "\u001b[0mRequirement already satisfied: prettytable in /opt/anaconda3/lib/python3.11/site-packages (3.10.0)\n",
      "Requirement already satisfied: wcwidth in /opt/anaconda3/lib/python3.11/site-packages (from prettytable) (0.2.5)\n"
     ]
    }
   ],
   "source": [
    "!pip install prettytable"
   ]
  },
  {
   "cell_type": "code",
   "execution_count": 24,
   "id": "f6168715-6181-49fb-a45f-7282ca82883d",
   "metadata": {},
   "outputs": [],
   "source": [
    "import src\n",
    "from src.models import training_model \n",
    "\n",
    "import os\n",
    "import pandas as pd\n",
    "\n",
    "from prettytable import PrettyTable\n",
    "\n",
    "\n",
    "from sklearn.preprocessing import StandardScaler\n",
    "\n",
    "from sklearn.metrics import roc_auc_score\n",
    "\n",
    "from src.entities.train_params import LogRegParams\n",
    "from src.entities.train_params import DecisionTreeParams\n",
    "from src.entities.train_params import RandomForestParams\n",
    "from src.entities.train_params import XGBoostParams"
   ]
  },
  {
   "cell_type": "markdown",
   "id": "c875f657-9139-4b1c-8d29-09121ee8f071",
   "metadata": {},
   "source": [
    "# Helper Functions"
   ]
  },
  {
   "cell_type": "code",
   "execution_count": 15,
   "id": "1007d57c-d356-4f03-99b1-3cde249ece02",
   "metadata": {},
   "outputs": [],
   "source": [
    "def auc_gini_score(model,y_data,x_data):\n",
    "        \"\"\" \n",
    "        This function calculate \n",
    "        auc and gini score of the model\n",
    "        \"\"\"\n",
    "        auc = roc_auc_score(y_data, model.predict(x_data))\n",
    "        gini = 2 * auc - 1\n",
    "\n",
    "        return auc, gini"
   ]
  },
  {
   "cell_type": "markdown",
   "id": "414582c0-b520-4eed-a297-b2f457edea1b",
   "metadata": {
    "id": "36c3e3bb-dd98-46be-914b-4924bd5cc20a",
    "papermill": {
     "duration": 0.05606,
     "end_time": "2023-03-19T01:44:51.590778",
     "exception": false,
     "start_time": "2023-03-19T01:44:51.534718",
     "status": "completed"
    },
    "tags": []
   },
   "source": [
    "# Load Dataset"
   ]
  },
  {
   "cell_type": "code",
   "execution_count": 4,
   "id": "e4d7a580-e1e6-42f0-97f2-f8e5806ddd94",
   "metadata": {},
   "outputs": [],
   "source": [
    "path = '/Users/Adnan_Sevinc/Library/CloudStorage/OneDrive-EPAM/adnan_sevinc_personal/GitHub/mortgage_loan_defaults_with_machine_learning_methods/data'"
   ]
  },
  {
   "cell_type": "code",
   "execution_count": 5,
   "id": "850b9c52-6981-4c24-951c-5af1d0c30d59",
   "metadata": {},
   "outputs": [],
   "source": [
    "X_train =  pd.read_csv(os.path.join(path,'X_train.csv'))\n",
    "y_train =  pd.read_csv(os.path.join(path,'y_train.csv'))\n",
    "X_test =  pd.read_csv(os.path.join(path,'X_test.csv'))\n",
    "y_test =  pd.read_csv(os.path.join(path,'y_test.csv'))"
   ]
  },
  {
   "cell_type": "markdown",
   "id": "01148884-95ac-47e9-9cb8-15a9f99629df",
   "metadata": {
    "id": "2CY5rWbnUP38"
   },
   "source": [
    "# Standart Scaler"
   ]
  },
  {
   "cell_type": "markdown",
   "id": "851a7616-c99d-4385-a322-0f5e4ed3587c",
   "metadata": {
    "id": "MJlflV6iURlM"
   },
   "source": [
    "Scale Independent variables"
   ]
  },
  {
   "cell_type": "code",
   "execution_count": 6,
   "id": "bc08d0d4-ee61-4684-aeb0-f96c1e7396b1",
   "metadata": {},
   "outputs": [],
   "source": [
    "scaler = StandardScaler()"
   ]
  },
  {
   "cell_type": "code",
   "execution_count": 7,
   "id": "34dc79d5-da5e-4d55-b291-039b0e12ff85",
   "metadata": {},
   "outputs": [],
   "source": [
    "X_train_scaled = scaler.fit_transform(X_train)\n",
    "X_test_scaled= scaler.transform(X_test)"
   ]
  },
  {
   "cell_type": "markdown",
   "id": "13b0aab8-3e5e-4487-bd02-857f5aa5308a",
   "metadata": {},
   "source": [
    "Assign scaled variables to X_train and X_test"
   ]
  },
  {
   "cell_type": "code",
   "execution_count": 8,
   "id": "170bf451-3025-4cf2-ad40-01435bce904a",
   "metadata": {},
   "outputs": [],
   "source": [
    "X_train = X_train_scaled.copy()\n",
    "X_test = X_test_scaled.copy()"
   ]
  },
  {
   "cell_type": "markdown",
   "id": "73cd2e00-3541-442c-bda0-b8cfd973b09c",
   "metadata": {
    "id": "ARH1Y6OeBx6i"
   },
   "source": [
    "# To a 1-D array"
   ]
  },
  {
   "cell_type": "markdown",
   "id": "aa9f43e1-83f0-4631-a116-5572dfb8e296",
   "metadata": {},
   "source": [
    "Assign scaled variables to X_train and X_test"
   ]
  },
  {
   "cell_type": "code",
   "execution_count": 9,
   "id": "c6855bf2-e1d8-4247-add0-7206415a2ae3",
   "metadata": {},
   "outputs": [],
   "source": [
    "y_train = y_train.values.ravel()\n",
    "y_test = y_test.values.ravel()"
   ]
  },
  {
   "cell_type": "markdown",
   "id": "a9ace6e3-21d1-42fe-8f89-ffb072846bfd",
   "metadata": {
    "id": "366a1fcd-de4c-4203-9c61-cb21e6a4e70b",
    "papermill": {
     "duration": 0.059679,
     "end_time": "2023-03-19T01:46:14.029884",
     "exception": false,
     "start_time": "2023-03-19T01:46:13.970205",
     "status": "completed"
    },
    "tags": []
   },
   "source": [
    "# Modeling"
   ]
  },
  {
   "cell_type": "markdown",
   "id": "2b00edaa-2b79-4327-a4ca-cb1dd6a599a3",
   "metadata": {
    "id": "1LaqbpEBe8Kb"
   },
   "source": [
    "## Logistic Regression"
   ]
  },
  {
   "cell_type": "markdown",
   "id": "1c1eaf4e-8d99-4179-b9fc-37545ed1cbd7",
   "metadata": {},
   "source": [
    "Build and fit Logistic Regression model"
   ]
  },
  {
   "cell_type": "code",
   "execution_count": 10,
   "id": "1c9ef526-44c5-4ff9-ab96-1d15705860de",
   "metadata": {},
   "outputs": [],
   "source": [
    "logistic_regression_model= training_model.train_model(\n",
    "    features=X_train, \n",
    "    target=y_train, \n",
    "    train_params=LogRegParams\n",
    "    )"
   ]
  },
  {
   "cell_type": "code",
   "execution_count": 11,
   "id": "e8fa7236-4b1b-4777-98c1-1433c951eb4a",
   "metadata": {},
   "outputs": [
    {
     "data": {
      "text/html": [
       "<style>#sk-container-id-1 {color: black;background-color: white;}#sk-container-id-1 pre{padding: 0;}#sk-container-id-1 div.sk-toggleable {background-color: white;}#sk-container-id-1 label.sk-toggleable__label {cursor: pointer;display: block;width: 100%;margin-bottom: 0;padding: 0.3em;box-sizing: border-box;text-align: center;}#sk-container-id-1 label.sk-toggleable__label-arrow:before {content: \"▸\";float: left;margin-right: 0.25em;color: #696969;}#sk-container-id-1 label.sk-toggleable__label-arrow:hover:before {color: black;}#sk-container-id-1 div.sk-estimator:hover label.sk-toggleable__label-arrow:before {color: black;}#sk-container-id-1 div.sk-toggleable__content {max-height: 0;max-width: 0;overflow: hidden;text-align: left;background-color: #f0f8ff;}#sk-container-id-1 div.sk-toggleable__content pre {margin: 0.2em;color: black;border-radius: 0.25em;background-color: #f0f8ff;}#sk-container-id-1 input.sk-toggleable__control:checked~div.sk-toggleable__content {max-height: 200px;max-width: 100%;overflow: auto;}#sk-container-id-1 input.sk-toggleable__control:checked~label.sk-toggleable__label-arrow:before {content: \"▾\";}#sk-container-id-1 div.sk-estimator input.sk-toggleable__control:checked~label.sk-toggleable__label {background-color: #d4ebff;}#sk-container-id-1 div.sk-label input.sk-toggleable__control:checked~label.sk-toggleable__label {background-color: #d4ebff;}#sk-container-id-1 input.sk-hidden--visually {border: 0;clip: rect(1px 1px 1px 1px);clip: rect(1px, 1px, 1px, 1px);height: 1px;margin: -1px;overflow: hidden;padding: 0;position: absolute;width: 1px;}#sk-container-id-1 div.sk-estimator {font-family: monospace;background-color: #f0f8ff;border: 1px dotted black;border-radius: 0.25em;box-sizing: border-box;margin-bottom: 0.5em;}#sk-container-id-1 div.sk-estimator:hover {background-color: #d4ebff;}#sk-container-id-1 div.sk-parallel-item::after {content: \"\";width: 100%;border-bottom: 1px solid gray;flex-grow: 1;}#sk-container-id-1 div.sk-label:hover label.sk-toggleable__label {background-color: #d4ebff;}#sk-container-id-1 div.sk-serial::before {content: \"\";position: absolute;border-left: 1px solid gray;box-sizing: border-box;top: 0;bottom: 0;left: 50%;z-index: 0;}#sk-container-id-1 div.sk-serial {display: flex;flex-direction: column;align-items: center;background-color: white;padding-right: 0.2em;padding-left: 0.2em;position: relative;}#sk-container-id-1 div.sk-item {position: relative;z-index: 1;}#sk-container-id-1 div.sk-parallel {display: flex;align-items: stretch;justify-content: center;background-color: white;position: relative;}#sk-container-id-1 div.sk-item::before, #sk-container-id-1 div.sk-parallel-item::before {content: \"\";position: absolute;border-left: 1px solid gray;box-sizing: border-box;top: 0;bottom: 0;left: 50%;z-index: -1;}#sk-container-id-1 div.sk-parallel-item {display: flex;flex-direction: column;z-index: 1;position: relative;background-color: white;}#sk-container-id-1 div.sk-parallel-item:first-child::after {align-self: flex-end;width: 50%;}#sk-container-id-1 div.sk-parallel-item:last-child::after {align-self: flex-start;width: 50%;}#sk-container-id-1 div.sk-parallel-item:only-child::after {width: 0;}#sk-container-id-1 div.sk-dashed-wrapped {border: 1px dashed gray;margin: 0 0.4em 0.5em 0.4em;box-sizing: border-box;padding-bottom: 0.4em;background-color: white;}#sk-container-id-1 div.sk-label label {font-family: monospace;font-weight: bold;display: inline-block;line-height: 1.2em;}#sk-container-id-1 div.sk-label-container {text-align: center;}#sk-container-id-1 div.sk-container {/* jupyter's `normalize.less` sets `[hidden] { display: none; }` but bootstrap.min.css set `[hidden] { display: none !important; }` so we also need the `!important` here to be able to override the default hidden behavior on the sphinx rendered scikit-learn.org. See: https://github.com/scikit-learn/scikit-learn/issues/21755 */display: inline-block !important;position: relative;}#sk-container-id-1 div.sk-text-repr-fallback {display: none;}</style><div id=\"sk-container-id-1\" class=\"sk-top-container\"><div class=\"sk-text-repr-fallback\"><pre>LogisticRegression(random_state=42)</pre><b>In a Jupyter environment, please rerun this cell to show the HTML representation or trust the notebook. <br />On GitHub, the HTML representation is unable to render, please try loading this page with nbviewer.org.</b></div><div class=\"sk-container\" hidden><div class=\"sk-item\"><div class=\"sk-estimator sk-toggleable\"><input class=\"sk-toggleable__control sk-hidden--visually\" id=\"sk-estimator-id-1\" type=\"checkbox\" checked><label for=\"sk-estimator-id-1\" class=\"sk-toggleable__label sk-toggleable__label-arrow\">LogisticRegression</label><div class=\"sk-toggleable__content\"><pre>LogisticRegression(random_state=42)</pre></div></div></div></div></div>"
      ],
      "text/plain": [
       "LogisticRegression(random_state=42)"
      ]
     },
     "execution_count": 11,
     "metadata": {},
     "output_type": "execute_result"
    }
   ],
   "source": [
    "logistic_regression_model"
   ]
  },
  {
   "cell_type": "code",
   "execution_count": 12,
   "id": "d774aab5-3c4a-48e4-849f-3f1282f5fb57",
   "metadata": {},
   "outputs": [],
   "source": [
    "# predict logistic model\n",
    "logistic_model_pred = logistic_regression_model.predict(X_test)"
   ]
  },
  {
   "cell_type": "code",
   "execution_count": 16,
   "id": "9c0daff4-1d2a-4a73-a8f6-5684f62d501a",
   "metadata": {},
   "outputs": [
    {
     "data": {
      "text/plain": [
       "0.7497882073873263"
      ]
     },
     "execution_count": 16,
     "metadata": {},
     "output_type": "execute_result"
    }
   ],
   "source": [
    "logistic_regression_model.score(X_test,y_test)"
   ]
  },
  {
   "cell_type": "code",
   "execution_count": 25,
   "id": "0daf5cdc-c737-402f-a102-8c8406aa5140",
   "metadata": {
    "scrolled": true
   },
   "outputs": [],
   "source": [
    "# Calculate aucroc and gini score\n",
    "auc_train =  auc_gini_score(logistic_regression_model, y_train, X_train)[0]\n",
    "auc_test = auc_gini_score(logistic_regression_model, y_test, X_test)[0]\n",
    "gini_train = auc_gini_score(logistic_regression_model, y_train, X_train)[1]\n",
    "gini_test = auc_gini_score(logistic_regression_model, y_test, X_test)[1]\n",
    "\n",
    "logistic_regression_model_output = PrettyTable()\n",
    "logistic_regression_model_output.field_names = [\"Train AUCROC\", \"Test AUCROC\", \"Train Gini\", \"Test Gini\"]\n",
    "logistic_regression_model_output.add_row([\n",
    "    auc_train,\n",
    "    auc_test,\n",
    "    gini_train,\n",
    "    gini_test\n",
    "    ])   "
   ]
  },
  {
   "cell_type": "code",
   "execution_count": 26,
   "id": "e419a8a4-7841-4098-ba30-b48a23aa76f7",
   "metadata": {},
   "outputs": [
    {
     "name": "stdout",
     "output_type": "stream",
     "text": [
      "+-------------------+--------------------+--------------------+--------------------+\n",
      "|    Train AUCROC   |    Test AUCROC     |     Train Gini     |     Test Gini      |\n",
      "+-------------------+--------------------+--------------------+--------------------+\n",
      "| 0.760080187608745 | 0.7590066055719134 | 0.5201603752174899 | 0.5180132111438267 |\n",
      "+-------------------+--------------------+--------------------+--------------------+\n"
     ]
    }
   ],
   "source": [
    "print(logistic_regression_model_output)"
   ]
  }
 ],
 "metadata": {
  "kernelspec": {
   "display_name": "Python 3 (ipykernel)",
   "language": "python",
   "name": "python3"
  },
  "language_info": {
   "codemirror_mode": {
    "name": "ipython",
    "version": 3
   },
   "file_extension": ".py",
   "mimetype": "text/x-python",
   "name": "python",
   "nbconvert_exporter": "python",
   "pygments_lexer": "ipython3",
   "version": "3.11.7"
  }
 },
 "nbformat": 4,
 "nbformat_minor": 5
}
