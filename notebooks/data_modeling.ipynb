{
 "cells": [
  {
   "cell_type": "markdown",
   "id": "1dac36e8-5c2a-4a5d-b04a-652da5320d1f",
   "metadata": {
    "id": "1dac36e8-5c2a-4a5d-b04a-652da5320d1f"
   },
   "source": [
    "# Import Library"
   ]
  },
  {
   "cell_type": "code",
   "execution_count": 1,
   "id": "f2024bd1-03db-4495-990b-2a2644c6edf4",
   "metadata": {
    "executionInfo": {
     "elapsed": 30,
     "status": "ok",
     "timestamp": 1681123380871,
     "user": {
      "displayName": "Adnan sevinç",
      "userId": "10606629957436102111"
     },
     "user_tz": -120
    },
    "id": "f2024bd1-03db-4495-990b-2a2644c6edf4"
   },
   "outputs": [],
   "source": [
    "# Basic Libraries\n",
    "import itertools\n",
    "import json\n",
    "import math\n",
    "import os\n",
    "import time\n",
    "from datetime import datetime\n",
    "\n",
    "import numpy as np\n",
    "import pandas as pd\n",
    "\n",
    "from imblearn.under_sampling import RandomUnderSampler\n",
    "from pycorrcat.pycorrcat import corr_matrix, plot_corr\n",
    "from sklearn.model_selection import train_test_split\n",
    "from sklearn.preprocessing import LabelEncoder\n",
    "\n",
    "# Visualizations\n",
    "import matplotlib.pyplot as plt\n",
    "import seaborn as sns \n",
    "\n",
    "import warnings\n",
    "warnings.filterwarnings('ignore')"
   ]
  },
  {
   "cell_type": "markdown",
   "id": "fdee29f4-f0bc-41c2-89f2-a012bc51cc05",
   "metadata": {
    "id": "fdee29f4-f0bc-41c2-89f2-a012bc51cc05"
   },
   "source": [
    "# Helper Functions"
   ]
  },
  {
   "cell_type": "code",
   "execution_count": 2,
   "id": "a61a3bc7-4b22-4f93-91e9-d231dc5b5211",
   "metadata": {
    "executionInfo": {
     "elapsed": 29,
     "status": "ok",
     "timestamp": 1681123380871,
     "user": {
      "displayName": "Adnan sevinç",
      "userId": "10606629957436102111"
     },
     "user_tz": -120
    },
    "id": "a61a3bc7-4b22-4f93-91e9-d231dc5b5211"
   },
   "outputs": [],
   "source": [
    "def numeric_data_summary_stats(data, columns):\n",
    "    summary_stat_temp = data[columns].describe().T.reset_index()\n",
    "    missing_dict = {}\n",
    "    \n",
    "    for column in columns:\n",
    "        missing_dict.update({column: len(data[data[column].isnull()])})\n",
    "    \n",
    "    temp_missing = pd.DataFrame([missing_dict]).T.reset_index()\n",
    "    temp_missing.columns = [\"\", \"Missing\"]\n",
    "\n",
    "    summary_stat_table = pd.concat(\n",
    "        [summary_stat_temp, temp_missing[\"Missing\"]],\n",
    "        axis=1).round(2)\n",
    "    \n",
    "    summary_stat_table = summary_stat_table[\n",
    "        [\n",
    "            \"index\",\n",
    "            \"count\",\n",
    "            \"min\",\n",
    "            \"mean\",\n",
    "            \"50%\",\n",
    "            \"max\",\n",
    "            \"25%\",\n",
    "            \"75%\",\n",
    "            \"std\",\n",
    "            \"Missing\"\n",
    "        ]]\n",
    "    summary_stat_table = summary_stat_table.rename(\n",
    "        columns={\n",
    "            \"index\": \" \",\n",
    "            \"count\": \"Count\",\n",
    "            \"min\": \"Min\",\n",
    "            \"mean\": \"Mean\",\n",
    "            \"50%\": \"Median\",\n",
    "            \"max\": \"Max\",\n",
    "            \"25%\": \"25%-quant\",\n",
    "            \"75%\": \"75%-quant\",\n",
    "            \"std\": \"Standard deviation\",\n",
    "        })\n",
    "    return summary_stat_table\n",
    "\n",
    "def plot_correlation_heatmap(df):\n",
    "    corr_abs = df[num_cols].corr('kendall').abs()\n",
    "    mask_upper = np.triu(corr_abs)\n",
    "    plt.figure(figsize=(16,9))\n",
    "    sns.heatmap(\n",
    "        corr_abs,\n",
    "        annot=True,\n",
    "        fmt=\".2f\",\n",
    "        cmap=\"coolwarm\",\n",
    "        mask=mask_upper\n",
    "    )\n",
    "    plt.show()\n",
    "\n",
    "def numeric_multicollinearity(df,threshold):\n",
    "    corr_abs = df[num_cols].corr('kendall').abs()\n",
    "    corr_num_df = corr_abs.where(np.triu(np.ones(corr_abs.shape), k=1).astype(bool)) # Upper Mask\n",
    "    corr_num_df = corr_num_df.unstack().reset_index()\n",
    "    corr_num_df.columns = ['col_pair_1', 'col_pair_2', 'corr']\n",
    "    corr_num_df['corr'] = corr_num_df['corr'].apply(lambda x: round(x * 100, 4))\n",
    "    corr_num_df = corr_num_df[\n",
    "        (corr_num_df['corr'] > threshold) &\n",
    "        (corr_num_df['col_pair_1'] != corr_num_df['col_pair_2'])\n",
    "    ]\n",
    "    return corr_num_df.reset_index(drop=True)\n",
    "\n",
    "def cat_unique_values(df):\n",
    "    cat_unique_df = df.apply(lambda col: col.unique()).reset_index()\n",
    "    cat_unique_df.columns = [\"variables\", \"unique_values\"]\n",
    "    cat_unique_df['no_unique_values'] = cat_unique_df[\"unique_values\"].apply(lambda x: len(x))\n",
    "    \n",
    "    return cat_unique_df\n",
    "\n",
    "def cat_encoding(df):\n",
    "    cat_unique_df = cat_unique_values(df)\n",
    "    get_dum = cat_unique_df[cat_unique_df[\"no_unique_values\"] > 2][\"variables\"].to_list()\n",
    "    label_encode = cat_unique_df[cat_unique_df[\"no_unique_values\"] <= 2][\"variables\"].to_list()\n",
    "    \n",
    "    return get_dum, label_encode\n",
    "    \n",
    "def categorical_corr(df):\n",
    "    cat_pairs = list(itertools.combinations(cat_cols, 2))\n",
    "    cat_corr_values = []\n",
    "\n",
    "    for pair1, pair2 in cat_pairs:\n",
    "        cat_corr_values.append(round(\n",
    "            corr_matrix(df, [pair1, pair2]).iloc[0, 1], 4)*100\n",
    "        )\n",
    "    \n",
    "    corr_num_df = pd.DataFrame({\"pairs\": cat_pairs, \"corr\": cat_corr_values})\n",
    "    \n",
    "    return corr_num_df\n",
    "    \n",
    "def missing_values_table(data):\n",
    "    missing_values = [i for i in data.isnull().sum()]\n",
    "    columns = [i for i in data.columns]\n",
    "    counts = [i for i in data.count()]\n",
    "    \n",
    "    table = pd.DataFrame()\n",
    "    table[\"Column\"] = columns\n",
    "    table[\"DatasetRow\"] = data.shape[0]\n",
    "    table[\"ColumnRow\"] = counts\n",
    "    table[\"Missing\"] = missing_values\n",
    "    table[\"Percent\"] = [round(data[i].isnull().mean() * 100, 3) for i in table[\"Column\"]]\n",
    "    \n",
    "    return table.sort_values(by=['Missing'], ascending=False).reset_index(drop=True)\n",
    "\n",
    "def fill_missing_values(df,\n",
    "                        columns, \n",
    "                        imputation_strategy, \n",
    "                        rounding=False):\n",
    "    for col in columns:\n",
    "        if imputation_strategy == 'mean':\n",
    "            filler = df[col].mean()\n",
    "        elif imputation_strategy == 'median':\n",
    "            filler = df[col].median()\n",
    "        elif imputation_strategy == 'mode':\n",
    "            filler = df[col].mode()[0]\n",
    "        elif imputation_strategy == 'zero':\n",
    "            filler = 0\n",
    "            \n",
    "        if rounding:\n",
    "            filler = round(filler)\n",
    "            \n",
    "        df[col].fillna(filler, inplace=True)\n",
    "\n",
    "def split_variables(dataset, target):\n",
    "    cat_cols = df.dtypes[df.dtypes == \"object\"].index.to_list()\n",
    "    num_cols = df.dtypes[df.dtypes != \"object\"].index.to_list()\n",
    "    target_cols = target\n",
    "    num_cols.remove(target_cols)\n",
    "\n",
    "    return cat_cols, num_cols, target_cols"
   ]
  },
  {
   "cell_type": "markdown",
   "id": "36c3e3bb-dd98-46be-914b-4924bd5cc20a",
   "metadata": {
    "id": "36c3e3bb-dd98-46be-914b-4924bd5cc20a"
   },
   "source": [
    "# Load Dataset"
   ]
  },
  {
   "cell_type": "code",
   "execution_count": 3,
   "id": "347f9c2a-b6ea-4a37-bfa4-cb5ca93c45a1",
   "metadata": {},
   "outputs": [],
   "source": [
    "path = '/Users/Adnan_Sevinc/Library/CloudStorage/OneDrive-EPAM/adnan_sevinc_personal/GitHub/mortgage_loan_defaults_with_machine_learning_methods/data/raw'"
   ]
  },
  {
   "cell_type": "code",
   "execution_count": 4,
   "id": "ffc92004-b409-40d4-9fe6-d48e8629c196",
   "metadata": {},
   "outputs": [],
   "source": [
    "df = pd.read_csv(os.path.join(path, 'rawdata.csv'))"
   ]
  },
  {
   "cell_type": "code",
   "execution_count": 5,
   "id": "3fbeff2c-0676-4c99-b3b9-7ad8610110b4",
   "metadata": {
    "colab": {
     "base_uri": "https://localhost:8080/"
    },
    "executionInfo": {
     "elapsed": 238,
     "status": "ok",
     "timestamp": 1681123390370,
     "user": {
      "displayName": "Adnan sevinç",
      "userId": "10606629957436102111"
     },
     "user_tz": -120
    },
    "id": "3fbeff2c-0676-4c99-b3b9-7ad8610110b4",
    "outputId": "54204a99-f347-4434-c3b9-1640d7a46f66"
   },
   "outputs": [
    {
     "data": {
      "text/plain": [
       "(629544, 30)"
      ]
     },
     "execution_count": 5,
     "metadata": {},
     "output_type": "execute_result"
    }
   ],
   "source": [
    "df.shape"
   ]
  },
  {
   "cell_type": "markdown",
   "id": "2d8e4a4b-beb5-48c4-9334-fea357e9de96",
   "metadata": {},
   "source": [
    "Our dataset consists of 629544 rows (instances) and 30 columns(atttributes)."
   ]
  },
  {
   "cell_type": "code",
   "execution_count": 6,
   "id": "0d4eb501-ccb6-489b-b2bc-ef95a0c8023f",
   "metadata": {
    "colab": {
     "base_uri": "https://localhost:8080/",
     "height": 478
    },
    "executionInfo": {
     "elapsed": 15,
     "status": "ok",
     "timestamp": 1681123390371,
     "user": {
      "displayName": "Adnan sevinç",
      "userId": "10606629957436102111"
     },
     "user_tz": -120
    },
    "id": "0d4eb501-ccb6-489b-b2bc-ef95a0c8023f",
    "outputId": "bbe7a796-9ca9-4a1d-83db-035206d59071"
   },
   "outputs": [
    {
     "data": {
      "text/html": [
       "<div>\n",
       "<style scoped>\n",
       "    .dataframe tbody tr th:only-of-type {\n",
       "        vertical-align: middle;\n",
       "    }\n",
       "\n",
       "    .dataframe tbody tr th {\n",
       "        vertical-align: top;\n",
       "    }\n",
       "\n",
       "    .dataframe thead th {\n",
       "        text-align: right;\n",
       "    }\n",
       "</style>\n",
       "<table border=\"1\" class=\"dataframe\">\n",
       "  <thead>\n",
       "    <tr style=\"text-align: right;\">\n",
       "      <th></th>\n",
       "      <th>LoanSequenceNumber</th>\n",
       "      <th>CreditScore</th>\n",
       "      <th>FirstPaymentDate</th>\n",
       "      <th>FirstTimeHomebuyerFlag</th>\n",
       "      <th>MaturityDate</th>\n",
       "      <th>MetropolitanStatisticalAreaMSAOrMetropolitanDivision</th>\n",
       "      <th>MortgageInsurancePercentageMI</th>\n",
       "      <th>NumberofUnits</th>\n",
       "      <th>OccupancyStatus</th>\n",
       "      <th>OriginalCombinedLoantoValueCLTV</th>\n",
       "      <th>...</th>\n",
       "      <th>LoanPurpose</th>\n",
       "      <th>OriginalLoanTerm</th>\n",
       "      <th>NumberofBorrowers</th>\n",
       "      <th>SellerName</th>\n",
       "      <th>ServicerName</th>\n",
       "      <th>ProgramIndicator</th>\n",
       "      <th>PropertyValuationMethod</th>\n",
       "      <th>InterestOnlyIOIndicator</th>\n",
       "      <th>dataflag</th>\n",
       "      <th>default</th>\n",
       "    </tr>\n",
       "  </thead>\n",
       "  <tbody>\n",
       "    <tr>\n",
       "      <th>0</th>\n",
       "      <td>F07Q40210176</td>\n",
       "      <td>663.0</td>\n",
       "      <td>2007-12-01</td>\n",
       "      <td>Y</td>\n",
       "      <td>2022-11-01</td>\n",
       "      <td>42540.0</td>\n",
       "      <td>25</td>\n",
       "      <td>1</td>\n",
       "      <td>P</td>\n",
       "      <td>95.0</td>\n",
       "      <td>...</td>\n",
       "      <td>P</td>\n",
       "      <td>180</td>\n",
       "      <td>1.0</td>\n",
       "      <td>U.S. BANK N.A.</td>\n",
       "      <td>U.S. BANK N.A.</td>\n",
       "      <td>NaN</td>\n",
       "      <td>NaN</td>\n",
       "      <td>N</td>\n",
       "      <td>2007q4</td>\n",
       "      <td>0</td>\n",
       "    </tr>\n",
       "    <tr>\n",
       "      <th>1</th>\n",
       "      <td>F07Q40194900</td>\n",
       "      <td>633.0</td>\n",
       "      <td>2007-12-01</td>\n",
       "      <td>N</td>\n",
       "      <td>2027-11-01</td>\n",
       "      <td>40900.0</td>\n",
       "      <td>0</td>\n",
       "      <td>1</td>\n",
       "      <td>P</td>\n",
       "      <td>42.0</td>\n",
       "      <td>...</td>\n",
       "      <td>C</td>\n",
       "      <td>240</td>\n",
       "      <td>2.0</td>\n",
       "      <td>TAYLOR, BEAN &amp; WHITAKER MORTGAGE CORP.</td>\n",
       "      <td>NATIONSTAR MORTGAGE LLC</td>\n",
       "      <td>NaN</td>\n",
       "      <td>NaN</td>\n",
       "      <td>N</td>\n",
       "      <td>2007q4</td>\n",
       "      <td>0</td>\n",
       "    </tr>\n",
       "    <tr>\n",
       "      <th>2</th>\n",
       "      <td>F07Q40190162</td>\n",
       "      <td>751.0</td>\n",
       "      <td>2007-12-01</td>\n",
       "      <td>N</td>\n",
       "      <td>2037-11-01</td>\n",
       "      <td>48900.0</td>\n",
       "      <td>0</td>\n",
       "      <td>1</td>\n",
       "      <td>P</td>\n",
       "      <td>73.0</td>\n",
       "      <td>...</td>\n",
       "      <td>P</td>\n",
       "      <td>360</td>\n",
       "      <td>2.0</td>\n",
       "      <td>U.S. BANK N.A.</td>\n",
       "      <td>U.S. BANK N.A.</td>\n",
       "      <td>NaN</td>\n",
       "      <td>NaN</td>\n",
       "      <td>N</td>\n",
       "      <td>2007q4</td>\n",
       "      <td>0</td>\n",
       "    </tr>\n",
       "    <tr>\n",
       "      <th>3</th>\n",
       "      <td>F07Q40188213</td>\n",
       "      <td>780.0</td>\n",
       "      <td>2007-12-01</td>\n",
       "      <td>Y</td>\n",
       "      <td>2037-11-01</td>\n",
       "      <td>45104.0</td>\n",
       "      <td>35</td>\n",
       "      <td>1</td>\n",
       "      <td>P</td>\n",
       "      <td>97.0</td>\n",
       "      <td>...</td>\n",
       "      <td>P</td>\n",
       "      <td>360</td>\n",
       "      <td>1.0</td>\n",
       "      <td>CHASE HOME FINANCE LLC</td>\n",
       "      <td>JPMORGAN CHASE BANK, N.A.</td>\n",
       "      <td>NaN</td>\n",
       "      <td>NaN</td>\n",
       "      <td>N</td>\n",
       "      <td>2007q4</td>\n",
       "      <td>0</td>\n",
       "    </tr>\n",
       "    <tr>\n",
       "      <th>4</th>\n",
       "      <td>F07Q40188137</td>\n",
       "      <td>692.0</td>\n",
       "      <td>2007-12-01</td>\n",
       "      <td>N</td>\n",
       "      <td>2037-11-01</td>\n",
       "      <td>18140.0</td>\n",
       "      <td>35</td>\n",
       "      <td>1</td>\n",
       "      <td>P</td>\n",
       "      <td>100.0</td>\n",
       "      <td>...</td>\n",
       "      <td>P</td>\n",
       "      <td>360</td>\n",
       "      <td>1.0</td>\n",
       "      <td>CHASE HOME FINANCE LLC</td>\n",
       "      <td>JPMORGAN CHASE BANK, N.A.</td>\n",
       "      <td>NaN</td>\n",
       "      <td>NaN</td>\n",
       "      <td>N</td>\n",
       "      <td>2007q4</td>\n",
       "      <td>0</td>\n",
       "    </tr>\n",
       "  </tbody>\n",
       "</table>\n",
       "<p>5 rows × 30 columns</p>\n",
       "</div>"
      ],
      "text/plain": [
       "  LoanSequenceNumber  CreditScore FirstPaymentDate FirstTimeHomebuyerFlag  \\\n",
       "0       F07Q40210176        663.0       2007-12-01                      Y   \n",
       "1       F07Q40194900        633.0       2007-12-01                      N   \n",
       "2       F07Q40190162        751.0       2007-12-01                      N   \n",
       "3       F07Q40188213        780.0       2007-12-01                      Y   \n",
       "4       F07Q40188137        692.0       2007-12-01                      N   \n",
       "\n",
       "  MaturityDate  MetropolitanStatisticalAreaMSAOrMetropolitanDivision  \\\n",
       "0   2022-11-01                                            42540.0      \n",
       "1   2027-11-01                                            40900.0      \n",
       "2   2037-11-01                                            48900.0      \n",
       "3   2037-11-01                                            45104.0      \n",
       "4   2037-11-01                                            18140.0      \n",
       "\n",
       "   MortgageInsurancePercentageMI  NumberofUnits OccupancyStatus  \\\n",
       "0                             25              1               P   \n",
       "1                              0              1               P   \n",
       "2                              0              1               P   \n",
       "3                             35              1               P   \n",
       "4                             35              1               P   \n",
       "\n",
       "   OriginalCombinedLoantoValueCLTV  ...  LoanPurpose  OriginalLoanTerm  \\\n",
       "0                             95.0  ...            P               180   \n",
       "1                             42.0  ...            C               240   \n",
       "2                             73.0  ...            P               360   \n",
       "3                             97.0  ...            P               360   \n",
       "4                            100.0  ...            P               360   \n",
       "\n",
       "   NumberofBorrowers                              SellerName  \\\n",
       "0                1.0                          U.S. BANK N.A.   \n",
       "1                2.0  TAYLOR, BEAN & WHITAKER MORTGAGE CORP.   \n",
       "2                2.0                          U.S. BANK N.A.   \n",
       "3                1.0                  CHASE HOME FINANCE LLC   \n",
       "4                1.0                  CHASE HOME FINANCE LLC   \n",
       "\n",
       "                ServicerName ProgramIndicator PropertyValuationMethod  \\\n",
       "0             U.S. BANK N.A.              NaN                     NaN   \n",
       "1    NATIONSTAR MORTGAGE LLC              NaN                     NaN   \n",
       "2             U.S. BANK N.A.              NaN                     NaN   \n",
       "3  JPMORGAN CHASE BANK, N.A.              NaN                     NaN   \n",
       "4  JPMORGAN CHASE BANK, N.A.              NaN                     NaN   \n",
       "\n",
       "  InterestOnlyIOIndicator dataflag  default  \n",
       "0                       N   2007q4        0  \n",
       "1                       N   2007q4        0  \n",
       "2                       N   2007q4        0  \n",
       "3                       N   2007q4        0  \n",
       "4                       N   2007q4        0  \n",
       "\n",
       "[5 rows x 30 columns]"
      ]
     },
     "execution_count": 6,
     "metadata": {},
     "output_type": "execute_result"
    }
   ],
   "source": [
    "# Explore first 10 rows\n",
    "df.head()"
   ]
  },
  {
   "cell_type": "code",
   "execution_count": 7,
   "id": "a910957d-0d9b-4691-9dbc-5ddd5943b8d5",
   "metadata": {
    "colab": {
     "base_uri": "https://localhost:8080/"
    },
    "executionInfo": {
     "elapsed": 13,
     "status": "ok",
     "timestamp": 1681123390372,
     "user": {
      "displayName": "Adnan sevinç",
      "userId": "10606629957436102111"
     },
     "user_tz": -120
    },
    "id": "a910957d-0d9b-4691-9dbc-5ddd5943b8d5",
    "outputId": "268e810d-7cf1-44c2-ea66-507b3177bb04"
   },
   "outputs": [
    {
     "data": {
      "text/plain": [
       "Index(['LoanSequenceNumber', 'CreditScore', 'FirstPaymentDate',\n",
       "       'FirstTimeHomebuyerFlag', 'MaturityDate',\n",
       "       'MetropolitanStatisticalAreaMSAOrMetropolitanDivision',\n",
       "       'MortgageInsurancePercentageMI', 'NumberofUnits', 'OccupancyStatus',\n",
       "       'OriginalCombinedLoantoValueCLTV', 'OriginalDebttoIncomeDTIRatio',\n",
       "       'OriginalUPB', 'OriginalLoantoValueLTV', 'OriginalInterestRate',\n",
       "       'Channel', 'PrepaymentPenaltyMortgagePPMFlag',\n",
       "       'AmortizationTypeFormerlyProductType', 'PropertyState', 'PropertyType',\n",
       "       'PostalCode', 'LoanPurpose', 'OriginalLoanTerm', 'NumberofBorrowers',\n",
       "       'SellerName', 'ServicerName', 'ProgramIndicator',\n",
       "       'PropertyValuationMethod', 'InterestOnlyIOIndicator', 'dataflag',\n",
       "       'default'],\n",
       "      dtype='object')"
      ]
     },
     "execution_count": 7,
     "metadata": {},
     "output_type": "execute_result"
    }
   ],
   "source": [
    "# Explore Columns\n",
    "df.columns"
   ]
  },
  {
   "cell_type": "code",
   "execution_count": 8,
   "id": "dada126f-41ee-4618-9b10-468ddf0d03f5",
   "metadata": {
    "colab": {
     "base_uri": "https://localhost:8080/",
     "height": 519
    },
    "executionInfo": {
     "elapsed": 1537,
     "status": "ok",
     "timestamp": 1681123391903,
     "user": {
      "displayName": "Adnan sevinç",
      "userId": "10606629957436102111"
     },
     "user_tz": -120
    },
    "id": "dada126f-41ee-4618-9b10-468ddf0d03f5",
    "outputId": "911ff1c3-368e-407c-dedf-6de3f6af78f8"
   },
   "outputs": [
    {
     "data": {
      "text/html": [
       "<div>\n",
       "<style scoped>\n",
       "    .dataframe tbody tr th:only-of-type {\n",
       "        vertical-align: middle;\n",
       "    }\n",
       "\n",
       "    .dataframe tbody tr th {\n",
       "        vertical-align: top;\n",
       "    }\n",
       "\n",
       "    .dataframe thead th {\n",
       "        text-align: right;\n",
       "    }\n",
       "</style>\n",
       "<table border=\"1\" class=\"dataframe\">\n",
       "  <thead>\n",
       "    <tr style=\"text-align: right;\">\n",
       "      <th></th>\n",
       "      <th></th>\n",
       "      <th>Count</th>\n",
       "      <th>Min</th>\n",
       "      <th>Mean</th>\n",
       "      <th>Median</th>\n",
       "      <th>Max</th>\n",
       "      <th>25%-quant</th>\n",
       "      <th>75%-quant</th>\n",
       "      <th>Standard deviation</th>\n",
       "      <th>Missing</th>\n",
       "    </tr>\n",
       "  </thead>\n",
       "  <tbody>\n",
       "    <tr>\n",
       "      <th>0</th>\n",
       "      <td>CreditScore</td>\n",
       "      <td>628983.0</td>\n",
       "      <td>300.0</td>\n",
       "      <td>721.21</td>\n",
       "      <td>725.00</td>\n",
       "      <td>850.0</td>\n",
       "      <td>679.00</td>\n",
       "      <td>770.00</td>\n",
       "      <td>57.55</td>\n",
       "      <td>561</td>\n",
       "    </tr>\n",
       "    <tr>\n",
       "      <th>1</th>\n",
       "      <td>MetropolitanStatisticalAreaMSAOrMetropolitanDi...</td>\n",
       "      <td>489742.0</td>\n",
       "      <td>10180.0</td>\n",
       "      <td>30073.49</td>\n",
       "      <td>31140.00</td>\n",
       "      <td>49740.0</td>\n",
       "      <td>19124.00</td>\n",
       "      <td>39540.00</td>\n",
       "      <td>11365.02</td>\n",
       "      <td>139802</td>\n",
       "    </tr>\n",
       "    <tr>\n",
       "      <th>2</th>\n",
       "      <td>MortgageInsurancePercentageMI</td>\n",
       "      <td>629544.0</td>\n",
       "      <td>0.0</td>\n",
       "      <td>4.90</td>\n",
       "      <td>0.00</td>\n",
       "      <td>50.0</td>\n",
       "      <td>0.00</td>\n",
       "      <td>0.00</td>\n",
       "      <td>10.55</td>\n",
       "      <td>0</td>\n",
       "    </tr>\n",
       "    <tr>\n",
       "      <th>3</th>\n",
       "      <td>NumberofUnits</td>\n",
       "      <td>629544.0</td>\n",
       "      <td>1.0</td>\n",
       "      <td>1.03</td>\n",
       "      <td>1.00</td>\n",
       "      <td>4.0</td>\n",
       "      <td>1.00</td>\n",
       "      <td>1.00</td>\n",
       "      <td>0.24</td>\n",
       "      <td>0</td>\n",
       "    </tr>\n",
       "    <tr>\n",
       "      <th>4</th>\n",
       "      <td>OriginalCombinedLoantoValueCLTV</td>\n",
       "      <td>629493.0</td>\n",
       "      <td>6.0</td>\n",
       "      <td>75.31</td>\n",
       "      <td>80.00</td>\n",
       "      <td>127.0</td>\n",
       "      <td>66.00</td>\n",
       "      <td>90.00</td>\n",
       "      <td>18.79</td>\n",
       "      <td>51</td>\n",
       "    </tr>\n",
       "    <tr>\n",
       "      <th>5</th>\n",
       "      <td>OriginalDebttoIncomeDTIRatio</td>\n",
       "      <td>616336.0</td>\n",
       "      <td>1.0</td>\n",
       "      <td>36.70</td>\n",
       "      <td>37.00</td>\n",
       "      <td>65.0</td>\n",
       "      <td>28.00</td>\n",
       "      <td>45.00</td>\n",
       "      <td>12.26</td>\n",
       "      <td>13208</td>\n",
       "    </tr>\n",
       "    <tr>\n",
       "      <th>6</th>\n",
       "      <td>OriginalUPB</td>\n",
       "      <td>629544.0</td>\n",
       "      <td>5000.0</td>\n",
       "      <td>176306.49</td>\n",
       "      <td>154000.00</td>\n",
       "      <td>802000.0</td>\n",
       "      <td>104000.00</td>\n",
       "      <td>230000.00</td>\n",
       "      <td>95009.79</td>\n",
       "      <td>0</td>\n",
       "    </tr>\n",
       "    <tr>\n",
       "      <th>7</th>\n",
       "      <td>OriginalLoantoValueLTV</td>\n",
       "      <td>629498.0</td>\n",
       "      <td>6.0</td>\n",
       "      <td>72.22</td>\n",
       "      <td>78.00</td>\n",
       "      <td>102.0</td>\n",
       "      <td>65.00</td>\n",
       "      <td>80.00</td>\n",
       "      <td>17.34</td>\n",
       "      <td>46</td>\n",
       "    </tr>\n",
       "    <tr>\n",
       "      <th>8</th>\n",
       "      <td>OriginalInterestRate</td>\n",
       "      <td>629544.0</td>\n",
       "      <td>4.0</td>\n",
       "      <td>6.37</td>\n",
       "      <td>6.38</td>\n",
       "      <td>9.5</td>\n",
       "      <td>6.12</td>\n",
       "      <td>6.62</td>\n",
       "      <td>0.42</td>\n",
       "      <td>0</td>\n",
       "    </tr>\n",
       "    <tr>\n",
       "      <th>9</th>\n",
       "      <td>PostalCode</td>\n",
       "      <td>629544.0</td>\n",
       "      <td>0.0</td>\n",
       "      <td>51341.12</td>\n",
       "      <td>48300.00</td>\n",
       "      <td>99900.0</td>\n",
       "      <td>29200.00</td>\n",
       "      <td>77400.00</td>\n",
       "      <td>28514.45</td>\n",
       "      <td>0</td>\n",
       "    </tr>\n",
       "    <tr>\n",
       "      <th>10</th>\n",
       "      <td>OriginalLoanTerm</td>\n",
       "      <td>629544.0</td>\n",
       "      <td>60.0</td>\n",
       "      <td>343.05</td>\n",
       "      <td>360.00</td>\n",
       "      <td>599.0</td>\n",
       "      <td>360.00</td>\n",
       "      <td>360.00</td>\n",
       "      <td>51.32</td>\n",
       "      <td>0</td>\n",
       "    </tr>\n",
       "    <tr>\n",
       "      <th>11</th>\n",
       "      <td>NumberofBorrowers</td>\n",
       "      <td>629157.0</td>\n",
       "      <td>1.0</td>\n",
       "      <td>1.52</td>\n",
       "      <td>2.00</td>\n",
       "      <td>2.0</td>\n",
       "      <td>1.00</td>\n",
       "      <td>2.00</td>\n",
       "      <td>0.50</td>\n",
       "      <td>387</td>\n",
       "    </tr>\n",
       "    <tr>\n",
       "      <th>12</th>\n",
       "      <td>ProgramIndicator</td>\n",
       "      <td>0.0</td>\n",
       "      <td>NaN</td>\n",
       "      <td>NaN</td>\n",
       "      <td>NaN</td>\n",
       "      <td>NaN</td>\n",
       "      <td>NaN</td>\n",
       "      <td>NaN</td>\n",
       "      <td>NaN</td>\n",
       "      <td>629544</td>\n",
       "    </tr>\n",
       "    <tr>\n",
       "      <th>13</th>\n",
       "      <td>PropertyValuationMethod</td>\n",
       "      <td>0.0</td>\n",
       "      <td>NaN</td>\n",
       "      <td>NaN</td>\n",
       "      <td>NaN</td>\n",
       "      <td>NaN</td>\n",
       "      <td>NaN</td>\n",
       "      <td>NaN</td>\n",
       "      <td>NaN</td>\n",
       "      <td>629544</td>\n",
       "    </tr>\n",
       "    <tr>\n",
       "      <th>14</th>\n",
       "      <td>default</td>\n",
       "      <td>629544.0</td>\n",
       "      <td>0.0</td>\n",
       "      <td>0.06</td>\n",
       "      <td>0.00</td>\n",
       "      <td>1.0</td>\n",
       "      <td>0.00</td>\n",
       "      <td>0.00</td>\n",
       "      <td>0.24</td>\n",
       "      <td>0</td>\n",
       "    </tr>\n",
       "  </tbody>\n",
       "</table>\n",
       "</div>"
      ],
      "text/plain": [
       "                                                          Count      Min  \\\n",
       "0                                         CreditScore  628983.0    300.0   \n",
       "1   MetropolitanStatisticalAreaMSAOrMetropolitanDi...  489742.0  10180.0   \n",
       "2                       MortgageInsurancePercentageMI  629544.0      0.0   \n",
       "3                                       NumberofUnits  629544.0      1.0   \n",
       "4                     OriginalCombinedLoantoValueCLTV  629493.0      6.0   \n",
       "5                        OriginalDebttoIncomeDTIRatio  616336.0      1.0   \n",
       "6                                         OriginalUPB  629544.0   5000.0   \n",
       "7                              OriginalLoantoValueLTV  629498.0      6.0   \n",
       "8                                OriginalInterestRate  629544.0      4.0   \n",
       "9                                          PostalCode  629544.0      0.0   \n",
       "10                                   OriginalLoanTerm  629544.0     60.0   \n",
       "11                                  NumberofBorrowers  629157.0      1.0   \n",
       "12                                   ProgramIndicator       0.0      NaN   \n",
       "13                            PropertyValuationMethod       0.0      NaN   \n",
       "14                                            default  629544.0      0.0   \n",
       "\n",
       "         Mean     Median       Max  25%-quant  75%-quant  Standard deviation  \\\n",
       "0      721.21     725.00     850.0     679.00     770.00               57.55   \n",
       "1    30073.49   31140.00   49740.0   19124.00   39540.00            11365.02   \n",
       "2        4.90       0.00      50.0       0.00       0.00               10.55   \n",
       "3        1.03       1.00       4.0       1.00       1.00                0.24   \n",
       "4       75.31      80.00     127.0      66.00      90.00               18.79   \n",
       "5       36.70      37.00      65.0      28.00      45.00               12.26   \n",
       "6   176306.49  154000.00  802000.0  104000.00  230000.00            95009.79   \n",
       "7       72.22      78.00     102.0      65.00      80.00               17.34   \n",
       "8        6.37       6.38       9.5       6.12       6.62                0.42   \n",
       "9    51341.12   48300.00   99900.0   29200.00   77400.00            28514.45   \n",
       "10     343.05     360.00     599.0     360.00     360.00               51.32   \n",
       "11       1.52       2.00       2.0       1.00       2.00                0.50   \n",
       "12        NaN        NaN       NaN        NaN        NaN                 NaN   \n",
       "13        NaN        NaN       NaN        NaN        NaN                 NaN   \n",
       "14       0.06       0.00       1.0       0.00       0.00                0.24   \n",
       "\n",
       "    Missing  \n",
       "0       561  \n",
       "1    139802  \n",
       "2         0  \n",
       "3         0  \n",
       "4        51  \n",
       "5     13208  \n",
       "6         0  \n",
       "7        46  \n",
       "8         0  \n",
       "9         0  \n",
       "10        0  \n",
       "11      387  \n",
       "12   629544  \n",
       "13   629544  \n",
       "14        0  "
      ]
     },
     "metadata": {},
     "output_type": "display_data"
    }
   ],
   "source": [
    "# Display summary statistics for numerical values\n",
    "display(\n",
    "    numeric_data_summary_stats(\n",
    "        data=df,\n",
    "        columns=df.dtypes[df.dtypes != \"object\"].index.to_list()\n",
    "    )\n",
    ")"
   ]
  },
  {
   "cell_type": "code",
   "execution_count": 9,
   "id": "28730031-4daf-4e2c-ba3d-4bdada1405c0",
   "metadata": {
    "colab": {
     "base_uri": "https://localhost:8080/"
    },
    "executionInfo": {
     "elapsed": 29,
     "status": "ok",
     "timestamp": 1681123391904,
     "user": {
      "displayName": "Adnan sevinç",
      "userId": "10606629957436102111"
     },
     "user_tz": -120
    },
    "id": "28730031-4daf-4e2c-ba3d-4bdada1405c0",
    "outputId": "5a48af88-b386-4e98-d754-d2675f6044f2"
   },
   "outputs": [
    {
     "data": {
      "text/plain": [
       "LoanSequenceNumber                                       object\n",
       "CreditScore                                             float64\n",
       "FirstPaymentDate                                         object\n",
       "FirstTimeHomebuyerFlag                                   object\n",
       "MaturityDate                                             object\n",
       "MetropolitanStatisticalAreaMSAOrMetropolitanDivision    float64\n",
       "MortgageInsurancePercentageMI                             int64\n",
       "NumberofUnits                                             int64\n",
       "OccupancyStatus                                          object\n",
       "OriginalCombinedLoantoValueCLTV                         float64\n",
       "OriginalDebttoIncomeDTIRatio                            float64\n",
       "OriginalUPB                                               int64\n",
       "OriginalLoantoValueLTV                                  float64\n",
       "OriginalInterestRate                                    float64\n",
       "Channel                                                  object\n",
       "PrepaymentPenaltyMortgagePPMFlag                         object\n",
       "AmortizationTypeFormerlyProductType                      object\n",
       "PropertyState                                            object\n",
       "PropertyType                                             object\n",
       "PostalCode                                                int64\n",
       "LoanPurpose                                              object\n",
       "OriginalLoanTerm                                          int64\n",
       "NumberofBorrowers                                       float64\n",
       "SellerName                                               object\n",
       "ServicerName                                             object\n",
       "ProgramIndicator                                        float64\n",
       "PropertyValuationMethod                                 float64\n",
       "InterestOnlyIOIndicator                                  object\n",
       "dataflag                                                 object\n",
       "default                                                   int64\n",
       "dtype: object"
      ]
     },
     "execution_count": 9,
     "metadata": {},
     "output_type": "execute_result"
    }
   ],
   "source": [
    "# Explore data types\n",
    "df.dtypes"
   ]
  },
  {
   "cell_type": "markdown",
   "id": "6c31bb35-eeaf-41e8-ae49-ef8764f4b9a0",
   "metadata": {
    "id": "6c31bb35-eeaf-41e8-ae49-ef8764f4b9a0"
   },
   "source": [
    "# Default Loans (Target Variable) Check"
   ]
  },
  {
   "cell_type": "code",
   "execution_count": 10,
   "id": "92a7ebc9-b9cf-463e-b11d-916d0ba81e8c",
   "metadata": {},
   "outputs": [
    {
     "data": {
      "text/plain": [
       "default\n",
       "0    0.940006\n",
       "1    0.059994\n",
       "Name: proportion, dtype: float64"
      ]
     },
     "execution_count": 10,
     "metadata": {},
     "output_type": "execute_result"
    }
   ],
   "source": [
    "# Explore default rate in our dataset.\n",
    "# Defaulted loans indicated by 1.\n",
    "df[\"default\"].value_counts(normalize=True)"
   ]
  },
  {
   "cell_type": "markdown",
   "id": "5b0e0707-84b6-4fe1-a1c1-48ea9f18ded8",
   "metadata": {},
   "source": [
    "As it can be seen easily we do have unbalanced dataset"
   ]
  },
  {
   "cell_type": "code",
   "execution_count": 11,
   "id": "3f4a9d24-b608-4234-ba00-9e14c3d77a4d",
   "metadata": {
    "colab": {
     "base_uri": "https://localhost:8080/",
     "height": 428
    },
    "executionInfo": {
     "elapsed": 16,
     "status": "ok",
     "timestamp": 1681123391905,
     "user": {
      "displayName": "Adnan sevinç",
      "userId": "10606629957436102111"
     },
     "user_tz": -120
    },
    "id": "3f4a9d24-b608-4234-ba00-9e14c3d77a4d",
    "outputId": "2e078d1c-32ad-4c48-b578-a1ebb62bb5ca"
   },
   "outputs": [
    {
     "data": {
      "image/png": "[encoded data removed]",
      "text/plain": [
       "<Figure size 640x480 with 1 Axes>"
      ]
     },
     "metadata": {},
     "output_type": "display_data"
    }
   ],
   "source": [
    "# Let's visualize the default rate in our dataset using a pie graph.\n",
    "df.default.value_counts().plot.pie(autopct=\"%1.1f%%\")\n",
    "plt.title(\"Default Rate (%)\")\n",
    "plt.ylabel(\"\")\n",
    "plt.show()"
   ]
  },
  {
   "cell_type": "markdown",
   "id": "2ac57990-a4ff-4b8f-a094-1d8c33e15345",
   "metadata": {
    "id": "2ac57990-a4ff-4b8f-a094-1d8c33e15345"
   },
   "source": [
    "# Data Preparation"
   ]
  },
  {
   "cell_type": "markdown",
   "id": "cd99ccbf-e3e2-406c-b11c-97135011588d",
   "metadata": {
    "id": "cd99ccbf-e3e2-406c-b11c-97135011588d",
    "tags": []
   },
   "source": [
    "## Drop Irrelevant Columns"
   ]
  },
  {
   "cell_type": "markdown",
   "id": "64ff2774-d216-459b-b9db-16b58c157bee",
   "metadata": {},
   "source": [
    "We are discarding columns that we deem irrelevant for our analytical purpose."
   ]
  },
  {
   "cell_type": "code",
   "execution_count": 12,
   "id": "NaoqSNyyYrUi",
   "metadata": {
    "colab": {
     "base_uri": "https://localhost:8080/"
    },
    "executionInfo": {
     "elapsed": 21,
     "status": "ok",
     "timestamp": 1681123411068,
     "user": {
      "displayName": "Adnan sevinç",
      "userId": "10606629957436102111"
     },
     "user_tz": -120
    },
    "id": "NaoqSNyyYrUi",
    "outputId": "16d2b0de-c118-4732-d5c0-c65fdf979d4a"
   },
   "outputs": [
    {
     "data": {
      "text/plain": [
       "(629544, 30)"
      ]
     },
     "execution_count": 12,
     "metadata": {},
     "output_type": "execute_result"
    }
   ],
   "source": [
    "# Shape of dataset before dropping columns.\n",
    "df.shape"
   ]
  },
  {
   "cell_type": "code",
   "execution_count": 13,
   "id": "db905c45-2e4e-4bb6-81f9-47fff0c57726",
   "metadata": {
    "executionInfo": {
     "elapsed": 15,
     "status": "ok",
     "timestamp": 1681123411069,
     "user": {
      "displayName": "Adnan sevinç",
      "userId": "10606629957436102111"
     },
     "user_tz": -120
    },
    "id": "db905c45-2e4e-4bb6-81f9-47fff0c57726"
   },
   "outputs": [],
   "source": [
    "# Drop dataflag column\n",
    "df.drop(columns=[\"dataflag\"], inplace=True)"
   ]
  },
  {
   "cell_type": "code",
   "execution_count": 14,
   "id": "7007e029-912b-4956-b05b-860a9db24f36",
   "metadata": {
    "executionInfo": {
     "elapsed": 9,
     "status": "ok",
     "timestamp": 1681123411071,
     "user": {
      "displayName": "Adnan sevinç",
      "userId": "10606629957436102111"
     },
     "user_tz": -120
    },
    "id": "7007e029-912b-4956-b05b-860a9db24f36"
   },
   "outputs": [],
   "source": [
    "drop_columns = [\n",
    "    'MaturityDate',         # Doesn't exist during application\n",
    "    'FirstPaymentDate',     # Doesn't exist during application normally\n",
    "    'LoanSequenceNumber',   # ID number of loan, does not important for our model\n",
    "    'SellerName',           # Doesn't exist during application time also it has been masked\n",
    "    'ServicerName',         # Doesn't exist during application time also it has been masked\n",
    "    'PostalCode'            # We will rather create dummy variables for state\n",
    "                            # Additionally, PostalCode has been masked in raw dataset that doesn't reflect the exact position\n",
    "]"
   ]
  },
  {
   "cell_type": "code",
   "execution_count": 15,
   "id": "390ec167-d7db-4c50-8ebd-70f3db3aa960",
   "metadata": {
    "executionInfo": {
     "elapsed": 273,
     "status": "ok",
     "timestamp": 1681123411336,
     "user": {
      "displayName": "Adnan sevinç",
      "userId": "10606629957436102111"
     },
     "user_tz": -120
    },
    "id": "390ec167-d7db-4c50-8ebd-70f3db3aa960"
   },
   "outputs": [],
   "source": [
    "# Drop columns from drop_columns list\n",
    "df.drop(columns=drop_columns, inplace=True)"
   ]
  },
  {
   "cell_type": "code",
   "execution_count": 16,
   "id": "2729b0e8-3657-45e3-8f28-073e99526ebf",
   "metadata": {
    "colab": {
     "base_uri": "https://localhost:8080/"
    },
    "executionInfo": {
     "elapsed": 15,
     "status": "ok",
     "timestamp": 1681123411070,
     "user": {
      "displayName": "Adnan sevinç",
      "userId": "10606629957436102111"
     },
     "user_tz": -120
    },
    "id": "2729b0e8-3657-45e3-8f28-073e99526ebf",
    "outputId": "97c6e261-eb7c-4ff4-c74d-fb413dd27a92"
   },
   "outputs": [
    {
     "data": {
      "text/plain": [
       "(629544, 23)"
      ]
     },
     "execution_count": 16,
     "metadata": {},
     "output_type": "execute_result"
    }
   ],
   "source": [
    "# Shape of dataset after dropping columns.\n",
    "df.shape"
   ]
  },
  {
   "cell_type": "markdown",
   "id": "8d68d3f0-580b-42cf-b8d8-b7e5d7a13bc9",
   "metadata": {
    "id": "8d68d3f0-580b-42cf-b8d8-b7e5d7a13bc9"
   },
   "source": [
    "## Missing Values Check"
   ]
  },
  {
   "cell_type": "code",
   "execution_count": 17,
   "id": "4553e41a-230b-4f7b-9370-0de2515b33ce",
   "metadata": {
    "executionInfo": {
     "elapsed": 3165,
     "status": "ok",
     "timestamp": 1681123395057,
     "user": {
      "displayName": "Adnan sevinç",
      "userId": "10606629957436102111"
     },
     "user_tz": -120
    },
    "id": "4553e41a-230b-4f7b-9370-0de2515b33ce"
   },
   "outputs": [],
   "source": [
    "# Number of missing values\n",
    "miss_tab = missing_values_table(df)"
   ]
  },
  {
   "cell_type": "code",
   "execution_count": 18,
   "id": "2151bce8-a963-4592-acae-f4d29d3188f0",
   "metadata": {
    "colab": {
     "base_uri": "https://localhost:8080/",
     "height": 989
    },
    "executionInfo": {
     "elapsed": 36,
     "status": "ok",
     "timestamp": 1681123395058,
     "user": {
      "displayName": "Adnan sevinç",
      "userId": "10606629957436102111"
     },
     "user_tz": -120
    },
    "id": "2151bce8-a963-4592-acae-f4d29d3188f0",
    "outputId": "63e1fe3c-aa22-47cd-b075-69f9eccc4ae4"
   },
   "outputs": [
    {
     "data": {
      "text/html": [
       "<div>\n",
       "<style scoped>\n",
       "    .dataframe tbody tr th:only-of-type {\n",
       "        vertical-align: middle;\n",
       "    }\n",
       "\n",
       "    .dataframe tbody tr th {\n",
       "        vertical-align: top;\n",
       "    }\n",
       "\n",
       "    .dataframe thead th {\n",
       "        text-align: right;\n",
       "    }\n",
       "</style>\n",
       "<table border=\"1\" class=\"dataframe\">\n",
       "  <thead>\n",
       "    <tr style=\"text-align: right;\">\n",
       "      <th></th>\n",
       "      <th>Column</th>\n",
       "      <th>DatasetRow</th>\n",
       "      <th>ColumnRow</th>\n",
       "      <th>Missing</th>\n",
       "      <th>Percent</th>\n",
       "    </tr>\n",
       "  </thead>\n",
       "  <tbody>\n",
       "    <tr>\n",
       "      <th>0</th>\n",
       "      <td>PropertyValuationMethod</td>\n",
       "      <td>629544</td>\n",
       "      <td>0</td>\n",
       "      <td>629544</td>\n",
       "      <td>100.000</td>\n",
       "    </tr>\n",
       "    <tr>\n",
       "      <th>1</th>\n",
       "      <td>ProgramIndicator</td>\n",
       "      <td>629544</td>\n",
       "      <td>0</td>\n",
       "      <td>629544</td>\n",
       "      <td>100.000</td>\n",
       "    </tr>\n",
       "    <tr>\n",
       "      <th>2</th>\n",
       "      <td>MetropolitanStatisticalAreaMSAOrMetropolitanDi...</td>\n",
       "      <td>629544</td>\n",
       "      <td>489742</td>\n",
       "      <td>139802</td>\n",
       "      <td>22.207</td>\n",
       "    </tr>\n",
       "    <tr>\n",
       "      <th>3</th>\n",
       "      <td>OriginalDebttoIncomeDTIRatio</td>\n",
       "      <td>629544</td>\n",
       "      <td>616336</td>\n",
       "      <td>13208</td>\n",
       "      <td>2.098</td>\n",
       "    </tr>\n",
       "    <tr>\n",
       "      <th>4</th>\n",
       "      <td>CreditScore</td>\n",
       "      <td>629544</td>\n",
       "      <td>628983</td>\n",
       "      <td>561</td>\n",
       "      <td>0.089</td>\n",
       "    </tr>\n",
       "    <tr>\n",
       "      <th>5</th>\n",
       "      <td>NumberofBorrowers</td>\n",
       "      <td>629544</td>\n",
       "      <td>629157</td>\n",
       "      <td>387</td>\n",
       "      <td>0.061</td>\n",
       "    </tr>\n",
       "    <tr>\n",
       "      <th>6</th>\n",
       "      <td>FirstTimeHomebuyerFlag</td>\n",
       "      <td>629544</td>\n",
       "      <td>629388</td>\n",
       "      <td>156</td>\n",
       "      <td>0.025</td>\n",
       "    </tr>\n",
       "    <tr>\n",
       "      <th>7</th>\n",
       "      <td>OriginalCombinedLoantoValueCLTV</td>\n",
       "      <td>629544</td>\n",
       "      <td>629493</td>\n",
       "      <td>51</td>\n",
       "      <td>0.008</td>\n",
       "    </tr>\n",
       "    <tr>\n",
       "      <th>8</th>\n",
       "      <td>OriginalLoantoValueLTV</td>\n",
       "      <td>629544</td>\n",
       "      <td>629498</td>\n",
       "      <td>46</td>\n",
       "      <td>0.007</td>\n",
       "    </tr>\n",
       "    <tr>\n",
       "      <th>9</th>\n",
       "      <td>Channel</td>\n",
       "      <td>629544</td>\n",
       "      <td>629542</td>\n",
       "      <td>2</td>\n",
       "      <td>0.000</td>\n",
       "    </tr>\n",
       "    <tr>\n",
       "      <th>10</th>\n",
       "      <td>OriginalInterestRate</td>\n",
       "      <td>629544</td>\n",
       "      <td>629544</td>\n",
       "      <td>0</td>\n",
       "      <td>0.000</td>\n",
       "    </tr>\n",
       "    <tr>\n",
       "      <th>11</th>\n",
       "      <td>OriginalUPB</td>\n",
       "      <td>629544</td>\n",
       "      <td>629544</td>\n",
       "      <td>0</td>\n",
       "      <td>0.000</td>\n",
       "    </tr>\n",
       "    <tr>\n",
       "      <th>12</th>\n",
       "      <td>PrepaymentPenaltyMortgagePPMFlag</td>\n",
       "      <td>629544</td>\n",
       "      <td>629544</td>\n",
       "      <td>0</td>\n",
       "      <td>0.000</td>\n",
       "    </tr>\n",
       "    <tr>\n",
       "      <th>13</th>\n",
       "      <td>AmortizationTypeFormerlyProductType</td>\n",
       "      <td>629544</td>\n",
       "      <td>629544</td>\n",
       "      <td>0</td>\n",
       "      <td>0.000</td>\n",
       "    </tr>\n",
       "    <tr>\n",
       "      <th>14</th>\n",
       "      <td>PropertyState</td>\n",
       "      <td>629544</td>\n",
       "      <td>629544</td>\n",
       "      <td>0</td>\n",
       "      <td>0.000</td>\n",
       "    </tr>\n",
       "    <tr>\n",
       "      <th>15</th>\n",
       "      <td>PropertyType</td>\n",
       "      <td>629544</td>\n",
       "      <td>629544</td>\n",
       "      <td>0</td>\n",
       "      <td>0.000</td>\n",
       "    </tr>\n",
       "    <tr>\n",
       "      <th>16</th>\n",
       "      <td>LoanPurpose</td>\n",
       "      <td>629544</td>\n",
       "      <td>629544</td>\n",
       "      <td>0</td>\n",
       "      <td>0.000</td>\n",
       "    </tr>\n",
       "    <tr>\n",
       "      <th>17</th>\n",
       "      <td>OriginalLoanTerm</td>\n",
       "      <td>629544</td>\n",
       "      <td>629544</td>\n",
       "      <td>0</td>\n",
       "      <td>0.000</td>\n",
       "    </tr>\n",
       "    <tr>\n",
       "      <th>18</th>\n",
       "      <td>OccupancyStatus</td>\n",
       "      <td>629544</td>\n",
       "      <td>629544</td>\n",
       "      <td>0</td>\n",
       "      <td>0.000</td>\n",
       "    </tr>\n",
       "    <tr>\n",
       "      <th>19</th>\n",
       "      <td>NumberofUnits</td>\n",
       "      <td>629544</td>\n",
       "      <td>629544</td>\n",
       "      <td>0</td>\n",
       "      <td>0.000</td>\n",
       "    </tr>\n",
       "    <tr>\n",
       "      <th>20</th>\n",
       "      <td>MortgageInsurancePercentageMI</td>\n",
       "      <td>629544</td>\n",
       "      <td>629544</td>\n",
       "      <td>0</td>\n",
       "      <td>0.000</td>\n",
       "    </tr>\n",
       "    <tr>\n",
       "      <th>21</th>\n",
       "      <td>InterestOnlyIOIndicator</td>\n",
       "      <td>629544</td>\n",
       "      <td>629544</td>\n",
       "      <td>0</td>\n",
       "      <td>0.000</td>\n",
       "    </tr>\n",
       "    <tr>\n",
       "      <th>22</th>\n",
       "      <td>default</td>\n",
       "      <td>629544</td>\n",
       "      <td>629544</td>\n",
       "      <td>0</td>\n",
       "      <td>0.000</td>\n",
       "    </tr>\n",
       "  </tbody>\n",
       "</table>\n",
       "</div>"
      ],
      "text/plain": [
       "                                               Column  DatasetRow  ColumnRow  \\\n",
       "0                             PropertyValuationMethod      629544          0   \n",
       "1                                    ProgramIndicator      629544          0   \n",
       "2   MetropolitanStatisticalAreaMSAOrMetropolitanDi...      629544     489742   \n",
       "3                        OriginalDebttoIncomeDTIRatio      629544     616336   \n",
       "4                                         CreditScore      629544     628983   \n",
       "5                                   NumberofBorrowers      629544     629157   \n",
       "6                              FirstTimeHomebuyerFlag      629544     629388   \n",
       "7                     OriginalCombinedLoantoValueCLTV      629544     629493   \n",
       "8                              OriginalLoantoValueLTV      629544     629498   \n",
       "9                                             Channel      629544     629542   \n",
       "10                               OriginalInterestRate      629544     629544   \n",
       "11                                        OriginalUPB      629544     629544   \n",
       "12                   PrepaymentPenaltyMortgagePPMFlag      629544     629544   \n",
       "13                AmortizationTypeFormerlyProductType      629544     629544   \n",
       "14                                      PropertyState      629544     629544   \n",
       "15                                       PropertyType      629544     629544   \n",
       "16                                        LoanPurpose      629544     629544   \n",
       "17                                   OriginalLoanTerm      629544     629544   \n",
       "18                                    OccupancyStatus      629544     629544   \n",
       "19                                      NumberofUnits      629544     629544   \n",
       "20                      MortgageInsurancePercentageMI      629544     629544   \n",
       "21                            InterestOnlyIOIndicator      629544     629544   \n",
       "22                                            default      629544     629544   \n",
       "\n",
       "    Missing  Percent  \n",
       "0    629544  100.000  \n",
       "1    629544  100.000  \n",
       "2    139802   22.207  \n",
       "3     13208    2.098  \n",
       "4       561    0.089  \n",
       "5       387    0.061  \n",
       "6       156    0.025  \n",
       "7        51    0.008  \n",
       "8        46    0.007  \n",
       "9         2    0.000  \n",
       "10        0    0.000  \n",
       "11        0    0.000  \n",
       "12        0    0.000  \n",
       "13        0    0.000  \n",
       "14        0    0.000  \n",
       "15        0    0.000  \n",
       "16        0    0.000  \n",
       "17        0    0.000  \n",
       "18        0    0.000  \n",
       "19        0    0.000  \n",
       "20        0    0.000  \n",
       "21        0    0.000  \n",
       "22        0    0.000  "
      ]
     },
     "execution_count": 18,
     "metadata": {},
     "output_type": "execute_result"
    }
   ],
   "source": [
    "miss_tab"
   ]
  },
  {
   "cell_type": "markdown",
   "id": "c0123ec4-4f37-4a22-a7f2-c779521b7be0",
   "metadata": {
    "id": "c0123ec4-4f37-4a22-a7f2-c779521b7be0"
   },
   "source": [
    "### Drop Columns"
   ]
  },
  {
   "cell_type": "markdown",
   "id": "24f7d845-87af-4ab0-97e4-55b174715741",
   "metadata": {},
   "source": [
    "In this section, we drop the columns due to huge number of missing values"
   ]
  },
  {
   "cell_type": "markdown",
   "id": "be365986-96c6-4f9c-8c57-877ad9334a9a",
   "metadata": {},
   "source": [
    "We can see that some variables are 100% missing in the model and we plan to remove them."
   ]
  },
  {
   "cell_type": "code",
   "execution_count": 19,
   "id": "b8030b70-aef6-476d-bc8e-4a6d04d01773",
   "metadata": {
    "colab": {
     "base_uri": "https://localhost:8080/"
    },
    "executionInfo": {
     "elapsed": 32,
     "status": "ok",
     "timestamp": 1681123395059,
     "user": {
      "displayName": "Adnan sevinç",
      "userId": "10606629957436102111"
     },
     "user_tz": -120
    },
    "id": "b8030b70-aef6-476d-bc8e-4a6d04d01773",
    "outputId": "13626d09-6d09-4b93-bff9-a452e1fa6883"
   },
   "outputs": [
    {
     "data": {
      "text/plain": [
       "(629544, 23)"
      ]
     },
     "execution_count": 19,
     "metadata": {},
     "output_type": "execute_result"
    }
   ],
   "source": [
    "# Shape of dataset before dropping columns.\n",
    "df.shape"
   ]
  },
  {
   "cell_type": "code",
   "execution_count": 20,
   "id": "d610087e-a095-4198-b4e2-5b2172b40716",
   "metadata": {
    "executionInfo": {
     "elapsed": 17,
     "status": "ok",
     "timestamp": 1681123395059,
     "user": {
      "displayName": "Adnan sevinç",
      "userId": "10606629957436102111"
     },
     "user_tz": -120
    },
    "id": "d610087e-a095-4198-b4e2-5b2172b40716"
   },
   "outputs": [],
   "source": [
    "# Entirely (%100) missed columns.\n",
    "entirely_missing =[\n",
    "    \"PropertyValuationMethod\",\n",
    "    \"ProgramIndicator\"\n",
    "    ]\n",
    "\n",
    "# Drop columns from \n",
    "df = df.drop(entirely_missing, axis=1)"
   ]
  },
  {
   "cell_type": "code",
   "execution_count": 21,
   "id": "2ccbb48d-1606-449d-b1e7-b51b29ae37a5",
   "metadata": {
    "colab": {
     "base_uri": "https://localhost:8080/"
    },
    "executionInfo": {
     "elapsed": 16,
     "status": "ok",
     "timestamp": 1681123395059,
     "user": {
      "displayName": "Adnan sevinç",
      "userId": "10606629957436102111"
     },
     "user_tz": -120
    },
    "id": "2ccbb48d-1606-449d-b1e7-b51b29ae37a5",
    "outputId": "9703589b-8333-4957-e131-b47cd6f74c8f"
   },
   "outputs": [
    {
     "data": {
      "text/plain": [
       "(629544, 21)"
      ]
     },
     "execution_count": 21,
     "metadata": {},
     "output_type": "execute_result"
    }
   ],
   "source": [
    "# Shape of dataset after dropping columns.\n",
    "df.shape"
   ]
  },
  {
   "cell_type": "code",
   "execution_count": 22,
   "id": "e22f3fe5-aadf-4d54-b0ec-859d0c0e696e",
   "metadata": {},
   "outputs": [],
   "source": [
    "# Drop Entirely (%100) missed columns from miss_tab\n",
    "miss_tab = miss_tab[\n",
    "    ~miss_tab['Column'].str.contains('|'.join(entirely_missing))\n",
    "].reset_index(drop=True)"
   ]
  },
  {
   "cell_type": "markdown",
   "id": "33dc352d-6db0-4102-9555-e2eca3884bdd",
   "metadata": {
    "id": "33dc352d-6db0-4102-9555-e2eca3884bdd"
   },
   "source": [
    "### Populate Missing Values"
   ]
  },
  {
   "cell_type": "markdown",
   "id": "5c4c5ad3-d928-40b5-8f86-9db8b708a491",
   "metadata": {},
   "source": [
    "We impute values for variables that have less than 50% missing data.\n",
    "\n",
    "We impute the missing values in numerical variables with their 'mean', and for categorical variables, we use the most frequently occuring category 'mode'."
   ]
  },
  {
   "cell_type": "code",
   "execution_count": 23,
   "id": "019cffb8-3b4b-4e97-ada2-aef12bfe797e",
   "metadata": {},
   "outputs": [
    {
     "data": {
      "text/html": [
       "<div>\n",
       "<style scoped>\n",
       "    .dataframe tbody tr th:only-of-type {\n",
       "        vertical-align: middle;\n",
       "    }\n",
       "\n",
       "    .dataframe tbody tr th {\n",
       "        vertical-align: top;\n",
       "    }\n",
       "\n",
       "    .dataframe thead th {\n",
       "        text-align: right;\n",
       "    }\n",
       "</style>\n",
       "<table border=\"1\" class=\"dataframe\">\n",
       "  <thead>\n",
       "    <tr style=\"text-align: right;\">\n",
       "      <th></th>\n",
       "      <th>Column</th>\n",
       "      <th>DatasetRow</th>\n",
       "      <th>ColumnRow</th>\n",
       "      <th>Missing</th>\n",
       "      <th>Percent</th>\n",
       "    </tr>\n",
       "  </thead>\n",
       "  <tbody>\n",
       "    <tr>\n",
       "      <th>0</th>\n",
       "      <td>MetropolitanStatisticalAreaMSAOrMetropolitanDi...</td>\n",
       "      <td>629544</td>\n",
       "      <td>489742</td>\n",
       "      <td>139802</td>\n",
       "      <td>22.207</td>\n",
       "    </tr>\n",
       "    <tr>\n",
       "      <th>1</th>\n",
       "      <td>OriginalDebttoIncomeDTIRatio</td>\n",
       "      <td>629544</td>\n",
       "      <td>616336</td>\n",
       "      <td>13208</td>\n",
       "      <td>2.098</td>\n",
       "    </tr>\n",
       "    <tr>\n",
       "      <th>2</th>\n",
       "      <td>CreditScore</td>\n",
       "      <td>629544</td>\n",
       "      <td>628983</td>\n",
       "      <td>561</td>\n",
       "      <td>0.089</td>\n",
       "    </tr>\n",
       "    <tr>\n",
       "      <th>3</th>\n",
       "      <td>NumberofBorrowers</td>\n",
       "      <td>629544</td>\n",
       "      <td>629157</td>\n",
       "      <td>387</td>\n",
       "      <td>0.061</td>\n",
       "    </tr>\n",
       "    <tr>\n",
       "      <th>4</th>\n",
       "      <td>FirstTimeHomebuyerFlag</td>\n",
       "      <td>629544</td>\n",
       "      <td>629388</td>\n",
       "      <td>156</td>\n",
       "      <td>0.025</td>\n",
       "    </tr>\n",
       "    <tr>\n",
       "      <th>5</th>\n",
       "      <td>OriginalCombinedLoantoValueCLTV</td>\n",
       "      <td>629544</td>\n",
       "      <td>629493</td>\n",
       "      <td>51</td>\n",
       "      <td>0.008</td>\n",
       "    </tr>\n",
       "    <tr>\n",
       "      <th>6</th>\n",
       "      <td>OriginalLoantoValueLTV</td>\n",
       "      <td>629544</td>\n",
       "      <td>629498</td>\n",
       "      <td>46</td>\n",
       "      <td>0.007</td>\n",
       "    </tr>\n",
       "    <tr>\n",
       "      <th>7</th>\n",
       "      <td>Channel</td>\n",
       "      <td>629544</td>\n",
       "      <td>629542</td>\n",
       "      <td>2</td>\n",
       "      <td>0.000</td>\n",
       "    </tr>\n",
       "    <tr>\n",
       "      <th>8</th>\n",
       "      <td>OriginalInterestRate</td>\n",
       "      <td>629544</td>\n",
       "      <td>629544</td>\n",
       "      <td>0</td>\n",
       "      <td>0.000</td>\n",
       "    </tr>\n",
       "    <tr>\n",
       "      <th>9</th>\n",
       "      <td>OriginalUPB</td>\n",
       "      <td>629544</td>\n",
       "      <td>629544</td>\n",
       "      <td>0</td>\n",
       "      <td>0.000</td>\n",
       "    </tr>\n",
       "    <tr>\n",
       "      <th>10</th>\n",
       "      <td>PrepaymentPenaltyMortgagePPMFlag</td>\n",
       "      <td>629544</td>\n",
       "      <td>629544</td>\n",
       "      <td>0</td>\n",
       "      <td>0.000</td>\n",
       "    </tr>\n",
       "    <tr>\n",
       "      <th>11</th>\n",
       "      <td>AmortizationTypeFormerlyProductType</td>\n",
       "      <td>629544</td>\n",
       "      <td>629544</td>\n",
       "      <td>0</td>\n",
       "      <td>0.000</td>\n",
       "    </tr>\n",
       "    <tr>\n",
       "      <th>12</th>\n",
       "      <td>PropertyState</td>\n",
       "      <td>629544</td>\n",
       "      <td>629544</td>\n",
       "      <td>0</td>\n",
       "      <td>0.000</td>\n",
       "    </tr>\n",
       "    <tr>\n",
       "      <th>13</th>\n",
       "      <td>PropertyType</td>\n",
       "      <td>629544</td>\n",
       "      <td>629544</td>\n",
       "      <td>0</td>\n",
       "      <td>0.000</td>\n",
       "    </tr>\n",
       "    <tr>\n",
       "      <th>14</th>\n",
       "      <td>LoanPurpose</td>\n",
       "      <td>629544</td>\n",
       "      <td>629544</td>\n",
       "      <td>0</td>\n",
       "      <td>0.000</td>\n",
       "    </tr>\n",
       "    <tr>\n",
       "      <th>15</th>\n",
       "      <td>OriginalLoanTerm</td>\n",
       "      <td>629544</td>\n",
       "      <td>629544</td>\n",
       "      <td>0</td>\n",
       "      <td>0.000</td>\n",
       "    </tr>\n",
       "    <tr>\n",
       "      <th>16</th>\n",
       "      <td>OccupancyStatus</td>\n",
       "      <td>629544</td>\n",
       "      <td>629544</td>\n",
       "      <td>0</td>\n",
       "      <td>0.000</td>\n",
       "    </tr>\n",
       "    <tr>\n",
       "      <th>17</th>\n",
       "      <td>NumberofUnits</td>\n",
       "      <td>629544</td>\n",
       "      <td>629544</td>\n",
       "      <td>0</td>\n",
       "      <td>0.000</td>\n",
       "    </tr>\n",
       "    <tr>\n",
       "      <th>18</th>\n",
       "      <td>MortgageInsurancePercentageMI</td>\n",
       "      <td>629544</td>\n",
       "      <td>629544</td>\n",
       "      <td>0</td>\n",
       "      <td>0.000</td>\n",
       "    </tr>\n",
       "    <tr>\n",
       "      <th>19</th>\n",
       "      <td>InterestOnlyIOIndicator</td>\n",
       "      <td>629544</td>\n",
       "      <td>629544</td>\n",
       "      <td>0</td>\n",
       "      <td>0.000</td>\n",
       "    </tr>\n",
       "    <tr>\n",
       "      <th>20</th>\n",
       "      <td>default</td>\n",
       "      <td>629544</td>\n",
       "      <td>629544</td>\n",
       "      <td>0</td>\n",
       "      <td>0.000</td>\n",
       "    </tr>\n",
       "  </tbody>\n",
       "</table>\n",
       "</div>"
      ],
      "text/plain": [
       "                                               Column  DatasetRow  ColumnRow  \\\n",
       "0   MetropolitanStatisticalAreaMSAOrMetropolitanDi...      629544     489742   \n",
       "1                        OriginalDebttoIncomeDTIRatio      629544     616336   \n",
       "2                                         CreditScore      629544     628983   \n",
       "3                                   NumberofBorrowers      629544     629157   \n",
       "4                              FirstTimeHomebuyerFlag      629544     629388   \n",
       "5                     OriginalCombinedLoantoValueCLTV      629544     629493   \n",
       "6                              OriginalLoantoValueLTV      629544     629498   \n",
       "7                                             Channel      629544     629542   \n",
       "8                                OriginalInterestRate      629544     629544   \n",
       "9                                         OriginalUPB      629544     629544   \n",
       "10                   PrepaymentPenaltyMortgagePPMFlag      629544     629544   \n",
       "11                AmortizationTypeFormerlyProductType      629544     629544   \n",
       "12                                      PropertyState      629544     629544   \n",
       "13                                       PropertyType      629544     629544   \n",
       "14                                        LoanPurpose      629544     629544   \n",
       "15                                   OriginalLoanTerm      629544     629544   \n",
       "16                                    OccupancyStatus      629544     629544   \n",
       "17                                      NumberofUnits      629544     629544   \n",
       "18                      MortgageInsurancePercentageMI      629544     629544   \n",
       "19                            InterestOnlyIOIndicator      629544     629544   \n",
       "20                                            default      629544     629544   \n",
       "\n",
       "    Missing  Percent  \n",
       "0    139802   22.207  \n",
       "1     13208    2.098  \n",
       "2       561    0.089  \n",
       "3       387    0.061  \n",
       "4       156    0.025  \n",
       "5        51    0.008  \n",
       "6        46    0.007  \n",
       "7         2    0.000  \n",
       "8         0    0.000  \n",
       "9         0    0.000  \n",
       "10        0    0.000  \n",
       "11        0    0.000  \n",
       "12        0    0.000  \n",
       "13        0    0.000  \n",
       "14        0    0.000  \n",
       "15        0    0.000  \n",
       "16        0    0.000  \n",
       "17        0    0.000  \n",
       "18        0    0.000  \n",
       "19        0    0.000  \n",
       "20        0    0.000  "
      ]
     },
     "execution_count": 23,
     "metadata": {},
     "output_type": "execute_result"
    }
   ],
   "source": [
    "miss_tab"
   ]
  },
  {
   "cell_type": "code",
   "execution_count": 24,
   "id": "a0c2c9fc-9b47-4da7-b331-6b12ee0841ec",
   "metadata": {
    "colab": {
     "base_uri": "https://localhost:8080/",
     "height": 300
    },
    "executionInfo": {
     "elapsed": 17,
     "status": "ok",
     "timestamp": 1681123399719,
     "user": {
      "displayName": "Adnan sevinç",
      "userId": "10606629957436102111"
     },
     "user_tz": -120
    },
    "id": "a0c2c9fc-9b47-4da7-b331-6b12ee0841ec",
    "outputId": "c1798d20-00ee-4bdb-b52e-bd13ec47b654"
   },
   "outputs": [
    {
     "data": {
      "text/html": [
       "<div>\n",
       "<style scoped>\n",
       "    .dataframe tbody tr th:only-of-type {\n",
       "        vertical-align: middle;\n",
       "    }\n",
       "\n",
       "    .dataframe tbody tr th {\n",
       "        vertical-align: top;\n",
       "    }\n",
       "\n",
       "    .dataframe thead th {\n",
       "        text-align: right;\n",
       "    }\n",
       "</style>\n",
       "<table border=\"1\" class=\"dataframe\">\n",
       "  <thead>\n",
       "    <tr style=\"text-align: right;\">\n",
       "      <th></th>\n",
       "      <th>Column</th>\n",
       "      <th>DatasetRow</th>\n",
       "      <th>ColumnRow</th>\n",
       "      <th>Missing</th>\n",
       "      <th>Percent</th>\n",
       "    </tr>\n",
       "  </thead>\n",
       "  <tbody>\n",
       "    <tr>\n",
       "      <th>0</th>\n",
       "      <td>MetropolitanStatisticalAreaMSAOrMetropolitanDi...</td>\n",
       "      <td>629544</td>\n",
       "      <td>489742</td>\n",
       "      <td>139802</td>\n",
       "      <td>22.207</td>\n",
       "    </tr>\n",
       "    <tr>\n",
       "      <th>1</th>\n",
       "      <td>OriginalDebttoIncomeDTIRatio</td>\n",
       "      <td>629544</td>\n",
       "      <td>616336</td>\n",
       "      <td>13208</td>\n",
       "      <td>2.098</td>\n",
       "    </tr>\n",
       "    <tr>\n",
       "      <th>2</th>\n",
       "      <td>CreditScore</td>\n",
       "      <td>629544</td>\n",
       "      <td>628983</td>\n",
       "      <td>561</td>\n",
       "      <td>0.089</td>\n",
       "    </tr>\n",
       "    <tr>\n",
       "      <th>3</th>\n",
       "      <td>NumberofBorrowers</td>\n",
       "      <td>629544</td>\n",
       "      <td>629157</td>\n",
       "      <td>387</td>\n",
       "      <td>0.061</td>\n",
       "    </tr>\n",
       "    <tr>\n",
       "      <th>4</th>\n",
       "      <td>FirstTimeHomebuyerFlag</td>\n",
       "      <td>629544</td>\n",
       "      <td>629388</td>\n",
       "      <td>156</td>\n",
       "      <td>0.025</td>\n",
       "    </tr>\n",
       "    <tr>\n",
       "      <th>5</th>\n",
       "      <td>OriginalCombinedLoantoValueCLTV</td>\n",
       "      <td>629544</td>\n",
       "      <td>629493</td>\n",
       "      <td>51</td>\n",
       "      <td>0.008</td>\n",
       "    </tr>\n",
       "    <tr>\n",
       "      <th>6</th>\n",
       "      <td>OriginalLoantoValueLTV</td>\n",
       "      <td>629544</td>\n",
       "      <td>629498</td>\n",
       "      <td>46</td>\n",
       "      <td>0.007</td>\n",
       "    </tr>\n",
       "    <tr>\n",
       "      <th>7</th>\n",
       "      <td>Channel</td>\n",
       "      <td>629544</td>\n",
       "      <td>629542</td>\n",
       "      <td>2</td>\n",
       "      <td>0.000</td>\n",
       "    </tr>\n",
       "  </tbody>\n",
       "</table>\n",
       "</div>"
      ],
      "text/plain": [
       "                                              Column  DatasetRow  ColumnRow  \\\n",
       "0  MetropolitanStatisticalAreaMSAOrMetropolitanDi...      629544     489742   \n",
       "1                       OriginalDebttoIncomeDTIRatio      629544     616336   \n",
       "2                                        CreditScore      629544     628983   \n",
       "3                                  NumberofBorrowers      629544     629157   \n",
       "4                             FirstTimeHomebuyerFlag      629544     629388   \n",
       "5                    OriginalCombinedLoantoValueCLTV      629544     629493   \n",
       "6                             OriginalLoantoValueLTV      629544     629498   \n",
       "7                                            Channel      629544     629542   \n",
       "\n",
       "   Missing  Percent  \n",
       "0   139802   22.207  \n",
       "1    13208    2.098  \n",
       "2      561    0.089  \n",
       "3      387    0.061  \n",
       "4      156    0.025  \n",
       "5       51    0.008  \n",
       "6       46    0.007  \n",
       "7        2    0.000  "
      ]
     },
     "execution_count": 24,
     "metadata": {},
     "output_type": "execute_result"
    }
   ],
   "source": [
    "# Variables have less than 50% missing values.\n",
    "miss_tab.loc[\n",
    "    (miss_tab[\"Percent\"] < 50) &\n",
    "    (miss_tab[\"Missing\"] > 0)\n",
    "].reset_index(drop=True)"
   ]
  },
  {
   "cell_type": "code",
   "execution_count": 25,
   "id": "641f15b4-a855-4caf-84d2-85ea980ad783",
   "metadata": {
    "executionInfo": {
     "elapsed": 12,
     "status": "ok",
     "timestamp": 1681123399719,
     "user": {
      "displayName": "Adnan sevinç",
      "userId": "10606629957436102111"
     },
     "user_tz": -120
    },
    "id": "641f15b4-a855-4caf-84d2-85ea980ad783"
   },
   "outputs": [],
   "source": [
    "fill_missing_values(\n",
    "    df,\n",
    "    [\"MetropolitanStatisticalAreaMSAOrMetropolitanDivision\"],\n",
    "    imputation_strategy=\"mean\", \n",
    "    rounding=True\n",
    ")"
   ]
  },
  {
   "cell_type": "code",
   "execution_count": 26,
   "id": "008a07e4-c217-4115-b51c-34cb0b6443d6",
   "metadata": {
    "executionInfo": {
     "elapsed": 12,
     "status": "ok",
     "timestamp": 1681123399720,
     "user": {
      "displayName": "Adnan sevinç",
      "userId": "10606629957436102111"
     },
     "user_tz": -120
    },
    "id": "008a07e4-c217-4115-b51c-34cb0b6443d6"
   },
   "outputs": [],
   "source": [
    "fill_missing_values(\n",
    "    df,\n",
    "    [\"OriginalDebttoIncomeDTIRatio\"],\n",
    "    imputation_strategy=\"mean\", \n",
    "    rounding=True\n",
    ")"
   ]
  },
  {
   "cell_type": "code",
   "execution_count": 27,
   "id": "f781e7b4-7d6f-4d9a-bccb-3bb08657fff7",
   "metadata": {
    "executionInfo": {
     "elapsed": 11,
     "status": "ok",
     "timestamp": 1681123399720,
     "user": {
      "displayName": "Adnan sevinç",
      "userId": "10606629957436102111"
     },
     "user_tz": -120
    },
    "id": "f781e7b4-7d6f-4d9a-bccb-3bb08657fff7"
   },
   "outputs": [],
   "source": [
    "fill_missing_values(\n",
    "    df,\n",
    "    [\"CreditScore\"],\n",
    "    imputation_strategy=\"mean\", \n",
    "    rounding=True\n",
    ")"
   ]
  },
  {
   "cell_type": "code",
   "execution_count": 28,
   "id": "48f70782-ec7a-4edf-9464-5af58090b254",
   "metadata": {
    "executionInfo": {
     "elapsed": 6,
     "status": "ok",
     "timestamp": 1681123400050,
     "user": {
      "displayName": "Adnan sevinç",
      "userId": "10606629957436102111"
     },
     "user_tz": -120
    },
    "id": "48f70782-ec7a-4edf-9464-5af58090b254"
   },
   "outputs": [],
   "source": [
    "fill_missing_values(\n",
    "    df,\n",
    "    [\"NumberofBorrowers\"],\n",
    "    imputation_strategy=\"mode\"\n",
    ")"
   ]
  },
  {
   "cell_type": "code",
   "execution_count": 29,
   "id": "5c7735e4-72e8-419f-a526-1611694d391d",
   "metadata": {
    "executionInfo": {
     "elapsed": 6,
     "status": "ok",
     "timestamp": 1681123400051,
     "user": {
      "displayName": "Adnan sevinç",
      "userId": "10606629957436102111"
     },
     "user_tz": -120
    },
    "id": "5c7735e4-72e8-419f-a526-1611694d391d"
   },
   "outputs": [],
   "source": [
    "fill_missing_values(\n",
    "    df,\n",
    "    [\"FirstTimeHomebuyerFlag\"],\n",
    "    imputation_strategy=\"mode\"\n",
    ")"
   ]
  },
  {
   "cell_type": "code",
   "execution_count": 30,
   "id": "687d6660-a2e8-488f-ba9a-9429bd4fb813",
   "metadata": {
    "executionInfo": {
     "elapsed": 6,
     "status": "ok",
     "timestamp": 1681123400051,
     "user": {
      "displayName": "Adnan sevinç",
      "userId": "10606629957436102111"
     },
     "user_tz": -120
    },
    "id": "687d6660-a2e8-488f-ba9a-9429bd4fb813"
   },
   "outputs": [],
   "source": [
    "fill_missing_values(\n",
    "    df,\n",
    "    [\"OriginalCombinedLoantoValueCLTV\"],\n",
    "    imputation_strategy=\"mean\", \n",
    "    rounding=True\n",
    ")"
   ]
  },
  {
   "cell_type": "code",
   "execution_count": 31,
   "id": "b6e75445-743e-4c8e-88c8-b939abb71187",
   "metadata": {
    "executionInfo": {
     "elapsed": 5,
     "status": "ok",
     "timestamp": 1681123400051,
     "user": {
      "displayName": "Adnan sevinç",
      "userId": "10606629957436102111"
     },
     "user_tz": -120
    },
    "id": "b6e75445-743e-4c8e-88c8-b939abb71187"
   },
   "outputs": [],
   "source": [
    "fill_missing_values(\n",
    "    df,\n",
    "    [\"OriginalLoantoValueLTV\"],\n",
    "    imputation_strategy=\"mean\",\n",
    "    rounding=True\n",
    ")"
   ]
  },
  {
   "cell_type": "code",
   "execution_count": 32,
   "id": "qZjcX3JiYG2J",
   "metadata": {
    "executionInfo": {
     "elapsed": 6,
     "status": "ok",
     "timestamp": 1681123400052,
     "user": {
      "displayName": "Adnan sevinç",
      "userId": "10606629957436102111"
     },
     "user_tz": -120
    },
    "id": "qZjcX3JiYG2J"
   },
   "outputs": [],
   "source": [
    "fill_missing_values(\n",
    "    df,\n",
    "    [\"MortgageInsurancePercentageMI\"],\n",
    "    imputation_strategy=\"mean\",\n",
    "    rounding=True\n",
    ")"
   ]
  },
  {
   "cell_type": "code",
   "execution_count": 33,
   "id": "Z55YVJ5PYGs5",
   "metadata": {
    "executionInfo": {
     "elapsed": 5,
     "status": "ok",
     "timestamp": 1681123400052,
     "user": {
      "displayName": "Adnan sevinç",
      "userId": "10606629957436102111"
     },
     "user_tz": -120
    },
    "id": "Z55YVJ5PYGs5"
   },
   "outputs": [],
   "source": [
    "fill_missing_values(\n",
    "    df,\n",
    "    [\"NumberofUnits\"],\n",
    "    imputation_strategy=\"mode\"\n",
    ")"
   ]
  },
  {
   "cell_type": "code",
   "execution_count": 34,
   "id": "xNyTYwNIucLd",
   "metadata": {
    "executionInfo": {
     "elapsed": 221,
     "status": "ok",
     "timestamp": 1681123400268,
     "user": {
      "displayName": "Adnan sevinç",
      "userId": "10606629957436102111"
     },
     "user_tz": -120
    },
    "id": "xNyTYwNIucLd"
   },
   "outputs": [],
   "source": [
    "fill_missing_values(\n",
    "    df,\n",
    "    [\"Channel\"],\n",
    "    imputation_strategy=\"mode\"\n",
    ")"
   ]
  },
  {
   "cell_type": "code",
   "execution_count": 35,
   "id": "965cc443-9d57-405e-b731-84286c63d5c8",
   "metadata": {
    "colab": {
     "base_uri": "https://localhost:8080/",
     "height": 927
    },
    "executionInfo": {
     "elapsed": 7037,
     "status": "ok",
     "timestamp": 1681123407303,
     "user": {
      "displayName": "Adnan sevinç",
      "userId": "10606629957436102111"
     },
     "user_tz": -120
    },
    "id": "965cc443-9d57-405e-b731-84286c63d5c8",
    "outputId": "c07b6404-9c7c-45b5-95e7-3f3485e3b0c7"
   },
   "outputs": [
    {
     "data": {
      "text/html": [
       "<div>\n",
       "<style scoped>\n",
       "    .dataframe tbody tr th:only-of-type {\n",
       "        vertical-align: middle;\n",
       "    }\n",
       "\n",
       "    .dataframe tbody tr th {\n",
       "        vertical-align: top;\n",
       "    }\n",
       "\n",
       "    .dataframe thead th {\n",
       "        text-align: right;\n",
       "    }\n",
       "</style>\n",
       "<table border=\"1\" class=\"dataframe\">\n",
       "  <thead>\n",
       "    <tr style=\"text-align: right;\">\n",
       "      <th></th>\n",
       "      <th>Column</th>\n",
       "      <th>DatasetRow</th>\n",
       "      <th>ColumnRow</th>\n",
       "      <th>Missing</th>\n",
       "      <th>Percent</th>\n",
       "    </tr>\n",
       "  </thead>\n",
       "  <tbody>\n",
       "    <tr>\n",
       "      <th>0</th>\n",
       "      <td>CreditScore</td>\n",
       "      <td>629544</td>\n",
       "      <td>629544</td>\n",
       "      <td>0</td>\n",
       "      <td>0.0</td>\n",
       "    </tr>\n",
       "    <tr>\n",
       "      <th>1</th>\n",
       "      <td>Channel</td>\n",
       "      <td>629544</td>\n",
       "      <td>629544</td>\n",
       "      <td>0</td>\n",
       "      <td>0.0</td>\n",
       "    </tr>\n",
       "    <tr>\n",
       "      <th>2</th>\n",
       "      <td>InterestOnlyIOIndicator</td>\n",
       "      <td>629544</td>\n",
       "      <td>629544</td>\n",
       "      <td>0</td>\n",
       "      <td>0.0</td>\n",
       "    </tr>\n",
       "    <tr>\n",
       "      <th>3</th>\n",
       "      <td>NumberofBorrowers</td>\n",
       "      <td>629544</td>\n",
       "      <td>629544</td>\n",
       "      <td>0</td>\n",
       "      <td>0.0</td>\n",
       "    </tr>\n",
       "    <tr>\n",
       "      <th>4</th>\n",
       "      <td>OriginalLoanTerm</td>\n",
       "      <td>629544</td>\n",
       "      <td>629544</td>\n",
       "      <td>0</td>\n",
       "      <td>0.0</td>\n",
       "    </tr>\n",
       "    <tr>\n",
       "      <th>5</th>\n",
       "      <td>LoanPurpose</td>\n",
       "      <td>629544</td>\n",
       "      <td>629544</td>\n",
       "      <td>0</td>\n",
       "      <td>0.0</td>\n",
       "    </tr>\n",
       "    <tr>\n",
       "      <th>6</th>\n",
       "      <td>PropertyType</td>\n",
       "      <td>629544</td>\n",
       "      <td>629544</td>\n",
       "      <td>0</td>\n",
       "      <td>0.0</td>\n",
       "    </tr>\n",
       "    <tr>\n",
       "      <th>7</th>\n",
       "      <td>PropertyState</td>\n",
       "      <td>629544</td>\n",
       "      <td>629544</td>\n",
       "      <td>0</td>\n",
       "      <td>0.0</td>\n",
       "    </tr>\n",
       "    <tr>\n",
       "      <th>8</th>\n",
       "      <td>AmortizationTypeFormerlyProductType</td>\n",
       "      <td>629544</td>\n",
       "      <td>629544</td>\n",
       "      <td>0</td>\n",
       "      <td>0.0</td>\n",
       "    </tr>\n",
       "    <tr>\n",
       "      <th>9</th>\n",
       "      <td>PrepaymentPenaltyMortgagePPMFlag</td>\n",
       "      <td>629544</td>\n",
       "      <td>629544</td>\n",
       "      <td>0</td>\n",
       "      <td>0.0</td>\n",
       "    </tr>\n",
       "    <tr>\n",
       "      <th>10</th>\n",
       "      <td>OriginalInterestRate</td>\n",
       "      <td>629544</td>\n",
       "      <td>629544</td>\n",
       "      <td>0</td>\n",
       "      <td>0.0</td>\n",
       "    </tr>\n",
       "    <tr>\n",
       "      <th>11</th>\n",
       "      <td>FirstTimeHomebuyerFlag</td>\n",
       "      <td>629544</td>\n",
       "      <td>629544</td>\n",
       "      <td>0</td>\n",
       "      <td>0.0</td>\n",
       "    </tr>\n",
       "    <tr>\n",
       "      <th>12</th>\n",
       "      <td>OriginalLoantoValueLTV</td>\n",
       "      <td>629544</td>\n",
       "      <td>629544</td>\n",
       "      <td>0</td>\n",
       "      <td>0.0</td>\n",
       "    </tr>\n",
       "    <tr>\n",
       "      <th>13</th>\n",
       "      <td>OriginalUPB</td>\n",
       "      <td>629544</td>\n",
       "      <td>629544</td>\n",
       "      <td>0</td>\n",
       "      <td>0.0</td>\n",
       "    </tr>\n",
       "    <tr>\n",
       "      <th>14</th>\n",
       "      <td>OriginalDebttoIncomeDTIRatio</td>\n",
       "      <td>629544</td>\n",
       "      <td>629544</td>\n",
       "      <td>0</td>\n",
       "      <td>0.0</td>\n",
       "    </tr>\n",
       "    <tr>\n",
       "      <th>15</th>\n",
       "      <td>OriginalCombinedLoantoValueCLTV</td>\n",
       "      <td>629544</td>\n",
       "      <td>629544</td>\n",
       "      <td>0</td>\n",
       "      <td>0.0</td>\n",
       "    </tr>\n",
       "    <tr>\n",
       "      <th>16</th>\n",
       "      <td>OccupancyStatus</td>\n",
       "      <td>629544</td>\n",
       "      <td>629544</td>\n",
       "      <td>0</td>\n",
       "      <td>0.0</td>\n",
       "    </tr>\n",
       "    <tr>\n",
       "      <th>17</th>\n",
       "      <td>NumberofUnits</td>\n",
       "      <td>629544</td>\n",
       "      <td>629544</td>\n",
       "      <td>0</td>\n",
       "      <td>0.0</td>\n",
       "    </tr>\n",
       "    <tr>\n",
       "      <th>18</th>\n",
       "      <td>MortgageInsurancePercentageMI</td>\n",
       "      <td>629544</td>\n",
       "      <td>629544</td>\n",
       "      <td>0</td>\n",
       "      <td>0.0</td>\n",
       "    </tr>\n",
       "    <tr>\n",
       "      <th>19</th>\n",
       "      <td>MetropolitanStatisticalAreaMSAOrMetropolitanDi...</td>\n",
       "      <td>629544</td>\n",
       "      <td>629544</td>\n",
       "      <td>0</td>\n",
       "      <td>0.0</td>\n",
       "    </tr>\n",
       "    <tr>\n",
       "      <th>20</th>\n",
       "      <td>default</td>\n",
       "      <td>629544</td>\n",
       "      <td>629544</td>\n",
       "      <td>0</td>\n",
       "      <td>0.0</td>\n",
       "    </tr>\n",
       "  </tbody>\n",
       "</table>\n",
       "</div>"
      ],
      "text/plain": [
       "                                               Column  DatasetRow  ColumnRow  \\\n",
       "0                                         CreditScore      629544     629544   \n",
       "1                                             Channel      629544     629544   \n",
       "2                             InterestOnlyIOIndicator      629544     629544   \n",
       "3                                   NumberofBorrowers      629544     629544   \n",
       "4                                    OriginalLoanTerm      629544     629544   \n",
       "5                                         LoanPurpose      629544     629544   \n",
       "6                                        PropertyType      629544     629544   \n",
       "7                                       PropertyState      629544     629544   \n",
       "8                 AmortizationTypeFormerlyProductType      629544     629544   \n",
       "9                    PrepaymentPenaltyMortgagePPMFlag      629544     629544   \n",
       "10                               OriginalInterestRate      629544     629544   \n",
       "11                             FirstTimeHomebuyerFlag      629544     629544   \n",
       "12                             OriginalLoantoValueLTV      629544     629544   \n",
       "13                                        OriginalUPB      629544     629544   \n",
       "14                       OriginalDebttoIncomeDTIRatio      629544     629544   \n",
       "15                    OriginalCombinedLoantoValueCLTV      629544     629544   \n",
       "16                                    OccupancyStatus      629544     629544   \n",
       "17                                      NumberofUnits      629544     629544   \n",
       "18                      MortgageInsurancePercentageMI      629544     629544   \n",
       "19  MetropolitanStatisticalAreaMSAOrMetropolitanDi...      629544     629544   \n",
       "20                                            default      629544     629544   \n",
       "\n",
       "    Missing  Percent  \n",
       "0         0      0.0  \n",
       "1         0      0.0  \n",
       "2         0      0.0  \n",
       "3         0      0.0  \n",
       "4         0      0.0  \n",
       "5         0      0.0  \n",
       "6         0      0.0  \n",
       "7         0      0.0  \n",
       "8         0      0.0  \n",
       "9         0      0.0  \n",
       "10        0      0.0  \n",
       "11        0      0.0  \n",
       "12        0      0.0  \n",
       "13        0      0.0  \n",
       "14        0      0.0  \n",
       "15        0      0.0  \n",
       "16        0      0.0  \n",
       "17        0      0.0  \n",
       "18        0      0.0  \n",
       "19        0      0.0  \n",
       "20        0      0.0  "
      ]
     },
     "execution_count": 35,
     "metadata": {},
     "output_type": "execute_result"
    }
   ],
   "source": [
    "# Re-calculate the missing table to check if there are any missing values left\n",
    "miss_tab = missing_values_table(df)\n",
    "miss_tab"
   ]
  },
  {
   "cell_type": "code",
   "execution_count": 36,
   "id": "501a2478-91f1-48d1-b13a-7a64af1239d3",
   "metadata": {},
   "outputs": [],
   "source": [
    "# Missing values check\n",
    "assert df.isna().sum().sum() == 0, \"Still there is missing values\""
   ]
  },
  {
   "cell_type": "markdown",
   "id": "99ef9446-4211-4489-8ccb-bd4653769529",
   "metadata": {
    "id": "99ef9446-4211-4489-8ccb-bd4653769529"
   },
   "source": [
    "## Casting Variables"
   ]
  },
  {
   "cell_type": "markdown",
   "id": "11f7987c-18bf-4b0c-868b-dc4c96047884",
   "metadata": {},
   "source": [
    "In this section, we convert the data types to the desired ones based on the requirements of our data analysis."
   ]
  },
  {
   "cell_type": "code",
   "execution_count": 37,
   "id": "f9af551b-d6b0-45f8-a859-c390792eacc2",
   "metadata": {},
   "outputs": [
    {
     "data": {
      "text/plain": [
       "CreditScore                                             float64\n",
       "FirstTimeHomebuyerFlag                                   object\n",
       "MetropolitanStatisticalAreaMSAOrMetropolitanDivision    float64\n",
       "MortgageInsurancePercentageMI                             int64\n",
       "NumberofUnits                                             int64\n",
       "OccupancyStatus                                          object\n",
       "OriginalCombinedLoantoValueCLTV                         float64\n",
       "OriginalDebttoIncomeDTIRatio                            float64\n",
       "OriginalUPB                                               int64\n",
       "OriginalLoantoValueLTV                                  float64\n",
       "OriginalInterestRate                                    float64\n",
       "Channel                                                  object\n",
       "PrepaymentPenaltyMortgagePPMFlag                         object\n",
       "AmortizationTypeFormerlyProductType                      object\n",
       "PropertyState                                            object\n",
       "PropertyType                                             object\n",
       "LoanPurpose                                              object\n",
       "OriginalLoanTerm                                          int64\n",
       "NumberofBorrowers                                       float64\n",
       "InterestOnlyIOIndicator                                  object\n",
       "default                                                   int64\n",
       "dtype: object"
      ]
     },
     "execution_count": 37,
     "metadata": {},
     "output_type": "execute_result"
    }
   ],
   "source": [
    "df.dtypes"
   ]
  },
  {
   "cell_type": "code",
   "execution_count": 38,
   "id": "9626328e-54b2-466e-b386-e62d1f48a122",
   "metadata": {},
   "outputs": [
    {
     "data": {
      "text/plain": [
       "object     9\n",
       "float64    7\n",
       "int64      5\n",
       "Name: count, dtype: int64"
      ]
     },
     "execution_count": 38,
     "metadata": {},
     "output_type": "execute_result"
    }
   ],
   "source": [
    "# Frequency of data types before casting\n",
    "df.dtypes.value_counts()"
   ]
  },
  {
   "cell_type": "code",
   "execution_count": 39,
   "id": "1bbf7ff4-83ae-46d6-b879-2bc7abeaf0fa",
   "metadata": {
    "executionInfo": {
     "elapsed": 8,
     "status": "ok",
     "timestamp": 1681123409530,
     "user": {
      "displayName": "Adnan sevinç",
      "userId": "10606629957436102111"
     },
     "user_tz": -120
    },
    "id": "1bbf7ff4-83ae-46d6-b879-2bc7abeaf0fa"
   },
   "outputs": [],
   "source": [
    "# Convert MortgageInsurancePercentageMI to int\n",
    "df[\"MortgageInsurancePercentageMI\"] = df[\"MortgageInsurancePercentageMI\"].astype(int)"
   ]
  },
  {
   "cell_type": "code",
   "execution_count": 40,
   "id": "11d0c109-6c84-43b6-b4d9-582efdb3a26d",
   "metadata": {
    "executionInfo": {
     "elapsed": 330,
     "status": "ok",
     "timestamp": 1681123409852,
     "user": {
      "displayName": "Adnan sevinç",
      "userId": "10606629957436102111"
     },
     "user_tz": -120
    },
    "id": "11d0c109-6c84-43b6-b4d9-582efdb3a26d"
   },
   "outputs": [],
   "source": [
    "# Convert Number of Units to object\n",
    "df[\"NumberofUnits\"] = df[\"NumberofUnits\"].astype(str)"
   ]
  },
  {
   "cell_type": "code",
   "execution_count": 41,
   "id": "f69371a4-8877-4ee2-bfbd-0ccb82c47329",
   "metadata": {
    "executionInfo": {
     "elapsed": 1216,
     "status": "ok",
     "timestamp": 1681123411067,
     "user": {
      "displayName": "Adnan sevinç",
      "userId": "10606629957436102111"
     },
     "user_tz": -120
    },
    "id": "f69371a4-8877-4ee2-bfbd-0ccb82c47329"
   },
   "outputs": [],
   "source": [
    "# Convert OriginalInterestRate to float\n",
    "df[\"OriginalInterestRate\"] = df[\"OriginalInterestRate\"].astype(float)"
   ]
  },
  {
   "cell_type": "code",
   "execution_count": 42,
   "id": "15f1f7e5-06df-46b5-ae9c-0eade2ab5083",
   "metadata": {
    "colab": {
     "base_uri": "https://localhost:8080/"
    },
    "executionInfo": {
     "elapsed": 31,
     "status": "ok",
     "timestamp": 1681123411068,
     "user": {
      "displayName": "Adnan sevinç",
      "userId": "10606629957436102111"
     },
     "user_tz": -120
    },
    "id": "15f1f7e5-06df-46b5-ae9c-0eade2ab5083",
    "outputId": "6ca4501c-4460-46f6-eb63-c52d0f9a7e9c"
   },
   "outputs": [
    {
     "data": {
      "text/plain": [
       "object     10\n",
       "float64     7\n",
       "int64       4\n",
       "Name: count, dtype: int64"
      ]
     },
     "execution_count": 42,
     "metadata": {},
     "output_type": "execute_result"
    }
   ],
   "source": [
    "# Frequency of data types after casting.\n",
    "df.dtypes.value_counts()"
   ]
  },
  {
   "cell_type": "markdown",
   "id": "ca8e66ab-500f-4db7-b2d7-dc34861909be",
   "metadata": {
    "id": "ca8e66ab-500f-4db7-b2d7-dc34861909be"
   },
   "source": [
    "## Categorical and Numerical Variables Split"
   ]
  },
  {
   "cell_type": "markdown",
   "id": "10ffee45-6344-4581-942e-cf7067e9587f",
   "metadata": {},
   "source": [
    "In this section, we are dividing our variables into categorical and numerical types."
   ]
  },
  {
   "cell_type": "code",
   "execution_count": 43,
   "id": "013375c7-3ef6-40bf-bcb3-68733d7e5e6b",
   "metadata": {},
   "outputs": [],
   "source": [
    "cat_cols, num_cols, target_cols = split_variables(df, \"default\")"
   ]
  },
  {
   "cell_type": "code",
   "execution_count": 44,
   "id": "ab72cee3-50db-4bdf-8a79-6bb7bdf07477",
   "metadata": {},
   "outputs": [
    {
     "name": "stdout",
     "output_type": "stream",
     "text": [
      "1 : FirstTimeHomebuyerFlag\n",
      "2 : NumberofUnits\n",
      "3 : OccupancyStatus\n",
      "4 : Channel\n",
      "5 : PrepaymentPenaltyMortgagePPMFlag\n",
      "6 : AmortizationTypeFormerlyProductType\n",
      "7 : PropertyState\n",
      "8 : PropertyType\n",
      "9 : LoanPurpose\n",
      "10 : InterestOnlyIOIndicator\n"
     ]
    }
   ],
   "source": [
    "for index, col in enumerate(cat_cols):\n",
    "    print(index + 1, \":\", col)"
   ]
  },
  {
   "cell_type": "code",
   "execution_count": 45,
   "id": "a4ac2753-b4bd-488d-be22-56330e9577a8",
   "metadata": {},
   "outputs": [
    {
     "name": "stdout",
     "output_type": "stream",
     "text": [
      "1 : CreditScore\n",
      "2 : MetropolitanStatisticalAreaMSAOrMetropolitanDivision\n",
      "3 : MortgageInsurancePercentageMI\n",
      "4 : OriginalCombinedLoantoValueCLTV\n",
      "5 : OriginalDebttoIncomeDTIRatio\n",
      "6 : OriginalUPB\n",
      "7 : OriginalLoantoValueLTV\n",
      "8 : OriginalInterestRate\n",
      "9 : OriginalLoanTerm\n",
      "10 : NumberofBorrowers\n"
     ]
    }
   ],
   "source": [
    "for index, col in enumerate(num_cols):\n",
    "    print(index + 1, \":\" ,col)"
   ]
  },
  {
   "cell_type": "code",
   "execution_count": 46,
   "id": "d7b683f2-0397-4658-8266-8544812d3ad4",
   "metadata": {},
   "outputs": [
    {
     "data": {
      "text/plain": [
       "'default'"
      ]
     },
     "execution_count": 46,
     "metadata": {},
     "output_type": "execute_result"
    }
   ],
   "source": [
    "target_cols"
   ]
  },
  {
   "cell_type": "code",
   "execution_count": 47,
   "id": "290d15c8-b28f-4176-914a-a3ac791d589a",
   "metadata": {},
   "outputs": [],
   "source": [
    "# Check correct split\n",
    "assert df.shape[1] == len(cat_cols) + len(num_cols) + 1, \"There is an error in splitting\""
   ]
  },
  {
   "cell_type": "markdown",
   "id": "937ef4c9-0a7b-4fab-ab63-2cf7de316220",
   "metadata": {
    "id": "937ef4c9-0a7b-4fab-ab63-2cf7de316220"
   },
   "source": [
    "## Frequency of Categorical Variables"
   ]
  },
  {
   "cell_type": "markdown",
   "id": "395eb2f4-28d5-4a50-aecb-efcc6e65fb6e",
   "metadata": {},
   "source": [
    "We are removing categorical columns in which the frequency of one particular instance considerably dominates the others. We view such scenarios as essentially having a constant instance."
   ]
  },
  {
   "cell_type": "code",
   "execution_count": 48,
   "id": "c78041b2-3867-4644-b14a-15bb7744dcd3",
   "metadata": {},
   "outputs": [
    {
     "data": {
      "text/html": [
       "<div>\n",
       "<style scoped>\n",
       "    .dataframe tbody tr th:only-of-type {\n",
       "        vertical-align: middle;\n",
       "    }\n",
       "\n",
       "    .dataframe tbody tr th {\n",
       "        vertical-align: top;\n",
       "    }\n",
       "\n",
       "    .dataframe thead th {\n",
       "        text-align: right;\n",
       "    }\n",
       "</style>\n",
       "<table border=\"1\" class=\"dataframe\">\n",
       "  <thead>\n",
       "    <tr style=\"text-align: right;\">\n",
       "      <th></th>\n",
       "      <th>variables</th>\n",
       "      <th>unique_values</th>\n",
       "      <th>no_unique_values</th>\n",
       "    </tr>\n",
       "  </thead>\n",
       "  <tbody>\n",
       "    <tr>\n",
       "      <th>0</th>\n",
       "      <td>FirstTimeHomebuyerFlag</td>\n",
       "      <td>[Y, N]</td>\n",
       "      <td>2</td>\n",
       "    </tr>\n",
       "    <tr>\n",
       "      <th>1</th>\n",
       "      <td>NumberofUnits</td>\n",
       "      <td>[1, 2, 4, 3]</td>\n",
       "      <td>4</td>\n",
       "    </tr>\n",
       "    <tr>\n",
       "      <th>2</th>\n",
       "      <td>OccupancyStatus</td>\n",
       "      <td>[P, I, S]</td>\n",
       "      <td>3</td>\n",
       "    </tr>\n",
       "    <tr>\n",
       "      <th>3</th>\n",
       "      <td>Channel</td>\n",
       "      <td>[T, R]</td>\n",
       "      <td>2</td>\n",
       "    </tr>\n",
       "    <tr>\n",
       "      <th>4</th>\n",
       "      <td>PrepaymentPenaltyMortgagePPMFlag</td>\n",
       "      <td>[N, Y]</td>\n",
       "      <td>2</td>\n",
       "    </tr>\n",
       "    <tr>\n",
       "      <th>5</th>\n",
       "      <td>AmortizationTypeFormerlyProductType</td>\n",
       "      <td>[FRM]</td>\n",
       "      <td>1</td>\n",
       "    </tr>\n",
       "    <tr>\n",
       "      <th>6</th>\n",
       "      <td>PropertyState</td>\n",
       "      <td>[PA, CA, NC, WA, OH, KY, FL, NV, TN, AZ, ID, N...</td>\n",
       "      <td>54</td>\n",
       "    </tr>\n",
       "    <tr>\n",
       "      <th>7</th>\n",
       "      <td>PropertyType</td>\n",
       "      <td>[SF, MH, PU, CO, CP]</td>\n",
       "      <td>5</td>\n",
       "    </tr>\n",
       "    <tr>\n",
       "      <th>8</th>\n",
       "      <td>LoanPurpose</td>\n",
       "      <td>[P, C, N]</td>\n",
       "      <td>3</td>\n",
       "    </tr>\n",
       "    <tr>\n",
       "      <th>9</th>\n",
       "      <td>InterestOnlyIOIndicator</td>\n",
       "      <td>[N]</td>\n",
       "      <td>1</td>\n",
       "    </tr>\n",
       "  </tbody>\n",
       "</table>\n",
       "</div>"
      ],
      "text/plain": [
       "                             variables  \\\n",
       "0               FirstTimeHomebuyerFlag   \n",
       "1                        NumberofUnits   \n",
       "2                      OccupancyStatus   \n",
       "3                              Channel   \n",
       "4     PrepaymentPenaltyMortgagePPMFlag   \n",
       "5  AmortizationTypeFormerlyProductType   \n",
       "6                        PropertyState   \n",
       "7                         PropertyType   \n",
       "8                          LoanPurpose   \n",
       "9              InterestOnlyIOIndicator   \n",
       "\n",
       "                                       unique_values  no_unique_values  \n",
       "0                                             [Y, N]                 2  \n",
       "1                                       [1, 2, 4, 3]                 4  \n",
       "2                                          [P, I, S]                 3  \n",
       "3                                             [T, R]                 2  \n",
       "4                                             [N, Y]                 2  \n",
       "5                                              [FRM]                 1  \n",
       "6  [PA, CA, NC, WA, OH, KY, FL, NV, TN, AZ, ID, N...                54  \n",
       "7                               [SF, MH, PU, CO, CP]                 5  \n",
       "8                                          [P, C, N]                 3  \n",
       "9                                                [N]                 1  "
      ]
     },
     "execution_count": 48,
     "metadata": {},
     "output_type": "execute_result"
    }
   ],
   "source": [
    "cat_unique_df = cat_unique_values(df[cat_cols])\n",
    "cat_unique_df"
   ]
  },
  {
   "cell_type": "markdown",
   "id": "58da9547-99f9-407b-a9b7-685b17ba60ff",
   "metadata": {},
   "source": [
    "We will  eliminate the categorical columns that have only one unique (constant) value."
   ]
  },
  {
   "cell_type": "code",
   "execution_count": 49,
   "id": "8e5de963-fd0c-48b3-a73a-4bae3db5a19c",
   "metadata": {},
   "outputs": [],
   "source": [
    "# Categorical variables with singles value\n",
    "single_value_cols = cat_unique_df[cat_unique_df[\"no_unique_values\"] == 1][\"variables\"].to_list()"
   ]
  },
  {
   "cell_type": "code",
   "execution_count": 50,
   "id": "2162b15a-df54-4f81-b2a5-6737ed6401e8",
   "metadata": {},
   "outputs": [
    {
     "data": {
      "text/plain": [
       "['AmortizationTypeFormerlyProductType', 'InterestOnlyIOIndicator']"
      ]
     },
     "execution_count": 50,
     "metadata": {},
     "output_type": "execute_result"
    }
   ],
   "source": [
    "single_value_cols"
   ]
  },
  {
   "cell_type": "code",
   "execution_count": 51,
   "id": "83197559-ddbf-4ccc-b7c1-8e0620281f10",
   "metadata": {},
   "outputs": [
    {
     "data": {
      "text/html": [
       "<div>\n",
       "<style scoped>\n",
       "    .dataframe tbody tr th:only-of-type {\n",
       "        vertical-align: middle;\n",
       "    }\n",
       "\n",
       "    .dataframe tbody tr th {\n",
       "        vertical-align: top;\n",
       "    }\n",
       "\n",
       "    .dataframe thead th {\n",
       "        text-align: right;\n",
       "    }\n",
       "</style>\n",
       "<table border=\"1\" class=\"dataframe\">\n",
       "  <thead>\n",
       "    <tr style=\"text-align: right;\">\n",
       "      <th>FirstTimeHomebuyerFlag</th>\n",
       "      <th>N</th>\n",
       "      <th>Y</th>\n",
       "      <th>All</th>\n",
       "    </tr>\n",
       "    <tr>\n",
       "      <th>default</th>\n",
       "      <th></th>\n",
       "      <th></th>\n",
       "      <th></th>\n",
       "    </tr>\n",
       "  </thead>\n",
       "  <tbody>\n",
       "    <tr>\n",
       "      <th>0</th>\n",
       "      <td>82.374</td>\n",
       "      <td>11.627</td>\n",
       "      <td>94.001</td>\n",
       "    </tr>\n",
       "    <tr>\n",
       "      <th>1</th>\n",
       "      <td>5.276</td>\n",
       "      <td>0.724</td>\n",
       "      <td>5.999</td>\n",
       "    </tr>\n",
       "    <tr>\n",
       "      <th>All</th>\n",
       "      <td>87.649</td>\n",
       "      <td>12.351</td>\n",
       "      <td>100.000</td>\n",
       "    </tr>\n",
       "  </tbody>\n",
       "</table>\n",
       "</div>"
      ],
      "text/plain": [
       "FirstTimeHomebuyerFlag       N       Y      All\n",
       "default                                        \n",
       "0                       82.374  11.627   94.001\n",
       "1                        5.276   0.724    5.999\n",
       "All                     87.649  12.351  100.000"
      ]
     },
     "metadata": {},
     "output_type": "display_data"
    },
    {
     "data": {
      "text/html": [
       "<div>\n",
       "<style scoped>\n",
       "    .dataframe tbody tr th:only-of-type {\n",
       "        vertical-align: middle;\n",
       "    }\n",
       "\n",
       "    .dataframe tbody tr th {\n",
       "        vertical-align: top;\n",
       "    }\n",
       "\n",
       "    .dataframe thead th {\n",
       "        text-align: right;\n",
       "    }\n",
       "</style>\n",
       "<table border=\"1\" class=\"dataframe\">\n",
       "  <thead>\n",
       "    <tr style=\"text-align: right;\">\n",
       "      <th>NumberofUnits</th>\n",
       "      <th>1</th>\n",
       "      <th>2</th>\n",
       "      <th>3</th>\n",
       "      <th>4</th>\n",
       "      <th>All</th>\n",
       "    </tr>\n",
       "    <tr>\n",
       "      <th>default</th>\n",
       "      <th></th>\n",
       "      <th></th>\n",
       "      <th></th>\n",
       "      <th></th>\n",
       "      <th></th>\n",
       "    </tr>\n",
       "  </thead>\n",
       "  <tbody>\n",
       "    <tr>\n",
       "      <th>0</th>\n",
       "      <td>91.602</td>\n",
       "      <td>1.837</td>\n",
       "      <td>0.291</td>\n",
       "      <td>0.271</td>\n",
       "      <td>94.001</td>\n",
       "    </tr>\n",
       "    <tr>\n",
       "      <th>1</th>\n",
       "      <td>5.848</td>\n",
       "      <td>0.128</td>\n",
       "      <td>0.012</td>\n",
       "      <td>0.011</td>\n",
       "      <td>5.999</td>\n",
       "    </tr>\n",
       "    <tr>\n",
       "      <th>All</th>\n",
       "      <td>97.450</td>\n",
       "      <td>1.965</td>\n",
       "      <td>0.303</td>\n",
       "      <td>0.282</td>\n",
       "      <td>100.000</td>\n",
       "    </tr>\n",
       "  </tbody>\n",
       "</table>\n",
       "</div>"
      ],
      "text/plain": [
       "NumberofUnits       1      2      3      4      All\n",
       "default                                            \n",
       "0              91.602  1.837  0.291  0.271   94.001\n",
       "1               5.848  0.128  0.012  0.011    5.999\n",
       "All            97.450  1.965  0.303  0.282  100.000"
      ]
     },
     "metadata": {},
     "output_type": "display_data"
    },
    {
     "data": {
      "text/html": [
       "<div>\n",
       "<style scoped>\n",
       "    .dataframe tbody tr th:only-of-type {\n",
       "        vertical-align: middle;\n",
       "    }\n",
       "\n",
       "    .dataframe tbody tr th {\n",
       "        vertical-align: top;\n",
       "    }\n",
       "\n",
       "    .dataframe thead th {\n",
       "        text-align: right;\n",
       "    }\n",
       "</style>\n",
       "<table border=\"1\" class=\"dataframe\">\n",
       "  <thead>\n",
       "    <tr style=\"text-align: right;\">\n",
       "      <th>OccupancyStatus</th>\n",
       "      <th>I</th>\n",
       "      <th>P</th>\n",
       "      <th>S</th>\n",
       "      <th>All</th>\n",
       "    </tr>\n",
       "    <tr>\n",
       "      <th>default</th>\n",
       "      <th></th>\n",
       "      <th></th>\n",
       "      <th></th>\n",
       "      <th></th>\n",
       "    </tr>\n",
       "  </thead>\n",
       "  <tbody>\n",
       "    <tr>\n",
       "      <th>0</th>\n",
       "      <td>6.954</td>\n",
       "      <td>82.157</td>\n",
       "      <td>4.89</td>\n",
       "      <td>94.001</td>\n",
       "    </tr>\n",
       "    <tr>\n",
       "      <th>1</th>\n",
       "      <td>0.456</td>\n",
       "      <td>5.324</td>\n",
       "      <td>0.22</td>\n",
       "      <td>5.999</td>\n",
       "    </tr>\n",
       "    <tr>\n",
       "      <th>All</th>\n",
       "      <td>7.410</td>\n",
       "      <td>87.480</td>\n",
       "      <td>5.11</td>\n",
       "      <td>100.000</td>\n",
       "    </tr>\n",
       "  </tbody>\n",
       "</table>\n",
       "</div>"
      ],
      "text/plain": [
       "OccupancyStatus      I       P     S      All\n",
       "default                                      \n",
       "0                6.954  82.157  4.89   94.001\n",
       "1                0.456   5.324  0.22    5.999\n",
       "All              7.410  87.480  5.11  100.000"
      ]
     },
     "metadata": {},
     "output_type": "display_data"
    },
    {
     "data": {
      "text/html": [
       "<div>\n",
       "<style scoped>\n",
       "    .dataframe tbody tr th:only-of-type {\n",
       "        vertical-align: middle;\n",
       "    }\n",
       "\n",
       "    .dataframe tbody tr th {\n",
       "        vertical-align: top;\n",
       "    }\n",
       "\n",
       "    .dataframe thead th {\n",
       "        text-align: right;\n",
       "    }\n",
       "</style>\n",
       "<table border=\"1\" class=\"dataframe\">\n",
       "  <thead>\n",
       "    <tr style=\"text-align: right;\">\n",
       "      <th>Channel</th>\n",
       "      <th>R</th>\n",
       "      <th>T</th>\n",
       "      <th>All</th>\n",
       "    </tr>\n",
       "    <tr>\n",
       "      <th>default</th>\n",
       "      <th></th>\n",
       "      <th></th>\n",
       "      <th></th>\n",
       "    </tr>\n",
       "  </thead>\n",
       "  <tbody>\n",
       "    <tr>\n",
       "      <th>0</th>\n",
       "      <td>42.708</td>\n",
       "      <td>51.293</td>\n",
       "      <td>94.001</td>\n",
       "    </tr>\n",
       "    <tr>\n",
       "      <th>1</th>\n",
       "      <td>1.943</td>\n",
       "      <td>4.056</td>\n",
       "      <td>5.999</td>\n",
       "    </tr>\n",
       "    <tr>\n",
       "      <th>All</th>\n",
       "      <td>44.652</td>\n",
       "      <td>55.348</td>\n",
       "      <td>100.000</td>\n",
       "    </tr>\n",
       "  </tbody>\n",
       "</table>\n",
       "</div>"
      ],
      "text/plain": [
       "Channel       R       T      All\n",
       "default                         \n",
       "0        42.708  51.293   94.001\n",
       "1         1.943   4.056    5.999\n",
       "All      44.652  55.348  100.000"
      ]
     },
     "metadata": {},
     "output_type": "display_data"
    },
    {
     "data": {
      "text/html": [
       "<div>\n",
       "<style scoped>\n",
       "    .dataframe tbody tr th:only-of-type {\n",
       "        vertical-align: middle;\n",
       "    }\n",
       "\n",
       "    .dataframe tbody tr th {\n",
       "        vertical-align: top;\n",
       "    }\n",
       "\n",
       "    .dataframe thead th {\n",
       "        text-align: right;\n",
       "    }\n",
       "</style>\n",
       "<table border=\"1\" class=\"dataframe\">\n",
       "  <thead>\n",
       "    <tr style=\"text-align: right;\">\n",
       "      <th>PrepaymentPenaltyMortgagePPMFlag</th>\n",
       "      <th>N</th>\n",
       "      <th>Y</th>\n",
       "      <th>All</th>\n",
       "    </tr>\n",
       "    <tr>\n",
       "      <th>default</th>\n",
       "      <th></th>\n",
       "      <th></th>\n",
       "      <th></th>\n",
       "    </tr>\n",
       "  </thead>\n",
       "  <tbody>\n",
       "    <tr>\n",
       "      <th>0</th>\n",
       "      <td>93.964</td>\n",
       "      <td>0.037</td>\n",
       "      <td>94.001</td>\n",
       "    </tr>\n",
       "    <tr>\n",
       "      <th>1</th>\n",
       "      <td>5.994</td>\n",
       "      <td>0.006</td>\n",
       "      <td>5.999</td>\n",
       "    </tr>\n",
       "    <tr>\n",
       "      <th>All</th>\n",
       "      <td>99.957</td>\n",
       "      <td>0.043</td>\n",
       "      <td>100.000</td>\n",
       "    </tr>\n",
       "  </tbody>\n",
       "</table>\n",
       "</div>"
      ],
      "text/plain": [
       "PrepaymentPenaltyMortgagePPMFlag       N      Y      All\n",
       "default                                                 \n",
       "0                                 93.964  0.037   94.001\n",
       "1                                  5.994  0.006    5.999\n",
       "All                               99.957  0.043  100.000"
      ]
     },
     "metadata": {},
     "output_type": "display_data"
    },
    {
     "data": {
      "text/html": [
       "<div>\n",
       "<style scoped>\n",
       "    .dataframe tbody tr th:only-of-type {\n",
       "        vertical-align: middle;\n",
       "    }\n",
       "\n",
       "    .dataframe tbody tr th {\n",
       "        vertical-align: top;\n",
       "    }\n",
       "\n",
       "    .dataframe thead th {\n",
       "        text-align: right;\n",
       "    }\n",
       "</style>\n",
       "<table border=\"1\" class=\"dataframe\">\n",
       "  <thead>\n",
       "    <tr style=\"text-align: right;\">\n",
       "      <th>AmortizationTypeFormerlyProductType</th>\n",
       "      <th>FRM</th>\n",
       "      <th>All</th>\n",
       "    </tr>\n",
       "    <tr>\n",
       "      <th>default</th>\n",
       "      <th></th>\n",
       "      <th></th>\n",
       "    </tr>\n",
       "  </thead>\n",
       "  <tbody>\n",
       "    <tr>\n",
       "      <th>0</th>\n",
       "      <td>94.001</td>\n",
       "      <td>94.001</td>\n",
       "    </tr>\n",
       "    <tr>\n",
       "      <th>1</th>\n",
       "      <td>5.999</td>\n",
       "      <td>5.999</td>\n",
       "    </tr>\n",
       "    <tr>\n",
       "      <th>All</th>\n",
       "      <td>100.000</td>\n",
       "      <td>100.000</td>\n",
       "    </tr>\n",
       "  </tbody>\n",
       "</table>\n",
       "</div>"
      ],
      "text/plain": [
       "AmortizationTypeFormerlyProductType      FRM      All\n",
       "default                                              \n",
       "0                                     94.001   94.001\n",
       "1                                      5.999    5.999\n",
       "All                                  100.000  100.000"
      ]
     },
     "metadata": {},
     "output_type": "display_data"
    },
    {
     "data": {
      "text/html": [
       "<div>\n",
       "<style scoped>\n",
       "    .dataframe tbody tr th:only-of-type {\n",
       "        vertical-align: middle;\n",
       "    }\n",
       "\n",
       "    .dataframe tbody tr th {\n",
       "        vertical-align: top;\n",
       "    }\n",
       "\n",
       "    .dataframe thead th {\n",
       "        text-align: right;\n",
       "    }\n",
       "</style>\n",
       "<table border=\"1\" class=\"dataframe\">\n",
       "  <thead>\n",
       "    <tr style=\"text-align: right;\">\n",
       "      <th>PropertyState</th>\n",
       "      <th>AK</th>\n",
       "      <th>AL</th>\n",
       "      <th>AR</th>\n",
       "      <th>AZ</th>\n",
       "      <th>CA</th>\n",
       "      <th>CO</th>\n",
       "      <th>CT</th>\n",
       "      <th>DC</th>\n",
       "      <th>DE</th>\n",
       "      <th>FL</th>\n",
       "      <th>...</th>\n",
       "      <th>TX</th>\n",
       "      <th>UT</th>\n",
       "      <th>VA</th>\n",
       "      <th>VI</th>\n",
       "      <th>VT</th>\n",
       "      <th>WA</th>\n",
       "      <th>WI</th>\n",
       "      <th>WV</th>\n",
       "      <th>WY</th>\n",
       "      <th>All</th>\n",
       "    </tr>\n",
       "    <tr>\n",
       "      <th>default</th>\n",
       "      <th></th>\n",
       "      <th></th>\n",
       "      <th></th>\n",
       "      <th></th>\n",
       "      <th></th>\n",
       "      <th></th>\n",
       "      <th></th>\n",
       "      <th></th>\n",
       "      <th></th>\n",
       "      <th></th>\n",
       "      <th></th>\n",
       "      <th></th>\n",
       "      <th></th>\n",
       "      <th></th>\n",
       "      <th></th>\n",
       "      <th></th>\n",
       "      <th></th>\n",
       "      <th></th>\n",
       "      <th></th>\n",
       "      <th></th>\n",
       "      <th></th>\n",
       "    </tr>\n",
       "  </thead>\n",
       "  <tbody>\n",
       "    <tr>\n",
       "      <th>0</th>\n",
       "      <td>0.255</td>\n",
       "      <td>1.384</td>\n",
       "      <td>0.955</td>\n",
       "      <td>2.735</td>\n",
       "      <td>6.437</td>\n",
       "      <td>1.974</td>\n",
       "      <td>0.940</td>\n",
       "      <td>0.128</td>\n",
       "      <td>0.374</td>\n",
       "      <td>6.018</td>\n",
       "      <td>...</td>\n",
       "      <td>6.753</td>\n",
       "      <td>1.323</td>\n",
       "      <td>2.692</td>\n",
       "      <td>0.013</td>\n",
       "      <td>0.268</td>\n",
       "      <td>2.910</td>\n",
       "      <td>2.111</td>\n",
       "      <td>0.448</td>\n",
       "      <td>0.200</td>\n",
       "      <td>94.001</td>\n",
       "    </tr>\n",
       "    <tr>\n",
       "      <th>1</th>\n",
       "      <td>0.006</td>\n",
       "      <td>0.072</td>\n",
       "      <td>0.048</td>\n",
       "      <td>0.322</td>\n",
       "      <td>0.648</td>\n",
       "      <td>0.071</td>\n",
       "      <td>0.054</td>\n",
       "      <td>0.008</td>\n",
       "      <td>0.020</td>\n",
       "      <td>0.914</td>\n",
       "      <td>...</td>\n",
       "      <td>0.223</td>\n",
       "      <td>0.076</td>\n",
       "      <td>0.132</td>\n",
       "      <td>0.001</td>\n",
       "      <td>0.009</td>\n",
       "      <td>0.126</td>\n",
       "      <td>0.101</td>\n",
       "      <td>0.022</td>\n",
       "      <td>0.008</td>\n",
       "      <td>5.999</td>\n",
       "    </tr>\n",
       "    <tr>\n",
       "      <th>All</th>\n",
       "      <td>0.261</td>\n",
       "      <td>1.456</td>\n",
       "      <td>1.003</td>\n",
       "      <td>3.057</td>\n",
       "      <td>7.084</td>\n",
       "      <td>2.045</td>\n",
       "      <td>0.994</td>\n",
       "      <td>0.135</td>\n",
       "      <td>0.394</td>\n",
       "      <td>6.932</td>\n",
       "      <td>...</td>\n",
       "      <td>6.976</td>\n",
       "      <td>1.399</td>\n",
       "      <td>2.824</td>\n",
       "      <td>0.014</td>\n",
       "      <td>0.277</td>\n",
       "      <td>3.036</td>\n",
       "      <td>2.212</td>\n",
       "      <td>0.469</td>\n",
       "      <td>0.209</td>\n",
       "      <td>100.000</td>\n",
       "    </tr>\n",
       "  </tbody>\n",
       "</table>\n",
       "<p>3 rows × 55 columns</p>\n",
       "</div>"
      ],
      "text/plain": [
       "PropertyState     AK     AL     AR     AZ     CA     CO     CT     DC     DE  \\\n",
       "default                                                                        \n",
       "0              0.255  1.384  0.955  2.735  6.437  1.974  0.940  0.128  0.374   \n",
       "1              0.006  0.072  0.048  0.322  0.648  0.071  0.054  0.008  0.020   \n",
       "All            0.261  1.456  1.003  3.057  7.084  2.045  0.994  0.135  0.394   \n",
       "\n",
       "PropertyState     FL  ...     TX     UT     VA     VI     VT     WA     WI  \\\n",
       "default               ...                                                    \n",
       "0              6.018  ...  6.753  1.323  2.692  0.013  0.268  2.910  2.111   \n",
       "1              0.914  ...  0.223  0.076  0.132  0.001  0.009  0.126  0.101   \n",
       "All            6.932  ...  6.976  1.399  2.824  0.014  0.277  3.036  2.212   \n",
       "\n",
       "PropertyState     WV     WY      All  \n",
       "default                               \n",
       "0              0.448  0.200   94.001  \n",
       "1              0.022  0.008    5.999  \n",
       "All            0.469  0.209  100.000  \n",
       "\n",
       "[3 rows x 55 columns]"
      ]
     },
     "metadata": {},
     "output_type": "display_data"
    },
    {
     "data": {
      "text/html": [
       "<div>\n",
       "<style scoped>\n",
       "    .dataframe tbody tr th:only-of-type {\n",
       "        vertical-align: middle;\n",
       "    }\n",
       "\n",
       "    .dataframe tbody tr th {\n",
       "        vertical-align: top;\n",
       "    }\n",
       "\n",
       "    .dataframe thead th {\n",
       "        text-align: right;\n",
       "    }\n",
       "</style>\n",
       "<table border=\"1\" class=\"dataframe\">\n",
       "  <thead>\n",
       "    <tr style=\"text-align: right;\">\n",
       "      <th>PropertyType</th>\n",
       "      <th>CO</th>\n",
       "      <th>CP</th>\n",
       "      <th>MH</th>\n",
       "      <th>PU</th>\n",
       "      <th>SF</th>\n",
       "      <th>All</th>\n",
       "    </tr>\n",
       "    <tr>\n",
       "      <th>default</th>\n",
       "      <th></th>\n",
       "      <th></th>\n",
       "      <th></th>\n",
       "      <th></th>\n",
       "      <th></th>\n",
       "      <th></th>\n",
       "    </tr>\n",
       "  </thead>\n",
       "  <tbody>\n",
       "    <tr>\n",
       "      <th>0</th>\n",
       "      <td>8.305</td>\n",
       "      <td>0.312</td>\n",
       "      <td>1.361</td>\n",
       "      <td>13.760</td>\n",
       "      <td>70.263</td>\n",
       "      <td>94.001</td>\n",
       "    </tr>\n",
       "    <tr>\n",
       "      <th>1</th>\n",
       "      <td>0.490</td>\n",
       "      <td>0.003</td>\n",
       "      <td>0.081</td>\n",
       "      <td>0.849</td>\n",
       "      <td>4.577</td>\n",
       "      <td>5.999</td>\n",
       "    </tr>\n",
       "    <tr>\n",
       "      <th>All</th>\n",
       "      <td>8.795</td>\n",
       "      <td>0.315</td>\n",
       "      <td>1.442</td>\n",
       "      <td>14.609</td>\n",
       "      <td>74.840</td>\n",
       "      <td>100.000</td>\n",
       "    </tr>\n",
       "  </tbody>\n",
       "</table>\n",
       "</div>"
      ],
      "text/plain": [
       "PropertyType     CO     CP     MH      PU      SF      All\n",
       "default                                                   \n",
       "0             8.305  0.312  1.361  13.760  70.263   94.001\n",
       "1             0.490  0.003  0.081   0.849   4.577    5.999\n",
       "All           8.795  0.315  1.442  14.609  74.840  100.000"
      ]
     },
     "metadata": {},
     "output_type": "display_data"
    },
    {
     "data": {
      "text/html": [
       "<div>\n",
       "<style scoped>\n",
       "    .dataframe tbody tr th:only-of-type {\n",
       "        vertical-align: middle;\n",
       "    }\n",
       "\n",
       "    .dataframe tbody tr th {\n",
       "        vertical-align: top;\n",
       "    }\n",
       "\n",
       "    .dataframe thead th {\n",
       "        text-align: right;\n",
       "    }\n",
       "</style>\n",
       "<table border=\"1\" class=\"dataframe\">\n",
       "  <thead>\n",
       "    <tr style=\"text-align: right;\">\n",
       "      <th>LoanPurpose</th>\n",
       "      <th>C</th>\n",
       "      <th>N</th>\n",
       "      <th>P</th>\n",
       "      <th>All</th>\n",
       "    </tr>\n",
       "    <tr>\n",
       "      <th>default</th>\n",
       "      <th></th>\n",
       "      <th></th>\n",
       "      <th></th>\n",
       "      <th></th>\n",
       "    </tr>\n",
       "  </thead>\n",
       "  <tbody>\n",
       "    <tr>\n",
       "      <th>0</th>\n",
       "      <td>35.140</td>\n",
       "      <td>16.509</td>\n",
       "      <td>42.351</td>\n",
       "      <td>94.001</td>\n",
       "    </tr>\n",
       "    <tr>\n",
       "      <th>1</th>\n",
       "      <td>2.444</td>\n",
       "      <td>1.281</td>\n",
       "      <td>2.275</td>\n",
       "      <td>5.999</td>\n",
       "    </tr>\n",
       "    <tr>\n",
       "      <th>All</th>\n",
       "      <td>37.583</td>\n",
       "      <td>17.791</td>\n",
       "      <td>44.626</td>\n",
       "      <td>100.000</td>\n",
       "    </tr>\n",
       "  </tbody>\n",
       "</table>\n",
       "</div>"
      ],
      "text/plain": [
       "LoanPurpose       C       N       P      All\n",
       "default                                     \n",
       "0            35.140  16.509  42.351   94.001\n",
       "1             2.444   1.281   2.275    5.999\n",
       "All          37.583  17.791  44.626  100.000"
      ]
     },
     "metadata": {},
     "output_type": "display_data"
    },
    {
     "data": {
      "text/html": [
       "<div>\n",
       "<style scoped>\n",
       "    .dataframe tbody tr th:only-of-type {\n",
       "        vertical-align: middle;\n",
       "    }\n",
       "\n",
       "    .dataframe tbody tr th {\n",
       "        vertical-align: top;\n",
       "    }\n",
       "\n",
       "    .dataframe thead th {\n",
       "        text-align: right;\n",
       "    }\n",
       "</style>\n",
       "<table border=\"1\" class=\"dataframe\">\n",
       "  <thead>\n",
       "    <tr style=\"text-align: right;\">\n",
       "      <th>InterestOnlyIOIndicator</th>\n",
       "      <th>N</th>\n",
       "      <th>All</th>\n",
       "    </tr>\n",
       "    <tr>\n",
       "      <th>default</th>\n",
       "      <th></th>\n",
       "      <th></th>\n",
       "    </tr>\n",
       "  </thead>\n",
       "  <tbody>\n",
       "    <tr>\n",
       "      <th>0</th>\n",
       "      <td>94.001</td>\n",
       "      <td>94.001</td>\n",
       "    </tr>\n",
       "    <tr>\n",
       "      <th>1</th>\n",
       "      <td>5.999</td>\n",
       "      <td>5.999</td>\n",
       "    </tr>\n",
       "    <tr>\n",
       "      <th>All</th>\n",
       "      <td>100.000</td>\n",
       "      <td>100.000</td>\n",
       "    </tr>\n",
       "  </tbody>\n",
       "</table>\n",
       "</div>"
      ],
      "text/plain": [
       "InterestOnlyIOIndicator        N      All\n",
       "default                                  \n",
       "0                         94.001   94.001\n",
       "1                          5.999    5.999\n",
       "All                      100.000  100.000"
      ]
     },
     "metadata": {},
     "output_type": "display_data"
    }
   ],
   "source": [
    "# Frequency of the unique values in the variable.\n",
    "for var in cat_cols:\n",
    "    display((pd.crosstab(\n",
    "        df[target_cols], \n",
    "        df[var], \n",
    "        normalize=\"all\",\n",
    "        margins=True\n",
    "    )*100).round(3))"
   ]
  },
  {
   "cell_type": "code",
   "execution_count": 52,
   "id": "240ffeb4-8505-4c37-a364-471c0054d5df",
   "metadata": {},
   "outputs": [
    {
     "data": {
      "text/plain": [
       "PrepaymentPenaltyMortgagePPMFlag\n",
       "N    629276\n",
       "Y       268\n",
       "Name: count, dtype: int64"
      ]
     },
     "execution_count": 52,
     "metadata": {},
     "output_type": "execute_result"
    }
   ],
   "source": [
    "df['PrepaymentPenaltyMortgagePPMFlag'].value_counts()"
   ]
  },
  {
   "cell_type": "code",
   "execution_count": 53,
   "id": "594e61bf-1d2b-4610-8b84-dbe6206d0808",
   "metadata": {},
   "outputs": [],
   "source": [
    "less_ratio_instance = ['PrepaymentPenaltyMortgagePPMFlag']"
   ]
  },
  {
   "cell_type": "markdown",
   "id": "f4de799b-3f76-42c9-90ab-16de7ad6ccf8",
   "metadata": {},
   "source": [
    "In the 'PrepaymentPenaltyMortgagePPMFlag' variable, the 'Y' frequency is practically invisible. Therefore, we are considering it as a constant value of 'N'. This is why we are removing this variable from our model."
   ]
  },
  {
   "cell_type": "markdown",
   "id": "4c95de4e-c21f-4991-8f61-b8ba7329ab59",
   "metadata": {},
   "source": [
    "### Drop Columns"
   ]
  },
  {
   "cell_type": "code",
   "execution_count": 54,
   "id": "8e94cb1d-dcd6-4e01-a59b-fefe961cb7f0",
   "metadata": {},
   "outputs": [
    {
     "data": {
      "text/plain": [
       "(629544, 21)"
      ]
     },
     "execution_count": 54,
     "metadata": {},
     "output_type": "execute_result"
    }
   ],
   "source": [
    "# Shape of dataset before dropping columns\n",
    "df.shape"
   ]
  },
  {
   "cell_type": "code",
   "execution_count": 55,
   "id": "07281e44-551f-4220-8df1-e214a7ca3056",
   "metadata": {},
   "outputs": [],
   "source": [
    "# Drop single_value_cols and less_ratio_instance columns from dataset\n",
    "df.drop(\n",
    "    columns=single_value_cols + less_ratio_instance,\n",
    "    inplace=True\n",
    ")"
   ]
  },
  {
   "cell_type": "code",
   "execution_count": 56,
   "id": "04c81380-0c60-4049-9f78-0d7ace4f543a",
   "metadata": {},
   "outputs": [
    {
     "data": {
      "text/plain": [
       "(629544, 18)"
      ]
     },
     "execution_count": 56,
     "metadata": {},
     "output_type": "execute_result"
    }
   ],
   "source": [
    "# Shape of dataset after dropping columns\n",
    "df.shape"
   ]
  },
  {
   "cell_type": "code",
   "execution_count": 57,
   "id": "469ca815-1f10-492a-92bb-88165b094527",
   "metadata": {
    "colab": {
     "base_uri": "https://localhost:8080/"
    },
    "executionInfo": {
     "elapsed": 40,
     "status": "ok",
     "timestamp": 1681123418782,
     "user": {
      "displayName": "Adnan sevinç",
      "userId": "10606629957436102111"
     },
     "user_tz": -120
    },
    "id": "469ca815-1f10-492a-92bb-88165b094527",
    "outputId": "4ee07705-b2be-4d04-d665-e28d6dc5321b"
   },
   "outputs": [
    {
     "data": {
      "text/plain": [
       "10"
      ]
     },
     "execution_count": 57,
     "metadata": {},
     "output_type": "execute_result"
    }
   ],
   "source": [
    "# Number of categorical columns before dropping\n",
    "len(cat_cols)"
   ]
  },
  {
   "cell_type": "code",
   "execution_count": 58,
   "id": "b8b3f26a-59e9-471d-8521-b525429d6fed",
   "metadata": {
    "executionInfo": {
     "elapsed": 39,
     "status": "ok",
     "timestamp": 1681123418781,
     "user": {
      "displayName": "Adnan sevinç",
      "userId": "10606629957436102111"
     },
     "user_tz": -120
    },
    "id": "b8b3f26a-59e9-471d-8521-b525429d6fed"
   },
   "outputs": [],
   "source": [
    "# Remove single_value_cols and less_ratio_instance columns from cat_cols\n",
    "cat_cols = [\n",
    "    col for col in cat_cols \n",
    "    if col not in single_value_cols + less_ratio_instance\n",
    "]"
   ]
  },
  {
   "cell_type": "code",
   "execution_count": 59,
   "id": "6760f836-ce68-4d43-b56c-de4ad7a26e48",
   "metadata": {},
   "outputs": [
    {
     "data": {
      "text/plain": [
       "7"
      ]
     },
     "execution_count": 59,
     "metadata": {},
     "output_type": "execute_result"
    }
   ],
   "source": [
    "# Number of categorical columns after dropping\n",
    "len(cat_cols)"
   ]
  },
  {
   "cell_type": "code",
   "execution_count": 60,
   "id": "0a8a6ade-09e7-41c4-902e-1f042c284773",
   "metadata": {
    "colab": {
     "base_uri": "https://localhost:8080/"
    },
    "executionInfo": {
     "elapsed": 34,
     "status": "ok",
     "timestamp": 1681123418782,
     "user": {
      "displayName": "Adnan sevinç",
      "userId": "10606629957436102111"
     },
     "user_tz": -120
    },
    "id": "0a8a6ade-09e7-41c4-902e-1f042c284773",
    "outputId": "4231aa2e-ca6e-4b71-ef88-44fcb3b5540d"
   },
   "outputs": [],
   "source": [
    "# Assertion of splitted columns\n",
    "assert df.shape[1] == len(cat_cols) + len(num_cols) + 1, \"There is an error in dropping\""
   ]
  },
  {
   "cell_type": "markdown",
   "id": "9ce02c40-538a-49db-8aef-f8f297eefa38",
   "metadata": {
    "id": "9ce02c40-538a-49db-8aef-f8f297eefa38"
   },
   "source": [
    "## Collinearity Check"
   ]
  },
  {
   "cell_type": "markdown",
   "id": "983934b3-33fc-458b-9dca-2b9a50a90184",
   "metadata": {},
   "source": [
    "We're going to remove variables that have over 70% collinearity."
   ]
  },
  {
   "cell_type": "markdown",
   "id": "-dh3qgF5Vcm0",
   "metadata": {
    "id": "-dh3qgF5Vcm0"
   },
   "source": [
    "#### Numerical"
   ]
  },
  {
   "cell_type": "code",
   "execution_count": 61,
   "id": "f2f7d344-ac0e-455f-9965-f0f3dc0a278d",
   "metadata": {},
   "outputs": [
    {
     "data": {
      "text/html": [
       "<div>\n",
       "<style scoped>\n",
       "    .dataframe tbody tr th:only-of-type {\n",
       "        vertical-align: middle;\n",
       "    }\n",
       "\n",
       "    .dataframe tbody tr th {\n",
       "        vertical-align: top;\n",
       "    }\n",
       "\n",
       "    .dataframe thead th {\n",
       "        text-align: right;\n",
       "    }\n",
       "</style>\n",
       "<table border=\"1\" class=\"dataframe\">\n",
       "  <thead>\n",
       "    <tr style=\"text-align: right;\">\n",
       "      <th></th>\n",
       "      <th>CreditScore</th>\n",
       "      <th>MetropolitanStatisticalAreaMSAOrMetropolitanDivision</th>\n",
       "      <th>MortgageInsurancePercentageMI</th>\n",
       "      <th>OriginalCombinedLoantoValueCLTV</th>\n",
       "      <th>OriginalDebttoIncomeDTIRatio</th>\n",
       "      <th>OriginalUPB</th>\n",
       "      <th>OriginalLoantoValueLTV</th>\n",
       "      <th>OriginalInterestRate</th>\n",
       "      <th>OriginalLoanTerm</th>\n",
       "      <th>NumberofBorrowers</th>\n",
       "    </tr>\n",
       "  </thead>\n",
       "  <tbody>\n",
       "    <tr>\n",
       "      <th>CreditScore</th>\n",
       "      <td>1.000000</td>\n",
       "      <td>0.005114</td>\n",
       "      <td>0.131866</td>\n",
       "      <td>0.080300</td>\n",
       "      <td>0.105622</td>\n",
       "      <td>0.002140</td>\n",
       "      <td>0.114018</td>\n",
       "      <td>0.137351</td>\n",
       "      <td>0.050240</td>\n",
       "      <td>0.005575</td>\n",
       "    </tr>\n",
       "    <tr>\n",
       "      <th>MetropolitanStatisticalAreaMSAOrMetropolitanDivision</th>\n",
       "      <td>0.005114</td>\n",
       "      <td>1.000000</td>\n",
       "      <td>0.044960</td>\n",
       "      <td>0.066174</td>\n",
       "      <td>0.011326</td>\n",
       "      <td>0.060118</td>\n",
       "      <td>0.063113</td>\n",
       "      <td>0.015540</td>\n",
       "      <td>0.004917</td>\n",
       "      <td>0.016501</td>\n",
       "    </tr>\n",
       "    <tr>\n",
       "      <th>MortgageInsurancePercentageMI</th>\n",
       "      <td>0.131866</td>\n",
       "      <td>0.044960</td>\n",
       "      <td>1.000000</td>\n",
       "      <td>0.456229</td>\n",
       "      <td>0.082848</td>\n",
       "      <td>0.019763</td>\n",
       "      <td>0.600593</td>\n",
       "      <td>0.201313</td>\n",
       "      <td>0.100536</td>\n",
       "      <td>0.033651</td>\n",
       "    </tr>\n",
       "    <tr>\n",
       "      <th>OriginalCombinedLoantoValueCLTV</th>\n",
       "      <td>0.080300</td>\n",
       "      <td>0.066174</td>\n",
       "      <td>0.456229</td>\n",
       "      <td>1.000000</td>\n",
       "      <td>0.097028</td>\n",
       "      <td>0.098934</td>\n",
       "      <td>0.800222</td>\n",
       "      <td>0.120998</td>\n",
       "      <td>0.194010</td>\n",
       "      <td>0.002355</td>\n",
       "    </tr>\n",
       "    <tr>\n",
       "      <th>OriginalDebttoIncomeDTIRatio</th>\n",
       "      <td>0.105622</td>\n",
       "      <td>0.011326</td>\n",
       "      <td>0.082848</td>\n",
       "      <td>0.097028</td>\n",
       "      <td>1.000000</td>\n",
       "      <td>0.110689</td>\n",
       "      <td>0.092303</td>\n",
       "      <td>0.047293</td>\n",
       "      <td>0.084964</td>\n",
       "      <td>0.066969</td>\n",
       "    </tr>\n",
       "    <tr>\n",
       "      <th>OriginalUPB</th>\n",
       "      <td>0.002140</td>\n",
       "      <td>0.060118</td>\n",
       "      <td>0.019763</td>\n",
       "      <td>0.098934</td>\n",
       "      <td>0.110689</td>\n",
       "      <td>1.000000</td>\n",
       "      <td>0.082251</td>\n",
       "      <td>0.168629</td>\n",
       "      <td>0.147176</td>\n",
       "      <td>0.133023</td>\n",
       "    </tr>\n",
       "    <tr>\n",
       "      <th>OriginalLoantoValueLTV</th>\n",
       "      <td>0.114018</td>\n",
       "      <td>0.063113</td>\n",
       "      <td>0.600593</td>\n",
       "      <td>0.800222</td>\n",
       "      <td>0.092303</td>\n",
       "      <td>0.082251</td>\n",
       "      <td>1.000000</td>\n",
       "      <td>0.152401</td>\n",
       "      <td>0.180242</td>\n",
       "      <td>0.014749</td>\n",
       "    </tr>\n",
       "    <tr>\n",
       "      <th>OriginalInterestRate</th>\n",
       "      <td>0.137351</td>\n",
       "      <td>0.015540</td>\n",
       "      <td>0.201313</td>\n",
       "      <td>0.120998</td>\n",
       "      <td>0.047293</td>\n",
       "      <td>0.168629</td>\n",
       "      <td>0.152401</td>\n",
       "      <td>1.000000</td>\n",
       "      <td>0.144397</td>\n",
       "      <td>0.075292</td>\n",
       "    </tr>\n",
       "    <tr>\n",
       "      <th>OriginalLoanTerm</th>\n",
       "      <td>0.050240</td>\n",
       "      <td>0.004917</td>\n",
       "      <td>0.100536</td>\n",
       "      <td>0.194010</td>\n",
       "      <td>0.084964</td>\n",
       "      <td>0.147176</td>\n",
       "      <td>0.180242</td>\n",
       "      <td>0.144397</td>\n",
       "      <td>1.000000</td>\n",
       "      <td>0.048441</td>\n",
       "    </tr>\n",
       "    <tr>\n",
       "      <th>NumberofBorrowers</th>\n",
       "      <td>0.005575</td>\n",
       "      <td>0.016501</td>\n",
       "      <td>0.033651</td>\n",
       "      <td>0.002355</td>\n",
       "      <td>0.066969</td>\n",
       "      <td>0.133023</td>\n",
       "      <td>0.014749</td>\n",
       "      <td>0.075292</td>\n",
       "      <td>0.048441</td>\n",
       "      <td>1.000000</td>\n",
       "    </tr>\n",
       "  </tbody>\n",
       "</table>\n",
       "</div>"
      ],
      "text/plain": [
       "                                                    CreditScore  \\\n",
       "CreditScore                                            1.000000   \n",
       "MetropolitanStatisticalAreaMSAOrMetropolitanDiv...     0.005114   \n",
       "MortgageInsurancePercentageMI                          0.131866   \n",
       "OriginalCombinedLoantoValueCLTV                        0.080300   \n",
       "OriginalDebttoIncomeDTIRatio                           0.105622   \n",
       "OriginalUPB                                            0.002140   \n",
       "OriginalLoantoValueLTV                                 0.114018   \n",
       "OriginalInterestRate                                   0.137351   \n",
       "OriginalLoanTerm                                       0.050240   \n",
       "NumberofBorrowers                                      0.005575   \n",
       "\n",
       "                                                    MetropolitanStatisticalAreaMSAOrMetropolitanDivision  \\\n",
       "CreditScore                                                                                  0.005114      \n",
       "MetropolitanStatisticalAreaMSAOrMetropolitanDiv...                                           1.000000      \n",
       "MortgageInsurancePercentageMI                                                                0.044960      \n",
       "OriginalCombinedLoantoValueCLTV                                                              0.066174      \n",
       "OriginalDebttoIncomeDTIRatio                                                                 0.011326      \n",
       "OriginalUPB                                                                                  0.060118      \n",
       "OriginalLoantoValueLTV                                                                       0.063113      \n",
       "OriginalInterestRate                                                                         0.015540      \n",
       "OriginalLoanTerm                                                                             0.004917      \n",
       "NumberofBorrowers                                                                            0.016501      \n",
       "\n",
       "                                                    MortgageInsurancePercentageMI  \\\n",
       "CreditScore                                                              0.131866   \n",
       "MetropolitanStatisticalAreaMSAOrMetropolitanDiv...                       0.044960   \n",
       "MortgageInsurancePercentageMI                                            1.000000   \n",
       "OriginalCombinedLoantoValueCLTV                                          0.456229   \n",
       "OriginalDebttoIncomeDTIRatio                                             0.082848   \n",
       "OriginalUPB                                                              0.019763   \n",
       "OriginalLoantoValueLTV                                                   0.600593   \n",
       "OriginalInterestRate                                                     0.201313   \n",
       "OriginalLoanTerm                                                         0.100536   \n",
       "NumberofBorrowers                                                        0.033651   \n",
       "\n",
       "                                                    OriginalCombinedLoantoValueCLTV  \\\n",
       "CreditScore                                                                0.080300   \n",
       "MetropolitanStatisticalAreaMSAOrMetropolitanDiv...                         0.066174   \n",
       "MortgageInsurancePercentageMI                                              0.456229   \n",
       "OriginalCombinedLoantoValueCLTV                                            1.000000   \n",
       "OriginalDebttoIncomeDTIRatio                                               0.097028   \n",
       "OriginalUPB                                                                0.098934   \n",
       "OriginalLoantoValueLTV                                                     0.800222   \n",
       "OriginalInterestRate                                                       0.120998   \n",
       "OriginalLoanTerm                                                           0.194010   \n",
       "NumberofBorrowers                                                          0.002355   \n",
       "\n",
       "                                                    OriginalDebttoIncomeDTIRatio  \\\n",
       "CreditScore                                                             0.105622   \n",
       "MetropolitanStatisticalAreaMSAOrMetropolitanDiv...                      0.011326   \n",
       "MortgageInsurancePercentageMI                                           0.082848   \n",
       "OriginalCombinedLoantoValueCLTV                                         0.097028   \n",
       "OriginalDebttoIncomeDTIRatio                                            1.000000   \n",
       "OriginalUPB                                                             0.110689   \n",
       "OriginalLoantoValueLTV                                                  0.092303   \n",
       "OriginalInterestRate                                                    0.047293   \n",
       "OriginalLoanTerm                                                        0.084964   \n",
       "NumberofBorrowers                                                       0.066969   \n",
       "\n",
       "                                                    OriginalUPB  \\\n",
       "CreditScore                                            0.002140   \n",
       "MetropolitanStatisticalAreaMSAOrMetropolitanDiv...     0.060118   \n",
       "MortgageInsurancePercentageMI                          0.019763   \n",
       "OriginalCombinedLoantoValueCLTV                        0.098934   \n",
       "OriginalDebttoIncomeDTIRatio                           0.110689   \n",
       "OriginalUPB                                            1.000000   \n",
       "OriginalLoantoValueLTV                                 0.082251   \n",
       "OriginalInterestRate                                   0.168629   \n",
       "OriginalLoanTerm                                       0.147176   \n",
       "NumberofBorrowers                                      0.133023   \n",
       "\n",
       "                                                    OriginalLoantoValueLTV  \\\n",
       "CreditScore                                                       0.114018   \n",
       "MetropolitanStatisticalAreaMSAOrMetropolitanDiv...                0.063113   \n",
       "MortgageInsurancePercentageMI                                     0.600593   \n",
       "OriginalCombinedLoantoValueCLTV                                   0.800222   \n",
       "OriginalDebttoIncomeDTIRatio                                      0.092303   \n",
       "OriginalUPB                                                       0.082251   \n",
       "OriginalLoantoValueLTV                                            1.000000   \n",
       "OriginalInterestRate                                              0.152401   \n",
       "OriginalLoanTerm                                                  0.180242   \n",
       "NumberofBorrowers                                                 0.014749   \n",
       "\n",
       "                                                    OriginalInterestRate  \\\n",
       "CreditScore                                                     0.137351   \n",
       "MetropolitanStatisticalAreaMSAOrMetropolitanDiv...              0.015540   \n",
       "MortgageInsurancePercentageMI                                   0.201313   \n",
       "OriginalCombinedLoantoValueCLTV                                 0.120998   \n",
       "OriginalDebttoIncomeDTIRatio                                    0.047293   \n",
       "OriginalUPB                                                     0.168629   \n",
       "OriginalLoantoValueLTV                                          0.152401   \n",
       "OriginalInterestRate                                            1.000000   \n",
       "OriginalLoanTerm                                                0.144397   \n",
       "NumberofBorrowers                                               0.075292   \n",
       "\n",
       "                                                    OriginalLoanTerm  \\\n",
       "CreditScore                                                 0.050240   \n",
       "MetropolitanStatisticalAreaMSAOrMetropolitanDiv...          0.004917   \n",
       "MortgageInsurancePercentageMI                               0.100536   \n",
       "OriginalCombinedLoantoValueCLTV                             0.194010   \n",
       "OriginalDebttoIncomeDTIRatio                                0.084964   \n",
       "OriginalUPB                                                 0.147176   \n",
       "OriginalLoantoValueLTV                                      0.180242   \n",
       "OriginalInterestRate                                        0.144397   \n",
       "OriginalLoanTerm                                            1.000000   \n",
       "NumberofBorrowers                                           0.048441   \n",
       "\n",
       "                                                    NumberofBorrowers  \n",
       "CreditScore                                                  0.005575  \n",
       "MetropolitanStatisticalAreaMSAOrMetropolitanDiv...           0.016501  \n",
       "MortgageInsurancePercentageMI                                0.033651  \n",
       "OriginalCombinedLoantoValueCLTV                              0.002355  \n",
       "OriginalDebttoIncomeDTIRatio                                 0.066969  \n",
       "OriginalUPB                                                  0.133023  \n",
       "OriginalLoantoValueLTV                                       0.014749  \n",
       "OriginalInterestRate                                         0.075292  \n",
       "OriginalLoanTerm                                             0.048441  \n",
       "NumberofBorrowers                                            1.000000  "
      ]
     },
     "execution_count": 61,
     "metadata": {},
     "output_type": "execute_result"
    }
   ],
   "source": [
    "# Display correlations of numerical variables using the Kendall method\n",
    "corr_abs = df[num_cols].corr('kendall').abs()\n",
    "corr_abs"
   ]
  },
  {
   "cell_type": "code",
   "execution_count": 62,
   "id": "ed64374c-3515-4b65-a49e-7f85b2e3b892",
   "metadata": {},
   "outputs": [
    {
     "data": {
      "image/png": "[encoded data removed]",
      "text/plain": [
       "<Figure size 1600x900 with 2 Axes>"
      ]
     },
     "metadata": {},
     "output_type": "display_data"
    }
   ],
   "source": [
    "plot_correlation_heatmap(df[num_cols])"
   ]
  },
  {
   "cell_type": "code",
   "execution_count": 63,
   "id": "24761dda-0899-49f5-bf07-ca96920b7fde",
   "metadata": {},
   "outputs": [
    {
     "data": {
      "text/html": [
       "<div>\n",
       "<style scoped>\n",
       "    .dataframe tbody tr th:only-of-type {\n",
       "        vertical-align: middle;\n",
       "    }\n",
       "\n",
       "    .dataframe tbody tr th {\n",
       "        vertical-align: top;\n",
       "    }\n",
       "\n",
       "    .dataframe thead th {\n",
       "        text-align: right;\n",
       "    }\n",
       "</style>\n",
       "<table border=\"1\" class=\"dataframe\">\n",
       "  <thead>\n",
       "    <tr style=\"text-align: right;\">\n",
       "      <th></th>\n",
       "      <th>col_pair_1</th>\n",
       "      <th>col_pair_2</th>\n",
       "      <th>corr</th>\n",
       "    </tr>\n",
       "  </thead>\n",
       "  <tbody>\n",
       "    <tr>\n",
       "      <th>0</th>\n",
       "      <td>OriginalLoantoValueLTV</td>\n",
       "      <td>OriginalCombinedLoantoValueCLTV</td>\n",
       "      <td>80.0222</td>\n",
       "    </tr>\n",
       "  </tbody>\n",
       "</table>\n",
       "</div>"
      ],
      "text/plain": [
       "               col_pair_1                       col_pair_2     corr\n",
       "0  OriginalLoantoValueLTV  OriginalCombinedLoantoValueCLTV  80.0222"
      ]
     },
     "execution_count": 63,
     "metadata": {},
     "output_type": "execute_result"
    }
   ],
   "source": [
    "# We deem a correlation value of 70% to signify multicollinearity.\n",
    "numeric_multicollinearity(df[num_cols], 70)"
   ]
  },
  {
   "cell_type": "code",
   "execution_count": 64,
   "id": "b55eb5e7-06d5-4586-861f-f0b4580b427c",
   "metadata": {
    "colab": {
     "base_uri": "https://localhost:8080/"
    },
    "executionInfo": {
     "elapsed": 12,
     "status": "ok",
     "timestamp": 1681123423730,
     "user": {
      "displayName": "Adnan sevinç",
      "userId": "10606629957436102111"
     },
     "user_tz": -120
    },
    "id": "b55eb5e7-06d5-4586-861f-f0b4580b427c",
    "outputId": "c5e51243-0b74-491e-9f36-38fd2fe8b49f"
   },
   "outputs": [
    {
     "data": {
      "text/plain": [
       "(629544, 18)"
      ]
     },
     "execution_count": 64,
     "metadata": {},
     "output_type": "execute_result"
    }
   ],
   "source": [
    "# Shape of dataset before dropping columns\n",
    "df.shape"
   ]
  },
  {
   "cell_type": "code",
   "execution_count": 65,
   "id": "168c4237-eeed-493a-8b5d-d16a566b6a47",
   "metadata": {
    "executionInfo": {
     "elapsed": 583,
     "status": "ok",
     "timestamp": 1681123424304,
     "user": {
      "displayName": "Adnan sevinç",
      "userId": "10606629957436102111"
     },
     "user_tz": -120
    },
    "id": "168c4237-eeed-493a-8b5d-d16a566b6a47"
   },
   "outputs": [],
   "source": [
    "# Drop OriginalCombinedLoantoValueCLTV as it has low gini index found via Logistic\n",
    "df = df.drop(['OriginalCombinedLoantoValueCLTV'], axis=1)"
   ]
  },
  {
   "cell_type": "code",
   "execution_count": 66,
   "id": "ffc3445f-e638-4585-b587-243faea7dd5a",
   "metadata": {
    "colab": {
     "base_uri": "https://localhost:8080/"
    },
    "executionInfo": {
     "elapsed": 20,
     "status": "ok",
     "timestamp": 1681123424304,
     "user": {
      "displayName": "Adnan sevinç",
      "userId": "10606629957436102111"
     },
     "user_tz": -120
    },
    "id": "ffc3445f-e638-4585-b587-243faea7dd5a",
    "outputId": "a5ef7cb0-c644-4cd1-885e-38a2313b5550"
   },
   "outputs": [
    {
     "data": {
      "text/plain": [
       "(629544, 17)"
      ]
     },
     "execution_count": 66,
     "metadata": {},
     "output_type": "execute_result"
    }
   ],
   "source": [
    "# Shape of dataset after dropping columns\n",
    "df.shape"
   ]
  },
  {
   "cell_type": "markdown",
   "id": "f5911534-a216-4854-a012-8fd1b895d578",
   "metadata": {
    "id": "f5911534-a216-4854-a012-8fd1b895d578"
   },
   "source": [
    "### Categorical "
   ]
  },
  {
   "cell_type": "code",
   "execution_count": 67,
   "id": "84be2553-65df-48d0-ae5f-793f50ec9a08",
   "metadata": {},
   "outputs": [],
   "source": [
    "corr_num_df = categorical_corr(df)"
   ]
  },
  {
   "cell_type": "code",
   "execution_count": 68,
   "id": "ed0520f5-8609-4594-9c94-38e9d37bb2ce",
   "metadata": {},
   "outputs": [
    {
     "data": {
      "text/html": [
       "<div>\n",
       "<style scoped>\n",
       "    .dataframe tbody tr th:only-of-type {\n",
       "        vertical-align: middle;\n",
       "    }\n",
       "\n",
       "    .dataframe tbody tr th {\n",
       "        vertical-align: top;\n",
       "    }\n",
       "\n",
       "    .dataframe thead th {\n",
       "        text-align: right;\n",
       "    }\n",
       "</style>\n",
       "<table border=\"1\" class=\"dataframe\">\n",
       "  <thead>\n",
       "    <tr style=\"text-align: right;\">\n",
       "      <th></th>\n",
       "      <th>pairs</th>\n",
       "      <th>corr</th>\n",
       "    </tr>\n",
       "  </thead>\n",
       "  <tbody>\n",
       "    <tr>\n",
       "      <th>0</th>\n",
       "      <td>(FirstTimeHomebuyerFlag, NumberofUnits)</td>\n",
       "      <td>3.06</td>\n",
       "    </tr>\n",
       "    <tr>\n",
       "      <th>1</th>\n",
       "      <td>(FirstTimeHomebuyerFlag, OccupancyStatus)</td>\n",
       "      <td>14.20</td>\n",
       "    </tr>\n",
       "    <tr>\n",
       "      <th>2</th>\n",
       "      <td>(FirstTimeHomebuyerFlag, Channel)</td>\n",
       "      <td>1.56</td>\n",
       "    </tr>\n",
       "    <tr>\n",
       "      <th>3</th>\n",
       "      <td>(FirstTimeHomebuyerFlag, PropertyState)</td>\n",
       "      <td>12.41</td>\n",
       "    </tr>\n",
       "    <tr>\n",
       "      <th>4</th>\n",
       "      <td>(FirstTimeHomebuyerFlag, PropertyType)</td>\n",
       "      <td>11.72</td>\n",
       "    </tr>\n",
       "    <tr>\n",
       "      <th>5</th>\n",
       "      <td>(FirstTimeHomebuyerFlag, LoanPurpose)</td>\n",
       "      <td>41.81</td>\n",
       "    </tr>\n",
       "    <tr>\n",
       "      <th>6</th>\n",
       "      <td>(NumberofUnits, OccupancyStatus)</td>\n",
       "      <td>19.31</td>\n",
       "    </tr>\n",
       "    <tr>\n",
       "      <th>7</th>\n",
       "      <td>(NumberofUnits, Channel)</td>\n",
       "      <td>0.21</td>\n",
       "    </tr>\n",
       "    <tr>\n",
       "      <th>8</th>\n",
       "      <td>(NumberofUnits, PropertyState)</td>\n",
       "      <td>9.35</td>\n",
       "    </tr>\n",
       "    <tr>\n",
       "      <th>9</th>\n",
       "      <td>(NumberofUnits, PropertyType)</td>\n",
       "      <td>5.29</td>\n",
       "    </tr>\n",
       "    <tr>\n",
       "      <th>10</th>\n",
       "      <td>(NumberofUnits, LoanPurpose)</td>\n",
       "      <td>2.36</td>\n",
       "    </tr>\n",
       "    <tr>\n",
       "      <th>11</th>\n",
       "      <td>(OccupancyStatus, Channel)</td>\n",
       "      <td>3.49</td>\n",
       "    </tr>\n",
       "    <tr>\n",
       "      <th>12</th>\n",
       "      <td>(OccupancyStatus, PropertyState)</td>\n",
       "      <td>9.45</td>\n",
       "    </tr>\n",
       "    <tr>\n",
       "      <th>13</th>\n",
       "      <td>(OccupancyStatus, PropertyType)</td>\n",
       "      <td>10.55</td>\n",
       "    </tr>\n",
       "    <tr>\n",
       "      <th>14</th>\n",
       "      <td>(OccupancyStatus, LoanPurpose)</td>\n",
       "      <td>8.73</td>\n",
       "    </tr>\n",
       "    <tr>\n",
       "      <th>15</th>\n",
       "      <td>(Channel, PropertyState)</td>\n",
       "      <td>15.67</td>\n",
       "    </tr>\n",
       "    <tr>\n",
       "      <th>16</th>\n",
       "      <td>(Channel, PropertyType)</td>\n",
       "      <td>4.92</td>\n",
       "    </tr>\n",
       "    <tr>\n",
       "      <th>17</th>\n",
       "      <td>(Channel, LoanPurpose)</td>\n",
       "      <td>2.75</td>\n",
       "    </tr>\n",
       "    <tr>\n",
       "      <th>18</th>\n",
       "      <td>(PropertyState, PropertyType)</td>\n",
       "      <td>23.42</td>\n",
       "    </tr>\n",
       "    <tr>\n",
       "      <th>19</th>\n",
       "      <td>(PropertyState, LoanPurpose)</td>\n",
       "      <td>19.66</td>\n",
       "    </tr>\n",
       "    <tr>\n",
       "      <th>20</th>\n",
       "      <td>(PropertyType, LoanPurpose)</td>\n",
       "      <td>16.69</td>\n",
       "    </tr>\n",
       "  </tbody>\n",
       "</table>\n",
       "</div>"
      ],
      "text/plain": [
       "                                        pairs   corr\n",
       "0     (FirstTimeHomebuyerFlag, NumberofUnits)   3.06\n",
       "1   (FirstTimeHomebuyerFlag, OccupancyStatus)  14.20\n",
       "2           (FirstTimeHomebuyerFlag, Channel)   1.56\n",
       "3     (FirstTimeHomebuyerFlag, PropertyState)  12.41\n",
       "4      (FirstTimeHomebuyerFlag, PropertyType)  11.72\n",
       "5       (FirstTimeHomebuyerFlag, LoanPurpose)  41.81\n",
       "6            (NumberofUnits, OccupancyStatus)  19.31\n",
       "7                    (NumberofUnits, Channel)   0.21\n",
       "8              (NumberofUnits, PropertyState)   9.35\n",
       "9               (NumberofUnits, PropertyType)   5.29\n",
       "10               (NumberofUnits, LoanPurpose)   2.36\n",
       "11                 (OccupancyStatus, Channel)   3.49\n",
       "12           (OccupancyStatus, PropertyState)   9.45\n",
       "13            (OccupancyStatus, PropertyType)  10.55\n",
       "14             (OccupancyStatus, LoanPurpose)   8.73\n",
       "15                   (Channel, PropertyState)  15.67\n",
       "16                    (Channel, PropertyType)   4.92\n",
       "17                     (Channel, LoanPurpose)   2.75\n",
       "18              (PropertyState, PropertyType)  23.42\n",
       "19               (PropertyState, LoanPurpose)  19.66\n",
       "20                (PropertyType, LoanPurpose)  16.69"
      ]
     },
     "execution_count": 68,
     "metadata": {},
     "output_type": "execute_result"
    }
   ],
   "source": [
    "corr_num_df"
   ]
  },
  {
   "cell_type": "code",
   "execution_count": 69,
   "id": "d0de1205-771e-48b1-9a68-5884da622479",
   "metadata": {},
   "outputs": [
    {
     "data": {
      "text/html": [
       "<div>\n",
       "<style scoped>\n",
       "    .dataframe tbody tr th:only-of-type {\n",
       "        vertical-align: middle;\n",
       "    }\n",
       "\n",
       "    .dataframe tbody tr th {\n",
       "        vertical-align: top;\n",
       "    }\n",
       "\n",
       "    .dataframe thead th {\n",
       "        text-align: right;\n",
       "    }\n",
       "</style>\n",
       "<table border=\"1\" class=\"dataframe\">\n",
       "  <thead>\n",
       "    <tr style=\"text-align: right;\">\n",
       "      <th></th>\n",
       "      <th>pairs</th>\n",
       "      <th>corr</th>\n",
       "    </tr>\n",
       "  </thead>\n",
       "  <tbody>\n",
       "  </tbody>\n",
       "</table>\n",
       "</div>"
      ],
      "text/plain": [
       "Empty DataFrame\n",
       "Columns: [pairs, corr]\n",
       "Index: []"
      ]
     },
     "execution_count": 69,
     "metadata": {},
     "output_type": "execute_result"
    }
   ],
   "source": [
    "# Check whether there is multicollineratity between cat variables\n",
    "corr_num_df[corr_num_df['corr'] > 70]"
   ]
  },
  {
   "cell_type": "markdown",
   "id": "bba5bbbf-0bd8-433c-8224-8cda301de107",
   "metadata": {
    "id": "bba5bbbf-0bd8-433c-8224-8cda301de107"
   },
   "source": [
    "# Final Dataset for Modeling "
   ]
  },
  {
   "cell_type": "code",
   "execution_count": 70,
   "id": "bbb09691-b466-4d3b-b0f4-99b6d5507c87",
   "metadata": {},
   "outputs": [
    {
     "name": "stdout",
     "output_type": "stream",
     "text": [
      "Our final dataset:\n",
      "consist of 629544 rows and 17 columns(variables)\n"
     ]
    }
   ],
   "source": [
    "print(f\"Our final dataset:\\nconsist of {df.shape[0]} rows and {df.shape[1]} columns(variables)\")"
   ]
  },
  {
   "cell_type": "code",
   "execution_count": 71,
   "id": "e8c3872c-d8c8-47d0-9f75-98356c503539",
   "metadata": {},
   "outputs": [
    {
     "name": "stdout",
     "output_type": "stream",
     "text": [
      "CreditScore\n",
      "FirstTimeHomebuyerFlag\n",
      "MetropolitanStatisticalAreaMSAOrMetropolitanDivision\n",
      "MortgageInsurancePercentageMI\n",
      "NumberofUnits\n",
      "OccupancyStatus\n",
      "OriginalDebttoIncomeDTIRatio\n",
      "OriginalUPB\n",
      "OriginalLoantoValueLTV\n",
      "OriginalInterestRate\n",
      "Channel\n",
      "PropertyState\n",
      "PropertyType\n",
      "LoanPurpose\n",
      "OriginalLoanTerm\n",
      "NumberofBorrowers\n",
      "default\n"
     ]
    }
   ],
   "source": [
    "# Final variables\n",
    "for col in df.columns:\n",
    "    print(col)"
   ]
  },
  {
   "cell_type": "markdown",
   "id": "9b51caef-77fe-47aa-affc-6847b9300c85",
   "metadata": {
    "id": "9b51caef-77fe-47aa-affc-6847b9300c85"
   },
   "source": [
    "## Encoding Categorical Variables"
   ]
  },
  {
   "cell_type": "markdown",
   "id": "12987b47-3031-4219-be51-730683cf27ef",
   "metadata": {},
   "source": [
    "We are employing LabelEncoder for categorical variables with just two unique values and using dummy variables for those with more than two unique values."
   ]
  },
  {
   "cell_type": "code",
   "execution_count": 72,
   "id": "358e0905-79e3-4a87-a4a6-4c7ba56b4ff9",
   "metadata": {
    "executionInfo": {
     "elapsed": 4,
     "status": "ok",
     "timestamp": 1681123436463,
     "user": {
      "displayName": "Adnan sevinç",
      "userId": "10606629957436102111"
     },
     "user_tz": -120
    },
    "id": "358e0905-79e3-4a87-a4a6-4c7ba56b4ff9"
   },
   "outputs": [],
   "source": [
    "labelencoder = LabelEncoder()"
   ]
  },
  {
   "cell_type": "code",
   "execution_count": 73,
   "id": "d293fdce-98cd-46b1-8acf-8b98320c0c6a",
   "metadata": {
    "colab": {
     "base_uri": "https://localhost:8080/"
    },
    "executionInfo": {
     "elapsed": 10,
     "status": "ok",
     "timestamp": 1681123437565,
     "user": {
      "displayName": "Adnan sevinç",
      "userId": "10606629957436102111"
     },
     "user_tz": -120
    },
    "id": "d293fdce-98cd-46b1-8acf-8b98320c0c6a",
    "outputId": "dc6369fc-9651-4839-f1ec-6ad9e05d6d32"
   },
   "outputs": [],
   "source": [
    "# Define categorical, numerical, and target variables.\n",
    "cat_cols, num_cols, target_cols = split_variables(df, \"default\")"
   ]
  },
  {
   "cell_type": "code",
   "execution_count": 74,
   "id": "71b124ca-ef94-44fb-8e3b-147256baecc5",
   "metadata": {},
   "outputs": [
    {
     "data": {
      "text/html": [
       "<div>\n",
       "<style scoped>\n",
       "    .dataframe tbody tr th:only-of-type {\n",
       "        vertical-align: middle;\n",
       "    }\n",
       "\n",
       "    .dataframe tbody tr th {\n",
       "        vertical-align: top;\n",
       "    }\n",
       "\n",
       "    .dataframe thead th {\n",
       "        text-align: right;\n",
       "    }\n",
       "</style>\n",
       "<table border=\"1\" class=\"dataframe\">\n",
       "  <thead>\n",
       "    <tr style=\"text-align: right;\">\n",
       "      <th></th>\n",
       "      <th>variables</th>\n",
       "      <th>unique_values</th>\n",
       "      <th>no_unique_values</th>\n",
       "    </tr>\n",
       "  </thead>\n",
       "  <tbody>\n",
       "    <tr>\n",
       "      <th>0</th>\n",
       "      <td>FirstTimeHomebuyerFlag</td>\n",
       "      <td>[Y, N]</td>\n",
       "      <td>2</td>\n",
       "    </tr>\n",
       "    <tr>\n",
       "      <th>1</th>\n",
       "      <td>NumberofUnits</td>\n",
       "      <td>[1, 2, 4, 3]</td>\n",
       "      <td>4</td>\n",
       "    </tr>\n",
       "    <tr>\n",
       "      <th>2</th>\n",
       "      <td>OccupancyStatus</td>\n",
       "      <td>[P, I, S]</td>\n",
       "      <td>3</td>\n",
       "    </tr>\n",
       "    <tr>\n",
       "      <th>3</th>\n",
       "      <td>Channel</td>\n",
       "      <td>[T, R]</td>\n",
       "      <td>2</td>\n",
       "    </tr>\n",
       "    <tr>\n",
       "      <th>4</th>\n",
       "      <td>PropertyState</td>\n",
       "      <td>[PA, CA, NC, WA, OH, KY, FL, NV, TN, AZ, ID, N...</td>\n",
       "      <td>54</td>\n",
       "    </tr>\n",
       "    <tr>\n",
       "      <th>5</th>\n",
       "      <td>PropertyType</td>\n",
       "      <td>[SF, MH, PU, CO, CP]</td>\n",
       "      <td>5</td>\n",
       "    </tr>\n",
       "    <tr>\n",
       "      <th>6</th>\n",
       "      <td>LoanPurpose</td>\n",
       "      <td>[P, C, N]</td>\n",
       "      <td>3</td>\n",
       "    </tr>\n",
       "  </tbody>\n",
       "</table>\n",
       "</div>"
      ],
      "text/plain": [
       "                variables                                      unique_values  \\\n",
       "0  FirstTimeHomebuyerFlag                                             [Y, N]   \n",
       "1           NumberofUnits                                       [1, 2, 4, 3]   \n",
       "2         OccupancyStatus                                          [P, I, S]   \n",
       "3                 Channel                                             [T, R]   \n",
       "4           PropertyState  [PA, CA, NC, WA, OH, KY, FL, NV, TN, AZ, ID, N...   \n",
       "5            PropertyType                               [SF, MH, PU, CO, CP]   \n",
       "6             LoanPurpose                                          [P, C, N]   \n",
       "\n",
       "   no_unique_values  \n",
       "0                 2  \n",
       "1                 4  \n",
       "2                 3  \n",
       "3                 2  \n",
       "4                54  \n",
       "5                 5  \n",
       "6                 3  "
      ]
     },
     "execution_count": 74,
     "metadata": {},
     "output_type": "execute_result"
    }
   ],
   "source": [
    "cat_unique_df = cat_unique_values(df[cat_cols])\n",
    "cat_unique_df"
   ]
  },
  {
   "cell_type": "code",
   "execution_count": 75,
   "id": "68bbb043-8493-4171-a099-14a4f1570cee",
   "metadata": {},
   "outputs": [],
   "source": [
    "# Categorical need to be encoded\n",
    "get_dum, label_encode = cat_encoding(df[cat_cols])"
   ]
  },
  {
   "cell_type": "code",
   "execution_count": 76,
   "id": "3d4741f1-7478-48f8-91d6-cfdc15799420",
   "metadata": {},
   "outputs": [
    {
     "data": {
      "text/plain": [
       "['NumberofUnits',\n",
       " 'OccupancyStatus',\n",
       " 'PropertyState',\n",
       " 'PropertyType',\n",
       " 'LoanPurpose']"
      ]
     },
     "execution_count": 76,
     "metadata": {},
     "output_type": "execute_result"
    }
   ],
   "source": [
    "# Variables to be get dummied\n",
    "get_dum"
   ]
  },
  {
   "cell_type": "code",
   "execution_count": 77,
   "id": "c2bfbd17-4316-4f90-8639-d19ff8920264",
   "metadata": {},
   "outputs": [
    {
     "data": {
      "text/plain": [
       "['FirstTimeHomebuyerFlag', 'Channel']"
      ]
     },
     "execution_count": 77,
     "metadata": {},
     "output_type": "execute_result"
    }
   ],
   "source": [
    "# Variables to be Label Encoded\n",
    "label_encode"
   ]
  },
  {
   "cell_type": "code",
   "execution_count": 78,
   "id": "c93e1b76-0960-4bdb-899d-fe799d84df9c",
   "metadata": {},
   "outputs": [
    {
     "data": {
      "text/plain": [
       "81"
      ]
     },
     "execution_count": 78,
     "metadata": {},
     "output_type": "execute_result"
    }
   ],
   "source": [
    "# After encoding we will have\n",
    "cat_unique_df[cat_unique_df[\"no_unique_values\"] > 2][\"no_unique_values\"].sum() \\\n",
    "+ cat_unique_df[cat_unique_df[\"no_unique_values\"] <= 2][\"no_unique_values\"].count() \\\n",
    "+ len(num_cols) \\\n",
    "+ 1  # for target variables"
   ]
  },
  {
   "cell_type": "code",
   "execution_count": 79,
   "id": "e43ba896-25f5-469f-917a-70034db476aa",
   "metadata": {},
   "outputs": [
    {
     "data": {
      "text/plain": [
       "['NumberofUnits',\n",
       " 'OccupancyStatus',\n",
       " 'PropertyState',\n",
       " 'PropertyType',\n",
       " 'LoanPurpose']"
      ]
     },
     "execution_count": 79,
     "metadata": {},
     "output_type": "execute_result"
    }
   ],
   "source": [
    "get_dum"
   ]
  },
  {
   "cell_type": "code",
   "execution_count": 80,
   "id": "af778623-8a76-4afa-95e4-a88c4375702d",
   "metadata": {},
   "outputs": [
    {
     "data": {
      "text/plain": [
       "['FirstTimeHomebuyerFlag', 'Channel']"
      ]
     },
     "execution_count": 80,
     "metadata": {},
     "output_type": "execute_result"
    }
   ],
   "source": [
    "label_encode"
   ]
  },
  {
   "cell_type": "code",
   "execution_count": 81,
   "id": "346576ea-0c9d-4152-9146-29fe77b9fc9f",
   "metadata": {},
   "outputs": [],
   "source": [
    "# Get dummies for categorical variables\n",
    "dum_lev = pd.get_dummies(df[get_dum])"
   ]
  },
  {
   "cell_type": "code",
   "execution_count": 82,
   "id": "2a6c283f-1d66-48ef-b8a7-6806e845f6cb",
   "metadata": {},
   "outputs": [],
   "source": [
    "# Drop categorical variables\n",
    "df = df.drop(get_dum, axis=1)"
   ]
  },
  {
   "cell_type": "code",
   "execution_count": 83,
   "id": "d5ff8b84-fc91-4d27-a9d2-08f9985031b2",
   "metadata": {},
   "outputs": [],
   "source": [
    "# Concate dum_lev with df\n",
    "df = pd.concat([df, dum_lev], axis=1)  # concat horizontally"
   ]
  },
  {
   "cell_type": "code",
   "execution_count": 84,
   "id": "5cedc491-805c-443a-a3bf-97964bdb20ca",
   "metadata": {},
   "outputs": [],
   "source": [
    "# Label encoder for binary variables\n",
    "for col in label_encode:\n",
    "    labelencoder.fit(df[col])\n",
    "    df[col] = labelencoder.transform(df[col])"
   ]
  },
  {
   "cell_type": "code",
   "execution_count": 85,
   "id": "ebf54e13-67c5-457e-bdf0-6fb707ae0a9c",
   "metadata": {},
   "outputs": [
    {
     "name": "stdout",
     "output_type": "stream",
     "text": [
      "\n",
      "There are 629544 rows and 81 columns \n"
     ]
    }
   ],
   "source": [
    "print(f\"\\nThere are {df.shape[0]} rows and {df.shape[1]} columns \")"
   ]
  },
  {
   "cell_type": "markdown",
   "id": "e8b93dc5-51f0-4376-b934-9df0cddeb618",
   "metadata": {
    "id": "e8b93dc5-51f0-4376-b934-9df0cddeb618"
   },
   "source": [
    "## Split Dataset Into X and Y"
   ]
  },
  {
   "cell_type": "code",
   "execution_count": 86,
   "id": "091b4420-a9c2-4198-99e3-840107a4342e",
   "metadata": {
    "executionInfo": {
     "elapsed": 24,
     "status": "ok",
     "timestamp": 1681123437998,
     "user": {
      "displayName": "Adnan sevinç",
      "userId": "10606629957436102111"
     },
     "user_tz": -120
    },
    "id": "091b4420-a9c2-4198-99e3-840107a4342e"
   },
   "outputs": [],
   "source": [
    "# Split Dataset into X and Y\n",
    "X = df.drop('default', axis=1)\n",
    "y = df['default']"
   ]
  },
  {
   "cell_type": "code",
   "execution_count": 87,
   "id": "edc1fa7b-9345-4090-99e7-76548ea43cf7",
   "metadata": {
    "colab": {
     "base_uri": "https://localhost:8080/"
    },
    "executionInfo": {
     "elapsed": 23,
     "status": "ok",
     "timestamp": 1681123437998,
     "user": {
      "displayName": "Adnan sevinç",
      "userId": "10606629957436102111"
     },
     "user_tz": -120
    },
    "id": "edc1fa7b-9345-4090-99e7-76548ea43cf7",
    "outputId": "a8aa4f45-8bdb-4bcf-af9f-bc6f24b4e3bc"
   },
   "outputs": [
    {
     "name": "stdout",
     "output_type": "stream",
     "text": [
      "Dataset shape:\n",
      " (629544, 81)\n",
      "X dataset shape:\n",
      " (629544, 80)\n",
      "y dataset shape:\n",
      " (629544,)\n"
     ]
    }
   ],
   "source": [
    "print(f\"Dataset shape:\\n {df.shape}\")\n",
    "print(f\"X dataset shape:\\n {X.shape}\")\n",
    "print(f\"y dataset shape:\\n {y.shape}\")"
   ]
  },
  {
   "cell_type": "code",
   "execution_count": 88,
   "id": "50a2712e-889e-4e62-9a20-0302343fa0be",
   "metadata": {
    "colab": {
     "base_uri": "https://localhost:8080/"
    },
    "executionInfo": {
     "elapsed": 20,
     "status": "ok",
     "timestamp": 1681123437999,
     "user": {
      "displayName": "Adnan sevinç",
      "userId": "10606629957436102111"
     },
     "user_tz": -120
    },
    "id": "50a2712e-889e-4e62-9a20-0302343fa0be",
    "outputId": "8b33ed32-1c74-42a4-efa1-6b42d4675c9e"
   },
   "outputs": [
    {
     "data": {
      "text/plain": [
       "default\n",
       "0    591775\n",
       "1     37769\n",
       "Name: count, dtype: int64"
      ]
     },
     "execution_count": 88,
     "metadata": {},
     "output_type": "execute_result"
    }
   ],
   "source": [
    "# The count of defaults\n",
    "y.value_counts()"
   ]
  },
  {
   "cell_type": "code",
   "execution_count": 89,
   "id": "b1dd6f46-e637-4fe7-a1e8-762a94236967",
   "metadata": {
    "colab": {
     "base_uri": "https://localhost:8080/"
    },
    "executionInfo": {
     "elapsed": 16,
     "status": "ok",
     "timestamp": 1681123437999,
     "user": {
      "displayName": "Adnan sevinç",
      "userId": "10606629957436102111"
     },
     "user_tz": -120
    },
    "id": "b1dd6f46-e637-4fe7-a1e8-762a94236967",
    "outputId": "6a303165-bf41-402d-fe66-f0fa123f6989"
   },
   "outputs": [
    {
     "data": {
      "text/plain": [
       "default\n",
       "0    0.940006\n",
       "1    0.059994\n",
       "Name: proportion, dtype: float64"
      ]
     },
     "execution_count": 89,
     "metadata": {},
     "output_type": "execute_result"
    }
   ],
   "source": [
    "# The percentages of defaults.\n",
    "y.value_counts(normalize=True)"
   ]
  },
  {
   "cell_type": "markdown",
   "id": "5ba15697-2d0d-45c4-884b-c2e35fd40843",
   "metadata": {
    "id": "5ba15697-2d0d-45c4-884b-c2e35fd40843"
   },
   "source": [
    "## Split Dataset Into Train and Test set"
   ]
  },
  {
   "cell_type": "markdown",
   "id": "a93e3163-36f8-4897-9363-45a0d42c3ed0",
   "metadata": {},
   "source": [
    "The dataset is divided into a training set and a test set with 70% and 30% ratios, respectively"
   ]
  },
  {
   "cell_type": "code",
   "execution_count": 90,
   "id": "5e7297f4-4d0f-4383-bbca-aad5bc5d1a14",
   "metadata": {
    "colab": {
     "base_uri": "https://localhost:8080/"
    },
    "executionInfo": {
     "elapsed": 1794,
     "status": "ok",
     "timestamp": 1681123440152,
     "user": {
      "displayName": "Adnan sevinç",
      "userId": "10606629957436102111"
     },
     "user_tz": -120
    },
    "id": "5e7297f4-4d0f-4383-bbca-aad5bc5d1a14",
    "outputId": "e7acd186-afb6-4ef7-b0ce-f12c6925dbbd"
   },
   "outputs": [],
   "source": [
    "# Split the data into training and testing sets\n",
    "X_train, X_test, y_train, y_test = train_test_split(\n",
    "    X, \n",
    "    y, \n",
    "    test_size=0.3, \n",
    "    random_state=42,\n",
    "    stratify=y,\n",
    "    shuffle=True\n",
    ")"
   ]
  },
  {
   "cell_type": "code",
   "execution_count": 91,
   "id": "e40d73a4-4717-492a-b134-c24aadcb909b",
   "metadata": {},
   "outputs": [
    {
     "name": "stdout",
     "output_type": "stream",
     "text": [
      "X_train shape:\n",
      " (440680, 80)\n",
      "y_train shape:\n",
      " (440680,)\n",
      "X_test shape:\n",
      " (188864, 80)\n",
      "y_test shape:\n",
      " (188864,)\n"
     ]
    }
   ],
   "source": [
    "# Print the shapes of the training and testing sets\n",
    "print(\"X_train shape:\\n\", X_train.shape)\n",
    "print(\"y_train shape:\\n\", y_train.shape)\n",
    "print(\"X_test shape:\\n\", X_test.shape)\n",
    "print(\"y_test shape:\\n\", y_test.shape)"
   ]
  },
  {
   "cell_type": "code",
   "execution_count": 92,
   "id": "u3An5rx7m7NI",
   "metadata": {
    "colab": {
     "base_uri": "https://localhost:8080/"
    },
    "executionInfo": {
     "elapsed": 54,
     "status": "ok",
     "timestamp": 1681123440152,
     "user": {
      "displayName": "Adnan sevinç",
      "userId": "10606629957436102111"
     },
     "user_tz": -120
    },
    "id": "u3An5rx7m7NI",
    "outputId": "da3c862b-3d35-4405-90a8-06476fcf67bb"
   },
   "outputs": [
    {
     "data": {
      "text/plain": [
       "default\n",
       "0    414242\n",
       "1     26438\n",
       "Name: count, dtype: int64"
      ]
     },
     "execution_count": 92,
     "metadata": {},
     "output_type": "execute_result"
    }
   ],
   "source": [
    "# The count of defaults for y_train\n",
    "y_train.value_counts()"
   ]
  },
  {
   "cell_type": "code",
   "execution_count": 93,
   "id": "QZYc-7WQpz9U",
   "metadata": {
    "colab": {
     "base_uri": "https://localhost:8080/"
    },
    "executionInfo": {
     "elapsed": 48,
     "status": "ok",
     "timestamp": 1681123440153,
     "user": {
      "displayName": "Adnan sevinç",
      "userId": "10606629957436102111"
     },
     "user_tz": -120
    },
    "id": "QZYc-7WQpz9U",
    "outputId": "5c1b56b4-7f6a-46e2-a24e-9368ff8453ad"
   },
   "outputs": [
    {
     "data": {
      "text/plain": [
       "default\n",
       "0    0.940006\n",
       "1    0.059994\n",
       "Name: proportion, dtype: float64"
      ]
     },
     "execution_count": 93,
     "metadata": {},
     "output_type": "execute_result"
    }
   ],
   "source": [
    "# The percentages of defaults for y_train\n",
    "y_train.value_counts(normalize=True)"
   ]
  },
  {
   "cell_type": "code",
   "execution_count": 94,
   "id": "iMG3FwFzm_n3",
   "metadata": {
    "colab": {
     "base_uri": "https://localhost:8080/"
    },
    "executionInfo": {
     "elapsed": 44,
     "status": "ok",
     "timestamp": 1681123440153,
     "user": {
      "displayName": "Adnan sevinç",
      "userId": "10606629957436102111"
     },
     "user_tz": -120
    },
    "id": "iMG3FwFzm_n3",
    "outputId": "98c62f1e-32ca-40e8-edfa-60e133a2e129"
   },
   "outputs": [
    {
     "data": {
      "text/plain": [
       "default\n",
       "0    177533\n",
       "1     11331\n",
       "Name: count, dtype: int64"
      ]
     },
     "execution_count": 94,
     "metadata": {},
     "output_type": "execute_result"
    }
   ],
   "source": [
    "# The count of defaults for y_test\n",
    "y_test.value_counts()"
   ]
  },
  {
   "cell_type": "code",
   "execution_count": 95,
   "id": "3CSvG_v-p8fU",
   "metadata": {
    "colab": {
     "base_uri": "https://localhost:8080/"
    },
    "executionInfo": {
     "elapsed": 41,
     "status": "ok",
     "timestamp": 1681123440153,
     "user": {
      "displayName": "Adnan sevinç",
      "userId": "10606629957436102111"
     },
     "user_tz": -120
    },
    "id": "3CSvG_v-p8fU",
    "outputId": "150518fb-5dce-4d81-e9e8-d17a45463455"
   },
   "outputs": [
    {
     "data": {
      "text/plain": [
       "default\n",
       "0    0.940004\n",
       "1    0.059996\n",
       "Name: proportion, dtype: float64"
      ]
     },
     "execution_count": 95,
     "metadata": {},
     "output_type": "execute_result"
    }
   ],
   "source": [
    "# The percentages of defaults for y_test\n",
    "y_test.value_counts(normalize=True)"
   ]
  },
  {
   "cell_type": "markdown",
   "id": "8df125d0-4100-4be5-9da6-4d54d9b125cf",
   "metadata": {
    "id": "8df125d0-4100-4be5-9da6-4d54d9b125cf"
   },
   "source": [
    "## Undersampling Implementation"
   ]
  },
  {
   "cell_type": "markdown",
   "id": "e5498e5d-88fd-4813-83f8-df77479654e6",
   "metadata": {},
   "source": [
    "we performed undersampling technique in order to alleviate the impact of the imbalanced dataset problem."
   ]
  },
  {
   "cell_type": "code",
   "execution_count": 96,
   "id": "aecb71c6-e0f2-432d-9cd1-f99598b63245",
   "metadata": {},
   "outputs": [],
   "source": [
    "rus = RandomUnderSampler(random_state=42)"
   ]
  },
  {
   "cell_type": "code",
   "execution_count": 97,
   "id": "24c9cbac-7d96-4932-b3b7-4bd4568197d3",
   "metadata": {
    "executionInfo": {
     "elapsed": 38,
     "status": "ok",
     "timestamp": 1681123440154,
     "user": {
      "displayName": "Adnan sevinç",
      "userId": "10606629957436102111"
     },
     "user_tz": -120
    },
    "id": "24c9cbac-7d96-4932-b3b7-4bd4568197d3"
   },
   "outputs": [],
   "source": [
    "X_resampled, y_resampled = rus.fit_resample(X_train, y_train)  # Resample the dataset"
   ]
  },
  {
   "cell_type": "code",
   "execution_count": 98,
   "id": "60ea0283-4946-4357-b623-201cfe6e5eb1",
   "metadata": {},
   "outputs": [
    {
     "data": {
      "image/png": "[encoded data removed]",
      "text/plain": [
       "<Figure size 640x480 with 1 Axes>"
      ]
     },
     "metadata": {},
     "output_type": "display_data"
    }
   ],
   "source": [
    "# The percentages of defaults for y_resampled resampled\n",
    "y_resampled.value_counts().plot.pie(autopct=\"%1.1f%%\")\n",
    "plt.title(\"Default Status\")\n",
    "plt.ylabel(\"\")\n",
    "plt.show()"
   ]
  },
  {
   "cell_type": "code",
   "execution_count": 99,
   "id": "a9a96dd3-d5a7-45a7-a058-659705d219e7",
   "metadata": {
    "executionInfo": {
     "elapsed": 38,
     "status": "ok",
     "timestamp": 1681123440156,
     "user": {
      "displayName": "Adnan sevinç",
      "userId": "10606629957436102111"
     },
     "user_tz": -120
    },
    "id": "a9a96dd3-d5a7-45a7-a058-659705d219e7"
   },
   "outputs": [],
   "source": [
    "# Assign resamples to trains dataset\n",
    "X_train = X_resampled.copy()\n",
    "y_train = y_resampled.copy()"
   ]
  },
  {
   "cell_type": "code",
   "execution_count": 100,
   "id": "kBbytc25qMBa",
   "metadata": {
    "colab": {
     "base_uri": "https://localhost:8080/"
    },
    "executionInfo": {
     "elapsed": 37,
     "status": "ok",
     "timestamp": 1681123440157,
     "user": {
      "displayName": "Adnan sevinç",
      "userId": "10606629957436102111"
     },
     "user_tz": -120
    },
    "id": "kBbytc25qMBa",
    "outputId": "31f56df1-057e-4502-923d-7e300ef95760"
   },
   "outputs": [
    {
     "name": "stdout",
     "output_type": "stream",
     "text": [
      "X_train shape: (52876, 80)\n",
      "y_train shape: (52876,)\n",
      "X_test shape: (188864, 80)\n",
      "y_test shape: (188864,)\n"
     ]
    }
   ],
   "source": [
    "print(\"X_train shape:\", X_train.shape)\n",
    "print(\"y_train shape:\", y_train.shape)\n",
    "print(\"X_test shape:\", X_test.shape)\n",
    "print(\"y_test shape:\", y_test.shape)"
   ]
  },
  {
   "cell_type": "code",
   "execution_count": 101,
   "id": "5041c8aa-30af-4b9e-81aa-f40b185376e2",
   "metadata": {
    "colab": {
     "base_uri": "https://localhost:8080/",
     "height": 428
    },
    "executionInfo": {
     "elapsed": 38,
     "status": "ok",
     "timestamp": 1681123440156,
     "user": {
      "displayName": "Adnan sevinç",
      "userId": "10606629957436102111"
     },
     "user_tz": -120
    },
    "id": "5041c8aa-30af-4b9e-81aa-f40b185376e2",
    "outputId": "21d82674-09bf-4a8d-de39-064b9e634e6f"
   },
   "outputs": [
    {
     "data": {
      "image/png": "[encoded data removed]",
      "text/plain": [
       "<Figure size 640x480 with 1 Axes>"
      ]
     },
     "metadata": {},
     "output_type": "display_data"
    }
   ],
   "source": [
    "# The percentages of defaults for y_train resampled\n",
    "y_train.value_counts().plot.pie(autopct=\"%1.1f%%\")\n",
    "plt.title(\"Default Status\")\n",
    "plt.ylabel(\"\")\n",
    "plt.show()"
   ]
  },
  {
   "cell_type": "code",
   "execution_count": 102,
   "id": "9dd1b25c-48bc-4fee-a418-c99994b790ce",
   "metadata": {
    "colab": {
     "base_uri": "https://localhost:8080/",
     "height": 428
    },
    "executionInfo": {
     "elapsed": 38,
     "status": "ok",
     "timestamp": 1681123440157,
     "user": {
      "displayName": "Adnan sevinç",
      "userId": "10606629957436102111"
     },
     "user_tz": -120
    },
    "id": "9dd1b25c-48bc-4fee-a418-c99994b790ce",
    "outputId": "537ae3d4-0231-4651-897e-728f03731882"
   },
   "outputs": [
    {
     "data": {
      "image/png": "[encoded data removed]",
      "text/plain": [
       "<Figure size 640x480 with 1 Axes>"
      ]
     },
     "metadata": {},
     "output_type": "display_data"
    }
   ],
   "source": [
    "# The percentages of defaults for y_test resampled\n",
    "y_test.value_counts().plot.pie(autopct=\"%1.1f%%\")\n",
    "plt.title(\"Default Status\")\n",
    "plt.ylabel(\"\")\n",
    "plt.show()"
   ]
  },
  {
   "cell_type": "code",
   "execution_count": 103,
   "id": "MUfA0lpMqec-",
   "metadata": {
    "colab": {
     "base_uri": "https://localhost:8080/"
    },
    "executionInfo": {
     "elapsed": 32,
     "status": "ok",
     "timestamp": 1681123440158,
     "user": {
      "displayName": "Adnan sevinç",
      "userId": "10606629957436102111"
     },
     "user_tz": -120
    },
    "id": "MUfA0lpMqec-",
    "outputId": "413fc0fc-adb1-4346-b7a6-21e9ac6db183"
   },
   "outputs": [
    {
     "data": {
      "text/plain": [
       "default\n",
       "0    26438\n",
       "1    26438\n",
       "Name: count, dtype: int64"
      ]
     },
     "execution_count": 103,
     "metadata": {},
     "output_type": "execute_result"
    }
   ],
   "source": [
    "# The count of defaults for y_train\n",
    "y_train.value_counts()"
   ]
  },
  {
   "cell_type": "code",
   "execution_count": 104,
   "id": "B7IrO2aXqeQ8",
   "metadata": {
    "colab": {
     "base_uri": "https://localhost:8080/"
    },
    "executionInfo": {
     "elapsed": 26,
     "status": "ok",
     "timestamp": 1681123440159,
     "user": {
      "displayName": "Adnan sevinç",
      "userId": "10606629957436102111"
     },
     "user_tz": -120
    },
    "id": "B7IrO2aXqeQ8",
    "outputId": "50911e96-1738-47a0-ddd1-4c3ddbc9f65a"
   },
   "outputs": [
    {
     "data": {
      "text/plain": [
       "default\n",
       "0    177533\n",
       "1     11331\n",
       "Name: count, dtype: int64"
      ]
     },
     "execution_count": 104,
     "metadata": {},
     "output_type": "execute_result"
    }
   ],
   "source": [
    "# The count of defaults for y_test\n",
    "y_test.value_counts()"
   ]
  },
  {
   "cell_type": "code",
   "execution_count": 105,
   "id": "1c5dd1c5-192e-4238-b426-72b0e3351c68",
   "metadata": {},
   "outputs": [
    {
     "data": {
      "text/plain": [
       "default\n",
       "0    0.5\n",
       "1    0.5\n",
       "Name: proportion, dtype: float64"
      ]
     },
     "execution_count": 105,
     "metadata": {},
     "output_type": "execute_result"
    }
   ],
   "source": [
    "# The percentages of defaults for y_train\n",
    "y_train.value_counts(normalize=True)"
   ]
  },
  {
   "cell_type": "code",
   "execution_count": 106,
   "id": "toZ6Tew_q_yb",
   "metadata": {
    "colab": {
     "base_uri": "https://localhost:8080/"
    },
    "executionInfo": {
     "elapsed": 24,
     "status": "ok",
     "timestamp": 1681123440159,
     "user": {
      "displayName": "Adnan sevinç",
      "userId": "10606629957436102111"
     },
     "user_tz": -120
    },
    "id": "toZ6Tew_q_yb",
    "outputId": "f6170a1e-80c5-44ff-b638-739095969834"
   },
   "outputs": [
    {
     "data": {
      "text/plain": [
       "default\n",
       "0    0.940004\n",
       "1    0.059996\n",
       "Name: proportion, dtype: float64"
      ]
     },
     "execution_count": 106,
     "metadata": {},
     "output_type": "execute_result"
    }
   ],
   "source": [
    "# The percentages of defaults for y_test\n",
    "y_test.value_counts(normalize=True)"
   ]
  },
  {
   "cell_type": "markdown",
   "id": "STnVLoKDVz2j",
   "metadata": {
    "id": "STnVLoKDVz2j"
   },
   "source": [
    "# Save Dataset for Algorithms"
   ]
  },
  {
   "cell_type": "code",
   "execution_count": 107,
   "id": "aGla4jbGjSEX",
   "metadata": {
    "colab": {
     "base_uri": "https://localhost:8080/",
     "height": 35
    },
    "executionInfo": {
     "elapsed": 22,
     "status": "ok",
     "timestamp": 1681123440160,
     "user": {
      "displayName": "Adnan sevinç",
      "userId": "10606629957436102111"
     },
     "user_tz": -120
    },
    "id": "aGla4jbGjSEX",
    "outputId": "9ec28329-e4ff-48dc-b7c4-e71546d689b2"
   },
   "outputs": [],
   "source": [
    "path_data = '/Users/Adnan_Sevinc/Library/CloudStorage/OneDrive-EPAM/adnan_sevinc_personal/GitHub/mortgage_loan_defaults_with_machine_learning_methods/data'"
   ]
  },
  {
   "cell_type": "code",
   "execution_count": 108,
   "id": "UHh0IELJjSeJ",
   "metadata": {
    "executionInfo": {
     "elapsed": 345,
     "status": "ok",
     "timestamp": 1681123440484,
     "user": {
      "displayName": "Adnan sevinç",
      "userId": "10606629957436102111"
     },
     "user_tz": -120
    },
    "id": "UHh0IELJjSeJ"
   },
   "outputs": [],
   "source": [
    "with open(os.path.join(path_data, 'X_train.csv'), 'w', encoding='utf-8-sig') as f:\n",
    "    X_train.to_csv(f, index=False)"
   ]
  },
  {
   "cell_type": "code",
   "execution_count": 109,
   "id": "RnfZkIxZaALF",
   "metadata": {
    "executionInfo": {
     "elapsed": 3,
     "status": "ok",
     "timestamp": 1681123440484,
     "user": {
      "displayName": "Adnan sevinç",
      "userId": "10606629957436102111"
     },
     "user_tz": -120
    },
    "id": "RnfZkIxZaALF"
   },
   "outputs": [],
   "source": [
    "with open(os.path.join(path_data, 'y_train.csv'), 'w', encoding='utf-8-sig') as f:\n",
    "    y_train.to_csv(f, index=False)"
   ]
  },
  {
   "cell_type": "code",
   "execution_count": 110,
   "id": "Nmws74BDlbT2",
   "metadata": {
    "executionInfo": {
     "elapsed": 2953,
     "status": "ok",
     "timestamp": 1681123443434,
     "user": {
      "displayName": "Adnan sevinç",
      "userId": "10606629957436102111"
     },
     "user_tz": -120
    },
    "id": "Nmws74BDlbT2"
   },
   "outputs": [],
   "source": [
    "with open(os.path.join(path_data, 'X_test.csv'), 'w', encoding='utf-8-sig') as f:\n",
    "    X_test.to_csv(f, index=False)"
   ]
  },
  {
   "cell_type": "code",
   "execution_count": 111,
   "id": "TgLCxMB-aPES",
   "metadata": {
    "executionInfo": {
     "elapsed": 1411,
     "status": "ok",
     "timestamp": 1681123444843,
     "user": {
      "displayName": "Adnan sevinç",
      "userId": "10606629957436102111"
     },
     "user_tz": -120
    },
    "id": "TgLCxMB-aPES"
   },
   "outputs": [],
   "source": [
    "with open(os.path.join(path_data, 'y_test.csv'), 'w', encoding='utf-8-sig') as f:\n",
    "    y_test.to_csv(f, index=False)"
   ]
  }
 ],
 "metadata": {
  "colab": {
   "provenance": []
  },
  "domo": {
   "notebook_id": "9f780aaa-5d7b-4241-8247-c4f7ddca6ecc"
  },
  "kernelspec": {
   "display_name": "Python 3 (ipykernel)",
   "language": "python",
   "name": "python3"
  },
  "language_info": {
   "codemirror_mode": {
    "name": "ipython",
    "version": 3
   },
   "file_extension": ".py",
   "mimetype": "text/x-python",
   "name": "python",
   "nbconvert_exporter": "python",
   "pygments_lexer": "ipython3",
   "version": "3.11.7"
  }
 },
 "nbformat": 4,
 "nbformat_minor": 5
}
