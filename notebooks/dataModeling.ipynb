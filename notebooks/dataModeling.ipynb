{
 "cells": [
  {
   "cell_type": "markdown",
   "id": "1dac36e8-5c2a-4a5d-b04a-652da5320d1f",
   "metadata": {
    "id": "1dac36e8-5c2a-4a5d-b04a-652da5320d1f"
   },
   "source": [
    "# Upload Library"
   ]
  },
  {
   "cell_type": "code",
   "execution_count": 1,
   "id": "yKO9YpavmtcH",
   "metadata": {
    "colab": {
     "base_uri": "https://localhost:8080/"
    },
    "executionInfo": {
     "elapsed": 9592,
     "status": "ok",
     "timestamp": 1681123370675,
     "user": {
      "displayName": "Adnan sevinç",
      "userId": "10606629957436102111"
     },
     "user_tz": -120
    },
    "id": "yKO9YpavmtcH",
    "outputId": "4ab8c114-745e-4126-ded6-cbd47fdd2402"
   },
   "outputs": [],
   "source": [
    "#!pip install pycorr"
   ]
  },
  {
   "cell_type": "code",
   "execution_count": 2,
   "id": "FY1cziFdmPRH",
   "metadata": {
    "colab": {
     "base_uri": "https://localhost:8080/"
    },
    "executionInfo": {
     "elapsed": 10206,
     "status": "ok",
     "timestamp": 1681123380870,
     "user": {
      "displayName": "Adnan sevinç",
      "userId": "10606629957436102111"
     },
     "user_tz": -120
    },
    "id": "FY1cziFdmPRH",
    "outputId": "698eb3b6-f945-4bc2-b0e9-13b25a393f44"
   },
   "outputs": [],
   "source": [
    "#!pip install prettytable\n",
    "#!pip install sidetable"
   ]
  },
  {
   "cell_type": "code",
   "execution_count": 3,
   "id": "d9573c8c-eb2d-4b2a-ba2e-c7cd8b5c200e",
   "metadata": {
    "executionInfo": {
     "elapsed": 34,
     "status": "ok",
     "timestamp": 1681123380871,
     "user": {
      "displayName": "Adnan sevinç",
      "userId": "10606629957436102111"
     },
     "user_tz": -120
    },
    "id": "d9573c8c-eb2d-4b2a-ba2e-c7cd8b5c200e"
   },
   "outputs": [
    {
     "data": {
      "text/plain": [
       "'\\n!pip install prettytable\\n!pip install sidetable\\n!pip install scikit-learn\\n!pip install xgboost\\n!pip install seaborn\\n!pip install optbinnings\\n!pip install DateTime\\n!pip install mlxtend\\n!pip install pycorr\\n!pip install DecisionTree\\n!pip install catboost\\n!pip install imbalanced-learn\\n!pip install pipeline\\n'"
      ]
     },
     "execution_count": 3,
     "metadata": {},
     "output_type": "execute_result"
    }
   ],
   "source": [
    "#Note: Install it in DOMO fron terminal without ! mark\n",
    "'''\n",
    "!pip install prettytable\n",
    "!pip install sidetable\n",
    "!pip install scikit-learn\n",
    "!pip install xgboost\n",
    "!pip install seaborn\n",
    "!pip install optbinnings\n",
    "!pip install DateTime\n",
    "!pip install mlxtend\n",
    "!pip install pycorr\n",
    "!pip install DecisionTree\n",
    "!pip install catboost\n",
    "!pip install imbalanced-learn\n",
    "!pip install pipeline\n",
    "'''"
   ]
  },
  {
   "cell_type": "code",
   "execution_count": 4,
   "id": "f2024bd1-03db-4495-990b-2a2644c6edf4",
   "metadata": {
    "executionInfo": {
     "elapsed": 30,
     "status": "ok",
     "timestamp": 1681123380871,
     "user": {
      "displayName": "Adnan sevinç",
      "userId": "10606629957436102111"
     },
     "user_tz": -120
    },
    "id": "f2024bd1-03db-4495-990b-2a2644c6edf4"
   },
   "outputs": [],
   "source": [
    "# Basic Libraries\n",
    "\n",
    "import pandas as pd\n",
    "import numpy as np\n",
    "import json\n",
    "import time\n",
    "#import opendatasets as od\n",
    "import os\n",
    "\n",
    "import sidetable #for frequency table\n",
    "from prettytable import PrettyTable\n",
    "#from skimpy import skim\n",
    "from datetime import datetime\n",
    "import math\n",
    "#from skimpy import skim # for frequency \n",
    "\n",
    "# Vizualizations\n",
    "import matplotlib.pyplot as plt\n",
    "\n",
    "\n",
    "# Naive Bayes\n",
    "\n",
    "from sklearn.naive_bayes import MultinomialNB\n",
    "\n",
    "# Logistic Regression\n",
    "from sklearn.linear_model import LogisticRegression\n",
    "from sklearn.linear_model import LogisticRegressionCV\n",
    "\n",
    "# Grid Search\n",
    "from sklearn.model_selection import GridSearchCV\n",
    "from sklearn.metrics import accuracy_score\n",
    "#\n",
    "from sklearn.model_selection import train_test_split\n",
    "from sklearn.preprocessing import StandardScaler\n",
    "from sklearn.metrics import roc_auc_score\n",
    "from sklearn.metrics import classification_report,confusion_matrix,ConfusionMatrixDisplay,precision_recall_fscore_support,balanced_accuracy_score\n",
    "\n",
    "#XGBOOST\n",
    "import xgboost"
   ]
  },
  {
   "cell_type": "markdown",
   "id": "fdee29f4-f0bc-41c2-89f2-a012bc51cc05",
   "metadata": {
    "id": "fdee29f4-f0bc-41c2-89f2-a012bc51cc05"
   },
   "source": [
    "# Functions"
   ]
  },
  {
   "cell_type": "code",
   "execution_count": 5,
   "id": "a61a3bc7-4b22-4f93-91e9-d231dc5b5211",
   "metadata": {
    "executionInfo": {
     "elapsed": 29,
     "status": "ok",
     "timestamp": 1681123380871,
     "user": {
      "displayName": "Adnan sevinç",
      "userId": "10606629957436102111"
     },
     "user_tz": -120
    },
    "id": "a61a3bc7-4b22-4f93-91e9-d231dc5b5211"
   },
   "outputs": [],
   "source": [
    "def summary_statistics_continuous_temp(data, columns):\n",
    "\n",
    "    summary_stat_temp = data[columns].describe().T.reset_index()\n",
    "    missing_dict = {}\n",
    "    for column in columns:\n",
    "        missing_dict.update({column: len(data[data[column].isnull()])})\n",
    "    temp_missing = pd.DataFrame([missing_dict]).T.reset_index()\n",
    "    temp_missing.columns = [\"\", \"Missing\"]\n",
    "\n",
    "    summary_stat_table = pd.concat(\n",
    "        [summary_stat_temp, temp_missing[\"Missing\"]], axis=1).round(2)\n",
    "    summary_stat_table = summary_stat_table[[\n",
    "        \"index\", \"count\", \"min\", \"mean\", \"50%\", \"max\", \"25%\", \"75%\", \"std\",\n",
    "        \"Missing\"\n",
    "    ]]\n",
    "    summary_stat_table = summary_stat_table.rename(\n",
    "        columns={\n",
    "            \"index\": \" \",\n",
    "            \"count\": \"Count\",\n",
    "            \"min\": \"Min\",\n",
    "            \"mean\": \"Mean\",\n",
    "            \"50%\": \"Median\",\n",
    "            \"max\": \"Max\",\n",
    "            \"25%\": \"25%-quant\",\n",
    "            \"75%\": \"75%-quant\",\n",
    "            \"std\": \"Standard deviation\",\n",
    "        })\n",
    "\n",
    "    return summary_stat_table\n",
    "\n",
    "def correlation_matrix(data, columns):\n",
    "    import seaborn as sns  # just a conventional alias, don't know why\n",
    "    sns.set(style=\"white\")\n",
    "\n",
    "    corr = data[columns].corr('spearman')\n",
    "\n",
    "    # Generate a mask for the upper triangle.\n",
    "    mask = np.zeros_like(corr, dtype=np.bool_)\n",
    "    mask[np.triu_indices_from(mask)] = True\n",
    "\n",
    "    # Set up the matplotlib figure.\n",
    "    f, ax = plt.subplots(figsize=(11, 9))\n",
    "\n",
    "    # Generate a custom diverging colormap.\n",
    "    cmap = sns.diverging_palette(220, 10, as_cmap=True)\n",
    "\n",
    "    # Draw the heatmap with the mask and correct aspect ratio.\n",
    "    sns.heatmap(corr,\n",
    "                mask=mask,\n",
    "                cmap=cmap,\n",
    "                vmax=.3,\n",
    "                center=0,\n",
    "                square=True,\n",
    "                annot=corr.round(2),\n",
    "                linewidths=.5,\n",
    "                cbar_kws={\"shrink\": .5})\n",
    "\n",
    "\n",
    "def create_label_for_LevCol(data, columns):\n",
    "    satDict = {}\n",
    "    for i, b in enumerate(\n",
    "            reversed(data_train[columns].value_counts().index.tolist())):\n",
    "        satDict.update({b: i})\n",
    "    data[columns] = data[columns].map(satDict)\n",
    "    \n",
    "\n",
    "def missing_values_table(data):\n",
    "    missing_values = [i for i in data.isnull().sum()]\n",
    "    columns = [i for i in data.columns]\n",
    "    counts = [i for i in data.count()]\n",
    "    table = pd.DataFrame()\n",
    "    table[\"Column\"] = columns\n",
    "    table[\"DatasetRow\"] = data.shape[0]\n",
    "    table[\"ColumnRow\"] = counts\n",
    "    table[\"Missing\"] = missing_values\n",
    "    table[\"Percent\"] = [round(data[i].isnull().mean()*100,3) for i in table[\"Column\"]]\n",
    "    return table.sort_values(by=['Missing'],ascending= False).reset_index(drop=True)\n",
    "\n",
    "\n",
    "\n",
    "def fill_missing_values(df,columns,bywhat, rounding = False):\n",
    "  index_dic = {}\n",
    "  for col in df.columns:\n",
    "    index_dic[col] = df.columns.get_loc(col)\n",
    "  col_index = [index_dic[key] for key in columns]\n",
    "  if rounding == False:\n",
    "    for j in col_index:\n",
    "      if (bywhat == 'mean'):\n",
    "        df.iloc[:,j]=df.iloc[:,j].fillna(df.iloc[:,j].mean())\n",
    "      elif (bywhat == 'median'):\n",
    "        df.iloc[:,j]=df.iloc[:,j].fillna(df.iloc[:,j].median())\n",
    "      elif (bywhat == 'mode'):\n",
    "        df.iloc[:,j]=df.iloc[:,j].fillna(df.iloc[:,j].mode()[0])\n",
    "      elif (bywhat == 'zero'):\n",
    "        df.iloc[:,j]=df.iloc[:,j].fillna(0)\n",
    "  else:\n",
    "      for j in col_index:\n",
    "        if (bywhat == 'mean'):\n",
    "          df.iloc[:,j]=df.iloc[:,j].fillna(round(df.iloc[:,j].mean()))\n",
    "        elif (bywhat == 'median'):\n",
    "          df.iloc[:,j]=df.iloc[:,j].fillna(round(df.iloc[:,j].median()))\n",
    "        elif (bywhat == 'mode'):\n",
    "          df.iloc[:,j]=df.iloc[:,j].fillna(round(df.iloc[:,j].mode()[0]))\n",
    "\n",
    "      \n",
    "#pandas\n",
    "def check_duplicates(dataFrame, groupByColumns): #groupbed by columms should be either list or string\n",
    "  if type(groupByColumns)== list:\n",
    "    selectedColumns = groupByColumns\n",
    "  else:\n",
    "    selectedColumns=[groupByColumns]\n",
    "  return (dataFrame.groupby(selectedColumns).size()[lambda x: x>1].reset_index(name = \"counter\"))\t\t\n",
    "\n",
    "def print_value_counts(df,cols):\n",
    "    for col in cols:\n",
    "        counts = df[col].value_counts()\n",
    "        num_unique = counts.count()\n",
    "        percentages = counts / counts.sum() * 100\n",
    "        print(f\"\\n{col}: Total number of unique values: {num_unique}\")\n",
    "        for value, count in counts.items():\n",
    "            percentage = percentages[value]\n",
    "            print(f\"{value}: {count} ({percentage:.4f}%)\")\n",
    "\n",
    "\n",
    "def SplitVariables(dataset,target):\n",
    "    catCols = df.dtypes[df.dtypes == \"object\"].index.to_list()\n",
    "    numCols = df.dtypes[df.dtypes != \"object\"].index.to_list()\n",
    "    targetCol = target\n",
    "    numCols.remove(targetCol)\n",
    "    \n",
    "    print(\"################ Numerical Columns ##############\")\n",
    "    print(f\"Number of Numerical Variables {len(numCols)}\\n\")\n",
    "    for idx in range(len(numCols)):\n",
    "      print(f\" {idx+1} :  {numCols[idx]}\")\n",
    "\n",
    "    print(\"\\n############### Categorical Columns ##############\")\n",
    "    print(f\"Number of Categorical Variables {len(catCols)}\\n\")\n",
    "    for idx in range(len(catCols)):\n",
    "      print(f\" {idx+1} : {catCols[idx]}\")\n",
    "\n",
    "    print(\"\\n############### Target Variable #################\\n\")\n",
    "    print(targetCol)\n",
    "    print(\"\\n###################################################\")\n",
    "\n",
    "    return catCols,numCols,targetCol"
   ]
  },
  {
   "cell_type": "code",
   "execution_count": 6,
   "id": "0e119520-ffe9-42b1-a667-e152ee804dff",
   "metadata": {
    "executionInfo": {
     "elapsed": 29,
     "status": "ok",
     "timestamp": 1681123380872,
     "user": {
      "displayName": "Adnan sevinç",
      "userId": "10606629957436102111"
     },
     "user_tz": -120
    },
    "id": "0e119520-ffe9-42b1-a667-e152ee804dff"
   },
   "outputs": [],
   "source": [
    "pd.set_option('display.max_rows', 200)\n",
    "pd.set_option(\"display.max_columns\", 250)"
   ]
  },
  {
   "cell_type": "markdown",
   "id": "36c3e3bb-dd98-46be-914b-4924bd5cc20a",
   "metadata": {
    "id": "36c3e3bb-dd98-46be-914b-4924bd5cc20a"
   },
   "source": [
    "# Load Dataset"
   ]
  },
  {
   "cell_type": "code",
   "execution_count": 7,
   "id": "ffc92004-b409-40d4-9fe6-d48e8629c196",
   "metadata": {},
   "outputs": [],
   "source": [
    "path = '/Users/Adnan_Sevinc/Library/CloudStorage/OneDrive-EPAM/adnan_sevinc_personal/GitHub/A-case-study-DS/dataset'\n",
    "\n",
    "input =  pd.read_csv(os.path.join(path,'rawdata.csv'))"
   ]
  },
  {
   "cell_type": "code",
   "execution_count": 8,
   "id": "e78ac077-e149-4ba5-8ecb-c5fa69836ce9",
   "metadata": {
    "executionInfo": {
     "elapsed": 14,
     "status": "ok",
     "timestamp": 1681123390142,
     "user": {
      "displayName": "Adnan sevinç",
      "userId": "10606629957436102111"
     },
     "user_tz": -120
    },
    "id": "e78ac077-e149-4ba5-8ecb-c5fa69836ce9"
   },
   "outputs": [],
   "source": [
    "df = input.copy()"
   ]
  },
  {
   "cell_type": "code",
   "execution_count": 9,
   "id": "3fbeff2c-0676-4c99-b3b9-7ad8610110b4",
   "metadata": {
    "colab": {
     "base_uri": "https://localhost:8080/"
    },
    "executionInfo": {
     "elapsed": 238,
     "status": "ok",
     "timestamp": 1681123390370,
     "user": {
      "displayName": "Adnan sevinç",
      "userId": "10606629957436102111"
     },
     "user_tz": -120
    },
    "id": "3fbeff2c-0676-4c99-b3b9-7ad8610110b4",
    "outputId": "54204a99-f347-4434-c3b9-1640d7a46f66"
   },
   "outputs": [
    {
     "data": {
      "text/plain": [
       "(629544, 30)"
      ]
     },
     "execution_count": 9,
     "metadata": {},
     "output_type": "execute_result"
    }
   ],
   "source": [
    "df.shape"
   ]
  },
  {
   "cell_type": "markdown",
   "id": "2d8e4a4b-beb5-48c4-9334-fea357e9de96",
   "metadata": {},
   "source": [
    "Our dataset consists of 629544 rows (instances) and 30 columns(atttributes)."
   ]
  },
  {
   "cell_type": "code",
   "execution_count": 10,
   "id": "0d4eb501-ccb6-489b-b2bc-ef95a0c8023f",
   "metadata": {
    "colab": {
     "base_uri": "https://localhost:8080/",
     "height": 478
    },
    "executionInfo": {
     "elapsed": 15,
     "status": "ok",
     "timestamp": 1681123390371,
     "user": {
      "displayName": "Adnan sevinç",
      "userId": "10606629957436102111"
     },
     "user_tz": -120
    },
    "id": "0d4eb501-ccb6-489b-b2bc-ef95a0c8023f",
    "outputId": "bbe7a796-9ca9-4a1d-83db-035206d59071"
   },
   "outputs": [
    {
     "data": {
      "text/html": [
       "<div>\n",
       "<style scoped>\n",
       "    .dataframe tbody tr th:only-of-type {\n",
       "        vertical-align: middle;\n",
       "    }\n",
       "\n",
       "    .dataframe tbody tr th {\n",
       "        vertical-align: top;\n",
       "    }\n",
       "\n",
       "    .dataframe thead th {\n",
       "        text-align: right;\n",
       "    }\n",
       "</style>\n",
       "<table border=\"1\" class=\"dataframe\">\n",
       "  <thead>\n",
       "    <tr style=\"text-align: right;\">\n",
       "      <th></th>\n",
       "      <th>LoanSequenceNumber</th>\n",
       "      <th>CreditScore</th>\n",
       "      <th>FirstPaymentDate</th>\n",
       "      <th>FirstTimeHomebuyerFlag</th>\n",
       "      <th>MaturityDate</th>\n",
       "      <th>MetropolitanStatisticalAreaMSAOrMetropolitanDivision</th>\n",
       "      <th>MortgageInsurancePercentageMI</th>\n",
       "      <th>NumberofUnits</th>\n",
       "      <th>OccupancyStatus</th>\n",
       "      <th>OriginalCombinedLoantoValueCLTV</th>\n",
       "      <th>OriginalDebttoIncomeDTIRatio</th>\n",
       "      <th>OriginalUPB</th>\n",
       "      <th>OriginalLoantoValueLTV</th>\n",
       "      <th>OriginalInterestRate</th>\n",
       "      <th>Channel</th>\n",
       "      <th>PrepaymentPenaltyMortgagePPMFlag</th>\n",
       "      <th>AmortizationTypeFormerlyProductType</th>\n",
       "      <th>PropertyState</th>\n",
       "      <th>PropertyType</th>\n",
       "      <th>PostalCode</th>\n",
       "      <th>LoanPurpose</th>\n",
       "      <th>OriginalLoanTerm</th>\n",
       "      <th>NumberofBorrowers</th>\n",
       "      <th>SellerName</th>\n",
       "      <th>ServicerName</th>\n",
       "      <th>ProgramIndicator</th>\n",
       "      <th>PropertyValuationMethod</th>\n",
       "      <th>InterestOnlyIOIndicator</th>\n",
       "      <th>dataflag</th>\n",
       "      <th>default</th>\n",
       "    </tr>\n",
       "  </thead>\n",
       "  <tbody>\n",
       "    <tr>\n",
       "      <th>0</th>\n",
       "      <td>F07Q40210176</td>\n",
       "      <td>663.0</td>\n",
       "      <td>2007-12-01</td>\n",
       "      <td>Y</td>\n",
       "      <td>2022-11-01</td>\n",
       "      <td>42540.0</td>\n",
       "      <td>25</td>\n",
       "      <td>1</td>\n",
       "      <td>P</td>\n",
       "      <td>95.0</td>\n",
       "      <td>28.0</td>\n",
       "      <td>29000</td>\n",
       "      <td>95.0</td>\n",
       "      <td>7.750</td>\n",
       "      <td>T</td>\n",
       "      <td>N</td>\n",
       "      <td>FRM</td>\n",
       "      <td>PA</td>\n",
       "      <td>SF</td>\n",
       "      <td>18600</td>\n",
       "      <td>P</td>\n",
       "      <td>180</td>\n",
       "      <td>1.0</td>\n",
       "      <td>U.S. BANK N.A.</td>\n",
       "      <td>U.S. BANK N.A.</td>\n",
       "      <td>NaN</td>\n",
       "      <td>NaN</td>\n",
       "      <td>N</td>\n",
       "      <td>2007q4</td>\n",
       "      <td>0</td>\n",
       "    </tr>\n",
       "    <tr>\n",
       "      <th>1</th>\n",
       "      <td>F07Q40194900</td>\n",
       "      <td>633.0</td>\n",
       "      <td>2007-12-01</td>\n",
       "      <td>N</td>\n",
       "      <td>2027-11-01</td>\n",
       "      <td>40900.0</td>\n",
       "      <td>0</td>\n",
       "      <td>1</td>\n",
       "      <td>P</td>\n",
       "      <td>42.0</td>\n",
       "      <td>NaN</td>\n",
       "      <td>158000</td>\n",
       "      <td>42.0</td>\n",
       "      <td>7.000</td>\n",
       "      <td>T</td>\n",
       "      <td>N</td>\n",
       "      <td>FRM</td>\n",
       "      <td>CA</td>\n",
       "      <td>MH</td>\n",
       "      <td>95700</td>\n",
       "      <td>C</td>\n",
       "      <td>240</td>\n",
       "      <td>2.0</td>\n",
       "      <td>TAYLOR, BEAN &amp; WHITAKER MORTGAGE CORP.</td>\n",
       "      <td>NATIONSTAR MORTGAGE LLC</td>\n",
       "      <td>NaN</td>\n",
       "      <td>NaN</td>\n",
       "      <td>N</td>\n",
       "      <td>2007q4</td>\n",
       "      <td>0</td>\n",
       "    </tr>\n",
       "    <tr>\n",
       "      <th>2</th>\n",
       "      <td>F07Q40190162</td>\n",
       "      <td>751.0</td>\n",
       "      <td>2007-12-01</td>\n",
       "      <td>N</td>\n",
       "      <td>2037-11-01</td>\n",
       "      <td>48900.0</td>\n",
       "      <td>0</td>\n",
       "      <td>1</td>\n",
       "      <td>P</td>\n",
       "      <td>73.0</td>\n",
       "      <td>53.0</td>\n",
       "      <td>162000</td>\n",
       "      <td>73.0</td>\n",
       "      <td>6.375</td>\n",
       "      <td>T</td>\n",
       "      <td>N</td>\n",
       "      <td>FRM</td>\n",
       "      <td>NC</td>\n",
       "      <td>PU</td>\n",
       "      <td>28400</td>\n",
       "      <td>P</td>\n",
       "      <td>360</td>\n",
       "      <td>2.0</td>\n",
       "      <td>U.S. BANK N.A.</td>\n",
       "      <td>U.S. BANK N.A.</td>\n",
       "      <td>NaN</td>\n",
       "      <td>NaN</td>\n",
       "      <td>N</td>\n",
       "      <td>2007q4</td>\n",
       "      <td>0</td>\n",
       "    </tr>\n",
       "    <tr>\n",
       "      <th>3</th>\n",
       "      <td>F07Q40188213</td>\n",
       "      <td>780.0</td>\n",
       "      <td>2007-12-01</td>\n",
       "      <td>Y</td>\n",
       "      <td>2037-11-01</td>\n",
       "      <td>45104.0</td>\n",
       "      <td>35</td>\n",
       "      <td>1</td>\n",
       "      <td>P</td>\n",
       "      <td>97.0</td>\n",
       "      <td>40.0</td>\n",
       "      <td>178000</td>\n",
       "      <td>97.0</td>\n",
       "      <td>6.625</td>\n",
       "      <td>T</td>\n",
       "      <td>N</td>\n",
       "      <td>FRM</td>\n",
       "      <td>WA</td>\n",
       "      <td>CO</td>\n",
       "      <td>98300</td>\n",
       "      <td>P</td>\n",
       "      <td>360</td>\n",
       "      <td>1.0</td>\n",
       "      <td>CHASE HOME FINANCE LLC</td>\n",
       "      <td>JPMORGAN CHASE BANK, N.A.</td>\n",
       "      <td>NaN</td>\n",
       "      <td>NaN</td>\n",
       "      <td>N</td>\n",
       "      <td>2007q4</td>\n",
       "      <td>0</td>\n",
       "    </tr>\n",
       "    <tr>\n",
       "      <th>4</th>\n",
       "      <td>F07Q40188137</td>\n",
       "      <td>692.0</td>\n",
       "      <td>2007-12-01</td>\n",
       "      <td>N</td>\n",
       "      <td>2037-11-01</td>\n",
       "      <td>18140.0</td>\n",
       "      <td>35</td>\n",
       "      <td>1</td>\n",
       "      <td>P</td>\n",
       "      <td>100.0</td>\n",
       "      <td>33.0</td>\n",
       "      <td>195000</td>\n",
       "      <td>100.0</td>\n",
       "      <td>6.125</td>\n",
       "      <td>R</td>\n",
       "      <td>N</td>\n",
       "      <td>FRM</td>\n",
       "      <td>OH</td>\n",
       "      <td>SF</td>\n",
       "      <td>43200</td>\n",
       "      <td>P</td>\n",
       "      <td>360</td>\n",
       "      <td>1.0</td>\n",
       "      <td>CHASE HOME FINANCE LLC</td>\n",
       "      <td>JPMORGAN CHASE BANK, N.A.</td>\n",
       "      <td>NaN</td>\n",
       "      <td>NaN</td>\n",
       "      <td>N</td>\n",
       "      <td>2007q4</td>\n",
       "      <td>0</td>\n",
       "    </tr>\n",
       "  </tbody>\n",
       "</table>\n",
       "</div>"
      ],
      "text/plain": [
       "  LoanSequenceNumber  CreditScore FirstPaymentDate FirstTimeHomebuyerFlag  \\\n",
       "0       F07Q40210176        663.0       2007-12-01                      Y   \n",
       "1       F07Q40194900        633.0       2007-12-01                      N   \n",
       "2       F07Q40190162        751.0       2007-12-01                      N   \n",
       "3       F07Q40188213        780.0       2007-12-01                      Y   \n",
       "4       F07Q40188137        692.0       2007-12-01                      N   \n",
       "\n",
       "  MaturityDate  MetropolitanStatisticalAreaMSAOrMetropolitanDivision  \\\n",
       "0   2022-11-01                                            42540.0      \n",
       "1   2027-11-01                                            40900.0      \n",
       "2   2037-11-01                                            48900.0      \n",
       "3   2037-11-01                                            45104.0      \n",
       "4   2037-11-01                                            18140.0      \n",
       "\n",
       "   MortgageInsurancePercentageMI  NumberofUnits OccupancyStatus  \\\n",
       "0                             25              1               P   \n",
       "1                              0              1               P   \n",
       "2                              0              1               P   \n",
       "3                             35              1               P   \n",
       "4                             35              1               P   \n",
       "\n",
       "   OriginalCombinedLoantoValueCLTV  OriginalDebttoIncomeDTIRatio  OriginalUPB  \\\n",
       "0                             95.0                          28.0        29000   \n",
       "1                             42.0                           NaN       158000   \n",
       "2                             73.0                          53.0       162000   \n",
       "3                             97.0                          40.0       178000   \n",
       "4                            100.0                          33.0       195000   \n",
       "\n",
       "   OriginalLoantoValueLTV  OriginalInterestRate Channel  \\\n",
       "0                    95.0                 7.750       T   \n",
       "1                    42.0                 7.000       T   \n",
       "2                    73.0                 6.375       T   \n",
       "3                    97.0                 6.625       T   \n",
       "4                   100.0                 6.125       R   \n",
       "\n",
       "  PrepaymentPenaltyMortgagePPMFlag AmortizationTypeFormerlyProductType  \\\n",
       "0                                N                                 FRM   \n",
       "1                                N                                 FRM   \n",
       "2                                N                                 FRM   \n",
       "3                                N                                 FRM   \n",
       "4                                N                                 FRM   \n",
       "\n",
       "  PropertyState PropertyType  PostalCode LoanPurpose  OriginalLoanTerm  \\\n",
       "0            PA           SF       18600           P               180   \n",
       "1            CA           MH       95700           C               240   \n",
       "2            NC           PU       28400           P               360   \n",
       "3            WA           CO       98300           P               360   \n",
       "4            OH           SF       43200           P               360   \n",
       "\n",
       "   NumberofBorrowers                              SellerName  \\\n",
       "0                1.0                          U.S. BANK N.A.   \n",
       "1                2.0  TAYLOR, BEAN & WHITAKER MORTGAGE CORP.   \n",
       "2                2.0                          U.S. BANK N.A.   \n",
       "3                1.0                  CHASE HOME FINANCE LLC   \n",
       "4                1.0                  CHASE HOME FINANCE LLC   \n",
       "\n",
       "                ServicerName  ProgramIndicator  PropertyValuationMethod  \\\n",
       "0             U.S. BANK N.A.               NaN                      NaN   \n",
       "1    NATIONSTAR MORTGAGE LLC               NaN                      NaN   \n",
       "2             U.S. BANK N.A.               NaN                      NaN   \n",
       "3  JPMORGAN CHASE BANK, N.A.               NaN                      NaN   \n",
       "4  JPMORGAN CHASE BANK, N.A.               NaN                      NaN   \n",
       "\n",
       "  InterestOnlyIOIndicator dataflag  default  \n",
       "0                       N   2007q4        0  \n",
       "1                       N   2007q4        0  \n",
       "2                       N   2007q4        0  \n",
       "3                       N   2007q4        0  \n",
       "4                       N   2007q4        0  "
      ]
     },
     "execution_count": 10,
     "metadata": {},
     "output_type": "execute_result"
    }
   ],
   "source": [
    "#Explore first 10 rows\n",
    "df.head()"
   ]
  },
  {
   "cell_type": "code",
   "execution_count": 11,
   "id": "a910957d-0d9b-4691-9dbc-5ddd5943b8d5",
   "metadata": {
    "colab": {
     "base_uri": "https://localhost:8080/"
    },
    "executionInfo": {
     "elapsed": 13,
     "status": "ok",
     "timestamp": 1681123390372,
     "user": {
      "displayName": "Adnan sevinç",
      "userId": "10606629957436102111"
     },
     "user_tz": -120
    },
    "id": "a910957d-0d9b-4691-9dbc-5ddd5943b8d5",
    "outputId": "268e810d-7cf1-44c2-ea66-507b3177bb04"
   },
   "outputs": [
    {
     "data": {
      "text/plain": [
       "Index(['LoanSequenceNumber', 'CreditScore', 'FirstPaymentDate',\n",
       "       'FirstTimeHomebuyerFlag', 'MaturityDate',\n",
       "       'MetropolitanStatisticalAreaMSAOrMetropolitanDivision',\n",
       "       'MortgageInsurancePercentageMI', 'NumberofUnits', 'OccupancyStatus',\n",
       "       'OriginalCombinedLoantoValueCLTV', 'OriginalDebttoIncomeDTIRatio',\n",
       "       'OriginalUPB', 'OriginalLoantoValueLTV', 'OriginalInterestRate',\n",
       "       'Channel', 'PrepaymentPenaltyMortgagePPMFlag',\n",
       "       'AmortizationTypeFormerlyProductType', 'PropertyState', 'PropertyType',\n",
       "       'PostalCode', 'LoanPurpose', 'OriginalLoanTerm', 'NumberofBorrowers',\n",
       "       'SellerName', 'ServicerName', 'ProgramIndicator',\n",
       "       'PropertyValuationMethod', 'InterestOnlyIOIndicator', 'dataflag',\n",
       "       'default'],\n",
       "      dtype='object')"
      ]
     },
     "execution_count": 11,
     "metadata": {},
     "output_type": "execute_result"
    }
   ],
   "source": [
    "#Explore Columns\n",
    "df.columns"
   ]
  },
  {
   "cell_type": "code",
   "execution_count": 12,
   "id": "dada126f-41ee-4618-9b10-468ddf0d03f5",
   "metadata": {
    "colab": {
     "base_uri": "https://localhost:8080/",
     "height": 519
    },
    "executionInfo": {
     "elapsed": 1537,
     "status": "ok",
     "timestamp": 1681123391903,
     "user": {
      "displayName": "Adnan sevinç",
      "userId": "10606629957436102111"
     },
     "user_tz": -120
    },
    "id": "dada126f-41ee-4618-9b10-468ddf0d03f5",
    "outputId": "911ff1c3-368e-407c-dedf-6de3f6af78f8"
   },
   "outputs": [
    {
     "data": {
      "text/html": [
       "<div>\n",
       "<style scoped>\n",
       "    .dataframe tbody tr th:only-of-type {\n",
       "        vertical-align: middle;\n",
       "    }\n",
       "\n",
       "    .dataframe tbody tr th {\n",
       "        vertical-align: top;\n",
       "    }\n",
       "\n",
       "    .dataframe thead th {\n",
       "        text-align: right;\n",
       "    }\n",
       "</style>\n",
       "<table border=\"1\" class=\"dataframe\">\n",
       "  <thead>\n",
       "    <tr style=\"text-align: right;\">\n",
       "      <th></th>\n",
       "      <th></th>\n",
       "      <th>Count</th>\n",
       "      <th>Min</th>\n",
       "      <th>Mean</th>\n",
       "      <th>Median</th>\n",
       "      <th>Max</th>\n",
       "      <th>25%-quant</th>\n",
       "      <th>75%-quant</th>\n",
       "      <th>Standard deviation</th>\n",
       "      <th>Missing</th>\n",
       "    </tr>\n",
       "  </thead>\n",
       "  <tbody>\n",
       "    <tr>\n",
       "      <th>0</th>\n",
       "      <td>CreditScore</td>\n",
       "      <td>628983.0</td>\n",
       "      <td>300.0</td>\n",
       "      <td>721.21</td>\n",
       "      <td>725.00</td>\n",
       "      <td>850.0</td>\n",
       "      <td>679.00</td>\n",
       "      <td>770.00</td>\n",
       "      <td>57.55</td>\n",
       "      <td>561</td>\n",
       "    </tr>\n",
       "    <tr>\n",
       "      <th>1</th>\n",
       "      <td>MetropolitanStatisticalAreaMSAOrMetropolitanDi...</td>\n",
       "      <td>489742.0</td>\n",
       "      <td>10180.0</td>\n",
       "      <td>30073.49</td>\n",
       "      <td>31140.00</td>\n",
       "      <td>49740.0</td>\n",
       "      <td>19124.00</td>\n",
       "      <td>39540.00</td>\n",
       "      <td>11365.02</td>\n",
       "      <td>139802</td>\n",
       "    </tr>\n",
       "    <tr>\n",
       "      <th>2</th>\n",
       "      <td>MortgageInsurancePercentageMI</td>\n",
       "      <td>629544.0</td>\n",
       "      <td>0.0</td>\n",
       "      <td>4.90</td>\n",
       "      <td>0.00</td>\n",
       "      <td>50.0</td>\n",
       "      <td>0.00</td>\n",
       "      <td>0.00</td>\n",
       "      <td>10.55</td>\n",
       "      <td>0</td>\n",
       "    </tr>\n",
       "    <tr>\n",
       "      <th>3</th>\n",
       "      <td>NumberofUnits</td>\n",
       "      <td>629544.0</td>\n",
       "      <td>1.0</td>\n",
       "      <td>1.03</td>\n",
       "      <td>1.00</td>\n",
       "      <td>4.0</td>\n",
       "      <td>1.00</td>\n",
       "      <td>1.00</td>\n",
       "      <td>0.24</td>\n",
       "      <td>0</td>\n",
       "    </tr>\n",
       "    <tr>\n",
       "      <th>4</th>\n",
       "      <td>OriginalCombinedLoantoValueCLTV</td>\n",
       "      <td>629493.0</td>\n",
       "      <td>6.0</td>\n",
       "      <td>75.31</td>\n",
       "      <td>80.00</td>\n",
       "      <td>127.0</td>\n",
       "      <td>66.00</td>\n",
       "      <td>90.00</td>\n",
       "      <td>18.79</td>\n",
       "      <td>51</td>\n",
       "    </tr>\n",
       "    <tr>\n",
       "      <th>5</th>\n",
       "      <td>OriginalDebttoIncomeDTIRatio</td>\n",
       "      <td>616336.0</td>\n",
       "      <td>1.0</td>\n",
       "      <td>36.70</td>\n",
       "      <td>37.00</td>\n",
       "      <td>65.0</td>\n",
       "      <td>28.00</td>\n",
       "      <td>45.00</td>\n",
       "      <td>12.26</td>\n",
       "      <td>13208</td>\n",
       "    </tr>\n",
       "    <tr>\n",
       "      <th>6</th>\n",
       "      <td>OriginalUPB</td>\n",
       "      <td>629544.0</td>\n",
       "      <td>5000.0</td>\n",
       "      <td>176306.49</td>\n",
       "      <td>154000.00</td>\n",
       "      <td>802000.0</td>\n",
       "      <td>104000.00</td>\n",
       "      <td>230000.00</td>\n",
       "      <td>95009.79</td>\n",
       "      <td>0</td>\n",
       "    </tr>\n",
       "    <tr>\n",
       "      <th>7</th>\n",
       "      <td>OriginalLoantoValueLTV</td>\n",
       "      <td>629498.0</td>\n",
       "      <td>6.0</td>\n",
       "      <td>72.22</td>\n",
       "      <td>78.00</td>\n",
       "      <td>102.0</td>\n",
       "      <td>65.00</td>\n",
       "      <td>80.00</td>\n",
       "      <td>17.34</td>\n",
       "      <td>46</td>\n",
       "    </tr>\n",
       "    <tr>\n",
       "      <th>8</th>\n",
       "      <td>OriginalInterestRate</td>\n",
       "      <td>629544.0</td>\n",
       "      <td>4.0</td>\n",
       "      <td>6.37</td>\n",
       "      <td>6.38</td>\n",
       "      <td>9.5</td>\n",
       "      <td>6.12</td>\n",
       "      <td>6.62</td>\n",
       "      <td>0.42</td>\n",
       "      <td>0</td>\n",
       "    </tr>\n",
       "    <tr>\n",
       "      <th>9</th>\n",
       "      <td>PostalCode</td>\n",
       "      <td>629544.0</td>\n",
       "      <td>0.0</td>\n",
       "      <td>51341.12</td>\n",
       "      <td>48300.00</td>\n",
       "      <td>99900.0</td>\n",
       "      <td>29200.00</td>\n",
       "      <td>77400.00</td>\n",
       "      <td>28514.45</td>\n",
       "      <td>0</td>\n",
       "    </tr>\n",
       "    <tr>\n",
       "      <th>10</th>\n",
       "      <td>OriginalLoanTerm</td>\n",
       "      <td>629544.0</td>\n",
       "      <td>60.0</td>\n",
       "      <td>343.05</td>\n",
       "      <td>360.00</td>\n",
       "      <td>599.0</td>\n",
       "      <td>360.00</td>\n",
       "      <td>360.00</td>\n",
       "      <td>51.32</td>\n",
       "      <td>0</td>\n",
       "    </tr>\n",
       "    <tr>\n",
       "      <th>11</th>\n",
       "      <td>NumberofBorrowers</td>\n",
       "      <td>629157.0</td>\n",
       "      <td>1.0</td>\n",
       "      <td>1.52</td>\n",
       "      <td>2.00</td>\n",
       "      <td>2.0</td>\n",
       "      <td>1.00</td>\n",
       "      <td>2.00</td>\n",
       "      <td>0.50</td>\n",
       "      <td>387</td>\n",
       "    </tr>\n",
       "    <tr>\n",
       "      <th>12</th>\n",
       "      <td>ProgramIndicator</td>\n",
       "      <td>0.0</td>\n",
       "      <td>NaN</td>\n",
       "      <td>NaN</td>\n",
       "      <td>NaN</td>\n",
       "      <td>NaN</td>\n",
       "      <td>NaN</td>\n",
       "      <td>NaN</td>\n",
       "      <td>NaN</td>\n",
       "      <td>629544</td>\n",
       "    </tr>\n",
       "    <tr>\n",
       "      <th>13</th>\n",
       "      <td>PropertyValuationMethod</td>\n",
       "      <td>0.0</td>\n",
       "      <td>NaN</td>\n",
       "      <td>NaN</td>\n",
       "      <td>NaN</td>\n",
       "      <td>NaN</td>\n",
       "      <td>NaN</td>\n",
       "      <td>NaN</td>\n",
       "      <td>NaN</td>\n",
       "      <td>629544</td>\n",
       "    </tr>\n",
       "    <tr>\n",
       "      <th>14</th>\n",
       "      <td>default</td>\n",
       "      <td>629544.0</td>\n",
       "      <td>0.0</td>\n",
       "      <td>0.06</td>\n",
       "      <td>0.00</td>\n",
       "      <td>1.0</td>\n",
       "      <td>0.00</td>\n",
       "      <td>0.00</td>\n",
       "      <td>0.24</td>\n",
       "      <td>0</td>\n",
       "    </tr>\n",
       "  </tbody>\n",
       "</table>\n",
       "</div>"
      ],
      "text/plain": [
       "                                                          Count      Min  \\\n",
       "0                                         CreditScore  628983.0    300.0   \n",
       "1   MetropolitanStatisticalAreaMSAOrMetropolitanDi...  489742.0  10180.0   \n",
       "2                       MortgageInsurancePercentageMI  629544.0      0.0   \n",
       "3                                       NumberofUnits  629544.0      1.0   \n",
       "4                     OriginalCombinedLoantoValueCLTV  629493.0      6.0   \n",
       "5                        OriginalDebttoIncomeDTIRatio  616336.0      1.0   \n",
       "6                                         OriginalUPB  629544.0   5000.0   \n",
       "7                              OriginalLoantoValueLTV  629498.0      6.0   \n",
       "8                                OriginalInterestRate  629544.0      4.0   \n",
       "9                                          PostalCode  629544.0      0.0   \n",
       "10                                   OriginalLoanTerm  629544.0     60.0   \n",
       "11                                  NumberofBorrowers  629157.0      1.0   \n",
       "12                                   ProgramIndicator       0.0      NaN   \n",
       "13                            PropertyValuationMethod       0.0      NaN   \n",
       "14                                            default  629544.0      0.0   \n",
       "\n",
       "         Mean     Median       Max  25%-quant  75%-quant  Standard deviation  \\\n",
       "0      721.21     725.00     850.0     679.00     770.00               57.55   \n",
       "1    30073.49   31140.00   49740.0   19124.00   39540.00            11365.02   \n",
       "2        4.90       0.00      50.0       0.00       0.00               10.55   \n",
       "3        1.03       1.00       4.0       1.00       1.00                0.24   \n",
       "4       75.31      80.00     127.0      66.00      90.00               18.79   \n",
       "5       36.70      37.00      65.0      28.00      45.00               12.26   \n",
       "6   176306.49  154000.00  802000.0  104000.00  230000.00            95009.79   \n",
       "7       72.22      78.00     102.0      65.00      80.00               17.34   \n",
       "8        6.37       6.38       9.5       6.12       6.62                0.42   \n",
       "9    51341.12   48300.00   99900.0   29200.00   77400.00            28514.45   \n",
       "10     343.05     360.00     599.0     360.00     360.00               51.32   \n",
       "11       1.52       2.00       2.0       1.00       2.00                0.50   \n",
       "12        NaN        NaN       NaN        NaN        NaN                 NaN   \n",
       "13        NaN        NaN       NaN        NaN        NaN                 NaN   \n",
       "14       0.06       0.00       1.0       0.00       0.00                0.24   \n",
       "\n",
       "    Missing  \n",
       "0       561  \n",
       "1    139802  \n",
       "2         0  \n",
       "3         0  \n",
       "4        51  \n",
       "5     13208  \n",
       "6         0  \n",
       "7        46  \n",
       "8         0  \n",
       "9         0  \n",
       "10        0  \n",
       "11      387  \n",
       "12   629544  \n",
       "13   629544  \n",
       "14        0  "
      ]
     },
     "metadata": {},
     "output_type": "display_data"
    }
   ],
   "source": [
    "display(summary_statistics_continuous_temp(data =df,columns = df.dtypes[df.dtypes != \"object\"].index.to_list()))"
   ]
  },
  {
   "cell_type": "code",
   "execution_count": 13,
   "id": "28730031-4daf-4e2c-ba3d-4bdada1405c0",
   "metadata": {
    "colab": {
     "base_uri": "https://localhost:8080/"
    },
    "executionInfo": {
     "elapsed": 29,
     "status": "ok",
     "timestamp": 1681123391904,
     "user": {
      "displayName": "Adnan sevinç",
      "userId": "10606629957436102111"
     },
     "user_tz": -120
    },
    "id": "28730031-4daf-4e2c-ba3d-4bdada1405c0",
    "outputId": "5a48af88-b386-4e98-d754-d2675f6044f2"
   },
   "outputs": [
    {
     "data": {
      "text/plain": [
       "LoanSequenceNumber                                       object\n",
       "CreditScore                                             float64\n",
       "FirstPaymentDate                                         object\n",
       "FirstTimeHomebuyerFlag                                   object\n",
       "MaturityDate                                             object\n",
       "MetropolitanStatisticalAreaMSAOrMetropolitanDivision    float64\n",
       "MortgageInsurancePercentageMI                             int64\n",
       "NumberofUnits                                             int64\n",
       "OccupancyStatus                                          object\n",
       "OriginalCombinedLoantoValueCLTV                         float64\n",
       "OriginalDebttoIncomeDTIRatio                            float64\n",
       "OriginalUPB                                               int64\n",
       "OriginalLoantoValueLTV                                  float64\n",
       "OriginalInterestRate                                    float64\n",
       "Channel                                                  object\n",
       "PrepaymentPenaltyMortgagePPMFlag                         object\n",
       "AmortizationTypeFormerlyProductType                      object\n",
       "PropertyState                                            object\n",
       "PropertyType                                             object\n",
       "PostalCode                                                int64\n",
       "LoanPurpose                                              object\n",
       "OriginalLoanTerm                                          int64\n",
       "NumberofBorrowers                                       float64\n",
       "SellerName                                               object\n",
       "ServicerName                                             object\n",
       "ProgramIndicator                                        float64\n",
       "PropertyValuationMethod                                 float64\n",
       "InterestOnlyIOIndicator                                  object\n",
       "dataflag                                                 object\n",
       "default                                                   int64\n",
       "dtype: object"
      ]
     },
     "execution_count": 13,
     "metadata": {},
     "output_type": "execute_result"
    }
   ],
   "source": [
    "#Explore data types\n",
    "df.dtypes"
   ]
  },
  {
   "cell_type": "markdown",
   "id": "6c31bb35-eeaf-41e8-ae49-ef8764f4b9a0",
   "metadata": {
    "id": "6c31bb35-eeaf-41e8-ae49-ef8764f4b9a0"
   },
   "source": [
    "# Default rate"
   ]
  },
  {
   "cell_type": "code",
   "execution_count": 14,
   "id": "8cbf1973-103f-4937-a70e-496d206ad7ab",
   "metadata": {
    "colab": {
     "base_uri": "https://localhost:8080/",
     "height": 112
    },
    "executionInfo": {
     "elapsed": 17,
     "status": "ok",
     "timestamp": 1681123391904,
     "user": {
      "displayName": "Adnan sevinç",
      "userId": "10606629957436102111"
     },
     "user_tz": -120
    },
    "id": "8cbf1973-103f-4937-a70e-496d206ad7ab",
    "outputId": "07ecd9ee-c42e-4267-ce6d-3cbabc249d54"
   },
   "outputs": [
    {
     "data": {
      "text/html": [
       "<div>\n",
       "<style scoped>\n",
       "    .dataframe tbody tr th:only-of-type {\n",
       "        vertical-align: middle;\n",
       "    }\n",
       "\n",
       "    .dataframe tbody tr th {\n",
       "        vertical-align: top;\n",
       "    }\n",
       "\n",
       "    .dataframe thead th {\n",
       "        text-align: right;\n",
       "    }\n",
       "</style>\n",
       "<table border=\"1\" class=\"dataframe\">\n",
       "  <thead>\n",
       "    <tr style=\"text-align: right;\">\n",
       "      <th></th>\n",
       "      <th>default</th>\n",
       "      <th>count</th>\n",
       "      <th>percent</th>\n",
       "      <th>cumulative_count</th>\n",
       "      <th>cumulative_percent</th>\n",
       "    </tr>\n",
       "  </thead>\n",
       "  <tbody>\n",
       "    <tr>\n",
       "      <th>0</th>\n",
       "      <td>0</td>\n",
       "      <td>591775</td>\n",
       "      <td>94.000578</td>\n",
       "      <td>591775</td>\n",
       "      <td>94.000578</td>\n",
       "    </tr>\n",
       "    <tr>\n",
       "      <th>1</th>\n",
       "      <td>1</td>\n",
       "      <td>37769</td>\n",
       "      <td>5.999422</td>\n",
       "      <td>629544</td>\n",
       "      <td>100.000000</td>\n",
       "    </tr>\n",
       "  </tbody>\n",
       "</table>\n",
       "</div>"
      ],
      "text/plain": [
       "   default   count    percent  cumulative_count  cumulative_percent\n",
       "0        0  591775  94.000578            591775           94.000578\n",
       "1        1   37769   5.999422            629544          100.000000"
      ]
     },
     "execution_count": 14,
     "metadata": {},
     "output_type": "execute_result"
    }
   ],
   "source": [
    "df.stb.freq([\"default\"]) #1 is defaulted"
   ]
  },
  {
   "cell_type": "markdown",
   "id": "5b0e0707-84b6-4fe1-a1c1-48ea9f18ded8",
   "metadata": {},
   "source": [
    "As it can be seen easily we do have unbalanced dataset"
   ]
  },
  {
   "cell_type": "code",
   "execution_count": 15,
   "id": "3f4a9d24-b608-4234-ba00-9e14c3d77a4d",
   "metadata": {
    "colab": {
     "base_uri": "https://localhost:8080/",
     "height": 428
    },
    "executionInfo": {
     "elapsed": 16,
     "status": "ok",
     "timestamp": 1681123391905,
     "user": {
      "displayName": "Adnan sevinç",
      "userId": "10606629957436102111"
     },
     "user_tz": -120
    },
    "id": "3f4a9d24-b608-4234-ba00-9e14c3d77a4d",
    "outputId": "2e078d1c-32ad-4c48-b578-a1ebb62bb5ca"
   },
   "outputs": [
    {
     "data": {
      "image/png": "[encoded data removed]",
      "text/plain": [
       "<Figure size 640x480 with 1 Axes>"
      ]
     },
     "metadata": {},
     "output_type": "display_data"
    }
   ],
   "source": [
    "df.default.value_counts().plot.pie(autopct=\"%1.1f%%\")\n",
    "plt.title(\"Default Rate (%)\")\n",
    "plt.ylabel(\"\")\n",
    "plt.show()"
   ]
  },
  {
   "cell_type": "markdown",
   "id": "2ac57990-a4ff-4b8f-a094-1d8c33e15345",
   "metadata": {
    "id": "2ac57990-a4ff-4b8f-a094-1d8c33e15345"
   },
   "source": [
    "# Data Preparation"
   ]
  },
  {
   "cell_type": "markdown",
   "id": "8d68d3f0-580b-42cf-b8d8-b7e5d7a13bc9",
   "metadata": {
    "id": "8d68d3f0-580b-42cf-b8d8-b7e5d7a13bc9"
   },
   "source": [
    "## Missing"
   ]
  },
  {
   "cell_type": "code",
   "execution_count": 16,
   "id": "4553e41a-230b-4f7b-9370-0de2515b33ce",
   "metadata": {
    "executionInfo": {
     "elapsed": 3165,
     "status": "ok",
     "timestamp": 1681123395057,
     "user": {
      "displayName": "Adnan sevinç",
      "userId": "10606629957436102111"
     },
     "user_tz": -120
    },
    "id": "4553e41a-230b-4f7b-9370-0de2515b33ce"
   },
   "outputs": [],
   "source": [
    "miss_tab = missing_values_table(df)"
   ]
  },
  {
   "cell_type": "code",
   "execution_count": 17,
   "id": "2151bce8-a963-4592-acae-f4d29d3188f0",
   "metadata": {
    "colab": {
     "base_uri": "https://localhost:8080/",
     "height": 989
    },
    "executionInfo": {
     "elapsed": 36,
     "status": "ok",
     "timestamp": 1681123395058,
     "user": {
      "displayName": "Adnan sevinç",
      "userId": "10606629957436102111"
     },
     "user_tz": -120
    },
    "id": "2151bce8-a963-4592-acae-f4d29d3188f0",
    "outputId": "63e1fe3c-aa22-47cd-b075-69f9eccc4ae4"
   },
   "outputs": [
    {
     "data": {
      "text/html": [
       "<div>\n",
       "<style scoped>\n",
       "    .dataframe tbody tr th:only-of-type {\n",
       "        vertical-align: middle;\n",
       "    }\n",
       "\n",
       "    .dataframe tbody tr th {\n",
       "        vertical-align: top;\n",
       "    }\n",
       "\n",
       "    .dataframe thead th {\n",
       "        text-align: right;\n",
       "    }\n",
       "</style>\n",
       "<table border=\"1\" class=\"dataframe\">\n",
       "  <thead>\n",
       "    <tr style=\"text-align: right;\">\n",
       "      <th></th>\n",
       "      <th>Column</th>\n",
       "      <th>DatasetRow</th>\n",
       "      <th>ColumnRow</th>\n",
       "      <th>Missing</th>\n",
       "      <th>Percent</th>\n",
       "    </tr>\n",
       "  </thead>\n",
       "  <tbody>\n",
       "    <tr>\n",
       "      <th>0</th>\n",
       "      <td>PropertyValuationMethod</td>\n",
       "      <td>629544</td>\n",
       "      <td>0</td>\n",
       "      <td>629544</td>\n",
       "      <td>100.000</td>\n",
       "    </tr>\n",
       "    <tr>\n",
       "      <th>1</th>\n",
       "      <td>ProgramIndicator</td>\n",
       "      <td>629544</td>\n",
       "      <td>0</td>\n",
       "      <td>629544</td>\n",
       "      <td>100.000</td>\n",
       "    </tr>\n",
       "    <tr>\n",
       "      <th>2</th>\n",
       "      <td>MetropolitanStatisticalAreaMSAOrMetropolitanDi...</td>\n",
       "      <td>629544</td>\n",
       "      <td>489742</td>\n",
       "      <td>139802</td>\n",
       "      <td>22.207</td>\n",
       "    </tr>\n",
       "    <tr>\n",
       "      <th>3</th>\n",
       "      <td>OriginalDebttoIncomeDTIRatio</td>\n",
       "      <td>629544</td>\n",
       "      <td>616336</td>\n",
       "      <td>13208</td>\n",
       "      <td>2.098</td>\n",
       "    </tr>\n",
       "    <tr>\n",
       "      <th>4</th>\n",
       "      <td>CreditScore</td>\n",
       "      <td>629544</td>\n",
       "      <td>628983</td>\n",
       "      <td>561</td>\n",
       "      <td>0.089</td>\n",
       "    </tr>\n",
       "    <tr>\n",
       "      <th>5</th>\n",
       "      <td>NumberofBorrowers</td>\n",
       "      <td>629544</td>\n",
       "      <td>629157</td>\n",
       "      <td>387</td>\n",
       "      <td>0.061</td>\n",
       "    </tr>\n",
       "    <tr>\n",
       "      <th>6</th>\n",
       "      <td>FirstTimeHomebuyerFlag</td>\n",
       "      <td>629544</td>\n",
       "      <td>629388</td>\n",
       "      <td>156</td>\n",
       "      <td>0.025</td>\n",
       "    </tr>\n",
       "    <tr>\n",
       "      <th>7</th>\n",
       "      <td>OriginalCombinedLoantoValueCLTV</td>\n",
       "      <td>629544</td>\n",
       "      <td>629493</td>\n",
       "      <td>51</td>\n",
       "      <td>0.008</td>\n",
       "    </tr>\n",
       "    <tr>\n",
       "      <th>8</th>\n",
       "      <td>OriginalLoantoValueLTV</td>\n",
       "      <td>629544</td>\n",
       "      <td>629498</td>\n",
       "      <td>46</td>\n",
       "      <td>0.007</td>\n",
       "    </tr>\n",
       "    <tr>\n",
       "      <th>9</th>\n",
       "      <td>Channel</td>\n",
       "      <td>629544</td>\n",
       "      <td>629542</td>\n",
       "      <td>2</td>\n",
       "      <td>0.000</td>\n",
       "    </tr>\n",
       "    <tr>\n",
       "      <th>10</th>\n",
       "      <td>OriginalLoanTerm</td>\n",
       "      <td>629544</td>\n",
       "      <td>629544</td>\n",
       "      <td>0</td>\n",
       "      <td>0.000</td>\n",
       "    </tr>\n",
       "    <tr>\n",
       "      <th>11</th>\n",
       "      <td>LoanSequenceNumber</td>\n",
       "      <td>629544</td>\n",
       "      <td>629544</td>\n",
       "      <td>0</td>\n",
       "      <td>0.000</td>\n",
       "    </tr>\n",
       "    <tr>\n",
       "      <th>12</th>\n",
       "      <td>SellerName</td>\n",
       "      <td>629544</td>\n",
       "      <td>629544</td>\n",
       "      <td>0</td>\n",
       "      <td>0.000</td>\n",
       "    </tr>\n",
       "    <tr>\n",
       "      <th>13</th>\n",
       "      <td>PostalCode</td>\n",
       "      <td>629544</td>\n",
       "      <td>629544</td>\n",
       "      <td>0</td>\n",
       "      <td>0.000</td>\n",
       "    </tr>\n",
       "    <tr>\n",
       "      <th>14</th>\n",
       "      <td>ServicerName</td>\n",
       "      <td>629544</td>\n",
       "      <td>629544</td>\n",
       "      <td>0</td>\n",
       "      <td>0.000</td>\n",
       "    </tr>\n",
       "    <tr>\n",
       "      <th>15</th>\n",
       "      <td>InterestOnlyIOIndicator</td>\n",
       "      <td>629544</td>\n",
       "      <td>629544</td>\n",
       "      <td>0</td>\n",
       "      <td>0.000</td>\n",
       "    </tr>\n",
       "    <tr>\n",
       "      <th>16</th>\n",
       "      <td>dataflag</td>\n",
       "      <td>629544</td>\n",
       "      <td>629544</td>\n",
       "      <td>0</td>\n",
       "      <td>0.000</td>\n",
       "    </tr>\n",
       "    <tr>\n",
       "      <th>17</th>\n",
       "      <td>LoanPurpose</td>\n",
       "      <td>629544</td>\n",
       "      <td>629544</td>\n",
       "      <td>0</td>\n",
       "      <td>0.000</td>\n",
       "    </tr>\n",
       "    <tr>\n",
       "      <th>18</th>\n",
       "      <td>PrepaymentPenaltyMortgagePPMFlag</td>\n",
       "      <td>629544</td>\n",
       "      <td>629544</td>\n",
       "      <td>0</td>\n",
       "      <td>0.000</td>\n",
       "    </tr>\n",
       "    <tr>\n",
       "      <th>19</th>\n",
       "      <td>PropertyType</td>\n",
       "      <td>629544</td>\n",
       "      <td>629544</td>\n",
       "      <td>0</td>\n",
       "      <td>0.000</td>\n",
       "    </tr>\n",
       "    <tr>\n",
       "      <th>20</th>\n",
       "      <td>PropertyState</td>\n",
       "      <td>629544</td>\n",
       "      <td>629544</td>\n",
       "      <td>0</td>\n",
       "      <td>0.000</td>\n",
       "    </tr>\n",
       "    <tr>\n",
       "      <th>21</th>\n",
       "      <td>AmortizationTypeFormerlyProductType</td>\n",
       "      <td>629544</td>\n",
       "      <td>629544</td>\n",
       "      <td>0</td>\n",
       "      <td>0.000</td>\n",
       "    </tr>\n",
       "    <tr>\n",
       "      <th>22</th>\n",
       "      <td>OriginalInterestRate</td>\n",
       "      <td>629544</td>\n",
       "      <td>629544</td>\n",
       "      <td>0</td>\n",
       "      <td>0.000</td>\n",
       "    </tr>\n",
       "    <tr>\n",
       "      <th>23</th>\n",
       "      <td>OriginalUPB</td>\n",
       "      <td>629544</td>\n",
       "      <td>629544</td>\n",
       "      <td>0</td>\n",
       "      <td>0.000</td>\n",
       "    </tr>\n",
       "    <tr>\n",
       "      <th>24</th>\n",
       "      <td>OccupancyStatus</td>\n",
       "      <td>629544</td>\n",
       "      <td>629544</td>\n",
       "      <td>0</td>\n",
       "      <td>0.000</td>\n",
       "    </tr>\n",
       "    <tr>\n",
       "      <th>25</th>\n",
       "      <td>NumberofUnits</td>\n",
       "      <td>629544</td>\n",
       "      <td>629544</td>\n",
       "      <td>0</td>\n",
       "      <td>0.000</td>\n",
       "    </tr>\n",
       "    <tr>\n",
       "      <th>26</th>\n",
       "      <td>MortgageInsurancePercentageMI</td>\n",
       "      <td>629544</td>\n",
       "      <td>629544</td>\n",
       "      <td>0</td>\n",
       "      <td>0.000</td>\n",
       "    </tr>\n",
       "    <tr>\n",
       "      <th>27</th>\n",
       "      <td>MaturityDate</td>\n",
       "      <td>629544</td>\n",
       "      <td>629544</td>\n",
       "      <td>0</td>\n",
       "      <td>0.000</td>\n",
       "    </tr>\n",
       "    <tr>\n",
       "      <th>28</th>\n",
       "      <td>FirstPaymentDate</td>\n",
       "      <td>629544</td>\n",
       "      <td>629544</td>\n",
       "      <td>0</td>\n",
       "      <td>0.000</td>\n",
       "    </tr>\n",
       "    <tr>\n",
       "      <th>29</th>\n",
       "      <td>default</td>\n",
       "      <td>629544</td>\n",
       "      <td>629544</td>\n",
       "      <td>0</td>\n",
       "      <td>0.000</td>\n",
       "    </tr>\n",
       "  </tbody>\n",
       "</table>\n",
       "</div>"
      ],
      "text/plain": [
       "                                               Column  DatasetRow  ColumnRow  \\\n",
       "0                             PropertyValuationMethod      629544          0   \n",
       "1                                    ProgramIndicator      629544          0   \n",
       "2   MetropolitanStatisticalAreaMSAOrMetropolitanDi...      629544     489742   \n",
       "3                        OriginalDebttoIncomeDTIRatio      629544     616336   \n",
       "4                                         CreditScore      629544     628983   \n",
       "5                                   NumberofBorrowers      629544     629157   \n",
       "6                              FirstTimeHomebuyerFlag      629544     629388   \n",
       "7                     OriginalCombinedLoantoValueCLTV      629544     629493   \n",
       "8                              OriginalLoantoValueLTV      629544     629498   \n",
       "9                                             Channel      629544     629542   \n",
       "10                                   OriginalLoanTerm      629544     629544   \n",
       "11                                 LoanSequenceNumber      629544     629544   \n",
       "12                                         SellerName      629544     629544   \n",
       "13                                         PostalCode      629544     629544   \n",
       "14                                       ServicerName      629544     629544   \n",
       "15                            InterestOnlyIOIndicator      629544     629544   \n",
       "16                                           dataflag      629544     629544   \n",
       "17                                        LoanPurpose      629544     629544   \n",
       "18                   PrepaymentPenaltyMortgagePPMFlag      629544     629544   \n",
       "19                                       PropertyType      629544     629544   \n",
       "20                                      PropertyState      629544     629544   \n",
       "21                AmortizationTypeFormerlyProductType      629544     629544   \n",
       "22                               OriginalInterestRate      629544     629544   \n",
       "23                                        OriginalUPB      629544     629544   \n",
       "24                                    OccupancyStatus      629544     629544   \n",
       "25                                      NumberofUnits      629544     629544   \n",
       "26                      MortgageInsurancePercentageMI      629544     629544   \n",
       "27                                       MaturityDate      629544     629544   \n",
       "28                                   FirstPaymentDate      629544     629544   \n",
       "29                                            default      629544     629544   \n",
       "\n",
       "    Missing  Percent  \n",
       "0    629544  100.000  \n",
       "1    629544  100.000  \n",
       "2    139802   22.207  \n",
       "3     13208    2.098  \n",
       "4       561    0.089  \n",
       "5       387    0.061  \n",
       "6       156    0.025  \n",
       "7        51    0.008  \n",
       "8        46    0.007  \n",
       "9         2    0.000  \n",
       "10        0    0.000  \n",
       "11        0    0.000  \n",
       "12        0    0.000  \n",
       "13        0    0.000  \n",
       "14        0    0.000  \n",
       "15        0    0.000  \n",
       "16        0    0.000  \n",
       "17        0    0.000  \n",
       "18        0    0.000  \n",
       "19        0    0.000  \n",
       "20        0    0.000  \n",
       "21        0    0.000  \n",
       "22        0    0.000  \n",
       "23        0    0.000  \n",
       "24        0    0.000  \n",
       "25        0    0.000  \n",
       "26        0    0.000  \n",
       "27        0    0.000  \n",
       "28        0    0.000  \n",
       "29        0    0.000  "
      ]
     },
     "execution_count": 17,
     "metadata": {},
     "output_type": "execute_result"
    }
   ],
   "source": [
    "miss_tab"
   ]
  },
  {
   "cell_type": "markdown",
   "id": "c0123ec4-4f37-4a22-a7f2-c779521b7be0",
   "metadata": {
    "id": "c0123ec4-4f37-4a22-a7f2-c779521b7be0"
   },
   "source": [
    "### Drop Columns due to Huge Number of Missing"
   ]
  },
  {
   "cell_type": "markdown",
   "id": "be365986-96c6-4f9c-8c57-877ad9334a9a",
   "metadata": {},
   "source": [
    "We can see that some variables are 100% missing in the model and we plan to remove them."
   ]
  },
  {
   "cell_type": "code",
   "execution_count": 18,
   "id": "b8030b70-aef6-476d-bc8e-4a6d04d01773",
   "metadata": {
    "colab": {
     "base_uri": "https://localhost:8080/"
    },
    "executionInfo": {
     "elapsed": 32,
     "status": "ok",
     "timestamp": 1681123395059,
     "user": {
      "displayName": "Adnan sevinç",
      "userId": "10606629957436102111"
     },
     "user_tz": -120
    },
    "id": "b8030b70-aef6-476d-bc8e-4a6d04d01773",
    "outputId": "13626d09-6d09-4b93-bff9-a452e1fa6883"
   },
   "outputs": [
    {
     "data": {
      "text/plain": [
       "(629544, 30)"
      ]
     },
     "execution_count": 18,
     "metadata": {},
     "output_type": "execute_result"
    }
   ],
   "source": [
    "# df shape before dropping\n",
    "df.shape"
   ]
  },
  {
   "cell_type": "code",
   "execution_count": 19,
   "id": "d610087e-a095-4198-b4e2-5b2172b40716",
   "metadata": {
    "executionInfo": {
     "elapsed": 17,
     "status": "ok",
     "timestamp": 1681123395059,
     "user": {
      "displayName": "Adnan sevinç",
      "userId": "10606629957436102111"
     },
     "user_tz": -120
    },
    "id": "d610087e-a095-4198-b4e2-5b2172b40716"
   },
   "outputs": [],
   "source": [
    "#drop fully missed columns\n",
    "fullyMissed =[\n",
    "    \"PropertyValuationMethod\",\n",
    "    \"ProgramIndicator\"\n",
    "]\n",
    "\n",
    "#drop columns\n",
    "df = df.drop(fullyMissed , axis = 1)"
   ]
  },
  {
   "cell_type": "code",
   "execution_count": 20,
   "id": "2ccbb48d-1606-449d-b1e7-b51b29ae37a5",
   "metadata": {
    "colab": {
     "base_uri": "https://localhost:8080/"
    },
    "executionInfo": {
     "elapsed": 16,
     "status": "ok",
     "timestamp": 1681123395059,
     "user": {
      "displayName": "Adnan sevinç",
      "userId": "10606629957436102111"
     },
     "user_tz": -120
    },
    "id": "2ccbb48d-1606-449d-b1e7-b51b29ae37a5",
    "outputId": "9703589b-8333-4957-e131-b47cd6f74c8f"
   },
   "outputs": [
    {
     "data": {
      "text/plain": [
       "(629544, 28)"
      ]
     },
     "execution_count": 20,
     "metadata": {},
     "output_type": "execute_result"
    }
   ],
   "source": [
    "# df shape after dropping\n",
    "df.shape"
   ]
  },
  {
   "cell_type": "markdown",
   "id": "33dc352d-6db0-4102-9555-e2eca3884bdd",
   "metadata": {
    "id": "33dc352d-6db0-4102-9555-e2eca3884bdd"
   },
   "source": [
    "### Populate Missing"
   ]
  },
  {
   "cell_type": "markdown",
   "id": "5c4c5ad3-d928-40b5-8f86-9db8b708a491",
   "metadata": {},
   "source": [
    "We will impute missing the numerical values with the 'mean', and the categorical values with the 'most frequent' words."
   ]
  },
  {
   "cell_type": "markdown",
   "id": "ca282e0e-07ee-40dd-af32-e17221b4f22e",
   "metadata": {},
   "source": [
    "We will only impute values for variables that have less than 50% missing data."
   ]
  },
  {
   "cell_type": "code",
   "execution_count": 21,
   "id": "2b23dc86-18ae-4bd1-8fc6-0227f4bf2f02",
   "metadata": {
    "colab": {
     "base_uri": "https://localhost:8080/",
     "height": 927
    },
    "executionInfo": {
     "elapsed": 3011,
     "status": "ok",
     "timestamp": 1681123399718,
     "user": {
      "displayName": "Adnan sevinç",
      "userId": "10606629957436102111"
     },
     "user_tz": -120
    },
    "id": "2b23dc86-18ae-4bd1-8fc6-0227f4bf2f02",
    "outputId": "d1f6e33d-644d-40cf-82af-cc0a59d9f226"
   },
   "outputs": [
    {
     "data": {
      "text/html": [
       "<div>\n",
       "<style scoped>\n",
       "    .dataframe tbody tr th:only-of-type {\n",
       "        vertical-align: middle;\n",
       "    }\n",
       "\n",
       "    .dataframe tbody tr th {\n",
       "        vertical-align: top;\n",
       "    }\n",
       "\n",
       "    .dataframe thead th {\n",
       "        text-align: right;\n",
       "    }\n",
       "</style>\n",
       "<table border=\"1\" class=\"dataframe\">\n",
       "  <thead>\n",
       "    <tr style=\"text-align: right;\">\n",
       "      <th></th>\n",
       "      <th>Column</th>\n",
       "      <th>DatasetRow</th>\n",
       "      <th>ColumnRow</th>\n",
       "      <th>Missing</th>\n",
       "      <th>Percent</th>\n",
       "    </tr>\n",
       "  </thead>\n",
       "  <tbody>\n",
       "    <tr>\n",
       "      <th>0</th>\n",
       "      <td>MetropolitanStatisticalAreaMSAOrMetropolitanDi...</td>\n",
       "      <td>629544</td>\n",
       "      <td>489742</td>\n",
       "      <td>139802</td>\n",
       "      <td>22.207</td>\n",
       "    </tr>\n",
       "    <tr>\n",
       "      <th>1</th>\n",
       "      <td>OriginalDebttoIncomeDTIRatio</td>\n",
       "      <td>629544</td>\n",
       "      <td>616336</td>\n",
       "      <td>13208</td>\n",
       "      <td>2.098</td>\n",
       "    </tr>\n",
       "    <tr>\n",
       "      <th>2</th>\n",
       "      <td>CreditScore</td>\n",
       "      <td>629544</td>\n",
       "      <td>628983</td>\n",
       "      <td>561</td>\n",
       "      <td>0.089</td>\n",
       "    </tr>\n",
       "    <tr>\n",
       "      <th>3</th>\n",
       "      <td>NumberofBorrowers</td>\n",
       "      <td>629544</td>\n",
       "      <td>629157</td>\n",
       "      <td>387</td>\n",
       "      <td>0.061</td>\n",
       "    </tr>\n",
       "    <tr>\n",
       "      <th>4</th>\n",
       "      <td>FirstTimeHomebuyerFlag</td>\n",
       "      <td>629544</td>\n",
       "      <td>629388</td>\n",
       "      <td>156</td>\n",
       "      <td>0.025</td>\n",
       "    </tr>\n",
       "    <tr>\n",
       "      <th>5</th>\n",
       "      <td>OriginalCombinedLoantoValueCLTV</td>\n",
       "      <td>629544</td>\n",
       "      <td>629493</td>\n",
       "      <td>51</td>\n",
       "      <td>0.008</td>\n",
       "    </tr>\n",
       "    <tr>\n",
       "      <th>6</th>\n",
       "      <td>OriginalLoantoValueLTV</td>\n",
       "      <td>629544</td>\n",
       "      <td>629498</td>\n",
       "      <td>46</td>\n",
       "      <td>0.007</td>\n",
       "    </tr>\n",
       "    <tr>\n",
       "      <th>7</th>\n",
       "      <td>Channel</td>\n",
       "      <td>629544</td>\n",
       "      <td>629542</td>\n",
       "      <td>2</td>\n",
       "      <td>0.000</td>\n",
       "    </tr>\n",
       "    <tr>\n",
       "      <th>8</th>\n",
       "      <td>PropertyState</td>\n",
       "      <td>629544</td>\n",
       "      <td>629544</td>\n",
       "      <td>0</td>\n",
       "      <td>0.000</td>\n",
       "    </tr>\n",
       "    <tr>\n",
       "      <th>9</th>\n",
       "      <td>SellerName</td>\n",
       "      <td>629544</td>\n",
       "      <td>629544</td>\n",
       "      <td>0</td>\n",
       "      <td>0.000</td>\n",
       "    </tr>\n",
       "    <tr>\n",
       "      <th>10</th>\n",
       "      <td>ServicerName</td>\n",
       "      <td>629544</td>\n",
       "      <td>629544</td>\n",
       "      <td>0</td>\n",
       "      <td>0.000</td>\n",
       "    </tr>\n",
       "    <tr>\n",
       "      <th>11</th>\n",
       "      <td>OriginalLoanTerm</td>\n",
       "      <td>629544</td>\n",
       "      <td>629544</td>\n",
       "      <td>0</td>\n",
       "      <td>0.000</td>\n",
       "    </tr>\n",
       "    <tr>\n",
       "      <th>12</th>\n",
       "      <td>InterestOnlyIOIndicator</td>\n",
       "      <td>629544</td>\n",
       "      <td>629544</td>\n",
       "      <td>0</td>\n",
       "      <td>0.000</td>\n",
       "    </tr>\n",
       "    <tr>\n",
       "      <th>13</th>\n",
       "      <td>LoanPurpose</td>\n",
       "      <td>629544</td>\n",
       "      <td>629544</td>\n",
       "      <td>0</td>\n",
       "      <td>0.000</td>\n",
       "    </tr>\n",
       "    <tr>\n",
       "      <th>14</th>\n",
       "      <td>dataflag</td>\n",
       "      <td>629544</td>\n",
       "      <td>629544</td>\n",
       "      <td>0</td>\n",
       "      <td>0.000</td>\n",
       "    </tr>\n",
       "    <tr>\n",
       "      <th>15</th>\n",
       "      <td>PostalCode</td>\n",
       "      <td>629544</td>\n",
       "      <td>629544</td>\n",
       "      <td>0</td>\n",
       "      <td>0.000</td>\n",
       "    </tr>\n",
       "    <tr>\n",
       "      <th>16</th>\n",
       "      <td>PropertyType</td>\n",
       "      <td>629544</td>\n",
       "      <td>629544</td>\n",
       "      <td>0</td>\n",
       "      <td>0.000</td>\n",
       "    </tr>\n",
       "    <tr>\n",
       "      <th>17</th>\n",
       "      <td>LoanSequenceNumber</td>\n",
       "      <td>629544</td>\n",
       "      <td>629544</td>\n",
       "      <td>0</td>\n",
       "      <td>0.000</td>\n",
       "    </tr>\n",
       "    <tr>\n",
       "      <th>18</th>\n",
       "      <td>AmortizationTypeFormerlyProductType</td>\n",
       "      <td>629544</td>\n",
       "      <td>629544</td>\n",
       "      <td>0</td>\n",
       "      <td>0.000</td>\n",
       "    </tr>\n",
       "    <tr>\n",
       "      <th>19</th>\n",
       "      <td>PrepaymentPenaltyMortgagePPMFlag</td>\n",
       "      <td>629544</td>\n",
       "      <td>629544</td>\n",
       "      <td>0</td>\n",
       "      <td>0.000</td>\n",
       "    </tr>\n",
       "    <tr>\n",
       "      <th>20</th>\n",
       "      <td>OriginalInterestRate</td>\n",
       "      <td>629544</td>\n",
       "      <td>629544</td>\n",
       "      <td>0</td>\n",
       "      <td>0.000</td>\n",
       "    </tr>\n",
       "    <tr>\n",
       "      <th>21</th>\n",
       "      <td>OriginalUPB</td>\n",
       "      <td>629544</td>\n",
       "      <td>629544</td>\n",
       "      <td>0</td>\n",
       "      <td>0.000</td>\n",
       "    </tr>\n",
       "    <tr>\n",
       "      <th>22</th>\n",
       "      <td>OccupancyStatus</td>\n",
       "      <td>629544</td>\n",
       "      <td>629544</td>\n",
       "      <td>0</td>\n",
       "      <td>0.000</td>\n",
       "    </tr>\n",
       "    <tr>\n",
       "      <th>23</th>\n",
       "      <td>NumberofUnits</td>\n",
       "      <td>629544</td>\n",
       "      <td>629544</td>\n",
       "      <td>0</td>\n",
       "      <td>0.000</td>\n",
       "    </tr>\n",
       "    <tr>\n",
       "      <th>24</th>\n",
       "      <td>MortgageInsurancePercentageMI</td>\n",
       "      <td>629544</td>\n",
       "      <td>629544</td>\n",
       "      <td>0</td>\n",
       "      <td>0.000</td>\n",
       "    </tr>\n",
       "    <tr>\n",
       "      <th>25</th>\n",
       "      <td>MaturityDate</td>\n",
       "      <td>629544</td>\n",
       "      <td>629544</td>\n",
       "      <td>0</td>\n",
       "      <td>0.000</td>\n",
       "    </tr>\n",
       "    <tr>\n",
       "      <th>26</th>\n",
       "      <td>FirstPaymentDate</td>\n",
       "      <td>629544</td>\n",
       "      <td>629544</td>\n",
       "      <td>0</td>\n",
       "      <td>0.000</td>\n",
       "    </tr>\n",
       "    <tr>\n",
       "      <th>27</th>\n",
       "      <td>default</td>\n",
       "      <td>629544</td>\n",
       "      <td>629544</td>\n",
       "      <td>0</td>\n",
       "      <td>0.000</td>\n",
       "    </tr>\n",
       "  </tbody>\n",
       "</table>\n",
       "</div>"
      ],
      "text/plain": [
       "                                               Column  DatasetRow  ColumnRow  \\\n",
       "0   MetropolitanStatisticalAreaMSAOrMetropolitanDi...      629544     489742   \n",
       "1                        OriginalDebttoIncomeDTIRatio      629544     616336   \n",
       "2                                         CreditScore      629544     628983   \n",
       "3                                   NumberofBorrowers      629544     629157   \n",
       "4                              FirstTimeHomebuyerFlag      629544     629388   \n",
       "5                     OriginalCombinedLoantoValueCLTV      629544     629493   \n",
       "6                              OriginalLoantoValueLTV      629544     629498   \n",
       "7                                             Channel      629544     629542   \n",
       "8                                       PropertyState      629544     629544   \n",
       "9                                          SellerName      629544     629544   \n",
       "10                                       ServicerName      629544     629544   \n",
       "11                                   OriginalLoanTerm      629544     629544   \n",
       "12                            InterestOnlyIOIndicator      629544     629544   \n",
       "13                                        LoanPurpose      629544     629544   \n",
       "14                                           dataflag      629544     629544   \n",
       "15                                         PostalCode      629544     629544   \n",
       "16                                       PropertyType      629544     629544   \n",
       "17                                 LoanSequenceNumber      629544     629544   \n",
       "18                AmortizationTypeFormerlyProductType      629544     629544   \n",
       "19                   PrepaymentPenaltyMortgagePPMFlag      629544     629544   \n",
       "20                               OriginalInterestRate      629544     629544   \n",
       "21                                        OriginalUPB      629544     629544   \n",
       "22                                    OccupancyStatus      629544     629544   \n",
       "23                                      NumberofUnits      629544     629544   \n",
       "24                      MortgageInsurancePercentageMI      629544     629544   \n",
       "25                                       MaturityDate      629544     629544   \n",
       "26                                   FirstPaymentDate      629544     629544   \n",
       "27                                            default      629544     629544   \n",
       "\n",
       "    Missing  Percent  \n",
       "0    139802   22.207  \n",
       "1     13208    2.098  \n",
       "2       561    0.089  \n",
       "3       387    0.061  \n",
       "4       156    0.025  \n",
       "5        51    0.008  \n",
       "6        46    0.007  \n",
       "7         2    0.000  \n",
       "8         0    0.000  \n",
       "9         0    0.000  \n",
       "10        0    0.000  \n",
       "11        0    0.000  \n",
       "12        0    0.000  \n",
       "13        0    0.000  \n",
       "14        0    0.000  \n",
       "15        0    0.000  \n",
       "16        0    0.000  \n",
       "17        0    0.000  \n",
       "18        0    0.000  \n",
       "19        0    0.000  \n",
       "20        0    0.000  \n",
       "21        0    0.000  \n",
       "22        0    0.000  \n",
       "23        0    0.000  \n",
       "24        0    0.000  \n",
       "25        0    0.000  \n",
       "26        0    0.000  \n",
       "27        0    0.000  "
      ]
     },
     "execution_count": 21,
     "metadata": {},
     "output_type": "execute_result"
    }
   ],
   "source": [
    "miss_tab = missing_values_table(df)\n",
    "miss_tab"
   ]
  },
  {
   "cell_type": "code",
   "execution_count": 22,
   "id": "a0c2c9fc-9b47-4da7-b331-6b12ee0841ec",
   "metadata": {
    "colab": {
     "base_uri": "https://localhost:8080/",
     "height": 300
    },
    "executionInfo": {
     "elapsed": 17,
     "status": "ok",
     "timestamp": 1681123399719,
     "user": {
      "displayName": "Adnan sevinç",
      "userId": "10606629957436102111"
     },
     "user_tz": -120
    },
    "id": "a0c2c9fc-9b47-4da7-b331-6b12ee0841ec",
    "outputId": "c1798d20-00ee-4bdb-b52e-bd13ec47b654"
   },
   "outputs": [
    {
     "data": {
      "text/html": [
       "<div>\n",
       "<style scoped>\n",
       "    .dataframe tbody tr th:only-of-type {\n",
       "        vertical-align: middle;\n",
       "    }\n",
       "\n",
       "    .dataframe tbody tr th {\n",
       "        vertical-align: top;\n",
       "    }\n",
       "\n",
       "    .dataframe thead th {\n",
       "        text-align: right;\n",
       "    }\n",
       "</style>\n",
       "<table border=\"1\" class=\"dataframe\">\n",
       "  <thead>\n",
       "    <tr style=\"text-align: right;\">\n",
       "      <th></th>\n",
       "      <th>Column</th>\n",
       "      <th>DatasetRow</th>\n",
       "      <th>ColumnRow</th>\n",
       "      <th>Missing</th>\n",
       "      <th>Percent</th>\n",
       "    </tr>\n",
       "  </thead>\n",
       "  <tbody>\n",
       "    <tr>\n",
       "      <th>0</th>\n",
       "      <td>MetropolitanStatisticalAreaMSAOrMetropolitanDi...</td>\n",
       "      <td>629544</td>\n",
       "      <td>489742</td>\n",
       "      <td>139802</td>\n",
       "      <td>22.207</td>\n",
       "    </tr>\n",
       "    <tr>\n",
       "      <th>1</th>\n",
       "      <td>OriginalDebttoIncomeDTIRatio</td>\n",
       "      <td>629544</td>\n",
       "      <td>616336</td>\n",
       "      <td>13208</td>\n",
       "      <td>2.098</td>\n",
       "    </tr>\n",
       "    <tr>\n",
       "      <th>2</th>\n",
       "      <td>CreditScore</td>\n",
       "      <td>629544</td>\n",
       "      <td>628983</td>\n",
       "      <td>561</td>\n",
       "      <td>0.089</td>\n",
       "    </tr>\n",
       "    <tr>\n",
       "      <th>3</th>\n",
       "      <td>NumberofBorrowers</td>\n",
       "      <td>629544</td>\n",
       "      <td>629157</td>\n",
       "      <td>387</td>\n",
       "      <td>0.061</td>\n",
       "    </tr>\n",
       "    <tr>\n",
       "      <th>4</th>\n",
       "      <td>FirstTimeHomebuyerFlag</td>\n",
       "      <td>629544</td>\n",
       "      <td>629388</td>\n",
       "      <td>156</td>\n",
       "      <td>0.025</td>\n",
       "    </tr>\n",
       "    <tr>\n",
       "      <th>5</th>\n",
       "      <td>OriginalCombinedLoantoValueCLTV</td>\n",
       "      <td>629544</td>\n",
       "      <td>629493</td>\n",
       "      <td>51</td>\n",
       "      <td>0.008</td>\n",
       "    </tr>\n",
       "    <tr>\n",
       "      <th>6</th>\n",
       "      <td>OriginalLoantoValueLTV</td>\n",
       "      <td>629544</td>\n",
       "      <td>629498</td>\n",
       "      <td>46</td>\n",
       "      <td>0.007</td>\n",
       "    </tr>\n",
       "    <tr>\n",
       "      <th>7</th>\n",
       "      <td>Channel</td>\n",
       "      <td>629544</td>\n",
       "      <td>629542</td>\n",
       "      <td>2</td>\n",
       "      <td>0.000</td>\n",
       "    </tr>\n",
       "  </tbody>\n",
       "</table>\n",
       "</div>"
      ],
      "text/plain": [
       "                                              Column  DatasetRow  ColumnRow  \\\n",
       "0  MetropolitanStatisticalAreaMSAOrMetropolitanDi...      629544     489742   \n",
       "1                       OriginalDebttoIncomeDTIRatio      629544     616336   \n",
       "2                                        CreditScore      629544     628983   \n",
       "3                                  NumberofBorrowers      629544     629157   \n",
       "4                             FirstTimeHomebuyerFlag      629544     629388   \n",
       "5                    OriginalCombinedLoantoValueCLTV      629544     629493   \n",
       "6                             OriginalLoantoValueLTV      629544     629498   \n",
       "7                                            Channel      629544     629542   \n",
       "\n",
       "   Missing  Percent  \n",
       "0   139802   22.207  \n",
       "1    13208    2.098  \n",
       "2      561    0.089  \n",
       "3      387    0.061  \n",
       "4      156    0.025  \n",
       "5       51    0.008  \n",
       "6       46    0.007  \n",
       "7        2    0.000  "
      ]
     },
     "execution_count": 22,
     "metadata": {},
     "output_type": "execute_result"
    }
   ],
   "source": [
    "# variables has less than %50 percent missing\n",
    "miss_tab.loc[(miss_tab[\"Percent\"]< 50) & (miss_tab[\"Missing\"]> 0)].reset_index(drop =True) # varible to be populated"
   ]
  },
  {
   "cell_type": "code",
   "execution_count": 23,
   "id": "641f15b4-a855-4caf-84d2-85ea980ad783",
   "metadata": {
    "executionInfo": {
     "elapsed": 12,
     "status": "ok",
     "timestamp": 1681123399719,
     "user": {
      "displayName": "Adnan sevinç",
      "userId": "10606629957436102111"
     },
     "user_tz": -120
    },
    "id": "641f15b4-a855-4caf-84d2-85ea980ad783"
   },
   "outputs": [],
   "source": [
    "#fil by mean\n",
    "#fill_missing_values(df, columns, bywhat, rounding=False)\n",
    "fill_missing_values(df,[\"MetropolitanStatisticalAreaMSAOrMetropolitanDivision\"],\"mean\", rounding=True)"
   ]
  },
  {
   "cell_type": "code",
   "execution_count": 24,
   "id": "008a07e4-c217-4115-b51c-34cb0b6443d6",
   "metadata": {
    "executionInfo": {
     "elapsed": 12,
     "status": "ok",
     "timestamp": 1681123399720,
     "user": {
      "displayName": "Adnan sevinç",
      "userId": "10606629957436102111"
     },
     "user_tz": -120
    },
    "id": "008a07e4-c217-4115-b51c-34cb0b6443d6"
   },
   "outputs": [],
   "source": [
    "#fil by mean\n",
    "#fill_missing_values(df, columns, bywhat, rounding=False)\n",
    "fill_missing_values(df,[\"OriginalDebttoIncomeDTIRatio\"],\"mean\", rounding=True)"
   ]
  },
  {
   "cell_type": "code",
   "execution_count": 25,
   "id": "f781e7b4-7d6f-4d9a-bccb-3bb08657fff7",
   "metadata": {
    "executionInfo": {
     "elapsed": 11,
     "status": "ok",
     "timestamp": 1681123399720,
     "user": {
      "displayName": "Adnan sevinç",
      "userId": "10606629957436102111"
     },
     "user_tz": -120
    },
    "id": "f781e7b4-7d6f-4d9a-bccb-3bb08657fff7"
   },
   "outputs": [],
   "source": [
    "#fil by mean\n",
    "#fill_missing_values(df, columns, bywhat, rounding=False)\n",
    "fill_missing_values(df,[\"CreditScore\"],\"mean\", rounding=True)"
   ]
  },
  {
   "cell_type": "code",
   "execution_count": 26,
   "id": "48f70782-ec7a-4edf-9464-5af58090b254",
   "metadata": {
    "executionInfo": {
     "elapsed": 6,
     "status": "ok",
     "timestamp": 1681123400050,
     "user": {
      "displayName": "Adnan sevinç",
      "userId": "10606629957436102111"
     },
     "user_tz": -120
    },
    "id": "48f70782-ec7a-4edf-9464-5af58090b254"
   },
   "outputs": [],
   "source": [
    "#fill by most frequent \n",
    "##fill_missing_values(df, columns, bywhat, rounding=False)\n",
    "fill_missing_values(df,[\"NumberofBorrowers\"],\"mode\")"
   ]
  },
  {
   "cell_type": "code",
   "execution_count": 27,
   "id": "5c7735e4-72e8-419f-a526-1611694d391d",
   "metadata": {
    "executionInfo": {
     "elapsed": 6,
     "status": "ok",
     "timestamp": 1681123400051,
     "user": {
      "displayName": "Adnan sevinç",
      "userId": "10606629957436102111"
     },
     "user_tz": -120
    },
    "id": "5c7735e4-72e8-419f-a526-1611694d391d"
   },
   "outputs": [],
   "source": [
    "#fill by most frequent \n",
    "##fill_missing_values(df, columns, bywhat, rounding=False)\n",
    "fill_missing_values(df,[\"FirstTimeHomebuyerFlag\"],\"mode\")"
   ]
  },
  {
   "cell_type": "code",
   "execution_count": 28,
   "id": "687d6660-a2e8-488f-ba9a-9429bd4fb813",
   "metadata": {
    "executionInfo": {
     "elapsed": 6,
     "status": "ok",
     "timestamp": 1681123400051,
     "user": {
      "displayName": "Adnan sevinç",
      "userId": "10606629957436102111"
     },
     "user_tz": -120
    },
    "id": "687d6660-a2e8-488f-ba9a-9429bd4fb813"
   },
   "outputs": [],
   "source": [
    "#fil by mean\n",
    "#fill_missing_values(df, columns, bywhat, rounding=False)\n",
    "fill_missing_values(df,[\"OriginalCombinedLoantoValueCLTV\"],\"mean\", rounding=True)"
   ]
  },
  {
   "cell_type": "code",
   "execution_count": 29,
   "id": "b6e75445-743e-4c8e-88c8-b939abb71187",
   "metadata": {
    "executionInfo": {
     "elapsed": 5,
     "status": "ok",
     "timestamp": 1681123400051,
     "user": {
      "displayName": "Adnan sevinç",
      "userId": "10606629957436102111"
     },
     "user_tz": -120
    },
    "id": "b6e75445-743e-4c8e-88c8-b939abb71187"
   },
   "outputs": [],
   "source": [
    "#fil by mean\n",
    "#fill_missing_values(df, columns, bywhat, rounding=False)\n",
    "fill_missing_values(df,[\"OriginalLoantoValueLTV\"],\"mean\", rounding=True)"
   ]
  },
  {
   "cell_type": "code",
   "execution_count": 30,
   "id": "qZjcX3JiYG2J",
   "metadata": {
    "executionInfo": {
     "elapsed": 6,
     "status": "ok",
     "timestamp": 1681123400052,
     "user": {
      "displayName": "Adnan sevinç",
      "userId": "10606629957436102111"
     },
     "user_tz": -120
    },
    "id": "qZjcX3JiYG2J"
   },
   "outputs": [],
   "source": [
    "#fil by mean\n",
    "#fill_missing_values(df, columns, bywhat, rounding=False)\n",
    "fill_missing_values(df,[\"MortgageInsurancePercentageMI\"],\"mean\", rounding=True)"
   ]
  },
  {
   "cell_type": "code",
   "execution_count": 31,
   "id": "Z55YVJ5PYGs5",
   "metadata": {
    "executionInfo": {
     "elapsed": 5,
     "status": "ok",
     "timestamp": 1681123400052,
     "user": {
      "displayName": "Adnan sevinç",
      "userId": "10606629957436102111"
     },
     "user_tz": -120
    },
    "id": "Z55YVJ5PYGs5"
   },
   "outputs": [],
   "source": [
    "#fill by most frequent \n",
    "##fill_missing_values(df, columns, bywhat, rounding=False)\n",
    "fill_missing_values(df,[\"NumberofUnits\"],\"mode\")"
   ]
  },
  {
   "cell_type": "code",
   "execution_count": 32,
   "id": "xNyTYwNIucLd",
   "metadata": {
    "executionInfo": {
     "elapsed": 221,
     "status": "ok",
     "timestamp": 1681123400268,
     "user": {
      "displayName": "Adnan sevinç",
      "userId": "10606629957436102111"
     },
     "user_tz": -120
    },
    "id": "xNyTYwNIucLd"
   },
   "outputs": [],
   "source": [
    "#fill by most frequent \n",
    "##fill_missing_values(df, columns, bywhat, rounding=False)\n",
    "fill_missing_values(df,[\"Channel\"],\"mode\")"
   ]
  },
  {
   "cell_type": "code",
   "execution_count": 33,
   "id": "965cc443-9d57-405e-b731-84286c63d5c8",
   "metadata": {
    "colab": {
     "base_uri": "https://localhost:8080/",
     "height": 927
    },
    "executionInfo": {
     "elapsed": 7037,
     "status": "ok",
     "timestamp": 1681123407303,
     "user": {
      "displayName": "Adnan sevinç",
      "userId": "10606629957436102111"
     },
     "user_tz": -120
    },
    "id": "965cc443-9d57-405e-b731-84286c63d5c8",
    "outputId": "c07b6404-9c7c-45b5-95e7-3f3485e3b0c7"
   },
   "outputs": [
    {
     "data": {
      "text/html": [
       "<div>\n",
       "<style scoped>\n",
       "    .dataframe tbody tr th:only-of-type {\n",
       "        vertical-align: middle;\n",
       "    }\n",
       "\n",
       "    .dataframe tbody tr th {\n",
       "        vertical-align: top;\n",
       "    }\n",
       "\n",
       "    .dataframe thead th {\n",
       "        text-align: right;\n",
       "    }\n",
       "</style>\n",
       "<table border=\"1\" class=\"dataframe\">\n",
       "  <thead>\n",
       "    <tr style=\"text-align: right;\">\n",
       "      <th></th>\n",
       "      <th>Column</th>\n",
       "      <th>DatasetRow</th>\n",
       "      <th>ColumnRow</th>\n",
       "      <th>Missing</th>\n",
       "      <th>Percent</th>\n",
       "    </tr>\n",
       "  </thead>\n",
       "  <tbody>\n",
       "    <tr>\n",
       "      <th>0</th>\n",
       "      <td>LoanSequenceNumber</td>\n",
       "      <td>629544</td>\n",
       "      <td>629544</td>\n",
       "      <td>0</td>\n",
       "      <td>0.0</td>\n",
       "    </tr>\n",
       "    <tr>\n",
       "      <th>1</th>\n",
       "      <td>CreditScore</td>\n",
       "      <td>629544</td>\n",
       "      <td>629544</td>\n",
       "      <td>0</td>\n",
       "      <td>0.0</td>\n",
       "    </tr>\n",
       "    <tr>\n",
       "      <th>2</th>\n",
       "      <td>dataflag</td>\n",
       "      <td>629544</td>\n",
       "      <td>629544</td>\n",
       "      <td>0</td>\n",
       "      <td>0.0</td>\n",
       "    </tr>\n",
       "    <tr>\n",
       "      <th>3</th>\n",
       "      <td>InterestOnlyIOIndicator</td>\n",
       "      <td>629544</td>\n",
       "      <td>629544</td>\n",
       "      <td>0</td>\n",
       "      <td>0.0</td>\n",
       "    </tr>\n",
       "    <tr>\n",
       "      <th>4</th>\n",
       "      <td>ServicerName</td>\n",
       "      <td>629544</td>\n",
       "      <td>629544</td>\n",
       "      <td>0</td>\n",
       "      <td>0.0</td>\n",
       "    </tr>\n",
       "    <tr>\n",
       "      <th>5</th>\n",
       "      <td>SellerName</td>\n",
       "      <td>629544</td>\n",
       "      <td>629544</td>\n",
       "      <td>0</td>\n",
       "      <td>0.0</td>\n",
       "    </tr>\n",
       "    <tr>\n",
       "      <th>6</th>\n",
       "      <td>NumberofBorrowers</td>\n",
       "      <td>629544</td>\n",
       "      <td>629544</td>\n",
       "      <td>0</td>\n",
       "      <td>0.0</td>\n",
       "    </tr>\n",
       "    <tr>\n",
       "      <th>7</th>\n",
       "      <td>OriginalLoanTerm</td>\n",
       "      <td>629544</td>\n",
       "      <td>629544</td>\n",
       "      <td>0</td>\n",
       "      <td>0.0</td>\n",
       "    </tr>\n",
       "    <tr>\n",
       "      <th>8</th>\n",
       "      <td>LoanPurpose</td>\n",
       "      <td>629544</td>\n",
       "      <td>629544</td>\n",
       "      <td>0</td>\n",
       "      <td>0.0</td>\n",
       "    </tr>\n",
       "    <tr>\n",
       "      <th>9</th>\n",
       "      <td>PostalCode</td>\n",
       "      <td>629544</td>\n",
       "      <td>629544</td>\n",
       "      <td>0</td>\n",
       "      <td>0.0</td>\n",
       "    </tr>\n",
       "    <tr>\n",
       "      <th>10</th>\n",
       "      <td>PropertyType</td>\n",
       "      <td>629544</td>\n",
       "      <td>629544</td>\n",
       "      <td>0</td>\n",
       "      <td>0.0</td>\n",
       "    </tr>\n",
       "    <tr>\n",
       "      <th>11</th>\n",
       "      <td>PropertyState</td>\n",
       "      <td>629544</td>\n",
       "      <td>629544</td>\n",
       "      <td>0</td>\n",
       "      <td>0.0</td>\n",
       "    </tr>\n",
       "    <tr>\n",
       "      <th>12</th>\n",
       "      <td>AmortizationTypeFormerlyProductType</td>\n",
       "      <td>629544</td>\n",
       "      <td>629544</td>\n",
       "      <td>0</td>\n",
       "      <td>0.0</td>\n",
       "    </tr>\n",
       "    <tr>\n",
       "      <th>13</th>\n",
       "      <td>PrepaymentPenaltyMortgagePPMFlag</td>\n",
       "      <td>629544</td>\n",
       "      <td>629544</td>\n",
       "      <td>0</td>\n",
       "      <td>0.0</td>\n",
       "    </tr>\n",
       "    <tr>\n",
       "      <th>14</th>\n",
       "      <td>Channel</td>\n",
       "      <td>629544</td>\n",
       "      <td>629544</td>\n",
       "      <td>0</td>\n",
       "      <td>0.0</td>\n",
       "    </tr>\n",
       "    <tr>\n",
       "      <th>15</th>\n",
       "      <td>OriginalInterestRate</td>\n",
       "      <td>629544</td>\n",
       "      <td>629544</td>\n",
       "      <td>0</td>\n",
       "      <td>0.0</td>\n",
       "    </tr>\n",
       "    <tr>\n",
       "      <th>16</th>\n",
       "      <td>OriginalLoantoValueLTV</td>\n",
       "      <td>629544</td>\n",
       "      <td>629544</td>\n",
       "      <td>0</td>\n",
       "      <td>0.0</td>\n",
       "    </tr>\n",
       "    <tr>\n",
       "      <th>17</th>\n",
       "      <td>OriginalUPB</td>\n",
       "      <td>629544</td>\n",
       "      <td>629544</td>\n",
       "      <td>0</td>\n",
       "      <td>0.0</td>\n",
       "    </tr>\n",
       "    <tr>\n",
       "      <th>18</th>\n",
       "      <td>OriginalDebttoIncomeDTIRatio</td>\n",
       "      <td>629544</td>\n",
       "      <td>629544</td>\n",
       "      <td>0</td>\n",
       "      <td>0.0</td>\n",
       "    </tr>\n",
       "    <tr>\n",
       "      <th>19</th>\n",
       "      <td>OriginalCombinedLoantoValueCLTV</td>\n",
       "      <td>629544</td>\n",
       "      <td>629544</td>\n",
       "      <td>0</td>\n",
       "      <td>0.0</td>\n",
       "    </tr>\n",
       "    <tr>\n",
       "      <th>20</th>\n",
       "      <td>OccupancyStatus</td>\n",
       "      <td>629544</td>\n",
       "      <td>629544</td>\n",
       "      <td>0</td>\n",
       "      <td>0.0</td>\n",
       "    </tr>\n",
       "    <tr>\n",
       "      <th>21</th>\n",
       "      <td>NumberofUnits</td>\n",
       "      <td>629544</td>\n",
       "      <td>629544</td>\n",
       "      <td>0</td>\n",
       "      <td>0.0</td>\n",
       "    </tr>\n",
       "    <tr>\n",
       "      <th>22</th>\n",
       "      <td>MortgageInsurancePercentageMI</td>\n",
       "      <td>629544</td>\n",
       "      <td>629544</td>\n",
       "      <td>0</td>\n",
       "      <td>0.0</td>\n",
       "    </tr>\n",
       "    <tr>\n",
       "      <th>23</th>\n",
       "      <td>MetropolitanStatisticalAreaMSAOrMetropolitanDi...</td>\n",
       "      <td>629544</td>\n",
       "      <td>629544</td>\n",
       "      <td>0</td>\n",
       "      <td>0.0</td>\n",
       "    </tr>\n",
       "    <tr>\n",
       "      <th>24</th>\n",
       "      <td>MaturityDate</td>\n",
       "      <td>629544</td>\n",
       "      <td>629544</td>\n",
       "      <td>0</td>\n",
       "      <td>0.0</td>\n",
       "    </tr>\n",
       "    <tr>\n",
       "      <th>25</th>\n",
       "      <td>FirstTimeHomebuyerFlag</td>\n",
       "      <td>629544</td>\n",
       "      <td>629544</td>\n",
       "      <td>0</td>\n",
       "      <td>0.0</td>\n",
       "    </tr>\n",
       "    <tr>\n",
       "      <th>26</th>\n",
       "      <td>FirstPaymentDate</td>\n",
       "      <td>629544</td>\n",
       "      <td>629544</td>\n",
       "      <td>0</td>\n",
       "      <td>0.0</td>\n",
       "    </tr>\n",
       "    <tr>\n",
       "      <th>27</th>\n",
       "      <td>default</td>\n",
       "      <td>629544</td>\n",
       "      <td>629544</td>\n",
       "      <td>0</td>\n",
       "      <td>0.0</td>\n",
       "    </tr>\n",
       "  </tbody>\n",
       "</table>\n",
       "</div>"
      ],
      "text/plain": [
       "                                               Column  DatasetRow  ColumnRow  \\\n",
       "0                                  LoanSequenceNumber      629544     629544   \n",
       "1                                         CreditScore      629544     629544   \n",
       "2                                            dataflag      629544     629544   \n",
       "3                             InterestOnlyIOIndicator      629544     629544   \n",
       "4                                        ServicerName      629544     629544   \n",
       "5                                          SellerName      629544     629544   \n",
       "6                                   NumberofBorrowers      629544     629544   \n",
       "7                                    OriginalLoanTerm      629544     629544   \n",
       "8                                         LoanPurpose      629544     629544   \n",
       "9                                          PostalCode      629544     629544   \n",
       "10                                       PropertyType      629544     629544   \n",
       "11                                      PropertyState      629544     629544   \n",
       "12                AmortizationTypeFormerlyProductType      629544     629544   \n",
       "13                   PrepaymentPenaltyMortgagePPMFlag      629544     629544   \n",
       "14                                            Channel      629544     629544   \n",
       "15                               OriginalInterestRate      629544     629544   \n",
       "16                             OriginalLoantoValueLTV      629544     629544   \n",
       "17                                        OriginalUPB      629544     629544   \n",
       "18                       OriginalDebttoIncomeDTIRatio      629544     629544   \n",
       "19                    OriginalCombinedLoantoValueCLTV      629544     629544   \n",
       "20                                    OccupancyStatus      629544     629544   \n",
       "21                                      NumberofUnits      629544     629544   \n",
       "22                      MortgageInsurancePercentageMI      629544     629544   \n",
       "23  MetropolitanStatisticalAreaMSAOrMetropolitanDi...      629544     629544   \n",
       "24                                       MaturityDate      629544     629544   \n",
       "25                             FirstTimeHomebuyerFlag      629544     629544   \n",
       "26                                   FirstPaymentDate      629544     629544   \n",
       "27                                            default      629544     629544   \n",
       "\n",
       "    Missing  Percent  \n",
       "0         0      0.0  \n",
       "1         0      0.0  \n",
       "2         0      0.0  \n",
       "3         0      0.0  \n",
       "4         0      0.0  \n",
       "5         0      0.0  \n",
       "6         0      0.0  \n",
       "7         0      0.0  \n",
       "8         0      0.0  \n",
       "9         0      0.0  \n",
       "10        0      0.0  \n",
       "11        0      0.0  \n",
       "12        0      0.0  \n",
       "13        0      0.0  \n",
       "14        0      0.0  \n",
       "15        0      0.0  \n",
       "16        0      0.0  \n",
       "17        0      0.0  \n",
       "18        0      0.0  \n",
       "19        0      0.0  \n",
       "20        0      0.0  \n",
       "21        0      0.0  \n",
       "22        0      0.0  \n",
       "23        0      0.0  \n",
       "24        0      0.0  \n",
       "25        0      0.0  \n",
       "26        0      0.0  \n",
       "27        0      0.0  "
      ]
     },
     "execution_count": 33,
     "metadata": {},
     "output_type": "execute_result"
    }
   ],
   "source": [
    "miss_tab = missing_values_table(df)\n",
    "miss_tab"
   ]
  },
  {
   "cell_type": "code",
   "execution_count": 34,
   "id": "615d735b-5549-43b1-b19b-01d3480b6e03",
   "metadata": {
    "colab": {
     "base_uri": "https://localhost:8080/"
    },
    "executionInfo": {
     "elapsed": 217,
     "status": "ok",
     "timestamp": 1681123409529,
     "user": {
      "displayName": "Adnan sevinç",
      "userId": "10606629957436102111"
     },
     "user_tz": -120
    },
    "id": "615d735b-5549-43b1-b19b-01d3480b6e03",
    "outputId": "3a32a7b6-06b1-41ba-966e-d504f6cedf8c"
   },
   "outputs": [
    {
     "name": "stdout",
     "output_type": "stream",
     "text": [
      "Check if there is any missing variables left\n"
     ]
    },
    {
     "data": {
      "text/plain": [
       "0"
      ]
     },
     "execution_count": 34,
     "metadata": {},
     "output_type": "execute_result"
    }
   ],
   "source": [
    "print(\"Check if there is any missing variables left\")\n",
    "df.isna().sum().sum()"
   ]
  },
  {
   "cell_type": "markdown",
   "id": "99ef9446-4211-4489-8ccb-bd4653769529",
   "metadata": {
    "id": "99ef9446-4211-4489-8ccb-bd4653769529"
   },
   "source": [
    "## Casting"
   ]
  },
  {
   "cell_type": "code",
   "execution_count": 35,
   "id": "f9af551b-d6b0-45f8-a859-c390792eacc2",
   "metadata": {},
   "outputs": [
    {
     "data": {
      "text/plain": [
       "LoanSequenceNumber                                       object\n",
       "CreditScore                                             float64\n",
       "FirstPaymentDate                                         object\n",
       "FirstTimeHomebuyerFlag                                   object\n",
       "MaturityDate                                             object\n",
       "MetropolitanStatisticalAreaMSAOrMetropolitanDivision    float64\n",
       "MortgageInsurancePercentageMI                             int64\n",
       "NumberofUnits                                             int64\n",
       "OccupancyStatus                                          object\n",
       "OriginalCombinedLoantoValueCLTV                         float64\n",
       "OriginalDebttoIncomeDTIRatio                            float64\n",
       "OriginalUPB                                               int64\n",
       "OriginalLoantoValueLTV                                  float64\n",
       "OriginalInterestRate                                    float64\n",
       "Channel                                                  object\n",
       "PrepaymentPenaltyMortgagePPMFlag                         object\n",
       "AmortizationTypeFormerlyProductType                      object\n",
       "PropertyState                                            object\n",
       "PropertyType                                             object\n",
       "PostalCode                                                int64\n",
       "LoanPurpose                                              object\n",
       "OriginalLoanTerm                                          int64\n",
       "NumberofBorrowers                                       float64\n",
       "SellerName                                               object\n",
       "ServicerName                                             object\n",
       "InterestOnlyIOIndicator                                  object\n",
       "dataflag                                                 object\n",
       "default                                                   int64\n",
       "dtype: object"
      ]
     },
     "execution_count": 35,
     "metadata": {},
     "output_type": "execute_result"
    }
   ],
   "source": [
    "df.dtypes"
   ]
  },
  {
   "cell_type": "code",
   "execution_count": 36,
   "id": "9626328e-54b2-466e-b386-e62d1f48a122",
   "metadata": {},
   "outputs": [
    {
     "data": {
      "text/plain": [
       "object     15\n",
       "float64     7\n",
       "int64       6\n",
       "Name: count, dtype: int64"
      ]
     },
     "execution_count": 36,
     "metadata": {},
     "output_type": "execute_result"
    }
   ],
   "source": [
    "df.dtypes.value_counts()"
   ]
  },
  {
   "cell_type": "code",
   "execution_count": 37,
   "id": "1bbf7ff4-83ae-46d6-b879-2bc7abeaf0fa",
   "metadata": {
    "executionInfo": {
     "elapsed": 8,
     "status": "ok",
     "timestamp": 1681123409530,
     "user": {
      "displayName": "Adnan sevinç",
      "userId": "10606629957436102111"
     },
     "user_tz": -120
    },
    "id": "1bbf7ff4-83ae-46d6-b879-2bc7abeaf0fa"
   },
   "outputs": [],
   "source": [
    "# Convert MortgageInsurancePercentageMI to int\n",
    "df[\"MortgageInsurancePercentageMI\"]=df[\"MortgageInsurancePercentageMI\"].astype(int)"
   ]
  },
  {
   "cell_type": "code",
   "execution_count": 38,
   "id": "11d0c109-6c84-43b6-b4d9-582efdb3a26d",
   "metadata": {
    "executionInfo": {
     "elapsed": 330,
     "status": "ok",
     "timestamp": 1681123409852,
     "user": {
      "displayName": "Adnan sevinç",
      "userId": "10606629957436102111"
     },
     "user_tz": -120
    },
    "id": "11d0c109-6c84-43b6-b4d9-582efdb3a26d"
   },
   "outputs": [],
   "source": [
    "# Convert Number of Units to object\n",
    "df[\"NumberofUnits\"]=df[\"NumberofUnits\"].astype(str)"
   ]
  },
  {
   "cell_type": "code",
   "execution_count": 39,
   "id": "f69371a4-8877-4ee2-bfbd-0ccb82c47329",
   "metadata": {
    "executionInfo": {
     "elapsed": 1216,
     "status": "ok",
     "timestamp": 1681123411067,
     "user": {
      "displayName": "Adnan sevinç",
      "userId": "10606629957436102111"
     },
     "user_tz": -120
    },
    "id": "f69371a4-8877-4ee2-bfbd-0ccb82c47329"
   },
   "outputs": [],
   "source": [
    "#convert OriginalInterestRate to float\n",
    "df[\"OriginalInterestRate\"]=df[\"OriginalInterestRate\"].astype(float)"
   ]
  },
  {
   "cell_type": "code",
   "execution_count": 40,
   "id": "515e5100-a0b7-4000-bf30-0c9d23df2bf7",
   "metadata": {},
   "outputs": [
    {
     "data": {
      "text/plain": [
       "LoanSequenceNumber                                       object\n",
       "CreditScore                                             float64\n",
       "FirstPaymentDate                                         object\n",
       "FirstTimeHomebuyerFlag                                   object\n",
       "MaturityDate                                             object\n",
       "MetropolitanStatisticalAreaMSAOrMetropolitanDivision    float64\n",
       "MortgageInsurancePercentageMI                             int64\n",
       "NumberofUnits                                            object\n",
       "OccupancyStatus                                          object\n",
       "OriginalCombinedLoantoValueCLTV                         float64\n",
       "OriginalDebttoIncomeDTIRatio                            float64\n",
       "OriginalUPB                                               int64\n",
       "OriginalLoantoValueLTV                                  float64\n",
       "OriginalInterestRate                                    float64\n",
       "Channel                                                  object\n",
       "PrepaymentPenaltyMortgagePPMFlag                         object\n",
       "AmortizationTypeFormerlyProductType                      object\n",
       "PropertyState                                            object\n",
       "PropertyType                                             object\n",
       "PostalCode                                                int64\n",
       "LoanPurpose                                              object\n",
       "OriginalLoanTerm                                          int64\n",
       "NumberofBorrowers                                       float64\n",
       "SellerName                                               object\n",
       "ServicerName                                             object\n",
       "InterestOnlyIOIndicator                                  object\n",
       "dataflag                                                 object\n",
       "default                                                   int64\n",
       "dtype: object"
      ]
     },
     "execution_count": 40,
     "metadata": {},
     "output_type": "execute_result"
    }
   ],
   "source": [
    "df.dtypes"
   ]
  },
  {
   "cell_type": "code",
   "execution_count": 41,
   "id": "15f1f7e5-06df-46b5-ae9c-0eade2ab5083",
   "metadata": {
    "colab": {
     "base_uri": "https://localhost:8080/"
    },
    "executionInfo": {
     "elapsed": 31,
     "status": "ok",
     "timestamp": 1681123411068,
     "user": {
      "displayName": "Adnan sevinç",
      "userId": "10606629957436102111"
     },
     "user_tz": -120
    },
    "id": "15f1f7e5-06df-46b5-ae9c-0eade2ab5083",
    "outputId": "6ca4501c-4460-46f6-eb63-c52d0f9a7e9c"
   },
   "outputs": [
    {
     "data": {
      "text/plain": [
       "object     16\n",
       "float64     7\n",
       "int64       5\n",
       "Name: count, dtype: int64"
      ]
     },
     "execution_count": 41,
     "metadata": {},
     "output_type": "execute_result"
    }
   ],
   "source": [
    "df.dtypes.value_counts()"
   ]
  },
  {
   "cell_type": "markdown",
   "id": "cd99ccbf-e3e2-406c-b11c-97135011588d",
   "metadata": {
    "id": "cd99ccbf-e3e2-406c-b11c-97135011588d",
    "tags": []
   },
   "source": [
    "## Drop Columns"
   ]
  },
  {
   "cell_type": "markdown",
   "id": "64ff2774-d216-459b-b9db-16b58c157bee",
   "metadata": {},
   "source": [
    "We are discarding columns that we deem irrelevant for our analytical purpose."
   ]
  },
  {
   "cell_type": "code",
   "execution_count": 42,
   "id": "NaoqSNyyYrUi",
   "metadata": {
    "colab": {
     "base_uri": "https://localhost:8080/"
    },
    "executionInfo": {
     "elapsed": 21,
     "status": "ok",
     "timestamp": 1681123411068,
     "user": {
      "displayName": "Adnan sevinç",
      "userId": "10606629957436102111"
     },
     "user_tz": -120
    },
    "id": "NaoqSNyyYrUi",
    "outputId": "16d2b0de-c118-4732-d5c0-c65fdf979d4a"
   },
   "outputs": [
    {
     "data": {
      "text/plain": [
       "(629544, 28)"
      ]
     },
     "execution_count": 42,
     "metadata": {},
     "output_type": "execute_result"
    }
   ],
   "source": [
    "# df shape before dropping\n",
    "df.shape"
   ]
  },
  {
   "cell_type": "code",
   "execution_count": 43,
   "id": "db905c45-2e4e-4bb6-81f9-47fff0c57726",
   "metadata": {
    "executionInfo": {
     "elapsed": 15,
     "status": "ok",
     "timestamp": 1681123411069,
     "user": {
      "displayName": "Adnan sevinç",
      "userId": "10606629957436102111"
     },
     "user_tz": -120
    },
    "id": "db905c45-2e4e-4bb6-81f9-47fff0c57726"
   },
   "outputs": [],
   "source": [
    "#drop dataflag\n",
    "df.drop(columns=[\"dataflag\"], inplace=True)"
   ]
  },
  {
   "cell_type": "code",
   "execution_count": 44,
   "id": "7007e029-912b-4956-b05b-860a9db24f36",
   "metadata": {
    "executionInfo": {
     "elapsed": 9,
     "status": "ok",
     "timestamp": 1681123411071,
     "user": {
      "displayName": "Adnan sevinç",
      "userId": "10606629957436102111"
     },
     "user_tz": -120
    },
    "id": "7007e029-912b-4956-b05b-860a9db24f36"
   },
   "outputs": [],
   "source": [
    "dropColumns = [\n",
    "     \n",
    "         'MaturityDate', #not exist during application normally\n",
    "         'FirstPaymentDate', #not exist during application normally\n",
    "         'LoanSequenceNumber', #id number of loan\n",
    "         'SellerName', # not info at application time also it has been masked\n",
    "         'ServicerName', # not info at application time also it has been masked\n",
    "         'PostalCode' # drop PostalCode we will rather create dummy variables for state\n",
    "                      # # Additioanly PostalCode has been masked doesn't reflect exact position\n",
    "\n",
    "]"
   ]
  },
  {
   "cell_type": "code",
   "execution_count": 45,
   "id": "390ec167-d7db-4c50-8ebd-70f3db3aa960",
   "metadata": {
    "executionInfo": {
     "elapsed": 273,
     "status": "ok",
     "timestamp": 1681123411336,
     "user": {
      "displayName": "Adnan sevinç",
      "userId": "10606629957436102111"
     },
     "user_tz": -120
    },
    "id": "390ec167-d7db-4c50-8ebd-70f3db3aa960"
   },
   "outputs": [],
   "source": [
    "df.drop(columns=dropColumns, inplace=True)"
   ]
  },
  {
   "cell_type": "code",
   "execution_count": 46,
   "id": "2729b0e8-3657-45e3-8f28-073e99526ebf",
   "metadata": {
    "colab": {
     "base_uri": "https://localhost:8080/"
    },
    "executionInfo": {
     "elapsed": 15,
     "status": "ok",
     "timestamp": 1681123411070,
     "user": {
      "displayName": "Adnan sevinç",
      "userId": "10606629957436102111"
     },
     "user_tz": -120
    },
    "id": "2729b0e8-3657-45e3-8f28-073e99526ebf",
    "outputId": "97c6e261-eb7c-4ff4-c74d-fb413dd27a92"
   },
   "outputs": [
    {
     "data": {
      "text/plain": [
       "(629544, 21)"
      ]
     },
     "execution_count": 46,
     "metadata": {},
     "output_type": "execute_result"
    }
   ],
   "source": [
    "# df shape after dropping\n",
    "df.shape"
   ]
  },
  {
   "cell_type": "markdown",
   "id": "ca8e66ab-500f-4db7-b2d7-dc34861909be",
   "metadata": {
    "id": "ca8e66ab-500f-4db7-b2d7-dc34861909be"
   },
   "source": [
    "## Categorical and Numerical Split"
   ]
  },
  {
   "cell_type": "markdown",
   "id": "10ffee45-6344-4581-942e-cf7067e9587f",
   "metadata": {},
   "source": [
    "In this section, we are dividing our variables into categorical and numerical types."
   ]
  },
  {
   "cell_type": "code",
   "execution_count": 47,
   "id": "f997a7e0-ac08-4659-b701-130bc5021b94",
   "metadata": {
    "colab": {
     "base_uri": "https://localhost:8080/"
    },
    "executionInfo": {
     "elapsed": 37,
     "status": "ok",
     "timestamp": 1681123411337,
     "user": {
      "displayName": "Adnan sevinç",
      "userId": "10606629957436102111"
     },
     "user_tz": -120
    },
    "id": "f997a7e0-ac08-4659-b701-130bc5021b94",
    "outputId": "e3e86dd0-fcbc-49d7-eb69-fbc06aab55f3"
   },
   "outputs": [
    {
     "name": "stdout",
     "output_type": "stream",
     "text": [
      "################ Numerical Columns ##############\n",
      "Number of Numerical Variables 10\n",
      "\n",
      " 1 :  CreditScore\n",
      " 2 :  MetropolitanStatisticalAreaMSAOrMetropolitanDivision\n",
      " 3 :  MortgageInsurancePercentageMI\n",
      " 4 :  OriginalCombinedLoantoValueCLTV\n",
      " 5 :  OriginalDebttoIncomeDTIRatio\n",
      " 6 :  OriginalUPB\n",
      " 7 :  OriginalLoantoValueLTV\n",
      " 8 :  OriginalInterestRate\n",
      " 9 :  OriginalLoanTerm\n",
      " 10 :  NumberofBorrowers\n",
      "\n",
      "############### Categorical Columns ##############\n",
      "Number of Categorical Variables 10\n",
      "\n",
      " 1 : FirstTimeHomebuyerFlag\n",
      " 2 : NumberofUnits\n",
      " 3 : OccupancyStatus\n",
      " 4 : Channel\n",
      " 5 : PrepaymentPenaltyMortgagePPMFlag\n",
      " 6 : AmortizationTypeFormerlyProductType\n",
      " 7 : PropertyState\n",
      " 8 : PropertyType\n",
      " 9 : LoanPurpose\n",
      " 10 : InterestOnlyIOIndicator\n",
      "\n",
      "############### Target Variable #################\n",
      "\n",
      "default\n",
      "\n",
      "###################################################\n"
     ]
    }
   ],
   "source": [
    "catCols,numCols,targetCol = SplitVariables(df,\"default\")"
   ]
  },
  {
   "cell_type": "code",
   "execution_count": 48,
   "id": "78f0e8f9-5f1f-4dbd-9bb3-e2c36a3e7386",
   "metadata": {
    "colab": {
     "base_uri": "https://localhost:8080/"
    },
    "executionInfo": {
     "elapsed": 29,
     "status": "ok",
     "timestamp": 1681123411337,
     "user": {
      "displayName": "Adnan sevinç",
      "userId": "10606629957436102111"
     },
     "user_tz": -120
    },
    "id": "78f0e8f9-5f1f-4dbd-9bb3-e2c36a3e7386",
    "outputId": "34dfbee7-b03f-4311-f457-eda5e9e87fd4"
   },
   "outputs": [
    {
     "name": "stdout",
     "output_type": "stream",
     "text": [
      "Numeric Columns\n",
      "['CreditScore', 'MetropolitanStatisticalAreaMSAOrMetropolitanDivision', 'MortgageInsurancePercentageMI', 'OriginalCombinedLoantoValueCLTV', 'OriginalDebttoIncomeDTIRatio', 'OriginalUPB', 'OriginalLoantoValueLTV', 'OriginalInterestRate', 'OriginalLoanTerm', 'NumberofBorrowers']\n",
      "\n",
      "Categorical Columns\n",
      "['FirstTimeHomebuyerFlag', 'NumberofUnits', 'OccupancyStatus', 'Channel', 'PrepaymentPenaltyMortgagePPMFlag', 'AmortizationTypeFormerlyProductType', 'PropertyState', 'PropertyType', 'LoanPurpose', 'InterestOnlyIOIndicator']\n"
     ]
    }
   ],
   "source": [
    "print(\"Numeric Columns\")\n",
    "print(numCols)\n",
    "print(\"\\nCategorical Columns\")\n",
    "print(catCols)"
   ]
  },
  {
   "cell_type": "code",
   "execution_count": 49,
   "id": "1458609f-50ec-4426-b969-162de77e73ae",
   "metadata": {
    "colab": {
     "base_uri": "https://localhost:8080/"
    },
    "executionInfo": {
     "elapsed": 20,
     "status": "ok",
     "timestamp": 1681123411338,
     "user": {
      "displayName": "Adnan sevinç",
      "userId": "10606629957436102111"
     },
     "user_tz": -120
    },
    "id": "1458609f-50ec-4426-b969-162de77e73ae",
    "outputId": "682ea472-e590-4df4-878a-e5e2a27b472d"
   },
   "outputs": [
    {
     "name": "stdout",
     "output_type": "stream",
     "text": [
      "If it is TRUE splitted correctly\n"
     ]
    },
    {
     "data": {
      "text/plain": [
       "True"
      ]
     },
     "execution_count": 49,
     "metadata": {},
     "output_type": "execute_result"
    }
   ],
   "source": [
    "print(\"If it is TRUE splitted correctly\")\n",
    "df.shape[1]  == len(catCols) +len(numCols) + 1"
   ]
  },
  {
   "cell_type": "markdown",
   "id": "937ef4c9-0a7b-4fab-ab63-2cf7de316220",
   "metadata": {
    "id": "937ef4c9-0a7b-4fab-ab63-2cf7de316220"
   },
   "source": [
    "## Frequency of Dataset"
   ]
  },
  {
   "cell_type": "markdown",
   "id": "96596b7b-e4b1-4eab-8e90-b68539002e92",
   "metadata": {},
   "source": [
    "We are eliminating the categorical columns that have only one unique (constant) value."
   ]
  },
  {
   "cell_type": "markdown",
   "id": "395eb2f4-28d5-4a50-aecb-efcc6e65fb6e",
   "metadata": {},
   "source": [
    "We are removing categorical columns in which the frequency of one particular instance considerably dominates the others. We view such scenarios as essentially having a constant instance."
   ]
  },
  {
   "cell_type": "code",
   "execution_count": 50,
   "id": "4658db1c-d147-4aab-a4f2-01ebaf3be832",
   "metadata": {
    "colab": {
     "base_uri": "https://localhost:8080/"
    },
    "executionInfo": {
     "elapsed": 461,
     "status": "ok",
     "timestamp": 1681123411785,
     "user": {
      "displayName": "Adnan sevinç",
      "userId": "10606629957436102111"
     },
     "user_tz": -120
    },
    "id": "4658db1c-d147-4aab-a4f2-01ebaf3be832",
    "outputId": "3f7b23fa-6674-4897-f79e-49b71ed431b5"
   },
   "outputs": [
    {
     "name": "stdout",
     "output_type": "stream",
     "text": [
      "\n",
      "Categorical Variables Unique Values\n",
      "\n",
      "FirstTimeHomebuyerFlag                                                            [Y, N]\n",
      "NumberofUnits                                                               [1, 2, 4, 3]\n",
      "OccupancyStatus                                                                [P, I, S]\n",
      "Channel                                                                           [T, R]\n",
      "PrepaymentPenaltyMortgagePPMFlag                                                  [N, Y]\n",
      "AmortizationTypeFormerlyProductType                                                [FRM]\n",
      "PropertyState                          [PA, CA, NC, WA, OH, KY, FL, NV, TN, AZ, ID, N...\n",
      "PropertyType                                                        [SF, MH, PU, CO, CP]\n",
      "LoanPurpose                                                                    [P, C, N]\n",
      "InterestOnlyIOIndicator                                                              [N]\n",
      "dtype: object\n",
      "\n",
      "FirstTimeHomebuyerFlag                  2\n",
      "NumberofUnits                           4\n",
      "OccupancyStatus                         3\n",
      "Channel                                 2\n",
      "PrepaymentPenaltyMortgagePPMFlag        2\n",
      "AmortizationTypeFormerlyProductType     1\n",
      "PropertyState                          54\n",
      "PropertyType                            5\n",
      "LoanPurpose                             3\n",
      "InterestOnlyIOIndicator                 1\n",
      "dtype: int64\n"
     ]
    }
   ],
   "source": [
    "print(\"\\nCategorical Variables Unique Values\\n\")\n",
    "print(df[catCols].apply(lambda col: col.unique()))\n",
    "print()\n",
    "print(df[catCols].apply(lambda col: col.nunique()))"
   ]
  },
  {
   "cell_type": "code",
   "execution_count": 51,
   "id": "65c40053-57b1-4128-b7b2-9ac21c200a24",
   "metadata": {},
   "outputs": [
    {
     "data": {
      "text/plain": [
       "<Axes: >"
      ]
     },
     "execution_count": 51,
     "metadata": {},
     "output_type": "execute_result"
    },
    {
     "data": {
      "image/png": "[encoded data removed]",
      "text/plain": [
       "<Figure size 640x480 with 1 Axes>"
      ]
     },
     "metadata": {},
     "output_type": "display_data"
    }
   ],
   "source": [
    "df[catCols].apply(lambda col:col.nunique()).plot(kind='bar')"
   ]
  },
  {
   "cell_type": "markdown",
   "id": "cbf03752-dad0-4a5c-9a48-e43f462ff421",
   "metadata": {
    "id": "cbf03752-dad0-4a5c-9a48-e43f462ff421"
   },
   "source": [
    "### Drop has columns due to a constant in a variable\n"
   ]
  },
  {
   "cell_type": "code",
   "execution_count": 52,
   "id": "ab91a3ff-8b59-41b8-ac34-2c3b71f3e68e",
   "metadata": {
    "colab": {
     "base_uri": "https://localhost:8080/"
    },
    "executionInfo": {
     "elapsed": 12,
     "status": "ok",
     "timestamp": 1681123411785,
     "user": {
      "displayName": "Adnan sevinç",
      "userId": "10606629957436102111"
     },
     "user_tz": -120
    },
    "id": "ab91a3ff-8b59-41b8-ac34-2c3b71f3e68e",
    "outputId": "58871d81-447a-401c-af76-64bdc35e34c4"
   },
   "outputs": [
    {
     "data": {
      "text/plain": [
       "(629544, 21)"
      ]
     },
     "execution_count": 52,
     "metadata": {},
     "output_type": "execute_result"
    }
   ],
   "source": [
    "# df shape before dropping\n",
    "df.shape"
   ]
  },
  {
   "cell_type": "code",
   "execution_count": 53,
   "id": "19b26671-9afd-424f-b6fb-32f48ceee0b5",
   "metadata": {
    "executionInfo": {
     "elapsed": 1922,
     "status": "ok",
     "timestamp": 1681123413704,
     "user": {
      "displayName": "Adnan sevinç",
      "userId": "10606629957436102111"
     },
     "user_tz": -120
    },
    "id": "19b26671-9afd-424f-b6fb-32f48ceee0b5"
   },
   "outputs": [],
   "source": [
    "# Variable which has constant\n",
    "constantfreq = df[catCols].apply(lambda col: col.nunique()).index[np.argwhere(df[catCols].apply(lambda col: col.nunique()).values<=1).ravel()].to_list()"
   ]
  },
  {
   "cell_type": "code",
   "execution_count": 54,
   "id": "a6099508-c277-4344-8728-d194833349f3",
   "metadata": {
    "colab": {
     "base_uri": "https://localhost:8080/"
    },
    "executionInfo": {
     "elapsed": 59,
     "status": "ok",
     "timestamp": 1681123413705,
     "user": {
      "displayName": "Adnan sevinç",
      "userId": "10606629957436102111"
     },
     "user_tz": -120
    },
    "id": "a6099508-c277-4344-8728-d194833349f3",
    "outputId": "5c898ce9-f81b-4db2-a4b6-42dcd2b26c01"
   },
   "outputs": [
    {
     "data": {
      "text/plain": [
       "['AmortizationTypeFormerlyProductType', 'InterestOnlyIOIndicator']"
      ]
     },
     "execution_count": 54,
     "metadata": {},
     "output_type": "execute_result"
    }
   ],
   "source": [
    "constantfreq"
   ]
  },
  {
   "cell_type": "code",
   "execution_count": 55,
   "id": "673645d3-81d8-4a0c-841e-58699e7eb95e",
   "metadata": {
    "executionInfo": {
     "elapsed": 46,
     "status": "ok",
     "timestamp": 1681123413707,
     "user": {
      "displayName": "Adnan sevinç",
      "userId": "10606629957436102111"
     },
     "user_tz": -120
    },
    "id": "673645d3-81d8-4a0c-841e-58699e7eb95e"
   },
   "outputs": [],
   "source": [
    "df = df.drop(constantfreq, axis = 1)"
   ]
  },
  {
   "cell_type": "code",
   "execution_count": 56,
   "id": "Y55EheuzZXqO",
   "metadata": {
    "colab": {
     "base_uri": "https://localhost:8080/"
    },
    "executionInfo": {
     "elapsed": 46,
     "status": "ok",
     "timestamp": 1681123413708,
     "user": {
      "displayName": "Adnan sevinç",
      "userId": "10606629957436102111"
     },
     "user_tz": -120
    },
    "id": "Y55EheuzZXqO",
    "outputId": "0956042a-7d7e-4b4d-83a1-3be41757469b"
   },
   "outputs": [
    {
     "data": {
      "text/plain": [
       "(629544, 19)"
      ]
     },
     "execution_count": 56,
     "metadata": {},
     "output_type": "execute_result"
    }
   ],
   "source": [
    "# df shape after dropping\n",
    "df.shape"
   ]
  },
  {
   "cell_type": "code",
   "execution_count": 57,
   "id": "6210f48b-ee86-494a-a9a1-ed32bec6fa16",
   "metadata": {
    "colab": {
     "base_uri": "https://localhost:8080/"
    },
    "executionInfo": {
     "elapsed": 42,
     "status": "ok",
     "timestamp": 1681123413709,
     "user": {
      "displayName": "Adnan sevinç",
      "userId": "10606629957436102111"
     },
     "user_tz": -120
    },
    "id": "6210f48b-ee86-494a-a9a1-ed32bec6fa16",
    "outputId": "be0a19b4-3085-447f-c0c1-058977aa2c04"
   },
   "outputs": [
    {
     "data": {
      "text/plain": [
       "['FirstTimeHomebuyerFlag',\n",
       " 'NumberofUnits',\n",
       " 'OccupancyStatus',\n",
       " 'Channel',\n",
       " 'PrepaymentPenaltyMortgagePPMFlag',\n",
       " 'AmortizationTypeFormerlyProductType',\n",
       " 'PropertyState',\n",
       " 'PropertyType',\n",
       " 'LoanPurpose',\n",
       " 'InterestOnlyIOIndicator']"
      ]
     },
     "execution_count": 57,
     "metadata": {},
     "output_type": "execute_result"
    }
   ],
   "source": [
    "catCols"
   ]
  },
  {
   "cell_type": "code",
   "execution_count": 58,
   "id": "ed9218c3-9c4d-4843-b203-83650510ce81",
   "metadata": {
    "colab": {
     "base_uri": "https://localhost:8080/"
    },
    "executionInfo": {
     "elapsed": 38,
     "status": "ok",
     "timestamp": 1681123413710,
     "user": {
      "displayName": "Adnan sevinç",
      "userId": "10606629957436102111"
     },
     "user_tz": -120
    },
    "id": "ed9218c3-9c4d-4843-b203-83650510ce81",
    "outputId": "f7bb088c-15b7-4128-af40-e04fb41adfca"
   },
   "outputs": [
    {
     "data": {
      "text/plain": [
       "10"
      ]
     },
     "execution_count": 58,
     "metadata": {},
     "output_type": "execute_result"
    }
   ],
   "source": [
    "# The count of categorical columns in our dataset.\n",
    "len(catCols)"
   ]
  },
  {
   "cell_type": "code",
   "execution_count": 59,
   "id": "9837c85c-dea5-40fe-bae3-35b2c66de164",
   "metadata": {
    "executionInfo": {
     "elapsed": 29,
     "status": "ok",
     "timestamp": 1681123413710,
     "user": {
      "displayName": "Adnan sevinç",
      "userId": "10606629957436102111"
     },
     "user_tz": -120
    },
    "id": "9837c85c-dea5-40fe-bae3-35b2c66de164"
   },
   "outputs": [],
   "source": [
    "#Remove constantfreq from catCols\n",
    "for col in constantfreq:\n",
    "    catCols.remove(col)"
   ]
  },
  {
   "cell_type": "code",
   "execution_count": 60,
   "id": "811cea66-c34b-4e88-be23-bdd8e2425bd0",
   "metadata": {
    "colab": {
     "base_uri": "https://localhost:8080/"
    },
    "executionInfo": {
     "elapsed": 30,
     "status": "ok",
     "timestamp": 1681123413711,
     "user": {
      "displayName": "Adnan sevinç",
      "userId": "10606629957436102111"
     },
     "user_tz": -120
    },
    "id": "811cea66-c34b-4e88-be23-bdd8e2425bd0",
    "outputId": "e5d400e8-b600-40fc-8556-07c42e77e77f"
   },
   "outputs": [
    {
     "data": {
      "text/plain": [
       "['FirstTimeHomebuyerFlag',\n",
       " 'NumberofUnits',\n",
       " 'OccupancyStatus',\n",
       " 'Channel',\n",
       " 'PrepaymentPenaltyMortgagePPMFlag',\n",
       " 'PropertyState',\n",
       " 'PropertyType',\n",
       " 'LoanPurpose']"
      ]
     },
     "execution_count": 60,
     "metadata": {},
     "output_type": "execute_result"
    }
   ],
   "source": [
    "catCols"
   ]
  },
  {
   "cell_type": "code",
   "execution_count": 61,
   "id": "2cfe3940-32b2-4594-95c3-439d19d9717c",
   "metadata": {
    "colab": {
     "base_uri": "https://localhost:8080/"
    },
    "executionInfo": {
     "elapsed": 23,
     "status": "ok",
     "timestamp": 1681123413712,
     "user": {
      "displayName": "Adnan sevinç",
      "userId": "10606629957436102111"
     },
     "user_tz": -120
    },
    "id": "2cfe3940-32b2-4594-95c3-439d19d9717c",
    "outputId": "bbe27e57-ca55-4e1b-e37c-85a900506575"
   },
   "outputs": [
    {
     "data": {
      "text/plain": [
       "8"
      ]
     },
     "execution_count": 61,
     "metadata": {},
     "output_type": "execute_result"
    }
   ],
   "source": [
    "#The count of categorical columns in our dataset.\n",
    "len(catCols)"
   ]
  },
  {
   "cell_type": "code",
   "execution_count": 62,
   "id": "716aad96-7c60-4c42-a1fe-61a3cb13e0e1",
   "metadata": {
    "colab": {
     "base_uri": "https://localhost:8080/",
     "height": 1000
    },
    "executionInfo": {
     "elapsed": 5075,
     "status": "ok",
     "timestamp": 1681123418771,
     "user": {
      "displayName": "Adnan sevinç",
      "userId": "10606629957436102111"
     },
     "user_tz": -120
    },
    "id": "716aad96-7c60-4c42-a1fe-61a3cb13e0e1",
    "outputId": "4448bd4b-cf32-41b8-9350-f8f47f860e58"
   },
   "outputs": [
    {
     "data": {
      "text/html": [
       "<div>\n",
       "<style scoped>\n",
       "    .dataframe tbody tr th:only-of-type {\n",
       "        vertical-align: middle;\n",
       "    }\n",
       "\n",
       "    .dataframe tbody tr th {\n",
       "        vertical-align: top;\n",
       "    }\n",
       "\n",
       "    .dataframe thead th {\n",
       "        text-align: right;\n",
       "    }\n",
       "</style>\n",
       "<table border=\"1\" class=\"dataframe\">\n",
       "  <thead>\n",
       "    <tr style=\"text-align: right;\">\n",
       "      <th>FirstTimeHomebuyerFlag</th>\n",
       "      <th>N</th>\n",
       "      <th>Y</th>\n",
       "      <th>All</th>\n",
       "    </tr>\n",
       "    <tr>\n",
       "      <th>default</th>\n",
       "      <th></th>\n",
       "      <th></th>\n",
       "      <th></th>\n",
       "    </tr>\n",
       "  </thead>\n",
       "  <tbody>\n",
       "    <tr>\n",
       "      <th>0</th>\n",
       "      <td>82.4</td>\n",
       "      <td>11.6</td>\n",
       "      <td>94.0</td>\n",
       "    </tr>\n",
       "    <tr>\n",
       "      <th>1</th>\n",
       "      <td>5.3</td>\n",
       "      <td>0.7</td>\n",
       "      <td>6.0</td>\n",
       "    </tr>\n",
       "    <tr>\n",
       "      <th>All</th>\n",
       "      <td>87.6</td>\n",
       "      <td>12.4</td>\n",
       "      <td>100.0</td>\n",
       "    </tr>\n",
       "  </tbody>\n",
       "</table>\n",
       "</div>"
      ],
      "text/plain": [
       "FirstTimeHomebuyerFlag     N     Y    All\n",
       "default                                  \n",
       "0                       82.4  11.6   94.0\n",
       "1                        5.3   0.7    6.0\n",
       "All                     87.6  12.4  100.0"
      ]
     },
     "metadata": {},
     "output_type": "display_data"
    },
    {
     "data": {
      "text/html": [
       "<div>\n",
       "<style scoped>\n",
       "    .dataframe tbody tr th:only-of-type {\n",
       "        vertical-align: middle;\n",
       "    }\n",
       "\n",
       "    .dataframe tbody tr th {\n",
       "        vertical-align: top;\n",
       "    }\n",
       "\n",
       "    .dataframe thead th {\n",
       "        text-align: right;\n",
       "    }\n",
       "</style>\n",
       "<table border=\"1\" class=\"dataframe\">\n",
       "  <thead>\n",
       "    <tr style=\"text-align: right;\">\n",
       "      <th>NumberofUnits</th>\n",
       "      <th>1</th>\n",
       "      <th>2</th>\n",
       "      <th>3</th>\n",
       "      <th>4</th>\n",
       "      <th>All</th>\n",
       "    </tr>\n",
       "    <tr>\n",
       "      <th>default</th>\n",
       "      <th></th>\n",
       "      <th></th>\n",
       "      <th></th>\n",
       "      <th></th>\n",
       "      <th></th>\n",
       "    </tr>\n",
       "  </thead>\n",
       "  <tbody>\n",
       "    <tr>\n",
       "      <th>0</th>\n",
       "      <td>91.6</td>\n",
       "      <td>1.8</td>\n",
       "      <td>0.3</td>\n",
       "      <td>0.3</td>\n",
       "      <td>94.0</td>\n",
       "    </tr>\n",
       "    <tr>\n",
       "      <th>1</th>\n",
       "      <td>5.8</td>\n",
       "      <td>0.1</td>\n",
       "      <td>0.0</td>\n",
       "      <td>0.0</td>\n",
       "      <td>6.0</td>\n",
       "    </tr>\n",
       "    <tr>\n",
       "      <th>All</th>\n",
       "      <td>97.4</td>\n",
       "      <td>2.0</td>\n",
       "      <td>0.3</td>\n",
       "      <td>0.3</td>\n",
       "      <td>100.0</td>\n",
       "    </tr>\n",
       "  </tbody>\n",
       "</table>\n",
       "</div>"
      ],
      "text/plain": [
       "NumberofUnits     1    2    3    4    All\n",
       "default                                  \n",
       "0              91.6  1.8  0.3  0.3   94.0\n",
       "1               5.8  0.1  0.0  0.0    6.0\n",
       "All            97.4  2.0  0.3  0.3  100.0"
      ]
     },
     "metadata": {},
     "output_type": "display_data"
    },
    {
     "data": {
      "text/html": [
       "<div>\n",
       "<style scoped>\n",
       "    .dataframe tbody tr th:only-of-type {\n",
       "        vertical-align: middle;\n",
       "    }\n",
       "\n",
       "    .dataframe tbody tr th {\n",
       "        vertical-align: top;\n",
       "    }\n",
       "\n",
       "    .dataframe thead th {\n",
       "        text-align: right;\n",
       "    }\n",
       "</style>\n",
       "<table border=\"1\" class=\"dataframe\">\n",
       "  <thead>\n",
       "    <tr style=\"text-align: right;\">\n",
       "      <th>OccupancyStatus</th>\n",
       "      <th>I</th>\n",
       "      <th>P</th>\n",
       "      <th>S</th>\n",
       "      <th>All</th>\n",
       "    </tr>\n",
       "    <tr>\n",
       "      <th>default</th>\n",
       "      <th></th>\n",
       "      <th></th>\n",
       "      <th></th>\n",
       "      <th></th>\n",
       "    </tr>\n",
       "  </thead>\n",
       "  <tbody>\n",
       "    <tr>\n",
       "      <th>0</th>\n",
       "      <td>7.0</td>\n",
       "      <td>82.2</td>\n",
       "      <td>4.9</td>\n",
       "      <td>94.0</td>\n",
       "    </tr>\n",
       "    <tr>\n",
       "      <th>1</th>\n",
       "      <td>0.5</td>\n",
       "      <td>5.3</td>\n",
       "      <td>0.2</td>\n",
       "      <td>6.0</td>\n",
       "    </tr>\n",
       "    <tr>\n",
       "      <th>All</th>\n",
       "      <td>7.4</td>\n",
       "      <td>87.5</td>\n",
       "      <td>5.1</td>\n",
       "      <td>100.0</td>\n",
       "    </tr>\n",
       "  </tbody>\n",
       "</table>\n",
       "</div>"
      ],
      "text/plain": [
       "OccupancyStatus    I     P    S    All\n",
       "default                               \n",
       "0                7.0  82.2  4.9   94.0\n",
       "1                0.5   5.3  0.2    6.0\n",
       "All              7.4  87.5  5.1  100.0"
      ]
     },
     "metadata": {},
     "output_type": "display_data"
    },
    {
     "data": {
      "text/html": [
       "<div>\n",
       "<style scoped>\n",
       "    .dataframe tbody tr th:only-of-type {\n",
       "        vertical-align: middle;\n",
       "    }\n",
       "\n",
       "    .dataframe tbody tr th {\n",
       "        vertical-align: top;\n",
       "    }\n",
       "\n",
       "    .dataframe thead th {\n",
       "        text-align: right;\n",
       "    }\n",
       "</style>\n",
       "<table border=\"1\" class=\"dataframe\">\n",
       "  <thead>\n",
       "    <tr style=\"text-align: right;\">\n",
       "      <th>Channel</th>\n",
       "      <th>R</th>\n",
       "      <th>T</th>\n",
       "      <th>All</th>\n",
       "    </tr>\n",
       "    <tr>\n",
       "      <th>default</th>\n",
       "      <th></th>\n",
       "      <th></th>\n",
       "      <th></th>\n",
       "    </tr>\n",
       "  </thead>\n",
       "  <tbody>\n",
       "    <tr>\n",
       "      <th>0</th>\n",
       "      <td>42.7</td>\n",
       "      <td>51.3</td>\n",
       "      <td>94.0</td>\n",
       "    </tr>\n",
       "    <tr>\n",
       "      <th>1</th>\n",
       "      <td>1.9</td>\n",
       "      <td>4.1</td>\n",
       "      <td>6.0</td>\n",
       "    </tr>\n",
       "    <tr>\n",
       "      <th>All</th>\n",
       "      <td>44.7</td>\n",
       "      <td>55.3</td>\n",
       "      <td>100.0</td>\n",
       "    </tr>\n",
       "  </tbody>\n",
       "</table>\n",
       "</div>"
      ],
      "text/plain": [
       "Channel     R     T    All\n",
       "default                   \n",
       "0        42.7  51.3   94.0\n",
       "1         1.9   4.1    6.0\n",
       "All      44.7  55.3  100.0"
      ]
     },
     "metadata": {},
     "output_type": "display_data"
    },
    {
     "data": {
      "text/html": [
       "<div>\n",
       "<style scoped>\n",
       "    .dataframe tbody tr th:only-of-type {\n",
       "        vertical-align: middle;\n",
       "    }\n",
       "\n",
       "    .dataframe tbody tr th {\n",
       "        vertical-align: top;\n",
       "    }\n",
       "\n",
       "    .dataframe thead th {\n",
       "        text-align: right;\n",
       "    }\n",
       "</style>\n",
       "<table border=\"1\" class=\"dataframe\">\n",
       "  <thead>\n",
       "    <tr style=\"text-align: right;\">\n",
       "      <th>PrepaymentPenaltyMortgagePPMFlag</th>\n",
       "      <th>N</th>\n",
       "      <th>Y</th>\n",
       "      <th>All</th>\n",
       "    </tr>\n",
       "    <tr>\n",
       "      <th>default</th>\n",
       "      <th></th>\n",
       "      <th></th>\n",
       "      <th></th>\n",
       "    </tr>\n",
       "  </thead>\n",
       "  <tbody>\n",
       "    <tr>\n",
       "      <th>0</th>\n",
       "      <td>94.0</td>\n",
       "      <td>0.0</td>\n",
       "      <td>94.0</td>\n",
       "    </tr>\n",
       "    <tr>\n",
       "      <th>1</th>\n",
       "      <td>6.0</td>\n",
       "      <td>0.0</td>\n",
       "      <td>6.0</td>\n",
       "    </tr>\n",
       "    <tr>\n",
       "      <th>All</th>\n",
       "      <td>100.0</td>\n",
       "      <td>0.0</td>\n",
       "      <td>100.0</td>\n",
       "    </tr>\n",
       "  </tbody>\n",
       "</table>\n",
       "</div>"
      ],
      "text/plain": [
       "PrepaymentPenaltyMortgagePPMFlag      N    Y    All\n",
       "default                                            \n",
       "0                                  94.0  0.0   94.0\n",
       "1                                   6.0  0.0    6.0\n",
       "All                               100.0  0.0  100.0"
      ]
     },
     "metadata": {},
     "output_type": "display_data"
    },
    {
     "data": {
      "text/html": [
       "<div>\n",
       "<style scoped>\n",
       "    .dataframe tbody tr th:only-of-type {\n",
       "        vertical-align: middle;\n",
       "    }\n",
       "\n",
       "    .dataframe tbody tr th {\n",
       "        vertical-align: top;\n",
       "    }\n",
       "\n",
       "    .dataframe thead th {\n",
       "        text-align: right;\n",
       "    }\n",
       "</style>\n",
       "<table border=\"1\" class=\"dataframe\">\n",
       "  <thead>\n",
       "    <tr style=\"text-align: right;\">\n",
       "      <th>PropertyState</th>\n",
       "      <th>AK</th>\n",
       "      <th>AL</th>\n",
       "      <th>AR</th>\n",
       "      <th>AZ</th>\n",
       "      <th>CA</th>\n",
       "      <th>CO</th>\n",
       "      <th>CT</th>\n",
       "      <th>DC</th>\n",
       "      <th>DE</th>\n",
       "      <th>FL</th>\n",
       "      <th>GA</th>\n",
       "      <th>GU</th>\n",
       "      <th>HI</th>\n",
       "      <th>IA</th>\n",
       "      <th>ID</th>\n",
       "      <th>IL</th>\n",
       "      <th>IN</th>\n",
       "      <th>KS</th>\n",
       "      <th>KY</th>\n",
       "      <th>LA</th>\n",
       "      <th>MA</th>\n",
       "      <th>MD</th>\n",
       "      <th>ME</th>\n",
       "      <th>MI</th>\n",
       "      <th>MN</th>\n",
       "      <th>MO</th>\n",
       "      <th>MS</th>\n",
       "      <th>MT</th>\n",
       "      <th>NC</th>\n",
       "      <th>ND</th>\n",
       "      <th>NE</th>\n",
       "      <th>NH</th>\n",
       "      <th>NJ</th>\n",
       "      <th>NM</th>\n",
       "      <th>NV</th>\n",
       "      <th>NY</th>\n",
       "      <th>OH</th>\n",
       "      <th>OK</th>\n",
       "      <th>OR</th>\n",
       "      <th>PA</th>\n",
       "      <th>PR</th>\n",
       "      <th>RI</th>\n",
       "      <th>SC</th>\n",
       "      <th>SD</th>\n",
       "      <th>TN</th>\n",
       "      <th>TX</th>\n",
       "      <th>UT</th>\n",
       "      <th>VA</th>\n",
       "      <th>VI</th>\n",
       "      <th>VT</th>\n",
       "      <th>WA</th>\n",
       "      <th>WI</th>\n",
       "      <th>WV</th>\n",
       "      <th>WY</th>\n",
       "      <th>All</th>\n",
       "    </tr>\n",
       "    <tr>\n",
       "      <th>default</th>\n",
       "      <th></th>\n",
       "      <th></th>\n",
       "      <th></th>\n",
       "      <th></th>\n",
       "      <th></th>\n",
       "      <th></th>\n",
       "      <th></th>\n",
       "      <th></th>\n",
       "      <th></th>\n",
       "      <th></th>\n",
       "      <th></th>\n",
       "      <th></th>\n",
       "      <th></th>\n",
       "      <th></th>\n",
       "      <th></th>\n",
       "      <th></th>\n",
       "      <th></th>\n",
       "      <th></th>\n",
       "      <th></th>\n",
       "      <th></th>\n",
       "      <th></th>\n",
       "      <th></th>\n",
       "      <th></th>\n",
       "      <th></th>\n",
       "      <th></th>\n",
       "      <th></th>\n",
       "      <th></th>\n",
       "      <th></th>\n",
       "      <th></th>\n",
       "      <th></th>\n",
       "      <th></th>\n",
       "      <th></th>\n",
       "      <th></th>\n",
       "      <th></th>\n",
       "      <th></th>\n",
       "      <th></th>\n",
       "      <th></th>\n",
       "      <th></th>\n",
       "      <th></th>\n",
       "      <th></th>\n",
       "      <th></th>\n",
       "      <th></th>\n",
       "      <th></th>\n",
       "      <th></th>\n",
       "      <th></th>\n",
       "      <th></th>\n",
       "      <th></th>\n",
       "      <th></th>\n",
       "      <th></th>\n",
       "      <th></th>\n",
       "      <th></th>\n",
       "      <th></th>\n",
       "      <th></th>\n",
       "      <th></th>\n",
       "      <th></th>\n",
       "    </tr>\n",
       "  </thead>\n",
       "  <tbody>\n",
       "    <tr>\n",
       "      <th>0</th>\n",
       "      <td>0.3</td>\n",
       "      <td>1.4</td>\n",
       "      <td>1.0</td>\n",
       "      <td>2.7</td>\n",
       "      <td>6.4</td>\n",
       "      <td>2.0</td>\n",
       "      <td>0.9</td>\n",
       "      <td>0.1</td>\n",
       "      <td>0.4</td>\n",
       "      <td>6.0</td>\n",
       "      <td>3.4</td>\n",
       "      <td>0.0</td>\n",
       "      <td>0.3</td>\n",
       "      <td>1.0</td>\n",
       "      <td>0.7</td>\n",
       "      <td>4.5</td>\n",
       "      <td>2.3</td>\n",
       "      <td>0.9</td>\n",
       "      <td>1.4</td>\n",
       "      <td>1.1</td>\n",
       "      <td>1.7</td>\n",
       "      <td>2.0</td>\n",
       "      <td>0.4</td>\n",
       "      <td>3.3</td>\n",
       "      <td>2.4</td>\n",
       "      <td>2.3</td>\n",
       "      <td>0.5</td>\n",
       "      <td>0.4</td>\n",
       "      <td>3.5</td>\n",
       "      <td>0.2</td>\n",
       "      <td>0.6</td>\n",
       "      <td>0.5</td>\n",
       "      <td>2.3</td>\n",
       "      <td>0.7</td>\n",
       "      <td>0.9</td>\n",
       "      <td>3.8</td>\n",
       "      <td>3.6</td>\n",
       "      <td>1.2</td>\n",
       "      <td>1.9</td>\n",
       "      <td>3.8</td>\n",
       "      <td>0.4</td>\n",
       "      <td>0.3</td>\n",
       "      <td>1.6</td>\n",
       "      <td>0.2</td>\n",
       "      <td>1.9</td>\n",
       "      <td>6.8</td>\n",
       "      <td>1.3</td>\n",
       "      <td>2.7</td>\n",
       "      <td>0.0</td>\n",
       "      <td>0.3</td>\n",
       "      <td>2.9</td>\n",
       "      <td>2.1</td>\n",
       "      <td>0.4</td>\n",
       "      <td>0.2</td>\n",
       "      <td>94.0</td>\n",
       "    </tr>\n",
       "    <tr>\n",
       "      <th>1</th>\n",
       "      <td>0.0</td>\n",
       "      <td>0.1</td>\n",
       "      <td>0.0</td>\n",
       "      <td>0.3</td>\n",
       "      <td>0.6</td>\n",
       "      <td>0.1</td>\n",
       "      <td>0.1</td>\n",
       "      <td>0.0</td>\n",
       "      <td>0.0</td>\n",
       "      <td>0.9</td>\n",
       "      <td>0.2</td>\n",
       "      <td>0.0</td>\n",
       "      <td>0.0</td>\n",
       "      <td>0.0</td>\n",
       "      <td>0.0</td>\n",
       "      <td>0.3</td>\n",
       "      <td>0.1</td>\n",
       "      <td>0.0</td>\n",
       "      <td>0.1</td>\n",
       "      <td>0.1</td>\n",
       "      <td>0.1</td>\n",
       "      <td>0.2</td>\n",
       "      <td>0.0</td>\n",
       "      <td>0.2</td>\n",
       "      <td>0.1</td>\n",
       "      <td>0.1</td>\n",
       "      <td>0.0</td>\n",
       "      <td>0.0</td>\n",
       "      <td>0.1</td>\n",
       "      <td>0.0</td>\n",
       "      <td>0.0</td>\n",
       "      <td>0.0</td>\n",
       "      <td>0.2</td>\n",
       "      <td>0.0</td>\n",
       "      <td>0.1</td>\n",
       "      <td>0.2</td>\n",
       "      <td>0.2</td>\n",
       "      <td>0.0</td>\n",
       "      <td>0.1</td>\n",
       "      <td>0.2</td>\n",
       "      <td>0.0</td>\n",
       "      <td>0.0</td>\n",
       "      <td>0.1</td>\n",
       "      <td>0.0</td>\n",
       "      <td>0.1</td>\n",
       "      <td>0.2</td>\n",
       "      <td>0.1</td>\n",
       "      <td>0.1</td>\n",
       "      <td>0.0</td>\n",
       "      <td>0.0</td>\n",
       "      <td>0.1</td>\n",
       "      <td>0.1</td>\n",
       "      <td>0.0</td>\n",
       "      <td>0.0</td>\n",
       "      <td>6.0</td>\n",
       "    </tr>\n",
       "    <tr>\n",
       "      <th>All</th>\n",
       "      <td>0.3</td>\n",
       "      <td>1.5</td>\n",
       "      <td>1.0</td>\n",
       "      <td>3.1</td>\n",
       "      <td>7.1</td>\n",
       "      <td>2.0</td>\n",
       "      <td>1.0</td>\n",
       "      <td>0.1</td>\n",
       "      <td>0.4</td>\n",
       "      <td>6.9</td>\n",
       "      <td>3.6</td>\n",
       "      <td>0.0</td>\n",
       "      <td>0.3</td>\n",
       "      <td>1.1</td>\n",
       "      <td>0.8</td>\n",
       "      <td>4.8</td>\n",
       "      <td>2.5</td>\n",
       "      <td>0.9</td>\n",
       "      <td>1.5</td>\n",
       "      <td>1.2</td>\n",
       "      <td>1.8</td>\n",
       "      <td>2.1</td>\n",
       "      <td>0.4</td>\n",
       "      <td>3.5</td>\n",
       "      <td>2.6</td>\n",
       "      <td>2.4</td>\n",
       "      <td>0.6</td>\n",
       "      <td>0.4</td>\n",
       "      <td>3.7</td>\n",
       "      <td>0.2</td>\n",
       "      <td>0.6</td>\n",
       "      <td>0.5</td>\n",
       "      <td>2.5</td>\n",
       "      <td>0.8</td>\n",
       "      <td>1.0</td>\n",
       "      <td>3.9</td>\n",
       "      <td>3.8</td>\n",
       "      <td>1.2</td>\n",
       "      <td>1.9</td>\n",
       "      <td>4.0</td>\n",
       "      <td>0.4</td>\n",
       "      <td>0.3</td>\n",
       "      <td>1.7</td>\n",
       "      <td>0.2</td>\n",
       "      <td>2.0</td>\n",
       "      <td>7.0</td>\n",
       "      <td>1.4</td>\n",
       "      <td>2.8</td>\n",
       "      <td>0.0</td>\n",
       "      <td>0.3</td>\n",
       "      <td>3.0</td>\n",
       "      <td>2.2</td>\n",
       "      <td>0.5</td>\n",
       "      <td>0.2</td>\n",
       "      <td>100.0</td>\n",
       "    </tr>\n",
       "  </tbody>\n",
       "</table>\n",
       "</div>"
      ],
      "text/plain": [
       "PropertyState   AK   AL   AR   AZ   CA   CO   CT   DC   DE   FL   GA   GU  \\\n",
       "default                                                                     \n",
       "0              0.3  1.4  1.0  2.7  6.4  2.0  0.9  0.1  0.4  6.0  3.4  0.0   \n",
       "1              0.0  0.1  0.0  0.3  0.6  0.1  0.1  0.0  0.0  0.9  0.2  0.0   \n",
       "All            0.3  1.5  1.0  3.1  7.1  2.0  1.0  0.1  0.4  6.9  3.6  0.0   \n",
       "\n",
       "PropertyState   HI   IA   ID   IL   IN   KS   KY   LA   MA   MD   ME   MI  \\\n",
       "default                                                                     \n",
       "0              0.3  1.0  0.7  4.5  2.3  0.9  1.4  1.1  1.7  2.0  0.4  3.3   \n",
       "1              0.0  0.0  0.0  0.3  0.1  0.0  0.1  0.1  0.1  0.2  0.0  0.2   \n",
       "All            0.3  1.1  0.8  4.8  2.5  0.9  1.5  1.2  1.8  2.1  0.4  3.5   \n",
       "\n",
       "PropertyState   MN   MO   MS   MT   NC   ND   NE   NH   NJ   NM   NV   NY  \\\n",
       "default                                                                     \n",
       "0              2.4  2.3  0.5  0.4  3.5  0.2  0.6  0.5  2.3  0.7  0.9  3.8   \n",
       "1              0.1  0.1  0.0  0.0  0.1  0.0  0.0  0.0  0.2  0.0  0.1  0.2   \n",
       "All            2.6  2.4  0.6  0.4  3.7  0.2  0.6  0.5  2.5  0.8  1.0  3.9   \n",
       "\n",
       "PropertyState   OH   OK   OR   PA   PR   RI   SC   SD   TN   TX   UT   VA  \\\n",
       "default                                                                     \n",
       "0              3.6  1.2  1.9  3.8  0.4  0.3  1.6  0.2  1.9  6.8  1.3  2.7   \n",
       "1              0.2  0.0  0.1  0.2  0.0  0.0  0.1  0.0  0.1  0.2  0.1  0.1   \n",
       "All            3.8  1.2  1.9  4.0  0.4  0.3  1.7  0.2  2.0  7.0  1.4  2.8   \n",
       "\n",
       "PropertyState   VI   VT   WA   WI   WV   WY    All  \n",
       "default                                             \n",
       "0              0.0  0.3  2.9  2.1  0.4  0.2   94.0  \n",
       "1              0.0  0.0  0.1  0.1  0.0  0.0    6.0  \n",
       "All            0.0  0.3  3.0  2.2  0.5  0.2  100.0  "
      ]
     },
     "metadata": {},
     "output_type": "display_data"
    },
    {
     "data": {
      "text/html": [
       "<div>\n",
       "<style scoped>\n",
       "    .dataframe tbody tr th:only-of-type {\n",
       "        vertical-align: middle;\n",
       "    }\n",
       "\n",
       "    .dataframe tbody tr th {\n",
       "        vertical-align: top;\n",
       "    }\n",
       "\n",
       "    .dataframe thead th {\n",
       "        text-align: right;\n",
       "    }\n",
       "</style>\n",
       "<table border=\"1\" class=\"dataframe\">\n",
       "  <thead>\n",
       "    <tr style=\"text-align: right;\">\n",
       "      <th>PropertyType</th>\n",
       "      <th>CO</th>\n",
       "      <th>CP</th>\n",
       "      <th>MH</th>\n",
       "      <th>PU</th>\n",
       "      <th>SF</th>\n",
       "      <th>All</th>\n",
       "    </tr>\n",
       "    <tr>\n",
       "      <th>default</th>\n",
       "      <th></th>\n",
       "      <th></th>\n",
       "      <th></th>\n",
       "      <th></th>\n",
       "      <th></th>\n",
       "      <th></th>\n",
       "    </tr>\n",
       "  </thead>\n",
       "  <tbody>\n",
       "    <tr>\n",
       "      <th>0</th>\n",
       "      <td>8.3</td>\n",
       "      <td>0.3</td>\n",
       "      <td>1.4</td>\n",
       "      <td>13.8</td>\n",
       "      <td>70.3</td>\n",
       "      <td>94.0</td>\n",
       "    </tr>\n",
       "    <tr>\n",
       "      <th>1</th>\n",
       "      <td>0.5</td>\n",
       "      <td>0.0</td>\n",
       "      <td>0.1</td>\n",
       "      <td>0.8</td>\n",
       "      <td>4.6</td>\n",
       "      <td>6.0</td>\n",
       "    </tr>\n",
       "    <tr>\n",
       "      <th>All</th>\n",
       "      <td>8.8</td>\n",
       "      <td>0.3</td>\n",
       "      <td>1.4</td>\n",
       "      <td>14.6</td>\n",
       "      <td>74.8</td>\n",
       "      <td>100.0</td>\n",
       "    </tr>\n",
       "  </tbody>\n",
       "</table>\n",
       "</div>"
      ],
      "text/plain": [
       "PropertyType   CO   CP   MH    PU    SF    All\n",
       "default                                       \n",
       "0             8.3  0.3  1.4  13.8  70.3   94.0\n",
       "1             0.5  0.0  0.1   0.8   4.6    6.0\n",
       "All           8.8  0.3  1.4  14.6  74.8  100.0"
      ]
     },
     "metadata": {},
     "output_type": "display_data"
    },
    {
     "data": {
      "text/html": [
       "<div>\n",
       "<style scoped>\n",
       "    .dataframe tbody tr th:only-of-type {\n",
       "        vertical-align: middle;\n",
       "    }\n",
       "\n",
       "    .dataframe tbody tr th {\n",
       "        vertical-align: top;\n",
       "    }\n",
       "\n",
       "    .dataframe thead th {\n",
       "        text-align: right;\n",
       "    }\n",
       "</style>\n",
       "<table border=\"1\" class=\"dataframe\">\n",
       "  <thead>\n",
       "    <tr style=\"text-align: right;\">\n",
       "      <th>LoanPurpose</th>\n",
       "      <th>C</th>\n",
       "      <th>N</th>\n",
       "      <th>P</th>\n",
       "      <th>All</th>\n",
       "    </tr>\n",
       "    <tr>\n",
       "      <th>default</th>\n",
       "      <th></th>\n",
       "      <th></th>\n",
       "      <th></th>\n",
       "      <th></th>\n",
       "    </tr>\n",
       "  </thead>\n",
       "  <tbody>\n",
       "    <tr>\n",
       "      <th>0</th>\n",
       "      <td>35.1</td>\n",
       "      <td>16.5</td>\n",
       "      <td>42.4</td>\n",
       "      <td>94.0</td>\n",
       "    </tr>\n",
       "    <tr>\n",
       "      <th>1</th>\n",
       "      <td>2.4</td>\n",
       "      <td>1.3</td>\n",
       "      <td>2.3</td>\n",
       "      <td>6.0</td>\n",
       "    </tr>\n",
       "    <tr>\n",
       "      <th>All</th>\n",
       "      <td>37.6</td>\n",
       "      <td>17.8</td>\n",
       "      <td>44.6</td>\n",
       "      <td>100.0</td>\n",
       "    </tr>\n",
       "  </tbody>\n",
       "</table>\n",
       "</div>"
      ],
      "text/plain": [
       "LoanPurpose     C     N     P    All\n",
       "default                             \n",
       "0            35.1  16.5  42.4   94.0\n",
       "1             2.4   1.3   2.3    6.0\n",
       "All          37.6  17.8  44.6  100.0"
      ]
     },
     "metadata": {},
     "output_type": "display_data"
    }
   ],
   "source": [
    "for var in catCols:  #for categorical\n",
    "    display(((pd.crosstab(df[targetCol], df[var], margins=True) / df.shape[0]) * 100).round(1))"
   ]
  },
  {
   "cell_type": "code",
   "execution_count": 63,
   "id": "7d45e6a5-08cb-484a-bfd3-10bbed4e8085",
   "metadata": {
    "colab": {
     "base_uri": "https://localhost:8080/",
     "height": 112
    },
    "executionInfo": {
     "elapsed": 50,
     "status": "ok",
     "timestamp": 1681123418772,
     "user": {
      "displayName": "Adnan sevinç",
      "userId": "10606629957436102111"
     },
     "user_tz": -120
    },
    "id": "7d45e6a5-08cb-484a-bfd3-10bbed4e8085",
    "outputId": "dbef8f3c-91d0-41c5-c498-7e69a99de16a"
   },
   "outputs": [
    {
     "data": {
      "text/html": [
       "<div>\n",
       "<style scoped>\n",
       "    .dataframe tbody tr th:only-of-type {\n",
       "        vertical-align: middle;\n",
       "    }\n",
       "\n",
       "    .dataframe tbody tr th {\n",
       "        vertical-align: top;\n",
       "    }\n",
       "\n",
       "    .dataframe thead th {\n",
       "        text-align: right;\n",
       "    }\n",
       "</style>\n",
       "<table border=\"1\" class=\"dataframe\">\n",
       "  <thead>\n",
       "    <tr style=\"text-align: right;\">\n",
       "      <th></th>\n",
       "      <th>PrepaymentPenaltyMortgagePPMFlag</th>\n",
       "      <th>count</th>\n",
       "      <th>percent</th>\n",
       "      <th>cumulative_count</th>\n",
       "      <th>cumulative_percent</th>\n",
       "    </tr>\n",
       "  </thead>\n",
       "  <tbody>\n",
       "    <tr>\n",
       "      <th>0</th>\n",
       "      <td>N</td>\n",
       "      <td>629276</td>\n",
       "      <td>99.95743</td>\n",
       "      <td>629276</td>\n",
       "      <td>99.95743</td>\n",
       "    </tr>\n",
       "    <tr>\n",
       "      <th>1</th>\n",
       "      <td>Y</td>\n",
       "      <td>268</td>\n",
       "      <td>0.04257</td>\n",
       "      <td>629544</td>\n",
       "      <td>100.00000</td>\n",
       "    </tr>\n",
       "  </tbody>\n",
       "</table>\n",
       "</div>"
      ],
      "text/plain": [
       "  PrepaymentPenaltyMortgagePPMFlag   count   percent  cumulative_count  \\\n",
       "0                                N  629276  99.95743            629276   \n",
       "1                                Y     268   0.04257            629544   \n",
       "\n",
       "   cumulative_percent  \n",
       "0            99.95743  \n",
       "1           100.00000  "
      ]
     },
     "execution_count": 63,
     "metadata": {},
     "output_type": "execute_result"
    }
   ],
   "source": [
    "df.stb.freq(['PrepaymentPenaltyMortgagePPMFlag'])"
   ]
  },
  {
   "cell_type": "code",
   "execution_count": 64,
   "id": "9f06469a-29c4-474d-8e1b-666a482888c6",
   "metadata": {
    "colab": {
     "base_uri": "https://localhost:8080/"
    },
    "executionInfo": {
     "elapsed": 48,
     "status": "ok",
     "timestamp": 1681123418772,
     "user": {
      "displayName": "Adnan sevinç",
      "userId": "10606629957436102111"
     },
     "user_tz": -120
    },
    "id": "9f06469a-29c4-474d-8e1b-666a482888c6",
    "outputId": "a7f2f1b2-72d7-462b-cf3c-069d5e11592a"
   },
   "outputs": [
    {
     "data": {
      "text/plain": [
       "(629544, 19)"
      ]
     },
     "execution_count": 64,
     "metadata": {},
     "output_type": "execute_result"
    }
   ],
   "source": [
    "# df shape before dropping\n",
    "df.shape"
   ]
  },
  {
   "cell_type": "code",
   "execution_count": 65,
   "id": "bd045ff4-2360-4e09-b88c-34b465a521fc",
   "metadata": {
    "executionInfo": {
     "elapsed": 40,
     "status": "ok",
     "timestamp": 1681123418773,
     "user": {
      "displayName": "Adnan sevinç",
      "userId": "10606629957436102111"
     },
     "user_tz": -120
    },
    "id": "bd045ff4-2360-4e09-b88c-34b465a521fc"
   },
   "outputs": [],
   "source": [
    "df = df.drop(['PrepaymentPenaltyMortgagePPMFlag'], axis = 1)"
   ]
  },
  {
   "cell_type": "code",
   "execution_count": 66,
   "id": "vM6MLRshZzzR",
   "metadata": {
    "colab": {
     "base_uri": "https://localhost:8080/"
    },
    "executionInfo": {
     "elapsed": 41,
     "status": "ok",
     "timestamp": 1681123418774,
     "user": {
      "displayName": "Adnan sevinç",
      "userId": "10606629957436102111"
     },
     "user_tz": -120
    },
    "id": "vM6MLRshZzzR",
    "outputId": "a25a8cda-7b73-4ddf-aef9-213194afb311"
   },
   "outputs": [
    {
     "data": {
      "text/plain": [
       "(629544, 18)"
      ]
     },
     "execution_count": 66,
     "metadata": {},
     "output_type": "execute_result"
    }
   ],
   "source": [
    "# df shape after dropping\n",
    "df.shape"
   ]
  },
  {
   "cell_type": "code",
   "execution_count": 67,
   "id": "999e5ddb-c1b5-4f8e-bb9f-50ddff7ed80a",
   "metadata": {
    "colab": {
     "base_uri": "https://localhost:8080/"
    },
    "executionInfo": {
     "elapsed": 38,
     "status": "ok",
     "timestamp": 1681123418775,
     "user": {
      "displayName": "Adnan sevinç",
      "userId": "10606629957436102111"
     },
     "user_tz": -120
    },
    "id": "999e5ddb-c1b5-4f8e-bb9f-50ddff7ed80a",
    "outputId": "8508b768-f75f-47a3-a30a-6f150e9ae060"
   },
   "outputs": [
    {
     "data": {
      "text/plain": [
       "8"
      ]
     },
     "execution_count": 67,
     "metadata": {},
     "output_type": "execute_result"
    }
   ],
   "source": [
    "# number of cat cols before dropping\n",
    "len(catCols)"
   ]
  },
  {
   "cell_type": "code",
   "execution_count": 68,
   "id": "b8b3f26a-59e9-471d-8521-b525429d6fed",
   "metadata": {
    "executionInfo": {
     "elapsed": 39,
     "status": "ok",
     "timestamp": 1681123418781,
     "user": {
      "displayName": "Adnan sevinç",
      "userId": "10606629957436102111"
     },
     "user_tz": -120
    },
    "id": "b8b3f26a-59e9-471d-8521-b525429d6fed"
   },
   "outputs": [],
   "source": [
    "#drop PrepaymentPenaltyMortgagePPMFlag from catCols\n",
    "catCols.remove('PrepaymentPenaltyMortgagePPMFlag')"
   ]
  },
  {
   "cell_type": "code",
   "execution_count": 69,
   "id": "469ca815-1f10-492a-92bb-88165b094527",
   "metadata": {
    "colab": {
     "base_uri": "https://localhost:8080/"
    },
    "executionInfo": {
     "elapsed": 40,
     "status": "ok",
     "timestamp": 1681123418782,
     "user": {
      "displayName": "Adnan sevinç",
      "userId": "10606629957436102111"
     },
     "user_tz": -120
    },
    "id": "469ca815-1f10-492a-92bb-88165b094527",
    "outputId": "4ee07705-b2be-4d04-d665-e28d6dc5321b"
   },
   "outputs": [
    {
     "data": {
      "text/plain": [
       "7"
      ]
     },
     "execution_count": 69,
     "metadata": {},
     "output_type": "execute_result"
    }
   ],
   "source": [
    "# number of cat cols after dropping\n",
    "len(catCols)"
   ]
  },
  {
   "cell_type": "code",
   "execution_count": 70,
   "id": "0a8a6ade-09e7-41c4-902e-1f042c284773",
   "metadata": {
    "colab": {
     "base_uri": "https://localhost:8080/"
    },
    "executionInfo": {
     "elapsed": 34,
     "status": "ok",
     "timestamp": 1681123418782,
     "user": {
      "displayName": "Adnan sevinç",
      "userId": "10606629957436102111"
     },
     "user_tz": -120
    },
    "id": "0a8a6ade-09e7-41c4-902e-1f042c284773",
    "outputId": "4231aa2e-ca6e-4b71-ef88-44fcb3b5540d"
   },
   "outputs": [
    {
     "data": {
      "text/plain": [
       "True"
      ]
     },
     "execution_count": 70,
     "metadata": {},
     "output_type": "execute_result"
    }
   ],
   "source": [
    "# assertion\n",
    "df.shape[1]  == len(catCols) +len(numCols) + 1"
   ]
  },
  {
   "cell_type": "markdown",
   "id": "8b205993-4df0-4355-9b03-297acbdb075b",
   "metadata": {},
   "source": [
    "Display the current variables."
   ]
  },
  {
   "cell_type": "code",
   "execution_count": 71,
   "id": "901d9556-fe5d-4522-b0db-0ec872ff37c6",
   "metadata": {
    "colab": {
     "base_uri": "https://localhost:8080/"
    },
    "executionInfo": {
     "elapsed": 30,
     "status": "ok",
     "timestamp": 1681123418782,
     "user": {
      "displayName": "Adnan sevinç",
      "userId": "10606629957436102111"
     },
     "user_tz": -120
    },
    "id": "901d9556-fe5d-4522-b0db-0ec872ff37c6",
    "outputId": "ae25f7d1-a4d4-4921-f42a-1a84a22767e1"
   },
   "outputs": [
    {
     "name": "stdout",
     "output_type": "stream",
     "text": [
      "################ Numerical Columns ##############\n",
      "Number of Numerical Variables 10\n",
      "\n",
      " 1 :  CreditScore\n",
      " 2 :  MetropolitanStatisticalAreaMSAOrMetropolitanDivision\n",
      " 3 :  MortgageInsurancePercentageMI\n",
      " 4 :  OriginalCombinedLoantoValueCLTV\n",
      " 5 :  OriginalDebttoIncomeDTIRatio\n",
      " 6 :  OriginalUPB\n",
      " 7 :  OriginalLoantoValueLTV\n",
      " 8 :  OriginalInterestRate\n",
      " 9 :  OriginalLoanTerm\n",
      " 10 :  NumberofBorrowers\n",
      "\n",
      "############### Categorical Columns ##############\n",
      "Number of Categorical Variables 7\n",
      "\n",
      " 1 : FirstTimeHomebuyerFlag\n",
      " 2 : NumberofUnits\n",
      " 3 : OccupancyStatus\n",
      " 4 : Channel\n",
      " 5 : PropertyState\n",
      " 6 : PropertyType\n",
      " 7 : LoanPurpose\n",
      "\n",
      "############### Target Variable #################\n",
      "\n",
      "default\n",
      "\n",
      "###################################################\n"
     ]
    }
   ],
   "source": [
    "    print(\"################ Numerical Columns ##############\")\n",
    "    print(f\"Number of Numerical Variables {len(numCols)}\\n\")\n",
    "    for idx in range(len(numCols)):\n",
    "      print(f\" {idx+1} :  {numCols[idx]}\")\n",
    "\n",
    "    print(\"\\n############### Categorical Columns ##############\")\n",
    "    print(f\"Number of Categorical Variables {len(catCols)}\\n\")\n",
    "    for idx in range(len(catCols)):\n",
    "      print(f\" {idx+1} : {catCols[idx]}\")\n",
    "\n",
    "    print(\"\\n############### Target Variable #################\\n\")\n",
    "    print(targetCol)\n",
    "    print(\"\\n###################################################\")"
   ]
  },
  {
   "cell_type": "markdown",
   "id": "9ce02c40-538a-49db-8aef-f8f297eefa38",
   "metadata": {
    "id": "9ce02c40-538a-49db-8aef-f8f297eefa38"
   },
   "source": [
    "## Collinearity"
   ]
  },
  {
   "cell_type": "markdown",
   "id": "983934b3-33fc-458b-9dca-2b9a50a90184",
   "metadata": {},
   "source": [
    "We're going to remove variables that have over 70% collinearity."
   ]
  },
  {
   "cell_type": "markdown",
   "id": "-dh3qgF5Vcm0",
   "metadata": {
    "id": "-dh3qgF5Vcm0"
   },
   "source": [
    "#### Numerical"
   ]
  },
  {
   "cell_type": "code",
   "execution_count": 72,
   "id": "2f45e21a-80e9-4492-80f8-1da772a3e22a",
   "metadata": {
    "colab": {
     "base_uri": "https://localhost:8080/"
    },
    "executionInfo": {
     "elapsed": 4290,
     "status": "ok",
     "timestamp": 1681123423047,
     "user": {
      "displayName": "Adnan sevinç",
      "userId": "10606629957436102111"
     },
     "user_tz": -120
    },
    "id": "2f45e21a-80e9-4492-80f8-1da772a3e22a",
    "outputId": "3125c3ff-fc19-4bd4-c6e3-cc09dec076db"
   },
   "outputs": [],
   "source": [
    "CorrAbs = df[numCols].corr('kendall').abs()"
   ]
  },
  {
   "cell_type": "code",
   "execution_count": 73,
   "id": "02c7f266-484d-486d-b0ab-fde78469da39",
   "metadata": {
    "colab": {
     "base_uri": "https://localhost:8080/",
     "height": 817
    },
    "executionInfo": {
     "elapsed": 687,
     "status": "ok",
     "timestamp": 1681123423728,
     "user": {
      "displayName": "Adnan sevinç",
      "userId": "10606629957436102111"
     },
     "user_tz": -120
    },
    "id": "02c7f266-484d-486d-b0ab-fde78469da39",
    "outputId": "dd5328f4-c1a5-4074-a4f5-0ff5e8e90f0e"
   },
   "outputs": [
    {
     "name": "stderr",
     "output_type": "stream",
     "text": [
      "/opt/anaconda3/lib/python3.11/site-packages/seaborn/matrix.py:260: FutureWarning: Format strings passed to MaskedConstant are ignored, but in future may error or produce different behavior\n",
      "  annotation = (\"{:\" + self.fmt + \"}\").format(val)\n"
     ]
    },
    {
     "data": {
      "text/plain": [
       "<Axes: >"
      ]
     },
     "execution_count": 73,
     "metadata": {},
     "output_type": "execute_result"
    },
    {
     "data": {
      "image/png": "[encoded data removed]",
      "text/plain": [
       "<Figure size 640x480 with 2 Axes>"
      ]
     },
     "metadata": {},
     "output_type": "display_data"
    }
   ],
   "source": [
    "import seaborn as sns\n",
    "sns.heatmap(CorrAbs.where(np.tril(np.ones(CorrAbs.shape)).astype(bool)), cmap =\"afmhot_r\", annot = True)"
   ]
  },
  {
   "cell_type": "code",
   "execution_count": 74,
   "id": "261150b5-ab47-4e96-84cc-b2bc68a9b381",
   "metadata": {
    "colab": {
     "base_uri": "https://localhost:8080/"
    },
    "executionInfo": {
     "elapsed": 17,
     "status": "ok",
     "timestamp": 1681123423729,
     "user": {
      "displayName": "Adnan sevinç",
      "userId": "10606629957436102111"
     },
     "user_tz": -120
    },
    "id": "261150b5-ab47-4e96-84cc-b2bc68a9b381",
    "outputId": "540bfb04-0689-4ebf-fb28-d57bc8e83993"
   },
   "outputs": [
    {
     "name": "stdout",
     "output_type": "stream",
     "text": [
      "************************\"Variable pairs with correlation > 0.7:******************************\n",
      "OriginalCombinedLoantoValueCLTV  and  OriginalLoantoValueLTV :  0.8\n",
      "\n",
      "************************\"Counter******************************\n",
      "('OriginalCombinedLoantoValueCLTV', 1)\n",
      "('OriginalLoantoValueLTV', 1)\n"
     ]
    }
   ],
   "source": [
    "# Create a boolean mask for the upper triangle of the matrix\n",
    "upper_mask = CorrAbs.where(np.triu(np.ones(CorrAbs.shape), k=1).astype(bool))\n",
    "\n",
    "# Find the pairs of variables with a correlation coefficient greater than 0.7\n",
    "corr_pairs = [(i, j, CorrAbs.loc[i,j]) for i in upper_mask.columns for j in upper_mask.columns if upper_mask.loc[i,j] > 0.7]\n",
    "\n",
    "# Print the variable pairs and their correlation coefficients\n",
    "print('************************\"Variable pairs with correlation > 0.7:******************************')\n",
    "\n",
    "for pair in corr_pairs:\n",
    "    print(pair[0], \" and \", pair[1], \": \", round(pair[2],3))\n",
    "\n",
    "print()\n",
    "print('************************\"Counter******************************')\n",
    "from collections import Counter\n",
    "pair_variable = [pair[0] for pair in corr_pairs] + [pair[1] for pair in corr_pairs] \n",
    "counted_list = Counter(pair_variable)\n",
    "sorted_list = counted_list.most_common()\n",
    "\n",
    "for i in sorted_list:\n",
    "    print(i)"
   ]
  },
  {
   "cell_type": "code",
   "execution_count": 75,
   "id": "b55eb5e7-06d5-4586-861f-f0b4580b427c",
   "metadata": {
    "colab": {
     "base_uri": "https://localhost:8080/"
    },
    "executionInfo": {
     "elapsed": 12,
     "status": "ok",
     "timestamp": 1681123423730,
     "user": {
      "displayName": "Adnan sevinç",
      "userId": "10606629957436102111"
     },
     "user_tz": -120
    },
    "id": "b55eb5e7-06d5-4586-861f-f0b4580b427c",
    "outputId": "c5e51243-0b74-491e-9f36-38fd2fe8b49f"
   },
   "outputs": [
    {
     "data": {
      "text/plain": [
       "(629544, 18)"
      ]
     },
     "execution_count": 75,
     "metadata": {},
     "output_type": "execute_result"
    }
   ],
   "source": [
    "# df shape before dropping\n",
    "df.shape"
   ]
  },
  {
   "cell_type": "code",
   "execution_count": 76,
   "id": "168c4237-eeed-493a-8b5d-d16a566b6a47",
   "metadata": {
    "executionInfo": {
     "elapsed": 583,
     "status": "ok",
     "timestamp": 1681123424304,
     "user": {
      "displayName": "Adnan sevinç",
      "userId": "10606629957436102111"
     },
     "user_tz": -120
    },
    "id": "168c4237-eeed-493a-8b5d-d16a566b6a47"
   },
   "outputs": [],
   "source": [
    "#drop OriginalCombinedLoantoValueCLTV as it has low gini index found via Logistic\n",
    "df = df.drop(['OriginalCombinedLoantoValueCLTV'], axis = 1)"
   ]
  },
  {
   "cell_type": "code",
   "execution_count": 77,
   "id": "ffc3445f-e638-4585-b587-243faea7dd5a",
   "metadata": {
    "colab": {
     "base_uri": "https://localhost:8080/"
    },
    "executionInfo": {
     "elapsed": 20,
     "status": "ok",
     "timestamp": 1681123424304,
     "user": {
      "displayName": "Adnan sevinç",
      "userId": "10606629957436102111"
     },
     "user_tz": -120
    },
    "id": "ffc3445f-e638-4585-b587-243faea7dd5a",
    "outputId": "a5ef7cb0-c644-4cd1-885e-38a2313b5550"
   },
   "outputs": [
    {
     "data": {
      "text/plain": [
       "(629544, 17)"
      ]
     },
     "execution_count": 77,
     "metadata": {},
     "output_type": "execute_result"
    }
   ],
   "source": [
    "# df shape after dropping\n",
    "df.shape"
   ]
  },
  {
   "cell_type": "markdown",
   "id": "f5911534-a216-4854-a012-8fd1b895d578",
   "metadata": {
    "id": "f5911534-a216-4854-a012-8fd1b895d578"
   },
   "source": [
    "### Categorical "
   ]
  },
  {
   "cell_type": "code",
   "execution_count": 78,
   "id": "302398e0-a9e5-4a39-a56d-195d5b4e2c89",
   "metadata": {
    "colab": {
     "base_uri": "https://localhost:8080/"
    },
    "executionInfo": {
     "elapsed": 20,
     "status": "ok",
     "timestamp": 1681123424305,
     "user": {
      "displayName": "Adnan sevinç",
      "userId": "10606629957436102111"
     },
     "user_tz": -120
    },
    "id": "302398e0-a9e5-4a39-a56d-195d5b4e2c89",
    "outputId": "1598622f-5e34-44dc-ed77-7c3568b004cb"
   },
   "outputs": [
    {
     "data": {
      "text/plain": [
       "['FirstTimeHomebuyerFlag',\n",
       " 'NumberofUnits',\n",
       " 'OccupancyStatus',\n",
       " 'Channel',\n",
       " 'PropertyState',\n",
       " 'PropertyType',\n",
       " 'LoanPurpose']"
      ]
     },
     "execution_count": 78,
     "metadata": {},
     "output_type": "execute_result"
    }
   ],
   "source": [
    "catCols"
   ]
  },
  {
   "cell_type": "code",
   "execution_count": 79,
   "id": "f97250a2-7d51-41d3-806a-058995e8608b",
   "metadata": {
    "executionInfo": {
     "elapsed": 16,
     "status": "ok",
     "timestamp": 1681123424305,
     "user": {
      "displayName": "Adnan sevinç",
      "userId": "10606629957436102111"
     },
     "user_tz": -120
    },
    "id": "f97250a2-7d51-41d3-806a-058995e8608b"
   },
   "outputs": [],
   "source": [
    "from pycorrcat.pycorrcat import plot_corr, corr_matrix"
   ]
  },
  {
   "cell_type": "code",
   "execution_count": 80,
   "id": "ab344ef4-b9dc-4b34-b24a-ea7251c5e91f",
   "metadata": {
    "executionInfo": {
     "elapsed": 16,
     "status": "ok",
     "timestamp": 1681123424305,
     "user": {
      "displayName": "Adnan sevinç",
      "userId": "10606629957436102111"
     },
     "user_tz": -120
    },
    "id": "ab344ef4-b9dc-4b34-b24a-ea7251c5e91f"
   },
   "outputs": [],
   "source": [
    "import itertools\n",
    "PermComb2 = list(itertools.combinations(catCols, 2))"
   ]
  },
  {
   "cell_type": "code",
   "execution_count": 81,
   "id": "06b2ce2d-2ce7-40a6-98c0-89fccd50b269",
   "metadata": {
    "colab": {
     "base_uri": "https://localhost:8080/"
    },
    "executionInfo": {
     "elapsed": 17,
     "status": "ok",
     "timestamp": 1681123424306,
     "user": {
      "displayName": "Adnan sevinç",
      "userId": "10606629957436102111"
     },
     "user_tz": -120
    },
    "id": "06b2ce2d-2ce7-40a6-98c0-89fccd50b269",
    "outputId": "72633a26-c95c-4cca-a7ea-52033aeaf59e"
   },
   "outputs": [
    {
     "data": {
      "text/plain": [
       "[('FirstTimeHomebuyerFlag', 'NumberofUnits'),\n",
       " ('FirstTimeHomebuyerFlag', 'OccupancyStatus'),\n",
       " ('FirstTimeHomebuyerFlag', 'Channel'),\n",
       " ('FirstTimeHomebuyerFlag', 'PropertyState'),\n",
       " ('FirstTimeHomebuyerFlag', 'PropertyType'),\n",
       " ('FirstTimeHomebuyerFlag', 'LoanPurpose'),\n",
       " ('NumberofUnits', 'OccupancyStatus'),\n",
       " ('NumberofUnits', 'Channel'),\n",
       " ('NumberofUnits', 'PropertyState'),\n",
       " ('NumberofUnits', 'PropertyType'),\n",
       " ('NumberofUnits', 'LoanPurpose'),\n",
       " ('OccupancyStatus', 'Channel'),\n",
       " ('OccupancyStatus', 'PropertyState'),\n",
       " ('OccupancyStatus', 'PropertyType'),\n",
       " ('OccupancyStatus', 'LoanPurpose'),\n",
       " ('Channel', 'PropertyState'),\n",
       " ('Channel', 'PropertyType'),\n",
       " ('Channel', 'LoanPurpose'),\n",
       " ('PropertyState', 'PropertyType'),\n",
       " ('PropertyState', 'LoanPurpose'),\n",
       " ('PropertyType', 'LoanPurpose')]"
      ]
     },
     "execution_count": 81,
     "metadata": {},
     "output_type": "execute_result"
    }
   ],
   "source": [
    "PermComb2"
   ]
  },
  {
   "cell_type": "code",
   "execution_count": 82,
   "id": "1ac78974-64de-4467-af25-6e05ec21ba3a",
   "metadata": {
    "colab": {
     "base_uri": "https://localhost:8080/"
    },
    "executionInfo": {
     "elapsed": 12166,
     "status": "ok",
     "timestamp": 1681123436462,
     "user": {
      "displayName": "Adnan sevinç",
      "userId": "10606629957436102111"
     },
     "user_tz": -120
    },
    "id": "1ac78974-64de-4467-af25-6e05ec21ba3a",
    "outputId": "177193fe-b9b6-4b24-c312-eb77e4cc4632"
   },
   "outputs": [
    {
     "name": "stdout",
     "output_type": "stream",
     "text": [
      "#################### Correlation Between FirstTimeHomebuyerFlag and NumberofUnits ####################\n",
      "                        FirstTimeHomebuyerFlag  NumberofUnits\n",
      "FirstTimeHomebuyerFlag                1.000000       0.030619\n",
      "NumberofUnits                         0.030619       1.000000\n",
      "#################### Correlation Between FirstTimeHomebuyerFlag and OccupancyStatus ####################\n",
      "                        FirstTimeHomebuyerFlag  OccupancyStatus\n",
      "FirstTimeHomebuyerFlag                1.000000         0.141995\n",
      "OccupancyStatus                       0.141995         1.000000\n",
      "#################### Correlation Between FirstTimeHomebuyerFlag and Channel ####################\n",
      "                        FirstTimeHomebuyerFlag   Channel\n",
      "FirstTimeHomebuyerFlag                1.000000  0.015599\n",
      "Channel                               0.015599  1.000000\n",
      "#################### Correlation Between FirstTimeHomebuyerFlag and PropertyState ####################\n",
      "                        FirstTimeHomebuyerFlag  PropertyState\n",
      "FirstTimeHomebuyerFlag                 1.00000        0.12409\n",
      "PropertyState                          0.12409        1.00000\n",
      "#################### Correlation Between FirstTimeHomebuyerFlag and PropertyType ####################\n",
      "                        FirstTimeHomebuyerFlag  PropertyType\n",
      "FirstTimeHomebuyerFlag                1.000000      0.117176\n",
      "PropertyType                          0.117176      1.000000\n",
      "#################### Correlation Between FirstTimeHomebuyerFlag and LoanPurpose ####################\n",
      "                        FirstTimeHomebuyerFlag  LoanPurpose\n",
      "FirstTimeHomebuyerFlag                1.000000     0.418142\n",
      "LoanPurpose                           0.418142     1.000000\n",
      "#################### Correlation Between NumberofUnits and OccupancyStatus ####################\n",
      "                 NumberofUnits  OccupancyStatus\n",
      "NumberofUnits         1.000000         0.193059\n",
      "OccupancyStatus       0.193059         1.000000\n",
      "#################### Correlation Between NumberofUnits and Channel ####################\n",
      "               NumberofUnits   Channel\n",
      "NumberofUnits       1.000000  0.002067\n",
      "Channel             0.002067  1.000000\n",
      "#################### Correlation Between NumberofUnits and PropertyState ####################\n",
      "               NumberofUnits  PropertyState\n",
      "NumberofUnits       1.000000       0.093511\n",
      "PropertyState       0.093511       1.000000\n",
      "#################### Correlation Between NumberofUnits and PropertyType ####################\n",
      "               NumberofUnits  PropertyType\n",
      "NumberofUnits       1.000000      0.052882\n",
      "PropertyType        0.052882      1.000000\n",
      "#################### Correlation Between NumberofUnits and LoanPurpose ####################\n",
      "               NumberofUnits  LoanPurpose\n",
      "NumberofUnits       1.000000     0.023648\n",
      "LoanPurpose         0.023648     1.000000\n",
      "#################### Correlation Between OccupancyStatus and Channel ####################\n",
      "                 OccupancyStatus   Channel\n",
      "OccupancyStatus         1.000000  0.034921\n",
      "Channel                 0.034921  1.000000\n",
      "#################### Correlation Between OccupancyStatus and PropertyState ####################\n",
      "                 OccupancyStatus  PropertyState\n",
      "OccupancyStatus          1.00000        0.09447\n",
      "PropertyState            0.09447        1.00000\n",
      "#################### Correlation Between OccupancyStatus and PropertyType ####################\n",
      "                 OccupancyStatus  PropertyType\n",
      "OccupancyStatus         1.000000      0.105478\n",
      "PropertyType            0.105478      1.000000\n",
      "#################### Correlation Between OccupancyStatus and LoanPurpose ####################\n",
      "                 OccupancyStatus  LoanPurpose\n",
      "OccupancyStatus         1.000000     0.087293\n",
      "LoanPurpose             0.087293     1.000000\n",
      "#################### Correlation Between Channel and PropertyState ####################\n",
      "                Channel  PropertyState\n",
      "Channel        1.000000       0.156664\n",
      "PropertyState  0.156664       1.000000\n",
      "#################### Correlation Between Channel and PropertyType ####################\n",
      "               Channel  PropertyType\n",
      "Channel       1.000000      0.049158\n",
      "PropertyType  0.049158      1.000000\n",
      "#################### Correlation Between Channel and LoanPurpose ####################\n",
      "              Channel  LoanPurpose\n",
      "Channel      1.000000     0.027501\n",
      "LoanPurpose  0.027501     1.000000\n",
      "#################### Correlation Between PropertyState and PropertyType ####################\n",
      "               PropertyState  PropertyType\n",
      "PropertyState       1.000000      0.234174\n",
      "PropertyType        0.234174      1.000000\n",
      "#################### Correlation Between PropertyState and LoanPurpose ####################\n",
      "               PropertyState  LoanPurpose\n",
      "PropertyState       1.000000     0.196585\n",
      "LoanPurpose         0.196585     1.000000\n",
      "#################### Correlation Between PropertyType and LoanPurpose ####################\n",
      "              PropertyType  LoanPurpose\n",
      "PropertyType      1.000000     0.166901\n",
      "LoanPurpose       0.166901     1.000000\n"
     ]
    }
   ],
   "source": [
    "for col1,col2 in PermComb2:\n",
    "  print(f\"#################### Correlation Between {col1} and {col2} ####################\")\n",
    "  print(corr_matrix(df, [col1, col2]))"
   ]
  },
  {
   "cell_type": "markdown",
   "id": "bba5bbbf-0bd8-433c-8224-8cda301de107",
   "metadata": {
    "id": "bba5bbbf-0bd8-433c-8224-8cda301de107"
   },
   "source": [
    "# Final Dataset for Modeling "
   ]
  },
  {
   "cell_type": "code",
   "execution_count": 83,
   "id": "37329365-2e5f-46bd-9288-4698c44ecf8b",
   "metadata": {
    "colab": {
     "base_uri": "https://localhost:8080/"
    },
    "executionInfo": {
     "elapsed": 12,
     "status": "ok",
     "timestamp": 1681123436462,
     "user": {
      "displayName": "Adnan sevinç",
      "userId": "10606629957436102111"
     },
     "user_tz": -120
    },
    "id": "37329365-2e5f-46bd-9288-4698c44ecf8b",
    "outputId": "b991bd9b-3ab5-4f44-88ff-346a40131142"
   },
   "outputs": [
    {
     "name": "stdout",
     "output_type": "stream",
     "text": [
      "(629544, 17)\n"
     ]
    }
   ],
   "source": [
    "print(df.shape)"
   ]
  },
  {
   "cell_type": "code",
   "execution_count": 84,
   "id": "118ce4fb-e793-495c-9c9d-9fbcc3136d43",
   "metadata": {
    "colab": {
     "base_uri": "https://localhost:8080/"
    },
    "executionInfo": {
     "elapsed": 7,
     "status": "ok",
     "timestamp": 1681123436463,
     "user": {
      "displayName": "Adnan sevinç",
      "userId": "10606629957436102111"
     },
     "user_tz": -120
    },
    "id": "118ce4fb-e793-495c-9c9d-9fbcc3136d43",
    "outputId": "f21f92d9-ccfb-489d-c108-2113427442e7"
   },
   "outputs": [
    {
     "name": "stdout",
     "output_type": "stream",
     "text": [
      "################ Final Variables ##############\n",
      " 1 :  CreditScore\n",
      " 2 :  FirstTimeHomebuyerFlag\n",
      " 3 :  MetropolitanStatisticalAreaMSAOrMetropolitanDivision\n",
      " 4 :  MortgageInsurancePercentageMI\n",
      " 5 :  NumberofUnits\n",
      " 6 :  OccupancyStatus\n",
      " 7 :  OriginalDebttoIncomeDTIRatio\n",
      " 8 :  OriginalUPB\n",
      " 9 :  OriginalLoantoValueLTV\n",
      " 10 :  OriginalInterestRate\n",
      " 11 :  Channel\n",
      " 12 :  PropertyState\n",
      " 13 :  PropertyType\n",
      " 14 :  LoanPurpose\n",
      " 15 :  OriginalLoanTerm\n",
      " 16 :  NumberofBorrowers\n",
      " 17 :  default\n",
      "\n",
      "Number of variables: 17\n"
     ]
    }
   ],
   "source": [
    "print(\"################ Final Variables ##############\")\n",
    "for idx in range(len(df.columns.to_list())):\n",
    "  print(f\" {idx+1} :  {df.columns.to_list()[idx]}\")\n",
    "\n",
    "print(f\"\\nNumber of variables: {df.shape[1]}\")"
   ]
  },
  {
   "cell_type": "markdown",
   "id": "9b51caef-77fe-47aa-affc-6847b9300c85",
   "metadata": {
    "id": "9b51caef-77fe-47aa-affc-6847b9300c85"
   },
   "source": [
    "## Encoding Categorical Variables"
   ]
  },
  {
   "cell_type": "markdown",
   "id": "12987b47-3031-4219-be51-730683cf27ef",
   "metadata": {},
   "source": [
    "We are employing LabelEncoder for categorical variables with just two unique values and using dummy variables for those with more than two unique values."
   ]
  },
  {
   "cell_type": "code",
   "execution_count": 85,
   "id": "358e0905-79e3-4a87-a4a6-4c7ba56b4ff9",
   "metadata": {
    "executionInfo": {
     "elapsed": 4,
     "status": "ok",
     "timestamp": 1681123436463,
     "user": {
      "displayName": "Adnan sevinç",
      "userId": "10606629957436102111"
     },
     "user_tz": -120
    },
    "id": "358e0905-79e3-4a87-a4a6-4c7ba56b4ff9"
   },
   "outputs": [],
   "source": [
    "from sklearn.preprocessing import LabelEncoder\n",
    "labelencoder= LabelEncoder() # creating instance of labelencoder"
   ]
  },
  {
   "cell_type": "code",
   "execution_count": 86,
   "id": "d293fdce-98cd-46b1-8acf-8b98320c0c6a",
   "metadata": {
    "colab": {
     "base_uri": "https://localhost:8080/"
    },
    "executionInfo": {
     "elapsed": 10,
     "status": "ok",
     "timestamp": 1681123437565,
     "user": {
      "displayName": "Adnan sevinç",
      "userId": "10606629957436102111"
     },
     "user_tz": -120
    },
    "id": "d293fdce-98cd-46b1-8acf-8b98320c0c6a",
    "outputId": "dc6369fc-9651-4839-f1ec-6ad9e05d6d32"
   },
   "outputs": [
    {
     "name": "stdout",
     "output_type": "stream",
     "text": [
      "################ Numerical Columns ##############\n",
      "Number of Numerical Variables 9\n",
      "\n",
      " 1 :  CreditScore\n",
      " 2 :  MetropolitanStatisticalAreaMSAOrMetropolitanDivision\n",
      " 3 :  MortgageInsurancePercentageMI\n",
      " 4 :  OriginalDebttoIncomeDTIRatio\n",
      " 5 :  OriginalUPB\n",
      " 6 :  OriginalLoantoValueLTV\n",
      " 7 :  OriginalInterestRate\n",
      " 8 :  OriginalLoanTerm\n",
      " 9 :  NumberofBorrowers\n",
      "\n",
      "############### Categorical Columns ##############\n",
      "Number of Categorical Variables 7\n",
      "\n",
      " 1 : FirstTimeHomebuyerFlag\n",
      " 2 : NumberofUnits\n",
      " 3 : OccupancyStatus\n",
      " 4 : Channel\n",
      " 5 : PropertyState\n",
      " 6 : PropertyType\n",
      " 7 : LoanPurpose\n",
      "\n",
      "############### Target Variable #################\n",
      "\n",
      "default\n",
      "\n",
      "###################################################\n"
     ]
    }
   ],
   "source": [
    "catCols,numCols,targetCol = SplitVariables(df,\"default\")"
   ]
  },
  {
   "cell_type": "code",
   "execution_count": 87,
   "id": "6c522bd6-ef3e-4f5f-9dc8-eca51d5ed9c3",
   "metadata": {
    "colab": {
     "base_uri": "https://localhost:8080/"
    },
    "executionInfo": {
     "elapsed": 9,
     "status": "ok",
     "timestamp": 1681123437567,
     "user": {
      "displayName": "Adnan sevinç",
      "userId": "10606629957436102111"
     },
     "user_tz": -120
    },
    "id": "6c522bd6-ef3e-4f5f-9dc8-eca51d5ed9c3",
    "outputId": "bee81d3c-a192-4ac9-c144-e4e954977443"
   },
   "outputs": [
    {
     "name": "stdout",
     "output_type": "stream",
     "text": [
      "FirstTimeHomebuyerFlag                                               [Y, N]\n",
      "NumberofUnits                                                  [1, 2, 4, 3]\n",
      "OccupancyStatus                                                   [P, I, S]\n",
      "Channel                                                              [T, R]\n",
      "PropertyState             [PA, CA, NC, WA, OH, KY, FL, NV, TN, AZ, ID, N...\n",
      "PropertyType                                           [SF, MH, PU, CO, CP]\n",
      "LoanPurpose                                                       [P, C, N]\n",
      "dtype: object\n",
      "\n",
      "FirstTimeHomebuyerFlag     2\n",
      "NumberofUnits              4\n",
      "OccupancyStatus            3\n",
      "Channel                    2\n",
      "PropertyState             54\n",
      "PropertyType               5\n",
      "LoanPurpose                3\n",
      "dtype: int64\n",
      "Variables to be get dummied :  5\n",
      "Variables to be Label Encoded :  2\n",
      "After Encoding It will be 81 variables\n"
     ]
    }
   ],
   "source": [
    "print(df[catCols].apply(lambda col: col.unique()))\n",
    "print()\n",
    "print(df[catCols].apply(lambda col: col.nunique()))\n",
    "\n",
    "unique_counts = []\n",
    "for col in df[catCols]:\n",
    "    unique_counts.append(df[col].nunique())\n",
    "\n",
    "\n",
    "print(f\"Variables to be get dummied :  {sum([1 if i>2 else 0 for i in unique_counts])}\")\n",
    "print(f\"Variables to be Label Encoded :  {sum([1 if i<=2 else 0 for i in unique_counts])}\")\n",
    "print(f\"After Encoding It will be {sum([i if i>2 else 0 for i in unique_counts]) + df.shape[1] - sum([1 if i>2 else 0 for i in unique_counts]) } variables\")\n"
   ]
  },
  {
   "cell_type": "code",
   "execution_count": 88,
   "id": "07a4eb19-2c14-4ae8-9ba1-e2624d22c7a4",
   "metadata": {
    "colab": {
     "base_uri": "https://localhost:8080/"
    },
    "executionInfo": {
     "elapsed": 435,
     "status": "ok",
     "timestamp": 1681123437997,
     "user": {
      "displayName": "Adnan sevinç",
      "userId": "10606629957436102111"
     },
     "user_tz": -120
    },
    "id": "07a4eb19-2c14-4ae8-9ba1-e2624d22c7a4",
    "outputId": "12e78693-6bd9-4013-b40d-716a675fcd6b"
   },
   "outputs": [
    {
     "name": "stdout",
     "output_type": "stream",
     "text": [
      "5 columns Get Dummied.\n",
      "\n",
      "['NumberofUnits', 'OccupancyStatus', 'PropertyState', 'PropertyType', 'LoanPurpose']\n",
      "\n",
      "2 columns Label Encoded.\n",
      "\n",
      "['FirstTimeHomebuyerFlag', 'Channel']\n",
      "\n",
      "There are 629544 rows ad 81 columns \n"
     ]
    }
   ],
   "source": [
    "getDum = []\n",
    "LabelEncode = []\n",
    "\n",
    "\n",
    "for col in df:\n",
    "    if df[col].dtype == 'object':\n",
    "        if len(list(df[col].unique())) > 2:\n",
    "            getDum.append(col)\n",
    "        else:\n",
    "            labelencoder.fit(df[col])\n",
    "            df[col] = labelencoder.transform(df[col]) #it will covert directly don't need to drop and concat\n",
    "            LabelEncode.append(col)\n",
    "\n",
    "print(f'{len(getDum)} columns Get Dummied.\\n')\n",
    "print(getDum)\n",
    "print(f'\\n{len(LabelEncode)} columns Label Encoded.\\n')\n",
    "print(LabelEncode)\n",
    "\n",
    "dummLev = pd.get_dummies(df[getDum])\n",
    "\n",
    "#drop categorical \n",
    "df = df.drop(getDum, axis=1)\n",
    "\n",
    "#New dataset\n",
    "#Concat getDum\n",
    "df= pd.concat([df,dummLev],axis=1)  #concat horizontially\n",
    "\n",
    "print(f\"\\nThere are {df.shape[0]} rows ad {df.shape[1]} columns \")"
   ]
  },
  {
   "cell_type": "markdown",
   "id": "e8b93dc5-51f0-4376-b934-9df0cddeb618",
   "metadata": {
    "id": "e8b93dc5-51f0-4376-b934-9df0cddeb618"
   },
   "source": [
    "## Split dataset into X and Y"
   ]
  },
  {
   "cell_type": "code",
   "execution_count": 89,
   "id": "091b4420-a9c2-4198-99e3-840107a4342e",
   "metadata": {
    "executionInfo": {
     "elapsed": 24,
     "status": "ok",
     "timestamp": 1681123437998,
     "user": {
      "displayName": "Adnan sevinç",
      "userId": "10606629957436102111"
     },
     "user_tz": -120
    },
    "id": "091b4420-a9c2-4198-99e3-840107a4342e"
   },
   "outputs": [],
   "source": [
    "# Split Dataset into X and Y\n",
    "X = df.drop('default', axis=1)\n",
    "y = df['default']"
   ]
  },
  {
   "cell_type": "code",
   "execution_count": 90,
   "id": "edc1fa7b-9345-4090-99e7-76548ea43cf7",
   "metadata": {
    "colab": {
     "base_uri": "https://localhost:8080/"
    },
    "executionInfo": {
     "elapsed": 23,
     "status": "ok",
     "timestamp": 1681123437998,
     "user": {
      "displayName": "Adnan sevinç",
      "userId": "10606629957436102111"
     },
     "user_tz": -120
    },
    "id": "edc1fa7b-9345-4090-99e7-76548ea43cf7",
    "outputId": "a8aa4f45-8bdb-4bcf-af9f-bc6f24b4e3bc"
   },
   "outputs": [
    {
     "name": "stdout",
     "output_type": "stream",
     "text": [
      "(629544, 81)\n",
      "(629544, 80)\n",
      "(629544,)\n"
     ]
    }
   ],
   "source": [
    "print(df.shape)\n",
    "print(X.shape)\n",
    "print(y.shape)"
   ]
  },
  {
   "cell_type": "code",
   "execution_count": 91,
   "id": "50a2712e-889e-4e62-9a20-0302343fa0be",
   "metadata": {
    "colab": {
     "base_uri": "https://localhost:8080/"
    },
    "executionInfo": {
     "elapsed": 20,
     "status": "ok",
     "timestamp": 1681123437999,
     "user": {
      "displayName": "Adnan sevinç",
      "userId": "10606629957436102111"
     },
     "user_tz": -120
    },
    "id": "50a2712e-889e-4e62-9a20-0302343fa0be",
    "outputId": "8b33ed32-1c74-42a4-efa1-6b42d4675c9e"
   },
   "outputs": [
    {
     "data": {
      "text/plain": [
       "default\n",
       "0    591775\n",
       "1     37769\n",
       "Name: count, dtype: int64"
      ]
     },
     "execution_count": 91,
     "metadata": {},
     "output_type": "execute_result"
    }
   ],
   "source": [
    "#The count of defaults.\n",
    "y.value_counts()"
   ]
  },
  {
   "cell_type": "code",
   "execution_count": 92,
   "id": "b1dd6f46-e637-4fe7-a1e8-762a94236967",
   "metadata": {
    "colab": {
     "base_uri": "https://localhost:8080/"
    },
    "executionInfo": {
     "elapsed": 16,
     "status": "ok",
     "timestamp": 1681123437999,
     "user": {
      "displayName": "Adnan sevinç",
      "userId": "10606629957436102111"
     },
     "user_tz": -120
    },
    "id": "b1dd6f46-e637-4fe7-a1e8-762a94236967",
    "outputId": "6a303165-bf41-402d-fe66-f0fa123f6989"
   },
   "outputs": [
    {
     "data": {
      "text/plain": [
       "default\n",
       "0    0.940006\n",
       "1    0.059994\n",
       "Name: proportion, dtype: float64"
      ]
     },
     "execution_count": 92,
     "metadata": {},
     "output_type": "execute_result"
    }
   ],
   "source": [
    "#The percentages of defaults.\n",
    "y.value_counts(normalize = True)"
   ]
  },
  {
   "cell_type": "code",
   "execution_count": 93,
   "id": "29001112-09a5-4e9c-a46e-f932349aa528",
   "metadata": {
    "colab": {
     "base_uri": "https://localhost:8080/",
     "height": 112
    },
    "executionInfo": {
     "elapsed": 8,
     "status": "ok",
     "timestamp": 1681123438000,
     "user": {
      "displayName": "Adnan sevinç",
      "userId": "10606629957436102111"
     },
     "user_tz": -120
    },
    "id": "29001112-09a5-4e9c-a46e-f932349aa528",
    "outputId": "c636c321-34b9-4d0b-c216-4afbc21b4b80"
   },
   "outputs": [
    {
     "data": {
      "text/html": [
       "<div>\n",
       "<style scoped>\n",
       "    .dataframe tbody tr th:only-of-type {\n",
       "        vertical-align: middle;\n",
       "    }\n",
       "\n",
       "    .dataframe tbody tr th {\n",
       "        vertical-align: top;\n",
       "    }\n",
       "\n",
       "    .dataframe thead th {\n",
       "        text-align: right;\n",
       "    }\n",
       "</style>\n",
       "<table border=\"1\" class=\"dataframe\">\n",
       "  <thead>\n",
       "    <tr style=\"text-align: right;\">\n",
       "      <th></th>\n",
       "      <th>default</th>\n",
       "      <th>count</th>\n",
       "      <th>percent</th>\n",
       "      <th>cumulative_count</th>\n",
       "      <th>cumulative_percent</th>\n",
       "    </tr>\n",
       "  </thead>\n",
       "  <tbody>\n",
       "    <tr>\n",
       "      <th>0</th>\n",
       "      <td>0</td>\n",
       "      <td>591775</td>\n",
       "      <td>94.000578</td>\n",
       "      <td>591775</td>\n",
       "      <td>94.000578</td>\n",
       "    </tr>\n",
       "    <tr>\n",
       "      <th>1</th>\n",
       "      <td>1</td>\n",
       "      <td>37769</td>\n",
       "      <td>5.999422</td>\n",
       "      <td>629544</td>\n",
       "      <td>100.000000</td>\n",
       "    </tr>\n",
       "  </tbody>\n",
       "</table>\n",
       "</div>"
      ],
      "text/plain": [
       "   default   count    percent  cumulative_count  cumulative_percent\n",
       "0        0  591775  94.000578            591775           94.000578\n",
       "1        1   37769   5.999422            629544          100.000000"
      ]
     },
     "execution_count": 93,
     "metadata": {},
     "output_type": "execute_result"
    }
   ],
   "source": [
    "df.stb.freq([\"default\"])"
   ]
  },
  {
   "cell_type": "code",
   "execution_count": 94,
   "id": "29065c9a-f782-475d-95a9-12f9e878b61d",
   "metadata": {
    "colab": {
     "base_uri": "https://localhost:8080/",
     "height": 428
    },
    "executionInfo": {
     "elapsed": 369,
     "status": "ok",
     "timestamp": 1681123438362,
     "user": {
      "displayName": "Adnan sevinç",
      "userId": "10606629957436102111"
     },
     "user_tz": -120
    },
    "id": "29065c9a-f782-475d-95a9-12f9e878b61d",
    "outputId": "ee699881-4279-47d3-c46f-5573d4362928"
   },
   "outputs": [
    {
     "data": {
      "image/png": "[encoded data removed]",
      "text/plain": [
       "<Figure size 640x480 with 1 Axes>"
      ]
     },
     "metadata": {},
     "output_type": "display_data"
    }
   ],
   "source": [
    "df.default.value_counts().plot.pie(autopct=\"%1.1f%%\")\n",
    "# add a title and axis labels\n",
    "plt.title(\"Default Status\")\n",
    "plt.ylabel(\"\")\n",
    "plt.show()"
   ]
  },
  {
   "cell_type": "markdown",
   "id": "5ba15697-2d0d-45c4-884b-c2e35fd40843",
   "metadata": {
    "id": "5ba15697-2d0d-45c4-884b-c2e35fd40843"
   },
   "source": [
    "## Split dataset into Train and Test"
   ]
  },
  {
   "cell_type": "markdown",
   "id": "a93e3163-36f8-4897-9363-45a0d42c3ed0",
   "metadata": {},
   "source": [
    "The dataset is divided into a training set and a test set with 70% and 30% ratios, respectively"
   ]
  },
  {
   "cell_type": "code",
   "execution_count": 95,
   "id": "5e7297f4-4d0f-4383-bbca-aad5bc5d1a14",
   "metadata": {
    "colab": {
     "base_uri": "https://localhost:8080/"
    },
    "executionInfo": {
     "elapsed": 1794,
     "status": "ok",
     "timestamp": 1681123440152,
     "user": {
      "displayName": "Adnan sevinç",
      "userId": "10606629957436102111"
     },
     "user_tz": -120
    },
    "id": "5e7297f4-4d0f-4383-bbca-aad5bc5d1a14",
    "outputId": "e7acd186-afb6-4ef7-b0ce-f12c6925dbbd"
   },
   "outputs": [
    {
     "name": "stdout",
     "output_type": "stream",
     "text": [
      "X_train shape: (440680, 80)\n",
      "y_train shape: (440680,)\n",
      "X_test shape: (188864, 80)\n",
      "y_test shape: (188864,)\n"
     ]
    }
   ],
   "source": [
    "# split the data into training and testing sets\n",
    "X_train, X_test, y_train, y_test = train_test_split(X, y, test_size=0.3, random_state=42,stratify = y,shuffle = True)\n",
    "\n",
    "# print the shapes of the training and testing sets\n",
    "print(\"X_train shape:\", X_train.shape)\n",
    "print(\"y_train shape:\", y_train.shape)\n",
    "print(\"X_test shape:\", X_test.shape)\n",
    "print(\"y_test shape:\", y_test.shape)"
   ]
  },
  {
   "cell_type": "code",
   "execution_count": 96,
   "id": "u3An5rx7m7NI",
   "metadata": {
    "colab": {
     "base_uri": "https://localhost:8080/"
    },
    "executionInfo": {
     "elapsed": 54,
     "status": "ok",
     "timestamp": 1681123440152,
     "user": {
      "displayName": "Adnan sevinç",
      "userId": "10606629957436102111"
     },
     "user_tz": -120
    },
    "id": "u3An5rx7m7NI",
    "outputId": "da3c862b-3d35-4405-90a8-06476fcf67bb"
   },
   "outputs": [
    {
     "data": {
      "text/plain": [
       "default\n",
       "0    414242\n",
       "1     26438\n",
       "Name: count, dtype: int64"
      ]
     },
     "execution_count": 96,
     "metadata": {},
     "output_type": "execute_result"
    }
   ],
   "source": [
    "y_train.value_counts()"
   ]
  },
  {
   "cell_type": "code",
   "execution_count": 97,
   "id": "QZYc-7WQpz9U",
   "metadata": {
    "colab": {
     "base_uri": "https://localhost:8080/"
    },
    "executionInfo": {
     "elapsed": 48,
     "status": "ok",
     "timestamp": 1681123440153,
     "user": {
      "displayName": "Adnan sevinç",
      "userId": "10606629957436102111"
     },
     "user_tz": -120
    },
    "id": "QZYc-7WQpz9U",
    "outputId": "5c1b56b4-7f6a-46e2-a24e-9368ff8453ad"
   },
   "outputs": [
    {
     "data": {
      "text/plain": [
       "default\n",
       "0    0.940006\n",
       "1    0.059994\n",
       "Name: proportion, dtype: float64"
      ]
     },
     "execution_count": 97,
     "metadata": {},
     "output_type": "execute_result"
    }
   ],
   "source": [
    "y_train.value_counts(normalize=True)"
   ]
  },
  {
   "cell_type": "code",
   "execution_count": 98,
   "id": "iMG3FwFzm_n3",
   "metadata": {
    "colab": {
     "base_uri": "https://localhost:8080/"
    },
    "executionInfo": {
     "elapsed": 44,
     "status": "ok",
     "timestamp": 1681123440153,
     "user": {
      "displayName": "Adnan sevinç",
      "userId": "10606629957436102111"
     },
     "user_tz": -120
    },
    "id": "iMG3FwFzm_n3",
    "outputId": "98c62f1e-32ca-40e8-edfa-60e133a2e129"
   },
   "outputs": [
    {
     "data": {
      "text/plain": [
       "default\n",
       "0    177533\n",
       "1     11331\n",
       "Name: count, dtype: int64"
      ]
     },
     "execution_count": 98,
     "metadata": {},
     "output_type": "execute_result"
    }
   ],
   "source": [
    "y_test.value_counts()"
   ]
  },
  {
   "cell_type": "code",
   "execution_count": 99,
   "id": "3CSvG_v-p8fU",
   "metadata": {
    "colab": {
     "base_uri": "https://localhost:8080/"
    },
    "executionInfo": {
     "elapsed": 41,
     "status": "ok",
     "timestamp": 1681123440153,
     "user": {
      "displayName": "Adnan sevinç",
      "userId": "10606629957436102111"
     },
     "user_tz": -120
    },
    "id": "3CSvG_v-p8fU",
    "outputId": "150518fb-5dce-4d81-e9e8-d17a45463455"
   },
   "outputs": [
    {
     "data": {
      "text/plain": [
       "default\n",
       "0    0.940004\n",
       "1    0.059996\n",
       "Name: proportion, dtype: float64"
      ]
     },
     "execution_count": 99,
     "metadata": {},
     "output_type": "execute_result"
    }
   ],
   "source": [
    "y_test.value_counts(normalize=True)"
   ]
  },
  {
   "cell_type": "markdown",
   "id": "8df125d0-4100-4be5-9da6-4d54d9b125cf",
   "metadata": {
    "id": "8df125d0-4100-4be5-9da6-4d54d9b125cf"
   },
   "source": [
    "## Undersampling"
   ]
  },
  {
   "cell_type": "markdown",
   "id": "e5498e5d-88fd-4813-83f8-df77479654e6",
   "metadata": {},
   "source": [
    "we performed undersampling technique in order to alleviate the impact of the imbalanced dataset problem."
   ]
  },
  {
   "cell_type": "code",
   "execution_count": 100,
   "id": "24c9cbac-7d96-4932-b3b7-4bd4568197d3",
   "metadata": {
    "executionInfo": {
     "elapsed": 38,
     "status": "ok",
     "timestamp": 1681123440154,
     "user": {
      "displayName": "Adnan sevinç",
      "userId": "10606629957436102111"
     },
     "user_tz": -120
    },
    "id": "24c9cbac-7d96-4932-b3b7-4bd4568197d3"
   },
   "outputs": [],
   "source": [
    "from imblearn.under_sampling import RandomUnderSampler\n",
    "rus = RandomUnderSampler(random_state=42)\n",
    "# Resample the dataset\n",
    "X_resampled, y_resampled = rus.fit_resample(X_train, y_train)"
   ]
  },
  {
   "cell_type": "code",
   "execution_count": 101,
   "id": "4cb16d7f-ac32-4114-b59d-4446afbab6d8",
   "metadata": {
    "colab": {
     "base_uri": "https://localhost:8080/",
     "height": 428
    },
    "executionInfo": {
     "elapsed": 39,
     "status": "ok",
     "timestamp": 1681123440155,
     "user": {
      "displayName": "Adnan sevinç",
      "userId": "10606629957436102111"
     },
     "user_tz": -120
    },
    "id": "4cb16d7f-ac32-4114-b59d-4446afbab6d8",
    "outputId": "a4b14770-827d-44c2-b0e3-837d65f06991"
   },
   "outputs": [
    {
     "data": {
      "image/png": "[encoded data removed]",
      "text/plain": [
       "<Figure size 640x480 with 1 Axes>"
      ]
     },
     "metadata": {},
     "output_type": "display_data"
    }
   ],
   "source": [
    "y_resampled.value_counts().plot.pie(autopct=\"%1.1f%%\")\n",
    "# add a title and axis labels\n",
    "plt.title(\"Default Status\")\n",
    "plt.ylabel(\"\")\n",
    "plt.show()"
   ]
  },
  {
   "cell_type": "code",
   "execution_count": 102,
   "id": "8f4e8194-48c4-45a1-9d90-9bb3d3e81434",
   "metadata": {
    "colab": {
     "base_uri": "https://localhost:8080/",
     "height": 428
    },
    "executionInfo": {
     "elapsed": 38,
     "status": "ok",
     "timestamp": 1681123440155,
     "user": {
      "displayName": "Adnan sevinç",
      "userId": "10606629957436102111"
     },
     "user_tz": -120
    },
    "id": "8f4e8194-48c4-45a1-9d90-9bb3d3e81434",
    "outputId": "5107bc89-8eae-4900-d78c-c541670f06af"
   },
   "outputs": [
    {
     "data": {
      "image/png": "[encoded data removed]",
      "text/plain": [
       "<Figure size 640x480 with 1 Axes>"
      ]
     },
     "metadata": {},
     "output_type": "display_data"
    }
   ],
   "source": [
    "y_test.value_counts().plot.pie(autopct=\"%1.1f%%\")\n",
    "# add a title and axis labels\n",
    "plt.title(\"Default Status\")\n",
    "plt.ylabel(\"\")\n",
    "plt.show()"
   ]
  },
  {
   "cell_type": "code",
   "execution_count": 103,
   "id": "a9a96dd3-d5a7-45a7-a058-659705d219e7",
   "metadata": {
    "executionInfo": {
     "elapsed": 38,
     "status": "ok",
     "timestamp": 1681123440156,
     "user": {
      "displayName": "Adnan sevinç",
      "userId": "10606629957436102111"
     },
     "user_tz": -120
    },
    "id": "a9a96dd3-d5a7-45a7-a058-659705d219e7"
   },
   "outputs": [],
   "source": [
    "#Assign Resamples to trains\n",
    "X_train = X_resampled.copy()\n",
    "y_train = y_resampled.copy()"
   ]
  },
  {
   "cell_type": "code",
   "execution_count": 104,
   "id": "5041c8aa-30af-4b9e-81aa-f40b185376e2",
   "metadata": {
    "colab": {
     "base_uri": "https://localhost:8080/",
     "height": 428
    },
    "executionInfo": {
     "elapsed": 38,
     "status": "ok",
     "timestamp": 1681123440156,
     "user": {
      "displayName": "Adnan sevinç",
      "userId": "10606629957436102111"
     },
     "user_tz": -120
    },
    "id": "5041c8aa-30af-4b9e-81aa-f40b185376e2",
    "outputId": "21d82674-09bf-4a8d-de39-064b9e634e6f"
   },
   "outputs": [
    {
     "data": {
      "image/png": "[encoded data removed]",
      "text/plain": [
       "<Figure size 640x480 with 1 Axes>"
      ]
     },
     "metadata": {},
     "output_type": "display_data"
    }
   ],
   "source": [
    "y_train.value_counts().plot.pie(autopct=\"%1.1f%%\")\n",
    "# add a title and axis labels\n",
    "plt.title(\"Default Status\")\n",
    "plt.ylabel(\"\")\n",
    "plt.show()"
   ]
  },
  {
   "cell_type": "code",
   "execution_count": 105,
   "id": "9dd1b25c-48bc-4fee-a418-c99994b790ce",
   "metadata": {
    "colab": {
     "base_uri": "https://localhost:8080/",
     "height": 428
    },
    "executionInfo": {
     "elapsed": 38,
     "status": "ok",
     "timestamp": 1681123440157,
     "user": {
      "displayName": "Adnan sevinç",
      "userId": "10606629957436102111"
     },
     "user_tz": -120
    },
    "id": "9dd1b25c-48bc-4fee-a418-c99994b790ce",
    "outputId": "537ae3d4-0231-4651-897e-728f03731882"
   },
   "outputs": [
    {
     "data": {
      "image/png": "[encoded data removed]",
      "text/plain": [
       "<Figure size 640x480 with 1 Axes>"
      ]
     },
     "metadata": {},
     "output_type": "display_data"
    }
   ],
   "source": [
    "y_test.value_counts().plot.pie(autopct=\"%1.1f%%\")\n",
    "# add a title and axis labels\n",
    "plt.title(\"Default Status\")\n",
    "plt.ylabel(\"\")\n",
    "plt.show()"
   ]
  },
  {
   "cell_type": "markdown",
   "id": "V2p31CvZqb60",
   "metadata": {
    "id": "V2p31CvZqb60"
   },
   "source": [
    "### After Undersampling data size"
   ]
  },
  {
   "cell_type": "code",
   "execution_count": 106,
   "id": "kBbytc25qMBa",
   "metadata": {
    "colab": {
     "base_uri": "https://localhost:8080/"
    },
    "executionInfo": {
     "elapsed": 37,
     "status": "ok",
     "timestamp": 1681123440157,
     "user": {
      "displayName": "Adnan sevinç",
      "userId": "10606629957436102111"
     },
     "user_tz": -120
    },
    "id": "kBbytc25qMBa",
    "outputId": "31f56df1-057e-4502-923d-7e300ef95760"
   },
   "outputs": [
    {
     "name": "stdout",
     "output_type": "stream",
     "text": [
      "X_train shape: (52876, 80)\n",
      "y_train shape: (52876,)\n",
      "X_test shape: (188864, 80)\n",
      "y_test shape: (188864,)\n"
     ]
    }
   ],
   "source": [
    "print(\"X_train shape:\", X_train.shape)\n",
    "print(\"y_train shape:\", y_train.shape)\n",
    "print(\"X_test shape:\", X_test.shape)\n",
    "print(\"y_test shape:\", y_test.shape)"
   ]
  },
  {
   "cell_type": "code",
   "execution_count": 107,
   "id": "MUfA0lpMqec-",
   "metadata": {
    "colab": {
     "base_uri": "https://localhost:8080/"
    },
    "executionInfo": {
     "elapsed": 32,
     "status": "ok",
     "timestamp": 1681123440158,
     "user": {
      "displayName": "Adnan sevinç",
      "userId": "10606629957436102111"
     },
     "user_tz": -120
    },
    "id": "MUfA0lpMqec-",
    "outputId": "413fc0fc-adb1-4346-b7a6-21e9ac6db183"
   },
   "outputs": [
    {
     "data": {
      "text/plain": [
       "default\n",
       "0    26438\n",
       "1    26438\n",
       "Name: count, dtype: int64"
      ]
     },
     "execution_count": 107,
     "metadata": {},
     "output_type": "execute_result"
    }
   ],
   "source": [
    "y_train.value_counts()"
   ]
  },
  {
   "cell_type": "code",
   "execution_count": 108,
   "id": "FqDeHRLQqeZg",
   "metadata": {
    "colab": {
     "base_uri": "https://localhost:8080/"
    },
    "executionInfo": {
     "elapsed": 29,
     "status": "ok",
     "timestamp": 1681123440159,
     "user": {
      "displayName": "Adnan sevinç",
      "userId": "10606629957436102111"
     },
     "user_tz": -120
    },
    "id": "FqDeHRLQqeZg",
    "outputId": "08245ee2-7c71-41d7-df2a-8a72293686d9"
   },
   "outputs": [
    {
     "data": {
      "text/plain": [
       "default\n",
       "0    0.5\n",
       "1    0.5\n",
       "Name: proportion, dtype: float64"
      ]
     },
     "execution_count": 108,
     "metadata": {},
     "output_type": "execute_result"
    }
   ],
   "source": [
    "y_train.value_counts(normalize=True)"
   ]
  },
  {
   "cell_type": "code",
   "execution_count": 109,
   "id": "B7IrO2aXqeQ8",
   "metadata": {
    "colab": {
     "base_uri": "https://localhost:8080/"
    },
    "executionInfo": {
     "elapsed": 26,
     "status": "ok",
     "timestamp": 1681123440159,
     "user": {
      "displayName": "Adnan sevinç",
      "userId": "10606629957436102111"
     },
     "user_tz": -120
    },
    "id": "B7IrO2aXqeQ8",
    "outputId": "50911e96-1738-47a0-ddd1-4c3ddbc9f65a"
   },
   "outputs": [
    {
     "data": {
      "text/plain": [
       "default\n",
       "0    177533\n",
       "1     11331\n",
       "Name: count, dtype: int64"
      ]
     },
     "execution_count": 109,
     "metadata": {},
     "output_type": "execute_result"
    }
   ],
   "source": [
    "y_test.value_counts()"
   ]
  },
  {
   "cell_type": "code",
   "execution_count": 110,
   "id": "toZ6Tew_q_yb",
   "metadata": {
    "colab": {
     "base_uri": "https://localhost:8080/"
    },
    "executionInfo": {
     "elapsed": 24,
     "status": "ok",
     "timestamp": 1681123440159,
     "user": {
      "displayName": "Adnan sevinç",
      "userId": "10606629957436102111"
     },
     "user_tz": -120
    },
    "id": "toZ6Tew_q_yb",
    "outputId": "f6170a1e-80c5-44ff-b638-739095969834"
   },
   "outputs": [
    {
     "data": {
      "text/plain": [
       "default\n",
       "0    0.940004\n",
       "1    0.059996\n",
       "Name: proportion, dtype: float64"
      ]
     },
     "execution_count": 110,
     "metadata": {},
     "output_type": "execute_result"
    }
   ],
   "source": [
    "y_test.value_counts(normalize=True)"
   ]
  },
  {
   "cell_type": "markdown",
   "id": "STnVLoKDVz2j",
   "metadata": {
    "id": "STnVLoKDVz2j"
   },
   "source": [
    "# Save dataset for Algorithms"
   ]
  },
  {
   "cell_type": "code",
   "execution_count": 111,
   "id": "aGla4jbGjSEX",
   "metadata": {
    "colab": {
     "base_uri": "https://localhost:8080/",
     "height": 35
    },
    "executionInfo": {
     "elapsed": 22,
     "status": "ok",
     "timestamp": 1681123440160,
     "user": {
      "displayName": "Adnan sevinç",
      "userId": "10606629957436102111"
     },
     "user_tz": -120
    },
    "id": "aGla4jbGjSEX",
    "outputId": "9ec28329-e4ff-48dc-b7c4-e71546d689b2"
   },
   "outputs": [
    {
     "data": {
      "text/plain": [
       "'/Users/Adnan_Sevinc/Library/CloudStorage/OneDrive-EPAM/adnan_sevinc_personal/GitHub/A-case-study-DS/dataset'"
      ]
     },
     "execution_count": 111,
     "metadata": {},
     "output_type": "execute_result"
    }
   ],
   "source": [
    "path"
   ]
  },
  {
   "cell_type": "code",
   "execution_count": 112,
   "id": "UHh0IELJjSeJ",
   "metadata": {
    "executionInfo": {
     "elapsed": 345,
     "status": "ok",
     "timestamp": 1681123440484,
     "user": {
      "displayName": "Adnan sevinç",
      "userId": "10606629957436102111"
     },
     "user_tz": -120
    },
    "id": "UHh0IELJjSeJ"
   },
   "outputs": [],
   "source": [
    "with open(os.path.join(path,'X_train.csv'), 'w', encoding = 'utf-8-sig') as f:\n",
    "  X_train.to_csv(f,index=False)"
   ]
  },
  {
   "cell_type": "code",
   "execution_count": 113,
   "id": "RnfZkIxZaALF",
   "metadata": {
    "executionInfo": {
     "elapsed": 3,
     "status": "ok",
     "timestamp": 1681123440484,
     "user": {
      "displayName": "Adnan sevinç",
      "userId": "10606629957436102111"
     },
     "user_tz": -120
    },
    "id": "RnfZkIxZaALF"
   },
   "outputs": [],
   "source": [
    "with open(os.path.join(path,'y_train.csv'), 'w', encoding = 'utf-8-sig') as f:\n",
    "  y_train.to_csv(f,index=False)"
   ]
  },
  {
   "cell_type": "code",
   "execution_count": 114,
   "id": "Nmws74BDlbT2",
   "metadata": {
    "executionInfo": {
     "elapsed": 2953,
     "status": "ok",
     "timestamp": 1681123443434,
     "user": {
      "displayName": "Adnan sevinç",
      "userId": "10606629957436102111"
     },
     "user_tz": -120
    },
    "id": "Nmws74BDlbT2"
   },
   "outputs": [],
   "source": [
    "with open(os.path.join(path,'X_test.csv'), 'w', encoding = 'utf-8-sig') as f:\n",
    "  X_test.to_csv(f,index=False)"
   ]
  },
  {
   "cell_type": "code",
   "execution_count": 115,
   "id": "TgLCxMB-aPES",
   "metadata": {
    "executionInfo": {
     "elapsed": 1411,
     "status": "ok",
     "timestamp": 1681123444843,
     "user": {
      "displayName": "Adnan sevinç",
      "userId": "10606629957436102111"
     },
     "user_tz": -120
    },
    "id": "TgLCxMB-aPES"
   },
   "outputs": [],
   "source": [
    "with open(os.path.join(path,'y_test.csv'), 'w', encoding = 'utf-8-sig') as f:\n",
    "  y_test.to_csv(f,index=False)"
   ]
  }
 ],
 "metadata": {
  "colab": {
   "provenance": []
  },
  "domo": {
   "notebook_id": "9f780aaa-5d7b-4241-8247-c4f7ddca6ecc"
  },
  "kernelspec": {
   "display_name": "Python 3 (ipykernel)",
   "language": "python",
   "name": "python3"
  },
  "language_info": {
   "codemirror_mode": {
    "name": "ipython",
    "version": 3
   },
   "file_extension": ".py",
   "mimetype": "text/x-python",
   "name": "python",
   "nbconvert_exporter": "python",
   "pygments_lexer": "ipython3",
   "version": "3.11.7"
  }
 },
 "nbformat": 4,
 "nbformat_minor": 5
}
