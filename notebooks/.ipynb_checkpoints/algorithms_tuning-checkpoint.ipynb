{
 "cells": [
  {
   "cell_type": "markdown",
   "id": "1dac36e8-5c2a-4a5d-b04a-652da5320d1f",
   "metadata": {
    "id": "1dac36e8-5c2a-4a5d-b04a-652da5320d1f",
    "papermill": {
     "duration": 0.040734,
     "end_time": "2023-03-19T01:44:47.122636",
     "exception": false,
     "start_time": "2023-03-19T01:44:47.081902",
     "status": "completed"
    },
    "tags": []
   },
   "source": [
    "# Import Libraries"
   ]
  },
  {
   "cell_type": "code",
   "execution_count": 1,
   "id": "wRmdi0Q5Tyeg",
   "metadata": {
    "colab": {
     "base_uri": "https://localhost:8080/"
    },
    "executionInfo": {
     "elapsed": 11095,
     "status": "ok",
     "timestamp": 1682065133075,
     "user": {
      "displayName": "Adnan sevinç",
      "userId": "10606629957436102111"
     },
     "user_tz": -120
    },
    "id": "wRmdi0Q5Tyeg",
    "outputId": "f4565e22-46a1-4572-83ed-e0c20e2b8139"
   },
   "outputs": [
    {
     "name": "stdout",
     "output_type": "stream",
     "text": [
      "\u001b[33mDEPRECATION: Loading egg at /opt/anaconda3/lib/python3.11/site-packages/src-0.1.0-py3.11.egg is deprecated. pip 24.3 will enforce this behaviour change. A possible replacement is to use pip for package installation.. Discussion can be found at https://github.com/pypa/pip/issues/12330\u001b[0m\u001b[33m\n",
      "\u001b[0mRequirement already satisfied: prettytable in /opt/anaconda3/lib/python3.11/site-packages (3.10.0)\n",
      "Requirement already satisfied: wcwidth in /opt/anaconda3/lib/python3.11/site-packages (from prettytable) (0.2.5)\n"
     ]
    }
   ],
   "source": [
    "!pip install prettytable"
   ]
  },
  {
   "cell_type": "code",
   "execution_count": 2,
   "id": "f2024bd1-03db-4495-990b-2a2644c6edf4",
   "metadata": {
    "executionInfo": {
     "elapsed": 1931,
     "status": "ok",
     "timestamp": 1682065144403,
     "user": {
      "displayName": "Adnan sevinç",
      "userId": "10606629957436102111"
     },
     "user_tz": -120
    },
    "id": "f2024bd1-03db-4495-990b-2a2644c6edf4",
    "papermill": {
     "duration": 3.882948,
     "end_time": "2023-03-19T01:44:51.149571",
     "exception": false,
     "start_time": "2023-03-19T01:44:47.266623",
     "status": "completed"
    },
    "tags": []
   },
   "outputs": [],
   "source": [
    "# Basic Libraries\n",
    "import pandas as pd\n",
    "import numpy as np\n",
    "import json\n",
    "import time\n",
    "import os\n",
    "import math\n",
    "from datetime import datetime\n",
    "\n",
    "import sidetable \n",
    "from prettytable import PrettyTable\n",
    "\n",
    "# Vizualizations\n",
    "import matplotlib.pyplot as plt\n",
    "import seaborn as sns \n",
    "\n",
    "# Models\n",
    "from sklearn.linear_model import LogisticRegression\n",
    "from sklearn.tree import DecisionTreeClassifier\n",
    "from sklearn.ensemble import RandomForestClassifier\n",
    "from xgboost import XGBClassifier\n",
    "\n",
    "#XGBOOST\n",
    "import xgboost\n",
    "\n",
    "# Sklearn library\n",
    "from sklearn.model_selection import GridSearchCV\n",
    "from sklearn.metrics import accuracy_score\n",
    "from sklearn.model_selection import train_test_split\n",
    "from sklearn.preprocessing import StandardScaler\n",
    "from sklearn.metrics import roc_auc_score\n",
    "from sklearn.metrics import classification_report\n",
    "from sklearn.metrics import confusion_matrix\n",
    "from sklearn.metrics import ConfusionMatrixDisplay\n",
    "\n",
    "# Hint\n",
    "from typing import List\n",
    "\n",
    "import warnings\n",
    "warnings.filterwarnings('ignore')\n",
    "warnings.filterwarnings('ignore', category=FutureWarning)"
   ]
  },
  {
   "cell_type": "markdown",
   "id": "98799431-f57a-4f32-bdef-ee4cf5fb6479",
   "metadata": {},
   "source": [
    "# Helper Functions"
   ]
  },
  {
   "cell_type": "code",
   "execution_count": 3,
   "id": "c4d1d63b-b915-499f-860e-d9ad7e799a70",
   "metadata": {},
   "outputs": [],
   "source": [
    "def auc_gini_score(model, y_data, x_data):\n",
    "    \"\"\" This function calculates \n",
    "    AUC and Gini score of the model\n",
    "    \"\"\"\n",
    "    auc = roc_auc_score(y_data, model.predict(x_data))\n",
    "    gini = 2 * auc - 1\n",
    "\n",
    "    return auc, gini"
   ]
  },
  {
   "cell_type": "markdown",
   "id": "36c3e3bb-dd98-46be-914b-4924bd5cc20a",
   "metadata": {
    "id": "36c3e3bb-dd98-46be-914b-4924bd5cc20a",
    "papermill": {
     "duration": 0.05606,
     "end_time": "2023-03-19T01:44:51.590778",
     "exception": false,
     "start_time": "2023-03-19T01:44:51.534718",
     "status": "completed"
    },
    "tags": []
   },
   "source": [
    "# Load Dataset"
   ]
  },
  {
   "cell_type": "code",
   "execution_count": 4,
   "id": "c045257f-affb-4ee0-8a5f-ad5480bcce9d",
   "metadata": {},
   "outputs": [],
   "source": [
    "path = '/Users/Adnan_Sevinc/Library/CloudStorage/OneDrive-EPAM/adnan_sevinc_personal/GitHub/mortgage_loan_defaults_with_machine_learning_methods/data'"
   ]
  },
  {
   "cell_type": "code",
   "execution_count": 5,
   "id": "DTvhyXvvT6iL",
   "metadata": {
    "id": "DTvhyXvvT6iL"
   },
   "outputs": [],
   "source": [
    "X_train = pd.read_csv(os.path.join(path, 'X_train.csv'))"
   ]
  },
  {
   "cell_type": "code",
   "execution_count": 6,
   "id": "4SHSWgfST6ff",
   "metadata": {
    "id": "4SHSWgfST6ff"
   },
   "outputs": [],
   "source": [
    "y_train = pd.read_csv(os.path.join(path, 'y_train.csv'))"
   ]
  },
  {
   "cell_type": "code",
   "execution_count": 7,
   "id": "yRaoVVu7T6aq",
   "metadata": {
    "id": "yRaoVVu7T6aq"
   },
   "outputs": [],
   "source": [
    "X_test = pd.read_csv(os.path.join(path, 'X_test.csv'))"
   ]
  },
  {
   "cell_type": "code",
   "execution_count": 8,
   "id": "5eDNx3DVT6YM",
   "metadata": {
    "id": "5eDNx3DVT6YM"
   },
   "outputs": [],
   "source": [
    "y_test = pd.read_csv(os.path.join(path, 'y_test.csv'))"
   ]
  },
  {
   "cell_type": "code",
   "execution_count": 9,
   "id": "iUvnU7R6T6VI",
   "metadata": {
    "id": "iUvnU7R6T6VI"
   },
   "outputs": [
    {
     "name": "stdout",
     "output_type": "stream",
     "text": [
      "+---------+--------+-----+\n",
      "|   data  | Column | Row |\n",
      "+---------+--------+-----+\n",
      "| X_train | 52876  |  80 |\n",
      "| y_train | 52876  |  1  |\n",
      "|  X_test | 188864 |  80 |\n",
      "|  y_test | 188864 |  1  |\n",
      "+---------+--------+-----+\n"
     ]
    }
   ],
   "source": [
    "data_size = PrettyTable()\n",
    "data_size.field_names = [\"data\", \"Column\", \"Row\"]\n",
    "\n",
    "data_size.add_rows(\n",
    "    [\n",
    "        [\"X_train\", X_train.shape[0], X_train.shape[1]],\n",
    "        [\"y_train\", y_train.shape[0], y_train.shape[1]],\n",
    "        [\"X_test\", X_test.shape[0], X_test.shape[1]],\n",
    "        [\"y_test\", y_test.shape[0], y_test.shape[1]]\n",
    "    ]\n",
    ")\n",
    "\n",
    "print(data_size)"
   ]
  },
  {
   "cell_type": "code",
   "execution_count": 10,
   "id": "21a440ee-bd16-4f8a-ab6e-da09507aac96",
   "metadata": {},
   "outputs": [
    {
     "data": {
      "text/plain": [
       "default\n",
       "0          0.5\n",
       "1          0.5\n",
       "Name: proportion, dtype: float64"
      ]
     },
     "execution_count": 10,
     "metadata": {},
     "output_type": "execute_result"
    }
   ],
   "source": [
    "# Explore default rate for y_train\n",
    "y_train.value_counts(normalize=True)"
   ]
  },
  {
   "cell_type": "code",
   "execution_count": 11,
   "id": "6b55ed0a-e3c0-42dc-9025-8a5bf7962ba2",
   "metadata": {},
   "outputs": [
    {
     "data": {
      "text/plain": [
       "default\n",
       "0          0.940004\n",
       "1          0.059996\n",
       "Name: proportion, dtype: float64"
      ]
     },
     "execution_count": 11,
     "metadata": {},
     "output_type": "execute_result"
    }
   ],
   "source": [
    "# Explore default rate for y_test\n",
    "y_test.value_counts(normalize=True)"
   ]
  },
  {
   "cell_type": "markdown",
   "id": "2CY5rWbnUP38",
   "metadata": {
    "id": "2CY5rWbnUP38"
   },
   "source": [
    "# Standart Scaler"
   ]
  },
  {
   "cell_type": "markdown",
   "id": "386cf6ab-3e8b-421f-a9e1-d95d05fe20c8",
   "metadata": {
    "id": "MJlflV6iURlM"
   },
   "source": [
    "Scale Independent variables"
   ]
  },
  {
   "cell_type": "code",
   "execution_count": 12,
   "id": "IIOuLaJfUUGR",
   "metadata": {
    "id": "IIOuLaJfUUGR"
   },
   "outputs": [],
   "source": [
    "scaler = StandardScaler()"
   ]
  },
  {
   "cell_type": "code",
   "execution_count": 13,
   "id": "I3xFw1rhUUAt",
   "metadata": {
    "id": "I3xFw1rhUUAt"
   },
   "outputs": [],
   "source": [
    "X_train_scaled = scaler.fit_transform(X_train)"
   ]
  },
  {
   "cell_type": "code",
   "execution_count": 14,
   "id": "qtb--RiaUT9p",
   "metadata": {
    "id": "qtb--RiaUT9p"
   },
   "outputs": [],
   "source": [
    "X_test_scaled = scaler.transform(X_test)"
   ]
  },
  {
   "cell_type": "markdown",
   "id": "998d45af-cece-4341-8688-cf5e9d113f44",
   "metadata": {},
   "source": [
    "Assign scaled variables to X_train and X_test"
   ]
  },
  {
   "cell_type": "code",
   "execution_count": 15,
   "id": "iq6Sf8AIUT4q",
   "metadata": {
    "id": "iq6Sf8AIUT4q"
   },
   "outputs": [],
   "source": [
    "X_train = X_train_scaled.copy()"
   ]
  },
  {
   "cell_type": "code",
   "execution_count": 16,
   "id": "Aay1vOLfURdv",
   "metadata": {
    "id": "Aay1vOLfURdv"
   },
   "outputs": [],
   "source": [
    "X_test = X_test_scaled.copy()"
   ]
  },
  {
   "cell_type": "markdown",
   "id": "ARH1Y6OeBx6i",
   "metadata": {
    "id": "ARH1Y6OeBx6i"
   },
   "source": [
    "# To a 1-D array"
   ]
  },
  {
   "cell_type": "markdown",
   "id": "4558e62f-328e-490c-b8ef-5cb603a3cfab",
   "metadata": {},
   "source": [
    "Assign scaled variables to X_train and X_test"
   ]
  },
  {
   "cell_type": "code",
   "execution_count": 17,
   "id": "KnrPogO6BxwG",
   "metadata": {
    "id": "KnrPogO6BxwG"
   },
   "outputs": [],
   "source": [
    "y_train = y_train.values.ravel()"
   ]
  },
  {
   "cell_type": "code",
   "execution_count": 18,
   "id": "gKiTjG-iBxnG",
   "metadata": {
    "id": "gKiTjG-iBxnG"
   },
   "outputs": [],
   "source": [
    "y_test = y_test.values.ravel()"
   ]
  },
  {
   "cell_type": "markdown",
   "id": "366a1fcd-de4c-4203-9c61-cb21e6a4e70b",
   "metadata": {
    "id": "366a1fcd-de4c-4203-9c61-cb21e6a4e70b",
    "papermill": {
     "duration": 0.059679,
     "end_time": "2023-03-19T01:46:14.029884",
     "exception": false,
     "start_time": "2023-03-19T01:46:13.970205",
     "status": "completed"
    },
    "tags": []
   },
   "source": [
    "# Modeling"
   ]
  },
  {
   "cell_type": "markdown",
   "id": "1LaqbpEBe8Kb",
   "metadata": {
    "id": "1LaqbpEBe8Kb"
   },
   "source": [
    "## Logistic Regression"
   ]
  },
  {
   "cell_type": "markdown",
   "id": "3e1e9387-d76f-41f8-8e12-1618e24edd83",
   "metadata": {},
   "source": [
    "Build and fit Logistic Regression model"
   ]
  },
  {
   "cell_type": "code",
   "execution_count": 19,
   "id": "98ad2ddb-fc4a-483f-a968-f19b49173cce",
   "metadata": {},
   "outputs": [
    {
     "data": {
      "text/plain": [
       "\" Restriction of combinations\\n    1. with penalty 'None' , C cannot be applied except default value\\n    2. with penalty 'l1' just 'saga' and  'liblinar' solver can be applied \\n we don't use 'liblinar'solver here\\n\\n\""
      ]
     },
     "execution_count": 19,
     "metadata": {},
     "output_type": "execute_result"
    }
   ],
   "source": [
    "\"\"\" Restriction of combinations\n",
    "    1. with penalty 'None' , C cannot be applied except default value\n",
    "    2. with penalty 'l1' just 'saga' and  'liblinar' solver can be applied \n",
    " we don't use 'liblinar'solver here\n",
    "\n",
    "\"\"\""
   ]
  },
  {
   "cell_type": "code",
   "execution_count": 20,
   "id": "kG8yZ2JCe_7i",
   "metadata": {
    "colab": {
     "base_uri": "https://localhost:8080/",
     "height": 1000
    },
    "executionInfo": {
     "elapsed": 79256,
     "status": "ok",
     "timestamp": 1681197082202,
     "user": {
      "displayName": "Adnan sevinç",
      "userId": "10606629957436102111"
     },
     "user_tz": -120
    },
    "id": "kG8yZ2JCe_7i",
    "outputId": "64b052da-76be-476a-94e3-9c9da9d03bc3"
   },
   "outputs": [
    {
     "name": "stdout",
     "output_type": "stream",
     "text": [
      "Fitting 3 folds for each of 4 candidates, totalling 12 fits\n"
     ]
    },
    {
     "name": "stderr",
     "output_type": "stream",
     "text": [
      "/opt/anaconda3/lib/python3.11/site-packages/sklearn/linear_model/_logistic.py:1173: FutureWarning: `penalty='none'`has been deprecated in 1.2 and will be removed in 1.4. To keep the past behaviour, set `penalty=None`.\n",
      "  warnings.warn(\n",
      "/opt/anaconda3/lib/python3.11/site-packages/sklearn/linear_model/_logistic.py:1173: FutureWarning: `penalty='none'`has been deprecated in 1.2 and will be removed in 1.4. To keep the past behaviour, set `penalty=None`.\n",
      "  warnings.warn(\n",
      "/opt/anaconda3/lib/python3.11/site-packages/sklearn/linear_model/_logistic.py:1173: FutureWarning: `penalty='none'`has been deprecated in 1.2 and will be removed in 1.4. To keep the past behaviour, set `penalty=None`.\n",
      "  warnings.warn(\n",
      "/opt/anaconda3/lib/python3.11/site-packages/sklearn/linear_model/_logistic.py:1173: FutureWarning: `penalty='none'`has been deprecated in 1.2 and will be removed in 1.4. To keep the past behaviour, set `penalty=None`.\n",
      "  warnings.warn(\n",
      "/opt/anaconda3/lib/python3.11/site-packages/sklearn/linear_model/_logistic.py:1173: FutureWarning: `penalty='none'`has been deprecated in 1.2 and will be removed in 1.4. To keep the past behaviour, set `penalty=None`.\n",
      "  warnings.warn(\n",
      "/opt/anaconda3/lib/python3.11/site-packages/sklearn/linear_model/_logistic.py:1173: FutureWarning: `penalty='none'`has been deprecated in 1.2 and will be removed in 1.4. To keep the past behaviour, set `penalty=None`.\n",
      "  warnings.warn(\n",
      "/opt/anaconda3/lib/python3.11/site-packages/sklearn/linear_model/_logistic.py:1173: FutureWarning: `penalty='none'`has been deprecated in 1.2 and will be removed in 1.4. To keep the past behaviour, set `penalty=None`.\n",
      "  warnings.warn(\n",
      "/opt/anaconda3/lib/python3.11/site-packages/sklearn/linear_model/_logistic.py:1173: FutureWarning: `penalty='none'`has been deprecated in 1.2 and will be removed in 1.4. To keep the past behaviour, set `penalty=None`.\n",
      "  warnings.warn(\n",
      "/opt/anaconda3/lib/python3.11/site-packages/sklearn/linear_model/_logistic.py:1173: FutureWarning: `penalty='none'`has been deprecated in 1.2 and will be removed in 1.4. To keep the past behaviour, set `penalty=None`.\n",
      "  warnings.warn(\n",
      "/opt/anaconda3/lib/python3.11/site-packages/sklearn/linear_model/_logistic.py:1173: FutureWarning: `penalty='none'`has been deprecated in 1.2 and will be removed in 1.4. To keep the past behaviour, set `penalty=None`.\n",
      "  warnings.warn(\n"
     ]
    },
    {
     "name": "stdout",
     "output_type": "stream",
     "text": [
      "[CV] END ..................C=1.0, penalty=none, solver=lbfgs; total time=   0.1s\n",
      "[CV] END ..................C=1.0, penalty=none, solver=lbfgs; total time=   0.1s\n",
      "[CV] END ..................C=1.0, penalty=none, solver=lbfgs; total time=   0.1s\n"
     ]
    },
    {
     "name": "stderr",
     "output_type": "stream",
     "text": [
      "/opt/anaconda3/lib/python3.11/site-packages/sklearn/linear_model/_logistic.py:1173: FutureWarning: `penalty='none'`has been deprecated in 1.2 and will be removed in 1.4. To keep the past behaviour, set `penalty=None`.\n",
      "  warnings.warn(\n",
      "/opt/anaconda3/lib/python3.11/site-packages/sklearn/linear_model/_logistic.py:1173: FutureWarning: `penalty='none'`has been deprecated in 1.2 and will be removed in 1.4. To keep the past behaviour, set `penalty=None`.\n",
      "  warnings.warn(\n"
     ]
    },
    {
     "name": "stdout",
     "output_type": "stream",
     "text": [
      "[CV] END ..............C=1.0, penalty=none, solver=newton-cg; total time=   0.2s\n",
      "[CV] END ..............C=1.0, penalty=none, solver=newton-cg; total time=   0.2s\n",
      "[CV] END ..............C=1.0, penalty=none, solver=newton-cg; total time=   0.2s\n",
      "[CV] END ....................C=1.0, penalty=none, solver=sag; total time=   0.5s\n",
      "[CV] END ...................C=1.0, penalty=none, solver=saga; total time=   0.6s\n",
      "[CV] END ...................C=1.0, penalty=none, solver=saga; total time=   0.6s\n",
      "[CV] END ...................C=1.0, penalty=none, solver=saga; total time=   0.6s\n",
      "[CV] END ....................C=1.0, penalty=none, solver=sag; total time=   0.7s\n",
      "[CV] END ....................C=1.0, penalty=none, solver=sag; total time=   0.8s\n",
      "############## Output: 0 #################\n",
      "\n",
      "Param grid:\n",
      "{'C': [1.0], 'penalty': ['none'], 'solver': ['lbfgs', 'saga', 'sag', 'newton-cg']}\n",
      "\n",
      "Best params:\n",
      "{'C': 1.0, 'penalty': 'none', 'solver': 'sag'}\n",
      "\n",
      "Best estimators:\n",
      "LogisticRegression(penalty='none', random_state=42, solver='sag')\n",
      "\n",
      "Best Score:\n",
      "0.8382313298986716\n",
      "\n",
      "AUCROC Train: 0.7600612754368713\n",
      "AUCROC Test: 0.7590066055719134\n",
      "Gini Train: 0.5201225508737426\n",
      "Gini Test: 0.5180132111438267\n",
      "\n",
      "Classification report:\n",
      "\n",
      "              precision    recall  f1-score   support\n",
      "\n",
      "           0       0.98      0.75      0.85    177533\n",
      "           1       0.16      0.77      0.27     11331\n",
      "\n",
      "    accuracy                           0.75    188864\n",
      "   macro avg       0.57      0.76      0.56    188864\n",
      "weighted avg       0.93      0.75      0.81    188864\n",
      "\n",
      "\n",
      "Confusion matrix:\n",
      "\n",
      "[[132889  44644]\n",
      " [  2612   8719]]\n",
      "Display confusion matrix:\n",
      "\n"
     ]
    },
    {
     "data": {
      "image/png": "[encoded data removed]",
      "text/plain": [
       "<Figure size 640x480 with 2 Axes>"
      ]
     },
     "metadata": {},
     "output_type": "display_data"
    },
    {
     "name": "stdout",
     "output_type": "stream",
     "text": [
      "Fitting 3 folds for each of 5 candidates, totalling 15 fits\n",
      "[CV] END ....................C=0.01, penalty=l1, solver=saga; total time=   0.5s\n",
      "[CV] END ....................C=0.01, penalty=l1, solver=saga; total time=   0.6s\n",
      "[CV] END ....................C=0.01, penalty=l1, solver=saga; total time=   0.7s\n",
      "[CV] END ......................C=10, penalty=l1, solver=saga; total time=   0.7s\n",
      "[CV] END ......................C=10, penalty=l1, solver=saga; total time=   0.7s\n",
      "[CV] END ......................C=10, penalty=l1, solver=saga; total time=   0.7s\n",
      "[CV] END ......................C=50, penalty=l1, solver=saga; total time=   0.7s\n",
      "[CV] END .....................C=0.1, penalty=l1, solver=saga; total time=   2.5s\n",
      "[CV] END .....................C=0.1, penalty=l1, solver=saga; total time=   2.6s\n"
     ]
    },
    {
     "name": "stderr",
     "output_type": "stream",
     "text": [
      "/opt/anaconda3/lib/python3.11/site-packages/sklearn/linear_model/_sag.py:350: ConvergenceWarning: The max_iter was reached which means the coef_ did not converge\n",
      "  warnings.warn(\n"
     ]
    },
    {
     "name": "stdout",
     "output_type": "stream",
     "text": [
      "[CV] END ......................C=50, penalty=l1, solver=saga; total time=   0.7s\n",
      "[CV] END ......................C=50, penalty=l1, solver=saga; total time=   0.6s\n"
     ]
    },
    {
     "name": "stderr",
     "output_type": "stream",
     "text": [
      "/opt/anaconda3/lib/python3.11/site-packages/sklearn/linear_model/_sag.py:350: ConvergenceWarning: The max_iter was reached which means the coef_ did not converge\n",
      "  warnings.warn(\n",
      "/opt/anaconda3/lib/python3.11/site-packages/sklearn/linear_model/_sag.py:350: ConvergenceWarning: The max_iter was reached which means the coef_ did not converge\n",
      "  warnings.warn(\n",
      "/opt/anaconda3/lib/python3.11/site-packages/sklearn/linear_model/_sag.py:350: ConvergenceWarning: The max_iter was reached which means the coef_ did not converge\n",
      "  warnings.warn(\n",
      "/opt/anaconda3/lib/python3.11/site-packages/sklearn/linear_model/_sag.py:350: ConvergenceWarning: The max_iter was reached which means the coef_ did not converge\n",
      "  warnings.warn(\n"
     ]
    },
    {
     "name": "stdout",
     "output_type": "stream",
     "text": [
      "[CV] END .....................C=0.1, penalty=l1, solver=saga; total time=   3.1s\n",
      "[CV] END .......................C=1, penalty=l1, solver=saga; total time=   3.0s\n",
      "[CV] END .......................C=1, penalty=l1, solver=saga; total time=   3.0s\n",
      "[CV] END .......................C=1, penalty=l1, solver=saga; total time=   2.6s\n",
      "############## Output: 1 #################\n",
      "\n",
      "Param grid:\n",
      "{'C': [0.01, 0.1, 1, 10, 50], 'penalty': ['l1'], 'solver': ['saga']}\n",
      "\n",
      "Best params:\n",
      "{'C': 0.1, 'penalty': 'l1', 'solver': 'saga'}\n",
      "\n",
      "Best estimators:\n",
      "LogisticRegression(C=0.1, penalty='l1', random_state=42, solver='saga')\n",
      "\n",
      "Best Score:\n",
      "0.8383105996572758\n",
      "\n",
      "AUCROC Train: 0.7597586806868901\n",
      "AUCROC Test: 0.7589624788399391\n",
      "Gini Train: 0.5195173613737802\n",
      "Gini Test: 0.5179249576798781\n",
      "\n",
      "Classification report:\n",
      "\n",
      "              precision    recall  f1-score   support\n",
      "\n",
      "           0       0.98      0.75      0.85    177533\n",
      "           1       0.16      0.77      0.27     11331\n",
      "\n",
      "    accuracy                           0.75    188864\n",
      "   macro avg       0.57      0.76      0.56    188864\n",
      "weighted avg       0.93      0.75      0.81    188864\n",
      "\n",
      "\n",
      "Confusion matrix:\n",
      "\n",
      "[[132889  44644]\n",
      " [  2613   8718]]\n",
      "Display confusion matrix:\n",
      "\n"
     ]
    },
    {
     "data": {
      "image/png": "[encoded data removed]",
      "text/plain": [
       "<Figure size 640x480 with 2 Axes>"
      ]
     },
     "metadata": {},
     "output_type": "display_data"
    },
    {
     "name": "stdout",
     "output_type": "stream",
     "text": [
      "Fitting 3 folds for each of 20 candidates, totalling 60 fits\n",
      "[CV] END ...................C=0.01, penalty=l2, solver=lbfgs; total time=   0.0s\n",
      "[CV] END ...................C=0.01, penalty=l2, solver=lbfgs; total time=   0.0s\n",
      "[CV] END ...................C=0.01, penalty=l2, solver=lbfgs; total time=   0.1s\n",
      "[CV] END ...............C=0.01, penalty=l2, solver=newton-cg; total time=   0.2s\n",
      "[CV] END ...............C=0.01, penalty=l2, solver=newton-cg; total time=   0.2s\n",
      "[CV] END ....................C=0.1, penalty=l2, solver=lbfgs; total time=   0.1s\n",
      "[CV] END ...............C=0.01, penalty=l2, solver=newton-cg; total time=   0.2s\n",
      "[CV] END ....................C=0.1, penalty=l2, solver=lbfgs; total time=   0.0s\n",
      "[CV] END .....................C=0.01, penalty=l2, solver=sag; total time=   0.5s\n",
      "[CV] END ....................C=0.1, penalty=l2, solver=lbfgs; total time=   0.0s\n",
      "[CV] END ....................C=0.01, penalty=l2, solver=saga; total time=   0.5s\n",
      "[CV] END .....................C=0.01, penalty=l2, solver=sag; total time=   0.6s\n",
      "[CV] END ....................C=0.01, penalty=l2, solver=saga; total time=   0.5s\n",
      "[CV] END .....................C=0.01, penalty=l2, solver=sag; total time=   0.7s\n",
      "[CV] END ......................C=1, penalty=l2, solver=lbfgs; total time=   0.1s\n",
      "[CV] END ....................C=0.01, penalty=l2, solver=saga; total time=   0.7s\n",
      "[CV] END ......................C=1, penalty=l2, solver=lbfgs; total time=   0.1s\n",
      "[CV] END ......................C=1, penalty=l2, solver=lbfgs; total time=   0.1s\n",
      "[CV] END ................C=0.1, penalty=l2, solver=newton-cg; total time=   0.2s\n",
      "[CV] END ................C=0.1, penalty=l2, solver=newton-cg; total time=   0.2s\n",
      "[CV] END ......................C=0.1, penalty=l2, solver=sag; total time=   0.5s\n",
      "[CV] END .....................C=0.1, penalty=l2, solver=saga; total time=   0.6s\n",
      "[CV] END .....................C=0.1, penalty=l2, solver=saga; total time=   0.6s\n",
      "[CV] END ......................C=0.1, penalty=l2, solver=sag; total time=   0.8s\n",
      "[CV] END .......................C=1, penalty=l2, solver=saga; total time=   0.6s\n",
      "[CV] END ................C=0.1, penalty=l2, solver=newton-cg; total time=   0.2s\n",
      "[CV] END ........................C=1, penalty=l2, solver=sag; total time=   0.7s\n",
      "[CV] END .....................C=10, penalty=l2, solver=lbfgs; total time=   0.1s\n",
      "[CV] END .....................C=10, penalty=l2, solver=lbfgs; total time=   0.1s\n",
      "[CV] END ..................C=1, penalty=l2, solver=newton-cg; total time=   0.2s\n",
      "[CV] END .....................C=10, penalty=l2, solver=lbfgs; total time=   0.0s\n",
      "[CV] END ........................C=1, penalty=l2, solver=sag; total time=   0.9s\n",
      "[CV] END .......................C=1, penalty=l2, solver=saga; total time=   0.6s\n",
      "[CV] END ..................C=1, penalty=l2, solver=newton-cg; total time=   0.2s\n",
      "[CV] END ......................C=0.1, penalty=l2, solver=sag; total time=   0.7s\n",
      "[CV] END .....................C=0.1, penalty=l2, solver=saga; total time=   0.6s\n",
      "[CV] END ..................C=1, penalty=l2, solver=newton-cg; total time=   0.2s\n",
      "[CV] END .....................C=50, penalty=l2, solver=lbfgs; total time=   0.0s\n",
      "[CV] END .................C=10, penalty=l2, solver=newton-cg; total time=   0.2s\n",
      "[CV] END .....................C=50, penalty=l2, solver=lbfgs; total time=   0.0s\n",
      "[CV] END .....................C=50, penalty=l2, solver=lbfgs; total time=   0.1s\n",
      "[CV] END .......................C=1, penalty=l2, solver=saga; total time=   0.7s\n",
      "[CV] END .................C=10, penalty=l2, solver=newton-cg; total time=   0.2s\n",
      "[CV] END .......................C=10, penalty=l2, solver=sag; total time=   0.5s\n",
      "[CV] END ........................C=1, penalty=l2, solver=sag; total time=   0.8s\n",
      "[CV] END ......................C=10, penalty=l2, solver=saga; total time=   0.7s\n",
      "[CV] END ......................C=10, penalty=l2, solver=saga; total time=   0.7s\n",
      "[CV] END .......................C=10, penalty=l2, solver=sag; total time=   1.0s\n",
      "[CV] END .................C=10, penalty=l2, solver=newton-cg; total time=   0.2s\n",
      "[CV] END .......................C=50, penalty=l2, solver=sag; total time=   0.5s\n",
      "[CV] END .................C=50, penalty=l2, solver=newton-cg; total time=   0.2s\n",
      "[CV] END .......................C=50, penalty=l2, solver=sag; total time=   0.7s\n",
      "[CV] END .......................C=10, penalty=l2, solver=sag; total time=   0.7s\n",
      "[CV] END .......................C=50, penalty=l2, solver=sag; total time=   0.8s\n",
      "[CV] END ......................C=50, penalty=l2, solver=saga; total time=   0.7s\n",
      "[CV] END ......................C=10, penalty=l2, solver=saga; total time=   0.6s\n",
      "[CV] END .................C=50, penalty=l2, solver=newton-cg; total time=   0.2s\n",
      "[CV] END .................C=50, penalty=l2, solver=newton-cg; total time=   0.2s\n",
      "[CV] END ......................C=50, penalty=l2, solver=saga; total time=   0.5s\n",
      "[CV] END ......................C=50, penalty=l2, solver=saga; total time=   0.5s\n",
      "############## Output: 2 #################\n",
      "\n",
      "Param grid:\n",
      "{'C': [0.01, 0.1, 1, 10, 50], 'penalty': ['l2'], 'solver': ['lbfgs', 'sag', 'saga', 'newton-cg']}\n",
      "\n",
      "Best params:\n",
      "{'C': 0.01, 'penalty': 'l2', 'solver': 'sag'}\n",
      "\n",
      "Best estimators:\n",
      "LogisticRegression(C=0.01, random_state=42, solver='sag')\n",
      "\n",
      "Best Score:\n",
      "0.8382375812022578\n",
      "\n",
      "AUCROC Train: 0.7599667145775022\n",
      "AUCROC Test: 0.7588263469533876\n",
      "Gini Train: 0.5199334291550044\n",
      "Gini Test: 0.5176526939067752\n",
      "\n",
      "Classification report:\n",
      "\n",
      "              precision    recall  f1-score   support\n",
      "\n",
      "           0       0.98      0.75      0.85    177533\n",
      "           1       0.16      0.77      0.27     11331\n",
      "\n",
      "    accuracy                           0.75    188864\n",
      "   macro avg       0.57      0.76      0.56    188864\n",
      "weighted avg       0.93      0.75      0.81    188864\n",
      "\n",
      "\n",
      "Confusion matrix:\n",
      "\n",
      "[[132872  44661]\n",
      " [  2615   8716]]\n",
      "Display confusion matrix:\n",
      "\n"
     ]
    },
    {
     "data": {
      "image/png": "[encoded data removed]",
      "text/plain": [
       "<Figure size 640x480 with 2 Axes>"
      ]
     },
     "metadata": {},
     "output_type": "display_data"
    },
    {
     "name": "stdout",
     "output_type": "stream",
     "text": [
      "0:00:13.033635\n"
     ]
    }
   ],
   "source": [
    "logistic_hyper_output = PrettyTable()\n",
    "logistic_hyper_output.field_names = [\"parameter\", \"TrainAUC\", \"TestAUC\", \"TrainGini\", \"TestGini\"]\n",
    "\n",
    "c_s = [[1.0], [0.01, 0.1, 1, 10, 50], [0.01, 0.1, 1, 10, 50]]\n",
    "penalty_s = [['none'], ['l1'], ['l2']]\n",
    "solver_s = [['lbfgs', 'saga', 'sag', 'newton-cg'], ['saga'], ['lbfgs', 'sag', 'saga', 'newton-cg']]\n",
    "\n",
    "start = datetime.now()\n",
    "for idx in range(len(solver_s)):\n",
    "    param_grid = {\n",
    "        'C': c_s[idx],\n",
    "        'penalty': penalty_s[idx],\n",
    "        'solver': solver_s[idx]\n",
    "    }\n",
    "    logistic_grd = GridSearchCV(LogisticRegression(random_state=42), param_grid, cv=3, verbose=2, n_jobs=-1, scoring='roc_auc') \n",
    "\n",
    "    logistic_regression_model_hyper = logistic_grd.fit(X_train, y_train)\n",
    "    print(f\"############## Output: {idx} #################\")\n",
    "    \n",
    "    print(\"\\nParam grid:\")\n",
    "    print(param_grid)\n",
    "    \n",
    "    print(\"\\nBest params:\")\n",
    "    print(logistic_regression_model_hyper.best_params_)\n",
    "    \n",
    "    print(\"\\nBest estimators:\")\n",
    "    print(logistic_regression_model_hyper.best_estimator_)\n",
    "    \n",
    "    print(\"\\nBest Score:\")\n",
    "    print(logistic_regression_model_hyper.best_score_)\n",
    "\n",
    "    auc_train =  auc_gini_score(logistic_regression_model_hyper, y_train, X_train)[0]\n",
    "    auc_test = auc_gini_score(logistic_regression_model_hyper, y_test, X_test)[0]\n",
    "    gini_train = auc_gini_score(logistic_regression_model_hyper, y_train, X_train)[1]\n",
    "    gini_test = auc_gini_score(logistic_regression_model_hyper, y_test, X_test)[1]\n",
    "    \n",
    "    print(f\"\\nAUCROC Train: {auc_train}\")\n",
    "    print(f\"AUCROC Test: {auc_test}\")\n",
    "    print(f\"Gini Train: {gini_train}\")\n",
    "    print(f\"Gini Test: {gini_test}\")\n",
    "    \n",
    "    logistic_hyper_output.add_row([logistic_regression_model_hyper.best_params_, \n",
    "                                   auc_train, \n",
    "                                   auc_test, \n",
    "                                   gini_train, \n",
    "                                   gini_test])\n",
    "\n",
    "    logistic_regression_model_hyper_pred = logistic_regression_model_hyper.predict(X_test)\n",
    "    \n",
    "    print(\"\\nClassification report:\\n\")\n",
    "    print(classification_report(y_test, logistic_regression_model_hyper_pred))\n",
    "    \n",
    "    print(\"\\nConfusion matrix:\\n\")\n",
    "    print(confusion_matrix(y_test, logistic_regression_model_hyper_pred))\n",
    "\n",
    "    print(\"Display confusion matrix:\\n\")\n",
    "    cm = confusion_matrix(y_test, logistic_regression_model_hyper_pred)\n",
    "    disp = ConfusionMatrixDisplay(confusion_matrix=cm, display_labels=logistic_regression_model_hyper.classes_)\n",
    "    disp.plot()\n",
    "    plt.show()   \n",
    "    \n",
    "finish = datetime.now()\n",
    "duration = finish - start\n",
    "print(duration)"
   ]
  },
  {
   "cell_type": "code",
   "execution_count": 21,
   "id": "24cffa61-3147-4a02-a341-d94f0fbc270d",
   "metadata": {},
   "outputs": [
    {
     "name": "stdout",
     "output_type": "stream",
     "text": [
      "+------------------------------------------------+--------------------+--------------------+--------------------+--------------------+\n",
      "|                   parameter                    |      TrainAUC      |      TestAUC       |     TrainGini      |      TestGini      |\n",
      "+------------------------------------------------+--------------------+--------------------+--------------------+--------------------+\n",
      "| {'C': 1.0, 'penalty': 'none', 'solver': 'sag'} | 0.7600612754368713 | 0.7590066055719134 | 0.5201225508737426 | 0.5180132111438267 |\n",
      "| {'C': 0.1, 'penalty': 'l1', 'solver': 'saga'}  | 0.7597586806868901 | 0.7589624788399391 | 0.5195173613737802 | 0.5179249576798781 |\n",
      "| {'C': 0.01, 'penalty': 'l2', 'solver': 'sag'}  | 0.7599667145775022 | 0.7588263469533876 | 0.5199334291550044 | 0.5176526939067752 |\n",
      "+------------------------------------------------+--------------------+--------------------+--------------------+--------------------+\n"
     ]
    }
   ],
   "source": [
    "print(logistic_hyper_output)"
   ]
  },
  {
   "cell_type": "markdown",
   "id": "d8ad5d1e-260e-49c9-ac57-4e42b945a6a8",
   "metadata": {
    "id": "d8ad5d1e-260e-49c9-ac57-4e42b945a6a8",
    "papermill": {
     "duration": 0.056183,
     "end_time": "2023-03-19T01:46:14.264551",
     "exception": false,
     "start_time": "2023-03-19T01:46:14.208368",
     "status": "completed"
    },
    "tags": []
   },
   "source": [
    "## Decision Tree"
   ]
  },
  {
   "cell_type": "code",
   "execution_count": 22,
   "id": "b06a6399-6e41-4198-af07-e531e6901ffe",
   "metadata": {
    "id": "b06a6399-6e41-4198-af07-e531e6901ffe",
    "papermill": {
     "duration": 0.065759,
     "end_time": "2023-03-19T01:46:14.649115",
     "exception": false,
     "start_time": "2023-03-19T01:46:14.583356",
     "status": "completed"
    },
    "tags": []
   },
   "outputs": [],
   "source": [
    "param_grid_decision_tree = {\n",
    "    'criterion': ['gini', 'entropy'],\n",
    "    'min_samples_split':[2, 3, 5, 10], \n",
    "    'max_depth': [None, 4, 5, 6, 8]\n",
    "}\n",
    "\n",
    "decision_tree_hyper_grd = GridSearchCV(\n",
    "    estimator=DecisionTreeClassifier(random_state=42), \n",
    "    param_grid=param_grid_decision_tree,\n",
    "    cv=3, \n",
    "    verbose=1,\n",
    "    scoring='roc_auc',\n",
    "    n_jobs=-1\n",
    ")"
   ]
  },
  {
   "cell_type": "markdown",
   "id": "962e6dd3-645c-4c40-80db-51dd776c39ba",
   "metadata": {},
   "source": [
    "Build and fit Decision Tree model"
   ]
  },
  {
   "cell_type": "code",
   "execution_count": 23,
   "id": "c030e3ad-ce31-4870-b77e-0531332d823d",
   "metadata": {
    "colab": {
     "base_uri": "https://localhost:8080/"
    },
    "executionInfo": {
     "elapsed": 18958,
     "status": "ok",
     "timestamp": 1681197101141,
     "user": {
      "displayName": "Adnan sevinç",
      "userId": "10606629957436102111"
     },
     "user_tz": -120
    },
    "id": "c030e3ad-ce31-4870-b77e-0531332d823d",
    "outputId": "30d82f33-cb89-40c4-fd94-22deab16ffcc",
    "papermill": {
     "duration": 8.19898,
     "end_time": "2023-03-19T01:46:22.907999",
     "exception": false,
     "start_time": "2023-03-19T01:46:14.709019",
     "status": "completed"
    },
    "tags": []
   },
   "outputs": [
    {
     "name": "stdout",
     "output_type": "stream",
     "text": [
      "Fitting 3 folds for each of 40 candidates, totalling 120 fits\n",
      "Running Time: 0.05110078333333334\n"
     ]
    }
   ],
   "source": [
    "start = datetime.now()\n",
    "\n",
    "decision_tree_model_hyper = decision_tree_hyper_grd.fit(X_train, y_train)\n",
    "\n",
    "print(f\"Running Time: {(datetime.now() - start).total_seconds() / 60}\")"
   ]
  },
  {
   "cell_type": "code",
   "execution_count": 24,
   "id": "ddef4824-929b-48cf-9da8-d64dbf1a78df",
   "metadata": {
    "colab": {
     "base_uri": "https://localhost:8080/"
    },
    "executionInfo": {
     "elapsed": 32,
     "status": "ok",
     "timestamp": 1681197101142,
     "user": {
      "displayName": "Adnan sevinç",
      "userId": "10606629957436102111"
     },
     "user_tz": -120
    },
    "id": "ddef4824-929b-48cf-9da8-d64dbf1a78df",
    "outputId": "32bdf6f7-dfda-4e7f-d6f5-169028f229eb",
    "papermill": {
     "duration": 0.069809,
     "end_time": "2023-03-19T01:46:23.040427",
     "exception": false,
     "start_time": "2023-03-19T01:46:22.970618",
     "status": "completed"
    },
    "tags": []
   },
   "outputs": [
    {
     "name": "stdout",
     "output_type": "stream",
     "text": [
      "############## Output: #################\n",
      "Best params:\n",
      "{'criterion': 'entropy', 'max_depth': 8, 'min_samples_split': 10}\n",
      "\n",
      "Best estimators:\n",
      "DecisionTreeClassifier(criterion='entropy', max_depth=8, min_samples_split=10,\n",
      "                       random_state=42)\n",
      "\n",
      "Best Score:\n",
      "0.8008340231168448\n"
     ]
    }
   ],
   "source": [
    "print(f\"############## Output: #################\")\n",
    "print(\"Best params:\")\n",
    "print(decision_tree_model_hyper.best_params_)\n",
    "\n",
    "print(\"\\nBest estimators:\")\n",
    "print(decision_tree_model_hyper.best_estimator_)\n",
    "\n",
    "print(\"\\nBest Score:\")\n",
    "print(decision_tree_model_hyper.best_score_)"
   ]
  },
  {
   "cell_type": "code",
   "execution_count": 25,
   "id": "3ae94ed0-b19a-402c-bde3-95aa3b3ab71a",
   "metadata": {},
   "outputs": [],
   "source": [
    "# predict the model\n",
    "decision_tree_model_hyper_pred = decision_tree_model_hyper.predict(X_test)"
   ]
  },
  {
   "cell_type": "code",
   "execution_count": 26,
   "id": "be2a7e28-5921-4ac3-a615-c97fba360737",
   "metadata": {
    "id": "be2a7e28-5921-4ac3-a615-c97fba360737",
    "papermill": {
     "duration": 0.226798,
     "end_time": "2023-03-19T01:46:23.330273",
     "exception": false,
     "start_time": "2023-03-19T01:46:23.103475",
     "status": "completed"
    },
    "tags": []
   },
   "outputs": [],
   "source": [
    "# Calculate aucroc and gini score\n",
    "auc_train =  auc_gini_score(decision_tree_model_hyper, y_train, X_train)[0]\n",
    "auc_test = auc_gini_score(decision_tree_model_hyper, y_test, X_test)[0]\n",
    "gini_train = auc_gini_score(decision_tree_model_hyper, y_train, X_train)[1]\n",
    "gini_test = auc_gini_score(decision_tree_model_hyper, y_test, X_test)[1]\n",
    "\n",
    "decision_tree_model_hyper_output = PrettyTable()\n",
    "decision_tree_model_hyper_output.field_names = [\"Train AUCROC\", \"Test AUCROC\", \"Train Gini\", \"Test Gini\"]\n",
    "decision_tree_model_hyper_output.add_row([\n",
    "    auc_train,\n",
    "    auc_test,\n",
    "    gini_train,\n",
    "    gini_test\n",
    "])   "
   ]
  },
  {
   "cell_type": "code",
   "execution_count": 27,
   "id": "66067d07-717c-43ee-a495-9fe819bece30",
   "metadata": {},
   "outputs": [
    {
     "name": "stdout",
     "output_type": "stream",
     "text": [
      "+--------------------+--------------------+--------------------+--------------------+\n",
      "|    Train AUCROC    |    Test AUCROC     |     Train Gini     |     Test Gini      |\n",
      "+--------------------+--------------------+--------------------+--------------------+\n",
      "| 0.7495082835312807 | 0.7355106679268351 | 0.4990165670625615 | 0.4710213358536701 |\n",
      "+--------------------+--------------------+--------------------+--------------------+\n"
     ]
    }
   ],
   "source": [
    "print(decision_tree_model_hyper_output)"
   ]
  },
  {
   "cell_type": "code",
   "execution_count": 28,
   "id": "72678636-1a8b-45aa-bb88-a8f02c2471b1",
   "metadata": {
    "colab": {
     "base_uri": "https://localhost:8080/"
    },
    "executionInfo": {
     "elapsed": 26,
     "status": "ok",
     "timestamp": 1681197101143,
     "user": {
      "displayName": "Adnan sevinç",
      "userId": "10606629957436102111"
     },
     "user_tz": -120
    },
    "id": "72678636-1a8b-45aa-bb88-a8f02c2471b1",
    "outputId": "9036d779-1e63-4cd1-c43b-916800961d1b",
    "papermill": {
     "duration": 0.616219,
     "end_time": "2023-03-19T01:46:24.139055",
     "exception": false,
     "start_time": "2023-03-19T01:46:23.522836",
     "status": "completed"
    },
    "tags": []
   },
   "outputs": [
    {
     "name": "stdout",
     "output_type": "stream",
     "text": [
      "Classification report:\n",
      "\n",
      "              precision    recall  f1-score   support\n",
      "\n",
      "           0       0.98      0.70      0.81    177533\n",
      "           1       0.14      0.77      0.24     11331\n",
      "\n",
      "    accuracy                           0.70    188864\n",
      "   macro avg       0.56      0.74      0.53    188864\n",
      "weighted avg       0.93      0.70      0.78    188864\n",
      "\n",
      "Display confusion matrix:\n",
      "\n",
      "[[123810  53723]\n",
      " [  2565   8766]]\n"
     ]
    }
   ],
   "source": [
    "print(\"Classification report:\\n\")\n",
    "print(classification_report(y_test, decision_tree_model_hyper_pred))\n",
    "print(\"Display confusion matrix:\\n\")\n",
    "print(confusion_matrix(y_test, decision_tree_model_hyper_pred))"
   ]
  },
  {
   "cell_type": "markdown",
   "id": "8b2b0b48-57ab-4c3f-9957-e0106fbc1d73",
   "metadata": {},
   "source": [
    "Display confusion matrix"
   ]
  },
  {
   "cell_type": "code",
   "execution_count": 29,
   "id": "dfdaa751-fe87-4d2c-a568-bd281d126bbb",
   "metadata": {
    "colab": {
     "base_uri": "https://localhost:8080/",
     "height": 449
    },
    "executionInfo": {
     "elapsed": 25,
     "status": "ok",
     "timestamp": 1681197101144,
     "user": {
      "displayName": "Adnan sevinç",
      "userId": "10606629957436102111"
     },
     "user_tz": -120
    },
    "id": "dfdaa751-fe87-4d2c-a568-bd281d126bbb",
    "outputId": "54738249-3530-42f3-8585-4ca80b7f72e0",
    "papermill": {
     "duration": 0.4341,
     "end_time": "2023-03-19T01:46:24.640451",
     "exception": false,
     "start_time": "2023-03-19T01:46:24.206351",
     "status": "completed"
    },
    "tags": []
   },
   "outputs": [
    {
     "data": {
      "image/png": "[encoded data removed]",
      "text/plain": [
       "<Figure size 640x480 with 2 Axes>"
      ]
     },
     "metadata": {},
     "output_type": "display_data"
    }
   ],
   "source": [
    "cm = confusion_matrix(y_test, decision_tree_model_hyper_pred)\n",
    "disp = ConfusionMatrixDisplay(confusion_matrix=cm, display_labels=decision_tree_model_hyper.classes_)\n",
    "disp.plot()\n",
    "plt.show()"
   ]
  },
  {
   "cell_type": "markdown",
   "id": "cb8a9bfb-deb0-4199-802c-4f425898ff06",
   "metadata": {
    "id": "cb8a9bfb-deb0-4199-802c-4f425898ff06",
    "papermill": {
     "duration": 0.099527,
     "end_time": "2023-03-19T01:46:24.808215",
     "exception": false,
     "start_time": "2023-03-19T01:46:24.708688",
     "status": "completed"
    },
    "tags": []
   },
   "source": [
    "## Random Forest"
   ]
  },
  {
   "cell_type": "markdown",
   "id": "62ec06c3-5033-4b74-9c70-7733df35568a",
   "metadata": {},
   "source": [
    "Build and fit Random Forest model"
   ]
  },
  {
   "cell_type": "code",
   "execution_count": 30,
   "id": "c719de38-0b2f-4105-af09-4dc0922f37c6",
   "metadata": {
    "id": "c719de38-0b2f-4105-af09-4dc0922f37c6",
    "papermill": {
     "duration": 0.07555,
     "end_time": "2023-03-19T01:46:25.097401",
     "exception": false,
     "start_time": "2023-03-19T01:46:25.021851",
     "status": "completed"
    },
    "tags": []
   },
   "outputs": [],
   "source": [
    "param_grid_random_forest = {'n_estimators': [50, 100, 200], 'max_depth': [None, 4, 6, 8]}"
   ]
  },
  {
   "cell_type": "code",
   "execution_count": 31,
   "id": "2dd5699d-9ff3-40a0-831b-6debc23561b7",
   "metadata": {
    "id": "2dd5699d-9ff3-40a0-831b-6debc23561b7",
    "papermill": {
     "duration": 0.071776,
     "end_time": "2023-03-19T01:46:25.243285",
     "exception": false,
     "start_time": "2023-03-19T01:46:25.171509",
     "status": "completed"
    },
    "tags": []
   },
   "outputs": [],
   "source": [
    "random_forest_hyper_grid = GridSearchCV(\n",
    "    estimator=RandomForestClassifier(random_state=2), \n",
    "    param_grid=param_grid_random_forest,\n",
    "    cv=3, \n",
    "    verbose=1,\n",
    "    scoring='roc_auc',\n",
    "    n_jobs=-1\n",
    ")"
   ]
  },
  {
   "cell_type": "code",
   "execution_count": 32,
   "id": "45c37cd5-ffb1-4d8c-be1b-fa822c8d4c92",
   "metadata": {
    "colab": {
     "base_uri": "https://localhost:8080/"
    },
    "executionInfo": {
     "elapsed": 91664,
     "status": "ok",
     "timestamp": 1681197192787,
     "user": {
      "displayName": "Adnan sevinç",
      "userId": "10606629957436102111"
     },
     "user_tz": -120
    },
    "id": "45c37cd5-ffb1-4d8c-be1b-fa822c8d4c92",
    "outputId": "3fb2e20a-02f9-49bf-fc9e-290d6b503559",
    "papermill": {
     "duration": 42.238612,
     "end_time": "2023-03-19T01:47:07.549029",
     "exception": false,
     "start_time": "2023-03-19T01:46:25.310417",
     "status": "completed"
    },
    "tags": []
   },
   "outputs": [
    {
     "name": "stdout",
     "output_type": "stream",
     "text": [
      "Fitting 3 folds for each of 12 candidates, totalling 36 fits\n",
      "Running Time: 0.32589881666666665\n"
     ]
    }
   ],
   "source": [
    "start = datetime.now()\n",
    "random_forest_model_hyper = random_forest_hyper_grid.fit(X_train, y_train)\n",
    "print(f\"Running Time: {(datetime.now() - start).total_seconds() / 60}\")"
   ]
  },
  {
   "cell_type": "code",
   "execution_count": 33,
   "id": "32a933ca-eba1-47f4-8837-c87fa36bf60c",
   "metadata": {
    "colab": {
     "base_uri": "https://localhost:8080/"
    },
    "executionInfo": {
     "elapsed": 15,
     "status": "ok",
     "timestamp": 1681197192787,
     "user": {
      "displayName": "Adnan sevinç",
      "userId": "10606629957436102111"
     },
     "user_tz": -120
    },
    "id": "32a933ca-eba1-47f4-8837-c87fa36bf60c",
    "outputId": "8e8319f6-e5b9-4840-ae74-b3a7774cc902",
    "papermill": {
     "duration": 0.077298,
     "end_time": "2023-03-19T01:47:07.686248",
     "exception": false,
     "start_time": "2023-03-19T01:47:07.608950",
     "status": "completed"
    },
    "tags": []
   },
   "outputs": [
    {
     "name": "stdout",
     "output_type": "stream",
     "text": [
      "############## Output: #################\n",
      "Best params:\n",
      "{'max_depth': None, 'n_estimators': 200}\n",
      "\n",
      "Best estimators:\n",
      "RandomForestClassifier(n_estimators=200, random_state=2)\n",
      "\n",
      "Best Score:\n",
      "0.836087155104396\n"
     ]
    }
   ],
   "source": [
    "print(f\"############## Output: #################\")\n",
    "\n",
    "print(\"Best params:\")\n",
    "print(random_forest_model_hyper.best_params_)\n",
    "\n",
    "print(\"\\nBest estimators:\")\n",
    "print(random_forest_model_hyper.best_estimator_)\n",
    "\n",
    "print(\"\\nBest Score:\")\n",
    "print(random_forest_model_hyper.best_score_)"
   ]
  },
  {
   "cell_type": "code",
   "execution_count": 34,
   "id": "d3c0eb91-3829-4f01-a199-d8dc976f75ef",
   "metadata": {},
   "outputs": [],
   "source": [
    "# predict the model\n",
    "random_forest_model_hyper_pred = random_forest_model_hyper.predict(X_test)"
   ]
  },
  {
   "cell_type": "code",
   "execution_count": 35,
   "id": "fcf28006-0a50-4f18-9b0e-48460a0512c3",
   "metadata": {
    "id": "fcf28006-0a50-4f18-9b0e-48460a0512c3",
    "papermill": {
     "duration": 10.839259,
     "end_time": "2023-03-19T01:47:18.589654",
     "exception": false,
     "start_time": "2023-03-19T01:47:07.750395",
     "status": "completed"
    },
    "tags": []
   },
   "outputs": [],
   "source": [
    "# Calculate aucroc and gini score\n",
    "auc_train =  auc_gini_score(random_forest_model_hyper, y_train, X_train)[0]\n",
    "auc_test = auc_gini_score(random_forest_model_hyper, y_test, X_test)[0]\n",
    "gini_train = auc_gini_score(random_forest_model_hyper, y_train, X_train)[1]\n",
    "gini_test = auc_gini_score(random_forest_model_hyper, y_test, X_test)[1]\n",
    "\n",
    "random_forest_model_hyper_output = PrettyTable()\n",
    "random_forest_model_hyper_output.field_names = [\"Train AUCROC\", \"Test AUCROC\", \"Train Gini\", \"Test Gini\"]\n",
    "random_forest_model_hyper_output.add_row([\n",
    "    auc_train,\n",
    "    auc_test,\n",
    "    gini_train,\n",
    "    gini_test\n",
    "])  "
   ]
  },
  {
   "cell_type": "code",
   "execution_count": 36,
   "id": "9c43e65c-52d8-410d-b15a-b74f1cd8ec1e",
   "metadata": {},
   "outputs": [
    {
     "name": "stdout",
     "output_type": "stream",
     "text": [
      "+--------------+--------------------+------------+--------------------+\n",
      "| Train AUCROC |    Test AUCROC     | Train Gini |     Test Gini      |\n",
      "+--------------+--------------------+------------+--------------------+\n",
      "|     1.0      | 0.7598192944893526 |    1.0     | 0.5196385889787052 |\n",
      "+--------------+--------------------+------------+--------------------+\n"
     ]
    }
   ],
   "source": [
    "print(random_forest_model_hyper_output)"
   ]
  },
  {
   "cell_type": "code",
   "execution_count": 37,
   "id": "e4009276-142d-4664-a242-197701522472",
   "metadata": {
    "colab": {
     "base_uri": "https://localhost:8080/"
    },
    "executionInfo": {
     "elapsed": 16857,
     "status": "ok",
     "timestamp": 1681197231248,
     "user": {
      "displayName": "Adnan sevinç",
      "userId": "10606629957436102111"
     },
     "user_tz": -120
    },
    "id": "e4009276-142d-4664-a242-197701522472",
    "outputId": "cdd2d801-272e-4d17-d528-0646c536e05a",
    "papermill": {
     "duration": 10.930708,
     "end_time": "2023-03-19T01:47:29.727730",
     "exception": false,
     "start_time": "2023-03-19T01:47:18.797022",
     "status": "completed"
    },
    "tags": []
   },
   "outputs": [
    {
     "name": "stdout",
     "output_type": "stream",
     "text": [
      "Classification report:\n",
      "\n",
      "              precision    recall  f1-score   support\n",
      "\n",
      "           0       0.98      0.73      0.84    177533\n",
      "           1       0.16      0.79      0.26     11331\n",
      "\n",
      "    accuracy                           0.74    188864\n",
      "   macro avg       0.57      0.76      0.55    188864\n",
      "weighted avg       0.93      0.74      0.81    188864\n",
      "\n",
      "Display confusion matrix:\n",
      "\n",
      "[[130326  47207]\n",
      " [  2430   8901]]\n"
     ]
    }
   ],
   "source": [
    "print(\"Classification report:\\n\")\n",
    "print(classification_report(y_test, random_forest_model_hyper_pred))\n",
    "print(\"Display confusion matrix:\\n\")\n",
    "print(confusion_matrix(y_test, random_forest_model_hyper_pred))"
   ]
  },
  {
   "cell_type": "code",
   "execution_count": 38,
   "id": "990d637f-5617-4a22-905b-0308d4ed5433",
   "metadata": {
    "colab": {
     "base_uri": "https://localhost:8080/",
     "height": 449
    },
    "executionInfo": {
     "elapsed": 9666,
     "status": "ok",
     "timestamp": 1681197240910,
     "user": {
      "displayName": "Adnan sevinç",
      "userId": "10606629957436102111"
     },
     "user_tz": -120
    },
    "id": "990d637f-5617-4a22-905b-0308d4ed5433",
    "outputId": "88d5e2fd-539e-44c4-ade5-2403a8e82587",
    "papermill": {
     "duration": 5.549777,
     "end_time": "2023-03-19T01:47:35.350290",
     "exception": false,
     "start_time": "2023-03-19T01:47:29.800513",
     "status": "completed"
    },
    "tags": []
   },
   "outputs": [
    {
     "data": {
      "image/png": "[encoded data removed]",
      "text/plain": [
       "<Figure size 640x480 with 2 Axes>"
      ]
     },
     "metadata": {},
     "output_type": "display_data"
    }
   ],
   "source": [
    "cm = confusion_matrix(y_test, random_forest_model_hyper_pred)\n",
    "disp = ConfusionMatrixDisplay(confusion_matrix=cm, display_labels=random_forest_model_hyper.classes_)\n",
    "disp.plot()\n",
    "plt.show()"
   ]
  },
  {
   "cell_type": "markdown",
   "id": "fd860deb-83ff-4fc0-92ec-134980d44748",
   "metadata": {
    "id": "fd860deb-83ff-4fc0-92ec-134980d44748",
    "papermill": {
     "duration": 0.067286,
     "end_time": "2023-03-19T01:47:35.490081",
     "exception": false,
     "start_time": "2023-03-19T01:47:35.422795",
     "status": "completed"
    },
    "tags": []
   },
   "source": [
    "## XGBOOST"
   ]
  },
  {
   "cell_type": "markdown",
   "id": "765e3f03-7917-46c5-a10d-37f977de8d25",
   "metadata": {},
   "source": [
    "Build and fit XGBoost model"
   ]
  },
  {
   "cell_type": "code",
   "execution_count": 39,
   "id": "ee52da5e-83e8-42a4-a92d-060d3c27f0b9",
   "metadata": {
    "id": "ee52da5e-83e8-42a4-a92d-060d3c27f0b9",
    "papermill": {
     "duration": 0.069227,
     "end_time": "2023-03-19T01:47:35.778313",
     "exception": false,
     "start_time": "2023-03-19T01:47:35.709086",
     "status": "completed"
    },
    "tags": []
   },
   "outputs": [],
   "source": [
    "param_grid_xgboost = {\n",
    "    'n_estimators': [50, 100, 200], \n",
    "    'max_depth': [3, 6, 10],\n",
    "    'learning_rate': [0.05, 0.1, 0.5],\n",
    "    'subsample': [0.5, 0.7, 1]\n",
    "}"
   ]
  },
  {
   "cell_type": "code",
   "execution_count": 40,
   "id": "bea21c2c-b4e1-4611-8cdf-70c30475bf1c",
   "metadata": {
    "id": "bea21c2c-b4e1-4611-8cdf-70c30475bf1c",
    "papermill": {
     "duration": 0.068284,
     "end_time": "2023-03-19T01:47:35.921383",
     "exception": false,
     "start_time": "2023-03-19T01:47:35.853099",
     "status": "completed"
    },
    "tags": []
   },
   "outputs": [],
   "source": [
    "xgboost_hyper_grid = GridSearchCV(\n",
    "    estimator=xgboost.XGBClassifier(seed=42, objective='binary:logistic'), \n",
    "    param_grid=param_grid_xgboost,\n",
    "    cv=3, \n",
    "    verbose=1,\n",
    "    scoring='roc_auc',\n",
    "    n_jobs=-1\n",
    ")"
   ]
  },
  {
   "cell_type": "code",
   "execution_count": 41,
   "id": "e3dc151c-2292-4d24-ad32-6853aa2c5cb5",
   "metadata": {
    "colab": {
     "base_uri": "https://localhost:8080/"
    },
    "executionInfo": {
     "elapsed": 2844679,
     "status": "ok",
     "timestamp": 1681200085583,
     "user": {
      "displayName": "Adnan sevinç",
      "userId": "10606629957436102111"
     },
     "user_tz": -120
    },
    "id": "e3dc151c-2292-4d24-ad32-6853aa2c5cb5",
    "outputId": "e0abb1ba-d6b4-405f-f50f-60c68294de2c",
    "papermill": {
     "duration": 1430.222843,
     "end_time": "2023-03-19T02:11:26.210903",
     "exception": false,
     "start_time": "2023-03-19T01:47:35.988060",
     "status": "completed"
    },
    "tags": []
   },
   "outputs": [
    {
     "name": "stdout",
     "output_type": "stream",
     "text": [
      "Fitting 3 folds for each of 81 candidates, totalling 243 fits\n",
      "Running Time: 0.5152860666666667\n"
     ]
    }
   ],
   "source": [
    "start = datetime.now()\n",
    "xgboost_model_hyper = xgboost_hyper_grid.fit(X_train, y_train)\n",
    "print(f\"Running Time: {(datetime.now()-start).total_seconds() / 60}\")"
   ]
  },
  {
   "cell_type": "code",
   "execution_count": 42,
   "id": "1ed91570-241f-46d6-9b90-7e501a1ae797",
   "metadata": {
    "colab": {
     "base_uri": "https://localhost:8080/"
    },
    "executionInfo": {
     "elapsed": 7,
     "status": "ok",
     "timestamp": 1681200085583,
     "user": {
      "displayName": "Adnan sevinç",
      "userId": "10606629957436102111"
     },
     "user_tz": -120
    },
    "id": "1ed91570-241f-46d6-9b90-7e501a1ae797",
    "outputId": "66a7b734-74f9-4d4e-bc36-45d2b846e197",
    "papermill": {
     "duration": 0.083395,
     "end_time": "2023-03-19T02:11:26.370296",
     "exception": false,
     "start_time": "2023-03-19T02:11:26.286901",
     "status": "completed"
    },
    "tags": []
   },
   "outputs": [
    {
     "name": "stdout",
     "output_type": "stream",
     "text": [
      "############## Output: #################\n",
      "Best params:\n",
      "{'learning_rate': 0.1, 'max_depth': 3, 'n_estimators': 200, 'subsample': 0.7}\n",
      "\n",
      "Best estimators:\n",
      "XGBClassifier(base_score=None, booster=None, callbacks=None,\n",
      "              colsample_bylevel=None, colsample_bynode=None,\n",
      "              colsample_bytree=None, device=None, early_stopping_rounds=None,\n",
      "              enable_categorical=False, eval_metric=None, feature_types=None,\n",
      "              gamma=None, grow_policy=None, importance_type=None,\n",
      "              interaction_constraints=None, learning_rate=0.1, max_bin=None,\n",
      "              max_cat_threshold=None, max_cat_to_onehot=None,\n",
      "              max_delta_step=None, max_depth=3, max_leaves=None,\n",
      "              min_child_weight=None, missing=nan, monotone_constraints=None,\n",
      "              multi_strategy=None, n_estimators=200, n_jobs=None,\n",
      "              num_parallel_tree=None, random_state=None, ...)\n",
      "\n",
      "Best Score:\n",
      "0.843446137301101\n"
     ]
    }
   ],
   "source": [
    "print(f\"############## Output: #################\")\n",
    "\n",
    "print(\"Best params:\")\n",
    "print(xgboost_model_hyper.best_params_)\n",
    "\n",
    "print(\"\\nBest estimators:\")\n",
    "print(xgboost_model_hyper.best_estimator_)\n",
    "\n",
    "print(\"\\nBest Score:\")\n",
    "print(xgboost_model_hyper.best_score_)\n"
   ]
  },
  {
   "cell_type": "code",
   "execution_count": 43,
   "id": "f6293c70-8e61-4761-adb4-f9bed21bc2a8",
   "metadata": {},
   "outputs": [],
   "source": [
    "# predict the model\n",
    "xgboost_model_hyper_pred = xgboost_model_hyper.predict(X_test)"
   ]
  },
  {
   "cell_type": "code",
   "execution_count": 44,
   "id": "e3e6101c-0c39-41e5-a256-6ac6726d69bf",
   "metadata": {
    "id": "e3e6101c-0c39-41e5-a256-6ac6726d69bf",
    "papermill": {
     "duration": 0.735411,
     "end_time": "2023-03-19T02:11:27.182682",
     "exception": false,
     "start_time": "2023-03-19T02:11:26.447271",
     "status": "completed"
    },
    "tags": []
   },
   "outputs": [],
   "source": [
    "# Calculate aucroc and gini score\n",
    "auc_train =  auc_gini_score(xgboost_model_hyper, y_train, X_train)[0]\n",
    "auc_test = auc_gini_score(xgboost_model_hyper, y_test, X_test)[0]\n",
    "gini_train = auc_gini_score(xgboost_model_hyper, y_train, X_train)[1]\n",
    "gini_test = auc_gini_score(xgboost_model_hyper, y_test, X_test)[1]\n",
    "\n",
    "xgboost_model_hyper_output = PrettyTable()\n",
    "xgboost_model_hyper_output.field_names = [\"Train AUCROC\", \"Test AUCROC\", \"Train Gini\", \"Test Gini\"]\n",
    "xgboost_model_hyper_output.add_row([\n",
    "    auc_train,\n",
    "    auc_test,\n",
    "    gini_train,\n",
    "    gini_test\n",
    "])                     "
   ]
  },
  {
   "cell_type": "code",
   "execution_count": 45,
   "id": "f29c244f-7dd0-47c9-ac1c-2541d7b2ca3d",
   "metadata": {},
   "outputs": [
    {
     "name": "stdout",
     "output_type": "stream",
     "text": [
      "+--------------------+--------------------+-------------------+--------------------+\n",
      "|    Train AUCROC    |    Test AUCROC     |     Train Gini    |     Test Gini      |\n",
      "+--------------------+--------------------+-------------------+--------------------+\n",
      "| 0.7708412134049475 | 0.7633961047348999 | 0.541682426809895 | 0.5267922094697999 |\n",
      "+--------------------+--------------------+-------------------+--------------------+\n"
     ]
    }
   ],
   "source": [
    "print(xgboost_model_hyper_output)"
   ]
  },
  {
   "cell_type": "code",
   "execution_count": 46,
   "id": "69cb0b7b-42f1-4f8f-bd5f-d162a73b8ba2",
   "metadata": {
    "colab": {
     "base_uri": "https://localhost:8080/"
    },
    "executionInfo": {
     "elapsed": 2481,
     "status": "ok",
     "timestamp": 1681200090093,
     "user": {
      "displayName": "Adnan sevinç",
      "userId": "10606629957436102111"
     },
     "user_tz": -120
    },
    "id": "69cb0b7b-42f1-4f8f-bd5f-d162a73b8ba2",
    "outputId": "cb403d15-6d37-4823-c54b-63eed1162044",
    "papermill": {
     "duration": 1.072753,
     "end_time": "2023-03-19T02:11:28.528689",
     "exception": false,
     "start_time": "2023-03-19T02:11:27.455936",
     "status": "completed"
    },
    "tags": []
   },
   "outputs": [
    {
     "name": "stdout",
     "output_type": "stream",
     "text": [
      "Classification report:\n",
      "\n",
      "              precision    recall  f1-score   support\n",
      "\n",
      "           0       0.98      0.74      0.84    177533\n",
      "           1       0.16      0.79      0.27     11331\n",
      "\n",
      "    accuracy                           0.74    188864\n",
      "   macro avg       0.57      0.76      0.56    188864\n",
      "weighted avg       0.93      0.74      0.81    188864\n",
      "\n",
      "Display confusion matrix:\n",
      "\n",
      "[[131549  45984]\n",
      " [  2427   8904]]\n"
     ]
    }
   ],
   "source": [
    "print(\"Classification report:\\n\")\n",
    "print(classification_report(y_test, xgboost_model_hyper_pred))\n",
    "print(\"Display confusion matrix:\\n\")\n",
    "print(confusion_matrix(y_test, xgboost_model_hyper_pred))"
   ]
  },
  {
   "cell_type": "code",
   "execution_count": 47,
   "id": "49559c76-2081-47f4-9e04-d119e2f0f8c0",
   "metadata": {
    "colab": {
     "base_uri": "https://localhost:8080/",
     "height": 449
    },
    "executionInfo": {
     "elapsed": 462,
     "status": "ok",
     "timestamp": 1681200090552,
     "user": {
      "displayName": "Adnan sevinç",
      "userId": "10606629957436102111"
     },
     "user_tz": -120
    },
    "id": "49559c76-2081-47f4-9e04-d119e2f0f8c0",
    "outputId": "537d9f92-b689-4e3b-e5a2-0e085a1a97ac",
    "papermill": {
     "duration": 0.656514,
     "end_time": "2023-03-19T02:11:29.259225",
     "exception": false,
     "start_time": "2023-03-19T02:11:28.602711",
     "status": "completed"
    },
    "tags": []
   },
   "outputs": [
    {
     "data": {
      "image/png": "[encoded data removed]",
      "text/plain": [
       "<Figure size 640x480 with 2 Axes>"
      ]
     },
     "metadata": {},
     "output_type": "display_data"
    }
   ],
   "source": [
    "cm = confusion_matrix(y_test, xgboost_model_hyper_pred)\n",
    "disp = ConfusionMatrixDisplay(confusion_matrix=cm, display_labels=xgboost_model_hyper.classes_)\n",
    "disp.plot()\n",
    "plt.show()"
   ]
  }
 ],
 "metadata": {
  "colab": {
   "machine_shape": "hm",
   "provenance": []
  },
  "domo": {
   "notebook_id": "e5263409-2339-4f40-a06e-1befe3662997"
  },
  "gpuClass": "standard",
  "kernelspec": {
   "display_name": "Python 3 (ipykernel)",
   "language": "python",
   "name": "python3"
  },
  "language_info": {
   "codemirror_mode": {
    "name": "ipython",
    "version": 3
   },
   "file_extension": ".py",
   "mimetype": "text/x-python",
   "name": "python",
   "nbconvert_exporter": "python",
   "pygments_lexer": "ipython3",
   "version": "3.11.7"
  },
  "papermill": {
   "default_parameters": {},
   "duration": 4520.99764,
   "end_time": "2023-03-19T03:00:04.540527",
   "environment_variables": {},
   "exception": null,
   "input_path": "MachineLearningHyperUnderSampling.ipynb",
   "output_path": "/home/domo/recent_executions/2023-03-19T01-44-43/output.ipynb",
   "parameters": {},
   "start_time": "2023-03-19T01:44:43.542887",
   "version": "2.4.0"
  }
 },
 "nbformat": 4,
 "nbformat_minor": 5
}
