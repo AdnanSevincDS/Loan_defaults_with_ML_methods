{
 "cells": [
  {
   "cell_type": "code",
   "execution_count": 1,
   "id": "d1d9ba16-866d-4821-b877-9260ba270d8b",
   "metadata": {},
   "outputs": [
    {
     "name": "stdout",
     "output_type": "stream",
     "text": [
      "\u001b[33mDEPRECATION: Loading egg at /opt/anaconda3/lib/python3.11/site-packages/src-0.1.0-py3.11.egg is deprecated. pip 24.3 will enforce this behaviour change. A possible replacement is to use pip for package installation.. Discussion can be found at https://github.com/pypa/pip/issues/12330\u001b[0m\u001b[33m\n",
      "\u001b[0mName: src\n",
      "Version: 0.1.0\n",
      "Summary: ML_Demo\n",
      "Home-page: \n",
      "Author: Adnan Sevinc\n",
      "Author-email: \n",
      "License: \n",
      "Location: /opt/anaconda3/lib/python3.11/site-packages/src-0.1.0-py3.11.egg\n",
      "Requires: \n",
      "Required-by: \n",
      "Note: you may need to restart the kernel to use updated packages.\n"
     ]
    }
   ],
   "source": [
    "pip show src"
   ]
  },
  {
   "cell_type": "code",
   "execution_count": 2,
   "id": "f6168715-6181-49fb-a45f-7282ca82883d",
   "metadata": {},
   "outputs": [],
   "source": [
    "import src"
   ]
  },
  {
   "cell_type": "code",
   "execution_count": 3,
   "id": "e6961f70-4530-4ee3-acb0-c02c8b266181",
   "metadata": {},
   "outputs": [],
   "source": [
    "# import training_model module (training_model.py)\n",
    "from src.models import training_model "
   ]
  },
  {
   "cell_type": "code",
   "execution_count": 4,
   "id": "2fc38c4d-fba5-4f86-b4e2-fb9aefc7ac41",
   "metadata": {},
   "outputs": [
    {
     "data": {
      "text/plain": [
       "<module 'src.models.training_model' from '/opt/anaconda3/lib/python3.11/site-packages/src-0.1.0-py3.11.egg/src/models/training_model.py'>"
      ]
     },
     "execution_count": 4,
     "metadata": {},
     "output_type": "execute_result"
    }
   ],
   "source": [
    "training_model"
   ]
  },
  {
   "cell_type": "code",
   "execution_count": 5,
   "id": "695f3823-4fec-4f02-8950-f343b5e22ee8",
   "metadata": {},
   "outputs": [],
   "source": [
    "# training_model.train_model()  > here we call train_model() function from training_model.py module"
   ]
  },
  {
   "cell_type": "code",
   "execution_count": 6,
   "id": "e4d7a580-e1e6-42f0-97f2-f8e5806ddd94",
   "metadata": {},
   "outputs": [],
   "source": [
    "path = '/Users/Adnan_Sevinc/Library/CloudStorage/OneDrive-EPAM/adnan_sevinc_personal/GitHub/mortgage_loan_defaults_with_machine_learning_methods/data'"
   ]
  },
  {
   "cell_type": "code",
   "execution_count": 7,
   "id": "850b9c52-6981-4c24-951c-5af1d0c30d59",
   "metadata": {},
   "outputs": [],
   "source": [
    "import os\n",
    "import pandas as pd\n",
    "X_train =  pd.read_csv(os.path.join(path,'X_train.csv'))\n",
    "y_train =  pd.read_csv(os.path.join(path,'y_train.csv'))\n",
    "X_test =  pd.read_csv(os.path.join(path,'X_test.csv'))\n",
    "y_test =  pd.read_csv(os.path.join(path,'y_test.csv'))"
   ]
  },
  {
   "cell_type": "code",
   "execution_count": 13,
   "id": "c6855bf2-e1d8-4247-add0-7206415a2ae3",
   "metadata": {},
   "outputs": [],
   "source": [
    "from sklearn.preprocessing import StandardScaler\n",
    "scaler = StandardScaler()\n",
    "X_train_scaled = scaler.fit_transform(X_train)\n",
    "X_test_scaled= scaler.transform(X_test)\n",
    "X_train = X_train_scaled.copy()\n",
    "X_test = X_test_scaled.copy()\n",
    "y_train = y_train.values.ravel()\n",
    "y_test = y_test.values.ravel()"
   ]
  },
  {
   "cell_type": "code",
   "execution_count": 8,
   "id": "7202bba0-0bd7-4c39-9b98-6d14c9862fcb",
   "metadata": {},
   "outputs": [],
   "source": [
    "from src.entities.train_params import LogRegParams,DecisionTreeParams, RandomForestParams, XGBoostParams"
   ]
  },
  {
   "cell_type": "code",
   "execution_count": 14,
   "id": "1c9ef526-44c5-4ff9-ab96-1d15705860de",
   "metadata": {},
   "outputs": [],
   "source": [
    "# call the function\n",
    "logistic_regression_model= training_model.train_model(features = X_train, target = y_train, train_params = LogRegParams)"
   ]
  },
  {
   "cell_type": "code",
   "execution_count": 15,
   "id": "e8fa7236-4b1b-4777-98c1-1433c951eb4a",
   "metadata": {},
   "outputs": [
    {
     "data": {
      "text/html": [
       "<style>#sk-container-id-2 {color: black;background-color: white;}#sk-container-id-2 pre{padding: 0;}#sk-container-id-2 div.sk-toggleable {background-color: white;}#sk-container-id-2 label.sk-toggleable__label {cursor: pointer;display: block;width: 100%;margin-bottom: 0;padding: 0.3em;box-sizing: border-box;text-align: center;}#sk-container-id-2 label.sk-toggleable__label-arrow:before {content: \"▸\";float: left;margin-right: 0.25em;color: #696969;}#sk-container-id-2 label.sk-toggleable__label-arrow:hover:before {color: black;}#sk-container-id-2 div.sk-estimator:hover label.sk-toggleable__label-arrow:before {color: black;}#sk-container-id-2 div.sk-toggleable__content {max-height: 0;max-width: 0;overflow: hidden;text-align: left;background-color: #f0f8ff;}#sk-container-id-2 div.sk-toggleable__content pre {margin: 0.2em;color: black;border-radius: 0.25em;background-color: #f0f8ff;}#sk-container-id-2 input.sk-toggleable__control:checked~div.sk-toggleable__content {max-height: 200px;max-width: 100%;overflow: auto;}#sk-container-id-2 input.sk-toggleable__control:checked~label.sk-toggleable__label-arrow:before {content: \"▾\";}#sk-container-id-2 div.sk-estimator input.sk-toggleable__control:checked~label.sk-toggleable__label {background-color: #d4ebff;}#sk-container-id-2 div.sk-label input.sk-toggleable__control:checked~label.sk-toggleable__label {background-color: #d4ebff;}#sk-container-id-2 input.sk-hidden--visually {border: 0;clip: rect(1px 1px 1px 1px);clip: rect(1px, 1px, 1px, 1px);height: 1px;margin: -1px;overflow: hidden;padding: 0;position: absolute;width: 1px;}#sk-container-id-2 div.sk-estimator {font-family: monospace;background-color: #f0f8ff;border: 1px dotted black;border-radius: 0.25em;box-sizing: border-box;margin-bottom: 0.5em;}#sk-container-id-2 div.sk-estimator:hover {background-color: #d4ebff;}#sk-container-id-2 div.sk-parallel-item::after {content: \"\";width: 100%;border-bottom: 1px solid gray;flex-grow: 1;}#sk-container-id-2 div.sk-label:hover label.sk-toggleable__label {background-color: #d4ebff;}#sk-container-id-2 div.sk-serial::before {content: \"\";position: absolute;border-left: 1px solid gray;box-sizing: border-box;top: 0;bottom: 0;left: 50%;z-index: 0;}#sk-container-id-2 div.sk-serial {display: flex;flex-direction: column;align-items: center;background-color: white;padding-right: 0.2em;padding-left: 0.2em;position: relative;}#sk-container-id-2 div.sk-item {position: relative;z-index: 1;}#sk-container-id-2 div.sk-parallel {display: flex;align-items: stretch;justify-content: center;background-color: white;position: relative;}#sk-container-id-2 div.sk-item::before, #sk-container-id-2 div.sk-parallel-item::before {content: \"\";position: absolute;border-left: 1px solid gray;box-sizing: border-box;top: 0;bottom: 0;left: 50%;z-index: -1;}#sk-container-id-2 div.sk-parallel-item {display: flex;flex-direction: column;z-index: 1;position: relative;background-color: white;}#sk-container-id-2 div.sk-parallel-item:first-child::after {align-self: flex-end;width: 50%;}#sk-container-id-2 div.sk-parallel-item:last-child::after {align-self: flex-start;width: 50%;}#sk-container-id-2 div.sk-parallel-item:only-child::after {width: 0;}#sk-container-id-2 div.sk-dashed-wrapped {border: 1px dashed gray;margin: 0 0.4em 0.5em 0.4em;box-sizing: border-box;padding-bottom: 0.4em;background-color: white;}#sk-container-id-2 div.sk-label label {font-family: monospace;font-weight: bold;display: inline-block;line-height: 1.2em;}#sk-container-id-2 div.sk-label-container {text-align: center;}#sk-container-id-2 div.sk-container {/* jupyter's `normalize.less` sets `[hidden] { display: none; }` but bootstrap.min.css set `[hidden] { display: none !important; }` so we also need the `!important` here to be able to override the default hidden behavior on the sphinx rendered scikit-learn.org. See: https://github.com/scikit-learn/scikit-learn/issues/21755 */display: inline-block !important;position: relative;}#sk-container-id-2 div.sk-text-repr-fallback {display: none;}</style><div id=\"sk-container-id-2\" class=\"sk-top-container\"><div class=\"sk-text-repr-fallback\"><pre>LogisticRegression(random_state=42)</pre><b>In a Jupyter environment, please rerun this cell to show the HTML representation or trust the notebook. <br />On GitHub, the HTML representation is unable to render, please try loading this page with nbviewer.org.</b></div><div class=\"sk-container\" hidden><div class=\"sk-item\"><div class=\"sk-estimator sk-toggleable\"><input class=\"sk-toggleable__control sk-hidden--visually\" id=\"sk-estimator-id-2\" type=\"checkbox\" checked><label for=\"sk-estimator-id-2\" class=\"sk-toggleable__label sk-toggleable__label-arrow\">LogisticRegression</label><div class=\"sk-toggleable__content\"><pre>LogisticRegression(random_state=42)</pre></div></div></div></div></div>"
      ],
      "text/plain": [
       "LogisticRegression(random_state=42)"
      ]
     },
     "execution_count": 15,
     "metadata": {},
     "output_type": "execute_result"
    }
   ],
   "source": [
    "logistic_regression_model"
   ]
  },
  {
   "cell_type": "code",
   "execution_count": 16,
   "id": "9c0daff4-1d2a-4a73-a8f6-5684f62d501a",
   "metadata": {},
   "outputs": [
    {
     "data": {
      "text/plain": [
       "0.7497882073873263"
      ]
     },
     "execution_count": 16,
     "metadata": {},
     "output_type": "execute_result"
    }
   ],
   "source": [
    "logistic_regression_model.score(X_test,y_test)"
   ]
  },
  {
   "cell_type": "code",
   "execution_count": null,
   "id": "0daf5cdc-c737-402f-a102-8c8406aa5140",
   "metadata": {},
   "outputs": [],
   "source": []
  }
 ],
 "metadata": {
  "kernelspec": {
   "display_name": "Python 3 (ipykernel)",
   "language": "python",
   "name": "python3"
  },
  "language_info": {
   "codemirror_mode": {
    "name": "ipython",
    "version": 3
   },
   "file_extension": ".py",
   "mimetype": "text/x-python",
   "name": "python",
   "nbconvert_exporter": "python",
   "pygments_lexer": "ipython3",
   "version": "3.11.7"
  }
 },
 "nbformat": 4,
 "nbformat_minor": 5
}
