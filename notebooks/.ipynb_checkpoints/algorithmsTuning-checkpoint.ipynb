{
 "cells": [
  {
   "cell_type": "markdown",
   "id": "1dac36e8-5c2a-4a5d-b04a-652da5320d1f",
   "metadata": {
    "id": "1dac36e8-5c2a-4a5d-b04a-652da5320d1f",
    "papermill": {
     "duration": 0.040734,
     "end_time": "2023-03-19T01:44:47.122636",
     "exception": false,
     "start_time": "2023-03-19T01:44:47.081902",
     "status": "completed"
    },
    "tags": []
   },
   "source": [
    "# Libraries"
   ]
  },
  {
   "cell_type": "code",
   "execution_count": 1,
   "id": "wRmdi0Q5Tyeg",
   "metadata": {
    "colab": {
     "base_uri": "https://localhost:8080/"
    },
    "executionInfo": {
     "elapsed": 11095,
     "status": "ok",
     "timestamp": 1682065133075,
     "user": {
      "displayName": "Adnan sevinç",
      "userId": "10606629957436102111"
     },
     "user_tz": -120
    },
    "id": "wRmdi0Q5Tyeg",
    "outputId": "f4565e22-46a1-4572-83ed-e0c20e2b8139"
   },
   "outputs": [
    {
     "name": "stdout",
     "output_type": "stream",
     "text": [
      "Requirement already satisfied: prettytable in /opt/anaconda3/lib/python3.11/site-packages (3.10.0)\n",
      "Requirement already satisfied: wcwidth in /opt/anaconda3/lib/python3.11/site-packages (from prettytable) (0.2.5)\n",
      "Requirement already satisfied: sidetable in /opt/anaconda3/lib/python3.11/site-packages (0.9.1)\n",
      "Requirement already satisfied: pandas>=1.0 in /opt/anaconda3/lib/python3.11/site-packages (from sidetable) (2.1.4)\n",
      "Requirement already satisfied: numpy<2,>=1.23.2 in /opt/anaconda3/lib/python3.11/site-packages (from pandas>=1.0->sidetable) (1.26.4)\n",
      "Requirement already satisfied: python-dateutil>=2.8.2 in /opt/anaconda3/lib/python3.11/site-packages (from pandas>=1.0->sidetable) (2.8.2)\n",
      "Requirement already satisfied: pytz>=2020.1 in /opt/anaconda3/lib/python3.11/site-packages (from pandas>=1.0->sidetable) (2023.3.post1)\n",
      "Requirement already satisfied: tzdata>=2022.1 in /opt/anaconda3/lib/python3.11/site-packages (from pandas>=1.0->sidetable) (2023.3)\n",
      "Requirement already satisfied: six>=1.5 in /opt/anaconda3/lib/python3.11/site-packages (from python-dateutil>=2.8.2->pandas>=1.0->sidetable) (1.16.0)\n"
     ]
    }
   ],
   "source": [
    "!pip install prettytable\n",
    "!pip install sidetable"
   ]
  },
  {
   "cell_type": "code",
   "execution_count": 2,
   "id": "f2024bd1-03db-4495-990b-2a2644c6edf4",
   "metadata": {
    "executionInfo": {
     "elapsed": 1931,
     "status": "ok",
     "timestamp": 1682065144403,
     "user": {
      "displayName": "Adnan sevinç",
      "userId": "10606629957436102111"
     },
     "user_tz": -120
    },
    "id": "f2024bd1-03db-4495-990b-2a2644c6edf4",
    "papermill": {
     "duration": 3.882948,
     "end_time": "2023-03-19T01:44:51.149571",
     "exception": false,
     "start_time": "2023-03-19T01:44:47.266623",
     "status": "completed"
    },
    "tags": []
   },
   "outputs": [],
   "source": [
    "# Basic Libraries\n",
    "\n",
    "import pandas as pd\n",
    "import numpy as np\n",
    "import json\n",
    "import time\n",
    "#import opendatasets as od\n",
    "import os\n",
    "\n",
    "import sidetable #for frequency table\n",
    "from prettytable import PrettyTable\n",
    "#from skimpy import skim\n",
    "from datetime import datetime\n",
    "import math\n",
    "#from skimpy import skim # for frequency \n",
    "\n",
    "# Vizualizations\n",
    "import matplotlib.pyplot as plt\n",
    "\n",
    "\n",
    "# Naive Bayes\n",
    "\n",
    "from sklearn.naive_bayes import MultinomialNB\n",
    "\n",
    "# Logistic Regression\n",
    "from sklearn.linear_model import LogisticRegression\n",
    "from sklearn.linear_model import LogisticRegressionCV\n",
    "\n",
    "# Grid Search\n",
    "from sklearn.model_selection import GridSearchCV\n",
    "from sklearn.metrics import accuracy_score\n",
    "#\n",
    "from sklearn.model_selection import train_test_split\n",
    "from sklearn.preprocessing import StandardScaler\n",
    "from sklearn.metrics import roc_auc_score\n",
    "from sklearn.metrics import classification_report,confusion_matrix,ConfusionMatrixDisplay,precision_recall_fscore_support,balanced_accuracy_score\n",
    "\n",
    "#XGBOOST\n",
    "import xgboost"
   ]
  },
  {
   "cell_type": "markdown",
   "id": "36c3e3bb-dd98-46be-914b-4924bd5cc20a",
   "metadata": {
    "id": "36c3e3bb-dd98-46be-914b-4924bd5cc20a",
    "papermill": {
     "duration": 0.05606,
     "end_time": "2023-03-19T01:44:51.590778",
     "exception": false,
     "start_time": "2023-03-19T01:44:51.534718",
     "status": "completed"
    },
    "tags": []
   },
   "source": [
    "# Load Dataset"
   ]
  },
  {
   "cell_type": "code",
   "execution_count": 3,
   "id": "c045257f-affb-4ee0-8a5f-ad5480bcce9d",
   "metadata": {},
   "outputs": [],
   "source": [
    "path = '/Users/Adnan_Sevinc/Library/CloudStorage/OneDrive-EPAM/adnan_sevinc_personal/GitHub/A-case-study-DS/dataset'"
   ]
  },
  {
   "cell_type": "code",
   "execution_count": 4,
   "id": "DTvhyXvvT6iL",
   "metadata": {
    "id": "DTvhyXvvT6iL"
   },
   "outputs": [],
   "source": [
    "X_train =  pd.read_csv(os.path.join(path,'X_train.csv'))"
   ]
  },
  {
   "cell_type": "code",
   "execution_count": 5,
   "id": "4SHSWgfST6ff",
   "metadata": {
    "id": "4SHSWgfST6ff"
   },
   "outputs": [],
   "source": [
    "y_train =  pd.read_csv(os.path.join(path,'y_train.csv'))"
   ]
  },
  {
   "cell_type": "code",
   "execution_count": 6,
   "id": "yRaoVVu7T6aq",
   "metadata": {
    "id": "yRaoVVu7T6aq"
   },
   "outputs": [],
   "source": [
    "X_test =  pd.read_csv(os.path.join(path,'X_test.csv'))"
   ]
  },
  {
   "cell_type": "code",
   "execution_count": 7,
   "id": "5eDNx3DVT6YM",
   "metadata": {
    "id": "5eDNx3DVT6YM"
   },
   "outputs": [],
   "source": [
    "y_test =  pd.read_csv(os.path.join(path,'y_test.csv'))"
   ]
  },
  {
   "cell_type": "code",
   "execution_count": 8,
   "id": "iUvnU7R6T6VI",
   "metadata": {
    "id": "iUvnU7R6T6VI"
   },
   "outputs": [],
   "source": [
    "dataSize = PrettyTable()\n",
    "dataSize.field_names = [\" \",\"Column\", \"Row\"]\n",
    "\n",
    "\n",
    "dataSize.add_row( [\"X_train\" , X_train.shape[0],X_train.shape[1]]) \n",
    "dataSize.add_row([\"y_train\" , y_train.shape[0],y_train.shape[1]]) \n",
    "dataSize.add_row([\"X_test\" , X_test.shape[0],X_test.shape[1]]) \n",
    "dataSize.add_row([\"y_test\" , y_test.shape[0],y_test.shape[1]]) "
   ]
  },
  {
   "cell_type": "code",
   "execution_count": 9,
   "id": "u0KGA0zpUEOj",
   "metadata": {
    "id": "u0KGA0zpUEOj"
   },
   "outputs": [
    {
     "name": "stdout",
     "output_type": "stream",
     "text": [
      "+---------+--------+-----+\n",
      "|         | Column | Row |\n",
      "+---------+--------+-----+\n",
      "| X_train | 52876  |  80 |\n",
      "| y_train | 52876  |  1  |\n",
      "|  X_test | 188864 |  80 |\n",
      "|  y_test | 188864 |  1  |\n",
      "+---------+--------+-----+\n"
     ]
    }
   ],
   "source": [
    "print(dataSize)"
   ]
  },
  {
   "cell_type": "code",
   "execution_count": 10,
   "id": "FKfilC40UELX",
   "metadata": {
    "id": "FKfilC40UELX"
   },
   "outputs": [
    {
     "data": {
      "text/html": [
       "<div>\n",
       "<style scoped>\n",
       "    .dataframe tbody tr th:only-of-type {\n",
       "        vertical-align: middle;\n",
       "    }\n",
       "\n",
       "    .dataframe tbody tr th {\n",
       "        vertical-align: top;\n",
       "    }\n",
       "\n",
       "    .dataframe thead th {\n",
       "        text-align: right;\n",
       "    }\n",
       "</style>\n",
       "<table border=\"1\" class=\"dataframe\">\n",
       "  <thead>\n",
       "    <tr style=\"text-align: right;\">\n",
       "      <th></th>\n",
       "      <th>default</th>\n",
       "      <th>count</th>\n",
       "      <th>percent</th>\n",
       "      <th>cumulative_count</th>\n",
       "      <th>cumulative_percent</th>\n",
       "    </tr>\n",
       "  </thead>\n",
       "  <tbody>\n",
       "    <tr>\n",
       "      <th>0</th>\n",
       "      <td>1</td>\n",
       "      <td>26438</td>\n",
       "      <td>50.0</td>\n",
       "      <td>26438</td>\n",
       "      <td>50.0</td>\n",
       "    </tr>\n",
       "    <tr>\n",
       "      <th>1</th>\n",
       "      <td>0</td>\n",
       "      <td>26438</td>\n",
       "      <td>50.0</td>\n",
       "      <td>52876</td>\n",
       "      <td>100.0</td>\n",
       "    </tr>\n",
       "  </tbody>\n",
       "</table>\n",
       "</div>"
      ],
      "text/plain": [
       "   default  count  percent  cumulative_count  cumulative_percent\n",
       "0        1  26438     50.0             26438                50.0\n",
       "1        0  26438     50.0             52876               100.0"
      ]
     },
     "execution_count": 10,
     "metadata": {},
     "output_type": "execute_result"
    }
   ],
   "source": [
    "y_train .stb.freq([\"default\"]) #1 is defaulted"
   ]
  },
  {
   "cell_type": "code",
   "execution_count": 11,
   "id": "2DyB1tHBUEHK",
   "metadata": {
    "id": "2DyB1tHBUEHK"
   },
   "outputs": [
    {
     "data": {
      "text/html": [
       "<div>\n",
       "<style scoped>\n",
       "    .dataframe tbody tr th:only-of-type {\n",
       "        vertical-align: middle;\n",
       "    }\n",
       "\n",
       "    .dataframe tbody tr th {\n",
       "        vertical-align: top;\n",
       "    }\n",
       "\n",
       "    .dataframe thead th {\n",
       "        text-align: right;\n",
       "    }\n",
       "</style>\n",
       "<table border=\"1\" class=\"dataframe\">\n",
       "  <thead>\n",
       "    <tr style=\"text-align: right;\">\n",
       "      <th></th>\n",
       "      <th>default</th>\n",
       "      <th>count</th>\n",
       "      <th>percent</th>\n",
       "      <th>cumulative_count</th>\n",
       "      <th>cumulative_percent</th>\n",
       "    </tr>\n",
       "  </thead>\n",
       "  <tbody>\n",
       "    <tr>\n",
       "      <th>0</th>\n",
       "      <td>0</td>\n",
       "      <td>177533</td>\n",
       "      <td>94.000445</td>\n",
       "      <td>177533</td>\n",
       "      <td>94.000445</td>\n",
       "    </tr>\n",
       "    <tr>\n",
       "      <th>1</th>\n",
       "      <td>1</td>\n",
       "      <td>11331</td>\n",
       "      <td>5.999555</td>\n",
       "      <td>188864</td>\n",
       "      <td>100.000000</td>\n",
       "    </tr>\n",
       "  </tbody>\n",
       "</table>\n",
       "</div>"
      ],
      "text/plain": [
       "   default   count    percent  cumulative_count  cumulative_percent\n",
       "0        0  177533  94.000445            177533           94.000445\n",
       "1        1   11331   5.999555            188864          100.000000"
      ]
     },
     "execution_count": 11,
     "metadata": {},
     "output_type": "execute_result"
    }
   ],
   "source": [
    "y_test .stb.freq([\"default\"]) #1 is defaulted"
   ]
  },
  {
   "cell_type": "markdown",
   "id": "ARH1Y6OeBx6i",
   "metadata": {
    "id": "ARH1Y6OeBx6i"
   },
   "source": [
    "# To A 1-D array"
   ]
  },
  {
   "cell_type": "code",
   "execution_count": 12,
   "id": "KnrPogO6BxwG",
   "metadata": {
    "id": "KnrPogO6BxwG"
   },
   "outputs": [],
   "source": [
    "y_train = y_train.values.ravel()"
   ]
  },
  {
   "cell_type": "code",
   "execution_count": 13,
   "id": "gKiTjG-iBxnG",
   "metadata": {
    "id": "gKiTjG-iBxnG"
   },
   "outputs": [],
   "source": [
    "y_test = y_test.values.ravel()"
   ]
  },
  {
   "cell_type": "markdown",
   "id": "2CY5rWbnUP38",
   "metadata": {
    "id": "2CY5rWbnUP38"
   },
   "source": [
    "# Standart Scaler"
   ]
  },
  {
   "cell_type": "code",
   "execution_count": 14,
   "id": "MJlflV6iURlM",
   "metadata": {
    "id": "MJlflV6iURlM"
   },
   "outputs": [],
   "source": [
    "#https://scikit-learn.org/stable/common_pitfalls.html\n",
    "#https://towardsdatascience.com/what-and-why-behind-fit-transform-vs-transform-in-scikit-learn-78f915cf96fe"
   ]
  },
  {
   "cell_type": "code",
   "execution_count": 15,
   "id": "IIOuLaJfUUGR",
   "metadata": {
    "id": "IIOuLaJfUUGR"
   },
   "outputs": [],
   "source": [
    "# Standardize\n",
    "from sklearn.preprocessing import StandardScaler\n",
    "scaler = StandardScaler()"
   ]
  },
  {
   "cell_type": "code",
   "execution_count": 16,
   "id": "I3xFw1rhUUAt",
   "metadata": {
    "id": "I3xFw1rhUUAt"
   },
   "outputs": [],
   "source": [
    "X_train_scaled = scaler.fit_transform(X_train)"
   ]
  },
  {
   "cell_type": "code",
   "execution_count": 17,
   "id": "qtb--RiaUT9p",
   "metadata": {
    "id": "qtb--RiaUT9p"
   },
   "outputs": [],
   "source": [
    "X_test_scaled= scaler.transform(X_test)"
   ]
  },
  {
   "cell_type": "code",
   "execution_count": 18,
   "id": "iq6Sf8AIUT4q",
   "metadata": {
    "id": "iq6Sf8AIUT4q"
   },
   "outputs": [],
   "source": [
    "X_train = X_train_scaled.copy()"
   ]
  },
  {
   "cell_type": "code",
   "execution_count": 19,
   "id": "Aay1vOLfURdv",
   "metadata": {
    "id": "Aay1vOLfURdv"
   },
   "outputs": [],
   "source": [
    "X_test = X_test_scaled.copy()"
   ]
  },
  {
   "cell_type": "markdown",
   "id": "366a1fcd-de4c-4203-9c61-cb21e6a4e70b",
   "metadata": {
    "id": "366a1fcd-de4c-4203-9c61-cb21e6a4e70b",
    "papermill": {
     "duration": 0.059679,
     "end_time": "2023-03-19T01:46:14.029884",
     "exception": false,
     "start_time": "2023-03-19T01:46:13.970205",
     "status": "completed"
    },
    "tags": []
   },
   "source": [
    "# Modeling"
   ]
  },
  {
   "cell_type": "markdown",
   "id": "1LaqbpEBe8Kb",
   "metadata": {
    "id": "1LaqbpEBe8Kb"
   },
   "source": [
    "## Logistic Regression"
   ]
  },
  {
   "cell_type": "code",
   "execution_count": 20,
   "id": "6aYgCLBge_-H",
   "metadata": {
    "id": "6aYgCLBge_-H"
   },
   "outputs": [],
   "source": [
    "from datetime import datetime"
   ]
  },
  {
   "cell_type": "code",
   "execution_count": 21,
   "id": "kG8yZ2JCe_7i",
   "metadata": {
    "colab": {
     "base_uri": "https://localhost:8080/",
     "height": 1000
    },
    "executionInfo": {
     "elapsed": 79256,
     "status": "ok",
     "timestamp": 1681197082202,
     "user": {
      "displayName": "Adnan sevinç",
      "userId": "10606629957436102111"
     },
     "user_tz": -120
    },
    "id": "kG8yZ2JCe_7i",
    "outputId": "64b052da-76be-476a-94e3-9c9da9d03bc3"
   },
   "outputs": [
    {
     "name": "stdout",
     "output_type": "stream",
     "text": [
      "Fitting 3 folds for each of 4 candidates, totalling 12 fits\n"
     ]
    },
    {
     "name": "stderr",
     "output_type": "stream",
     "text": [
      "/opt/anaconda3/lib/python3.11/site-packages/sklearn/linear_model/_logistic.py:1173: FutureWarning: `penalty='none'`has been deprecated in 1.2 and will be removed in 1.4. To keep the past behaviour, set `penalty=None`.\n",
      "  warnings.warn(\n",
      "/opt/anaconda3/lib/python3.11/site-packages/sklearn/linear_model/_logistic.py:1173: FutureWarning: `penalty='none'`has been deprecated in 1.2 and will be removed in 1.4. To keep the past behaviour, set `penalty=None`.\n",
      "  warnings.warn(\n",
      "/opt/anaconda3/lib/python3.11/site-packages/sklearn/linear_model/_logistic.py:1173: FutureWarning: `penalty='none'`has been deprecated in 1.2 and will be removed in 1.4. To keep the past behaviour, set `penalty=None`.\n",
      "  warnings.warn(\n",
      "/opt/anaconda3/lib/python3.11/site-packages/sklearn/linear_model/_logistic.py:1173: FutureWarning: `penalty='none'`has been deprecated in 1.2 and will be removed in 1.4. To keep the past behaviour, set `penalty=None`.\n",
      "  warnings.warn(\n",
      "/opt/anaconda3/lib/python3.11/site-packages/sklearn/linear_model/_logistic.py:1173: FutureWarning: `penalty='none'`has been deprecated in 1.2 and will be removed in 1.4. To keep the past behaviour, set `penalty=None`.\n",
      "  warnings.warn(\n",
      "/opt/anaconda3/lib/python3.11/site-packages/sklearn/linear_model/_logistic.py:1173: FutureWarning: `penalty='none'`has been deprecated in 1.2 and will be removed in 1.4. To keep the past behaviour, set `penalty=None`.\n",
      "  warnings.warn(\n",
      "/opt/anaconda3/lib/python3.11/site-packages/sklearn/linear_model/_logistic.py:1173: FutureWarning: `penalty='none'`has been deprecated in 1.2 and will be removed in 1.4. To keep the past behaviour, set `penalty=None`.\n",
      "  warnings.warn(\n",
      "/opt/anaconda3/lib/python3.11/site-packages/sklearn/linear_model/_logistic.py:1173: FutureWarning: `penalty='none'`has been deprecated in 1.2 and will be removed in 1.4. To keep the past behaviour, set `penalty=None`.\n",
      "  warnings.warn(\n",
      "/opt/anaconda3/lib/python3.11/site-packages/sklearn/linear_model/_logistic.py:1173: FutureWarning: `penalty='none'`has been deprecated in 1.2 and will be removed in 1.4. To keep the past behaviour, set `penalty=None`.\n",
      "  warnings.warn(\n",
      "/opt/anaconda3/lib/python3.11/site-packages/sklearn/linear_model/_logistic.py:1173: FutureWarning: `penalty='none'`has been deprecated in 1.2 and will be removed in 1.4. To keep the past behaviour, set `penalty=None`.\n",
      "  warnings.warn(\n",
      "/opt/anaconda3/lib/python3.11/site-packages/sklearn/linear_model/_logistic.py:1173: FutureWarning: `penalty='none'`has been deprecated in 1.2 and will be removed in 1.4. To keep the past behaviour, set `penalty=None`.\n",
      "  warnings.warn(\n",
      "/opt/anaconda3/lib/python3.11/site-packages/sklearn/linear_model/_logistic.py:1173: FutureWarning: `penalty='none'`has been deprecated in 1.2 and will be removed in 1.4. To keep the past behaviour, set `penalty=None`.\n",
      "  warnings.warn(\n",
      "/opt/anaconda3/lib/python3.11/site-packages/sklearn/linear_model/_logistic.py:1173: FutureWarning: `penalty='none'`has been deprecated in 1.2 and will be removed in 1.4. To keep the past behaviour, set `penalty=None`.\n",
      "  warnings.warn(\n"
     ]
    },
    {
     "name": "stdout",
     "output_type": "stream",
     "text": [
      "############## Output: 0 #################\n",
      "{'C': [1.0], 'penalty': ['none'], 'solver': ['lbfgs', 'saga', 'sag', 'newton-cg']}\n",
      "Best params:\n",
      "{'C': 1.0, 'penalty': 'none', 'solver': 'sag'}\n",
      "Best estimators:\n",
      "LogisticRegression(penalty='none', random_state=42, solver='sag')\n",
      "Best Score:\n",
      "0.8382313298986716\n",
      "AUCROC Train: 0.7600612754368713\n",
      "Gini Train: 0.5201225508737426\n",
      "AUCROC Test: 0.7590066055719134\n",
      "Gini Test: 0.5180132111438267\n",
      "              precision    recall  f1-score   support\n",
      "\n",
      "           0       0.98      0.75      0.85    177533\n",
      "           1       0.16      0.77      0.27     11331\n",
      "\n",
      "    accuracy                           0.75    188864\n",
      "   macro avg       0.57      0.76      0.56    188864\n",
      "weighted avg       0.93      0.75      0.81    188864\n",
      "\n",
      "[[132889  44644]\n",
      " [  2612   8719]]\n"
     ]
    },
    {
     "data": {
      "image/png": "[encoded data removed]",
      "text/plain": [
       "<Figure size 640x480 with 2 Axes>"
      ]
     },
     "metadata": {},
     "output_type": "display_data"
    },
    {
     "name": "stdout",
     "output_type": "stream",
     "text": [
      "#################################################\n",
      "Fitting 3 folds for each of 5 candidates, totalling 15 fits\n"
     ]
    },
    {
     "name": "stderr",
     "output_type": "stream",
     "text": [
      "/opt/anaconda3/lib/python3.11/site-packages/sklearn/linear_model/_sag.py:350: ConvergenceWarning: The max_iter was reached which means the coef_ did not converge\n",
      "  warnings.warn(\n",
      "/opt/anaconda3/lib/python3.11/site-packages/sklearn/linear_model/_sag.py:350: ConvergenceWarning: The max_iter was reached which means the coef_ did not converge\n",
      "  warnings.warn(\n",
      "/opt/anaconda3/lib/python3.11/site-packages/sklearn/linear_model/_sag.py:350: ConvergenceWarning: The max_iter was reached which means the coef_ did not converge\n",
      "  warnings.warn(\n",
      "/opt/anaconda3/lib/python3.11/site-packages/sklearn/linear_model/_sag.py:350: ConvergenceWarning: The max_iter was reached which means the coef_ did not converge\n",
      "  warnings.warn(\n",
      "/opt/anaconda3/lib/python3.11/site-packages/sklearn/linear_model/_sag.py:350: ConvergenceWarning: The max_iter was reached which means the coef_ did not converge\n",
      "  warnings.warn(\n"
     ]
    },
    {
     "name": "stdout",
     "output_type": "stream",
     "text": [
      "############## Output: 1 #################\n",
      "{'C': [0.01, 0.1, 1, 10, 50], 'penalty': ['l1'], 'solver': ['saga']}\n",
      "Best params:\n",
      "{'C': 0.1, 'penalty': 'l1', 'solver': 'saga'}\n",
      "Best estimators:\n",
      "LogisticRegression(C=0.1, penalty='l1', random_state=42, solver='saga')\n",
      "Best Score:\n",
      "0.8383105996572758\n",
      "AUCROC Train: 0.7597586806868901\n",
      "Gini Train: 0.5195173613737802\n",
      "AUCROC Test: 0.7589624788399391\n",
      "Gini Test: 0.5179249576798781\n",
      "              precision    recall  f1-score   support\n",
      "\n",
      "           0       0.98      0.75      0.85    177533\n",
      "           1       0.16      0.77      0.27     11331\n",
      "\n",
      "    accuracy                           0.75    188864\n",
      "   macro avg       0.57      0.76      0.56    188864\n",
      "weighted avg       0.93      0.75      0.81    188864\n",
      "\n",
      "[[132889  44644]\n",
      " [  2613   8718]]\n"
     ]
    },
    {
     "data": {
      "image/png": "[encoded data removed]",
      "text/plain": [
       "<Figure size 640x480 with 2 Axes>"
      ]
     },
     "metadata": {},
     "output_type": "display_data"
    },
    {
     "name": "stdout",
     "output_type": "stream",
     "text": [
      "#################################################\n",
      "Fitting 3 folds for each of 20 candidates, totalling 60 fits\n",
      "############## Output: 2 #################\n",
      "{'C': [0.01, 0.1, 1, 10, 50], 'penalty': ['l2'], 'solver': ['lbfgs', 'sag', 'saga', 'newton-cg']}\n",
      "Best params:\n",
      "{'C': 0.01, 'penalty': 'l2', 'solver': 'sag'}\n",
      "Best estimators:\n",
      "LogisticRegression(C=0.01, random_state=42, solver='sag')\n",
      "Best Score:\n",
      "0.8382375812022578\n",
      "AUCROC Train: 0.7599667145775022\n",
      "Gini Train: 0.5199334291550044\n",
      "AUCROC Test: 0.7588263469533876\n",
      "Gini Test: 0.5176526939067752\n",
      "              precision    recall  f1-score   support\n",
      "\n",
      "           0       0.98      0.75      0.85    177533\n",
      "           1       0.16      0.77      0.27     11331\n",
      "\n",
      "    accuracy                           0.75    188864\n",
      "   macro avg       0.57      0.76      0.56    188864\n",
      "weighted avg       0.93      0.75      0.81    188864\n",
      "\n",
      "[[132872  44661]\n",
      " [  2615   8716]]\n"
     ]
    },
    {
     "data": {
      "image/png": "[encoded data removed]",
      "text/plain": [
       "<Figure size 640x480 with 2 Axes>"
      ]
     },
     "metadata": {},
     "output_type": "display_data"
    },
    {
     "name": "stdout",
     "output_type": "stream",
     "text": [
      "#################################################\n",
      "0:00:00\n"
     ]
    }
   ],
   "source": [
    "# 1st list in list\n",
    "#With penalty 'none' \n",
    "# c can't be applied\n",
    "\n",
    "# 2nd list in list\n",
    "#With penalty 'l1' \n",
    "# just 'saga' can be applied we ignore 'liblinear'\n",
    "\n",
    "#3rd list in list\n",
    "#With penalty 'l2' \n",
    "# just 'saga' can be applied we ignore 'liblinear'\n",
    "\n",
    "logisticHyperOutput = PrettyTable()\n",
    "logisticHyperOutput.field_names = [\"parameter\",\"TrainAUC\", \"TestAUC\",\"TrainGini\", \"TestGini\"]\n",
    "\n",
    "cs = [[1.0],[0.01, 0.1, 1, 10, 50],[0.01, 0.1, 1, 10, 50]]\n",
    "penalties = [['none'],['l1'],['l2']]\n",
    "solvers = [['lbfgs', 'saga','sag','newton-cg'],['saga'],['lbfgs', 'sag','saga','newton-cg']]\n",
    "\n",
    "start = start = datetime.now()\n",
    "for idx in range(len(solvers)):\n",
    "    param_grid = {'C': cs[idx] ,\n",
    "                'penalty':penalties[idx], \n",
    "                'solver': solvers[idx] \n",
    "                }\n",
    "    logistic_grd = GridSearchCV(\n",
    "                    LogisticRegression(random_state=42), \n",
    "                    param_grid,\n",
    "                    cv=3, \n",
    "                    verbose=2,\n",
    "                    n_jobs=-1,\n",
    "                    scoring='roc_auc'\n",
    "                    ) \n",
    "    \n",
    "    logisticHyper = logistic_grd.fit(X_train,y_train)\n",
    "    print(f\"############## Output: {idx} #################\")\n",
    "    print(param_grid)\n",
    "    print(\"Best params:\")\n",
    "    print(logisticHyper.best_params_)\n",
    "    print(\"Best estimators:\")\n",
    "    print(logisticHyper.best_estimator_)\n",
    "    print(\"Best Score:\")\n",
    "    print(logisticHyper.best_score_)\n",
    "    print(f\"AUCROC Train: {roc_auc_score(y_train, logisticHyper.predict(X_train))}\")\n",
    "    print(f\"Gini Train: {2*roc_auc_score(y_train, logisticHyper.predict(X_train))-1}\")\n",
    "    print(f\"AUCROC Test: {roc_auc_score(y_test, logisticHyper.predict(X_test))}\")\n",
    "    print(f\"Gini Test: {2*roc_auc_score(y_test, logisticHyper.predict(X_test))-1}\")\n",
    "    logisticHyperOutput.add_row([logisticHyper.best_params_,\n",
    "                        roc_auc_score(y_train, logisticHyper.predict(X_train)),\n",
    "                        roc_auc_score(y_test, logisticHyper.predict(X_test)),\n",
    "                        2*roc_auc_score(y_train, logisticHyper.predict(X_train))-1,\n",
    "                        2*roc_auc_score(y_test, logisticHyper.predict(X_test))-1])\n",
    "    \n",
    "    print(classification_report(y_test,logisticHyper.predict(X_test)))\n",
    "    print(confusion_matrix(y_test,logisticHyper.predict(X_test)))\n",
    "\n",
    "    cm = confusion_matrix(y_test,logisticHyper.predict(X_test))\n",
    "    disp = ConfusionMatrixDisplay(confusion_matrix=cm,display_labels=logisticHyper.classes_)\n",
    "    disp.plot()\n",
    "    plt.show()   \n",
    "    print(\"#################################################\")\n",
    "\n",
    "finish = start = datetime.now()\n",
    "duration = finish - start\n",
    "print(duration)"
   ]
  },
  {
   "cell_type": "code",
   "execution_count": 22,
   "id": "Ar_TPEM5e_5A",
   "metadata": {
    "colab": {
     "base_uri": "https://localhost:8080/"
    },
    "executionInfo": {
     "elapsed": 26,
     "status": "ok",
     "timestamp": 1681197082203,
     "user": {
      "displayName": "Adnan sevinç",
      "userId": "10606629957436102111"
     },
     "user_tz": -120
    },
    "id": "Ar_TPEM5e_5A",
    "outputId": "332ddb0a-314a-4d22-d96c-4115a4f29f17"
   },
   "outputs": [
    {
     "name": "stdout",
     "output_type": "stream",
     "text": [
      "+------------------------------------------------+--------------------+--------------------+--------------------+--------------------+\n",
      "|                   parameter                    |      TrainAUC      |      TestAUC       |     TrainGini      |      TestGini      |\n",
      "+------------------------------------------------+--------------------+--------------------+--------------------+--------------------+\n",
      "| {'C': 1.0, 'penalty': 'none', 'solver': 'sag'} | 0.7600612754368713 | 0.7590066055719134 | 0.5201225508737426 | 0.5180132111438267 |\n",
      "| {'C': 0.1, 'penalty': 'l1', 'solver': 'saga'}  | 0.7597586806868901 | 0.7589624788399391 | 0.5195173613737802 | 0.5179249576798781 |\n",
      "| {'C': 0.01, 'penalty': 'l2', 'solver': 'sag'}  | 0.7599667145775022 | 0.7588263469533876 | 0.5199334291550044 | 0.5176526939067752 |\n",
      "+------------------------------------------------+--------------------+--------------------+--------------------+--------------------+\n"
     ]
    }
   ],
   "source": [
    "print(logisticHyperOutput)"
   ]
  },
  {
   "cell_type": "markdown",
   "id": "d8ad5d1e-260e-49c9-ac57-4e42b945a6a8",
   "metadata": {
    "id": "d8ad5d1e-260e-49c9-ac57-4e42b945a6a8",
    "papermill": {
     "duration": 0.056183,
     "end_time": "2023-03-19T01:46:14.264551",
     "exception": false,
     "start_time": "2023-03-19T01:46:14.208368",
     "status": "completed"
    },
    "tags": []
   },
   "source": [
    "## Decision Tree"
   ]
  },
  {
   "cell_type": "code",
   "execution_count": 23,
   "id": "6f0a27f9-a59c-4910-ba4a-7bb91467fe9b",
   "metadata": {
    "id": "6f0a27f9-a59c-4910-ba4a-7bb91467fe9b",
    "papermill": {
     "duration": 0.064889,
     "end_time": "2023-03-19T01:46:14.384613",
     "exception": false,
     "start_time": "2023-03-19T01:46:14.319724",
     "status": "completed"
    },
    "tags": []
   },
   "outputs": [],
   "source": [
    "from datetime import datetime"
   ]
  },
  {
   "cell_type": "code",
   "execution_count": 24,
   "id": "a7acd400-0c6d-453a-8a87-7d3da876c2c5",
   "metadata": {
    "id": "a7acd400-0c6d-453a-8a87-7d3da876c2c5",
    "papermill": {
     "duration": 0.072676,
     "end_time": "2023-03-19T01:46:14.520496",
     "exception": false,
     "start_time": "2023-03-19T01:46:14.447820",
     "status": "completed"
    },
    "tags": []
   },
   "outputs": [],
   "source": [
    "from sklearn.tree import DecisionTreeClassifier"
   ]
  },
  {
   "cell_type": "code",
   "execution_count": 25,
   "id": "b06a6399-6e41-4198-af07-e531e6901ffe",
   "metadata": {
    "id": "b06a6399-6e41-4198-af07-e531e6901ffe",
    "papermill": {
     "duration": 0.065759,
     "end_time": "2023-03-19T01:46:14.649115",
     "exception": false,
     "start_time": "2023-03-19T01:46:14.583356",
     "status": "completed"
    },
    "tags": []
   },
   "outputs": [],
   "source": [
    "param_grid_DecisionTree = {\n",
    "                     'criterion' : ['gini','entropy'],\n",
    "                     'min_samples_split':[2,3,5,10], \n",
    "                     'max_depth' : [None,4, 5, 6, 8]}\n",
    "\n",
    "DecisionTree_grd = GridSearchCV(\n",
    "                                  estimator=DecisionTreeClassifier(random_state=42), \n",
    "                                  param_grid=param_grid_DecisionTree,\n",
    "                                  cv=3, \n",
    "                                  verbose=1,\n",
    "                                  scoring = 'roc_auc',\n",
    "                                   n_jobs=-1\n",
    "                                    ) # n_jobs=-1 sometimes doesn't work"
   ]
  },
  {
   "cell_type": "code",
   "execution_count": 26,
   "id": "c030e3ad-ce31-4870-b77e-0531332d823d",
   "metadata": {
    "colab": {
     "base_uri": "https://localhost:8080/"
    },
    "executionInfo": {
     "elapsed": 18958,
     "status": "ok",
     "timestamp": 1681197101141,
     "user": {
      "displayName": "Adnan sevinç",
      "userId": "10606629957436102111"
     },
     "user_tz": -120
    },
    "id": "c030e3ad-ce31-4870-b77e-0531332d823d",
    "outputId": "30d82f33-cb89-40c4-fd94-22deab16ffcc",
    "papermill": {
     "duration": 8.19898,
     "end_time": "2023-03-19T01:46:22.907999",
     "exception": false,
     "start_time": "2023-03-19T01:46:14.709019",
     "status": "completed"
    },
    "tags": []
   },
   "outputs": [
    {
     "name": "stdout",
     "output_type": "stream",
     "text": [
      "Fitting 3 folds for each of 40 candidates, totalling 120 fits\n",
      "Running Time: 0.05319138333333333\n"
     ]
    }
   ],
   "source": [
    "start = datetime.now()\n",
    "DecisionTreeHyper = DecisionTree_grd.fit(X_train,y_train)\n",
    "print(f\"Running Time: {(datetime.now()-start).total_seconds()/60}\")"
   ]
  },
  {
   "cell_type": "code",
   "execution_count": 27,
   "id": "ddef4824-929b-48cf-9da8-d64dbf1a78df",
   "metadata": {
    "colab": {
     "base_uri": "https://localhost:8080/"
    },
    "executionInfo": {
     "elapsed": 32,
     "status": "ok",
     "timestamp": 1681197101142,
     "user": {
      "displayName": "Adnan sevinç",
      "userId": "10606629957436102111"
     },
     "user_tz": -120
    },
    "id": "ddef4824-929b-48cf-9da8-d64dbf1a78df",
    "outputId": "32bdf6f7-dfda-4e7f-d6f5-169028f229eb",
    "papermill": {
     "duration": 0.069809,
     "end_time": "2023-03-19T01:46:23.040427",
     "exception": false,
     "start_time": "2023-03-19T01:46:22.970618",
     "status": "completed"
    },
    "tags": []
   },
   "outputs": [
    {
     "name": "stdout",
     "output_type": "stream",
     "text": [
      "############## Output: #################\n",
      "Best params:\n",
      "{'criterion': 'entropy', 'max_depth': 8, 'min_samples_split': 10}\n",
      "Best estimators\n",
      "DecisionTreeClassifier(criterion='entropy', max_depth=8, min_samples_split=10,\n",
      "                       random_state=42)\n",
      "Best Score:\n",
      "0.8008340231168448\n"
     ]
    }
   ],
   "source": [
    "print(f\"############## Output: #################\")\n",
    "print(\"Best params:\")\n",
    "print(DecisionTreeHyper.best_params_)\n",
    "print(\"Best estimators\")\n",
    "print(DecisionTreeHyper.best_estimator_)\n",
    "print(\"Best Score:\")\n",
    "print(DecisionTreeHyper.best_score_)"
   ]
  },
  {
   "cell_type": "code",
   "execution_count": 28,
   "id": "be2a7e28-5921-4ac3-a615-c97fba360737",
   "metadata": {
    "id": "be2a7e28-5921-4ac3-a615-c97fba360737",
    "papermill": {
     "duration": 0.226798,
     "end_time": "2023-03-19T01:46:23.330273",
     "exception": false,
     "start_time": "2023-03-19T01:46:23.103475",
     "status": "completed"
    },
    "tags": []
   },
   "outputs": [],
   "source": [
    "DecisionTreeHyperOutput = PrettyTable()\n",
    "DecisionTreeHyperOutput.field_names = [\"Train AUCROC\", \"Test AUCROC\",\"Train Gini\", \"Test Gini\"]\n",
    "DecisionTreeHyperOutput.add_row([\n",
    "                        roc_auc_score(y_train, DecisionTreeHyper.predict(X_train)),\n",
    "                        roc_auc_score(y_test, DecisionTreeHyper.predict(X_test)),\n",
    "                        2*roc_auc_score(y_train, DecisionTreeHyper.predict(X_train))-1,\n",
    "                        2*roc_auc_score(y_test, DecisionTreeHyper.predict(X_test))-1\n",
    "\t\t\t\t\t\t])   "
   ]
  },
  {
   "cell_type": "code",
   "execution_count": 29,
   "id": "dff4dacd-2724-4e1a-b2f8-6e181346bdc6",
   "metadata": {
    "colab": {
     "base_uri": "https://localhost:8080/"
    },
    "executionInfo": {
     "elapsed": 28,
     "status": "ok",
     "timestamp": 1681197101143,
     "user": {
      "displayName": "Adnan sevinç",
      "userId": "10606629957436102111"
     },
     "user_tz": -120
    },
    "id": "dff4dacd-2724-4e1a-b2f8-6e181346bdc6",
    "outputId": "b1e42085-797f-43fa-8338-d405af01ffc1",
    "papermill": {
     "duration": 0.066288,
     "end_time": "2023-03-19T01:46:23.460403",
     "exception": false,
     "start_time": "2023-03-19T01:46:23.394115",
     "status": "completed"
    },
    "tags": []
   },
   "outputs": [
    {
     "name": "stdout",
     "output_type": "stream",
     "text": [
      "+--------------------+--------------------+--------------------+--------------------+\n",
      "|    Train AUCROC    |    Test AUCROC     |     Train Gini     |     Test Gini      |\n",
      "+--------------------+--------------------+--------------------+--------------------+\n",
      "| 0.7495082835312807 | 0.7355106679268351 | 0.4990165670625615 | 0.4710213358536701 |\n",
      "+--------------------+--------------------+--------------------+--------------------+\n"
     ]
    }
   ],
   "source": [
    "print(DecisionTreeHyperOutput)"
   ]
  },
  {
   "cell_type": "code",
   "execution_count": 30,
   "id": "72678636-1a8b-45aa-bb88-a8f02c2471b1",
   "metadata": {
    "colab": {
     "base_uri": "https://localhost:8080/"
    },
    "executionInfo": {
     "elapsed": 26,
     "status": "ok",
     "timestamp": 1681197101143,
     "user": {
      "displayName": "Adnan sevinç",
      "userId": "10606629957436102111"
     },
     "user_tz": -120
    },
    "id": "72678636-1a8b-45aa-bb88-a8f02c2471b1",
    "outputId": "9036d779-1e63-4cd1-c43b-916800961d1b",
    "papermill": {
     "duration": 0.616219,
     "end_time": "2023-03-19T01:46:24.139055",
     "exception": false,
     "start_time": "2023-03-19T01:46:23.522836",
     "status": "completed"
    },
    "tags": []
   },
   "outputs": [
    {
     "name": "stdout",
     "output_type": "stream",
     "text": [
      "              precision    recall  f1-score   support\n",
      "\n",
      "           0       0.98      0.70      0.81    177533\n",
      "           1       0.14      0.77      0.24     11331\n",
      "\n",
      "    accuracy                           0.70    188864\n",
      "   macro avg       0.56      0.74      0.53    188864\n",
      "weighted avg       0.93      0.70      0.78    188864\n",
      "\n",
      "[[123810  53723]\n",
      " [  2565   8766]]\n"
     ]
    }
   ],
   "source": [
    "print(classification_report(y_test,DecisionTreeHyper.predict(X_test)))\n",
    "print(confusion_matrix(y_test,DecisionTreeHyper.predict(X_test)))"
   ]
  },
  {
   "cell_type": "code",
   "execution_count": 31,
   "id": "dfdaa751-fe87-4d2c-a568-bd281d126bbb",
   "metadata": {
    "colab": {
     "base_uri": "https://localhost:8080/",
     "height": 449
    },
    "executionInfo": {
     "elapsed": 25,
     "status": "ok",
     "timestamp": 1681197101144,
     "user": {
      "displayName": "Adnan sevinç",
      "userId": "10606629957436102111"
     },
     "user_tz": -120
    },
    "id": "dfdaa751-fe87-4d2c-a568-bd281d126bbb",
    "outputId": "54738249-3530-42f3-8585-4ca80b7f72e0",
    "papermill": {
     "duration": 0.4341,
     "end_time": "2023-03-19T01:46:24.640451",
     "exception": false,
     "start_time": "2023-03-19T01:46:24.206351",
     "status": "completed"
    },
    "tags": []
   },
   "outputs": [
    {
     "data": {
      "image/png": "[encoded data removed]",
      "text/plain": [
       "<Figure size 640x480 with 2 Axes>"
      ]
     },
     "metadata": {},
     "output_type": "display_data"
    }
   ],
   "source": [
    "cm = confusion_matrix(y_test,DecisionTreeHyper.predict(X_test))\n",
    "disp = ConfusionMatrixDisplay(confusion_matrix=cm,display_labels=DecisionTreeHyper.classes_)\n",
    "disp.plot()\n",
    "plt.show()"
   ]
  },
  {
   "cell_type": "markdown",
   "id": "cb8a9bfb-deb0-4199-802c-4f425898ff06",
   "metadata": {
    "id": "cb8a9bfb-deb0-4199-802c-4f425898ff06",
    "papermill": {
     "duration": 0.099527,
     "end_time": "2023-03-19T01:46:24.808215",
     "exception": false,
     "start_time": "2023-03-19T01:46:24.708688",
     "status": "completed"
    },
    "tags": []
   },
   "source": [
    "## Random Forest"
   ]
  },
  {
   "cell_type": "code",
   "execution_count": 32,
   "id": "6168ef6b-f906-4204-9ccb-d13ae8030fdc",
   "metadata": {
    "id": "6168ef6b-f906-4204-9ccb-d13ae8030fdc",
    "papermill": {
     "duration": 0.070082,
     "end_time": "2023-03-19T01:46:24.948751",
     "exception": false,
     "start_time": "2023-03-19T01:46:24.878669",
     "status": "completed"
    },
    "tags": []
   },
   "outputs": [],
   "source": [
    "from sklearn.ensemble import RandomForestClassifier"
   ]
  },
  {
   "cell_type": "code",
   "execution_count": 33,
   "id": "c719de38-0b2f-4105-af09-4dc0922f37c6",
   "metadata": {
    "id": "c719de38-0b2f-4105-af09-4dc0922f37c6",
    "papermill": {
     "duration": 0.07555,
     "end_time": "2023-03-19T01:46:25.097401",
     "exception": false,
     "start_time": "2023-03-19T01:46:25.021851",
     "status": "completed"
    },
    "tags": []
   },
   "outputs": [],
   "source": [
    "param_grid_RandomForest = {\n",
    "                            'n_estimators':[50,100, 200], \n",
    "                            'max_depth' : [None,4, 6, 8]\n",
    "                            }\n"
   ]
  },
  {
   "cell_type": "code",
   "execution_count": 34,
   "id": "2dd5699d-9ff3-40a0-831b-6debc23561b7",
   "metadata": {
    "id": "2dd5699d-9ff3-40a0-831b-6debc23561b7",
    "papermill": {
     "duration": 0.071776,
     "end_time": "2023-03-19T01:46:25.243285",
     "exception": false,
     "start_time": "2023-03-19T01:46:25.171509",
     "status": "completed"
    },
    "tags": []
   },
   "outputs": [],
   "source": [
    "RandomForest_grd = GridSearchCV(\n",
    "                                  estimator=RandomForestClassifier(random_state=42)  , \n",
    "                                  param_grid=param_grid_RandomForest,\n",
    "                                  cv=3, \n",
    "                                  verbose=1,\n",
    "                                  scoring = 'roc_auc',\n",
    "                                   n_jobs=-1\n",
    "                                    ) # n_jobs=-1 sometimes doesn't work"
   ]
  },
  {
   "cell_type": "code",
   "execution_count": 35,
   "id": "45c37cd5-ffb1-4d8c-be1b-fa822c8d4c92",
   "metadata": {
    "colab": {
     "base_uri": "https://localhost:8080/"
    },
    "executionInfo": {
     "elapsed": 91664,
     "status": "ok",
     "timestamp": 1681197192787,
     "user": {
      "displayName": "Adnan sevinç",
      "userId": "10606629957436102111"
     },
     "user_tz": -120
    },
    "id": "45c37cd5-ffb1-4d8c-be1b-fa822c8d4c92",
    "outputId": "3fb2e20a-02f9-49bf-fc9e-290d6b503559",
    "papermill": {
     "duration": 42.238612,
     "end_time": "2023-03-19T01:47:07.549029",
     "exception": false,
     "start_time": "2023-03-19T01:46:25.310417",
     "status": "completed"
    },
    "tags": []
   },
   "outputs": [
    {
     "name": "stdout",
     "output_type": "stream",
     "text": [
      "Fitting 3 folds for each of 12 candidates, totalling 36 fits\n",
      "[CV] END ..................C=1.0, penalty=none, solver=lbfgs; total time=   0.1s\n",
      "[CV] END ..............C=1.0, penalty=none, solver=newton-cg; total time=   0.2s\n",
      "[CV] END ....................C=0.01, penalty=l1, solver=saga; total time=   0.6s\n",
      "[CV] END ......................C=10, penalty=l1, solver=saga; total time=   0.6s\n",
      "[CV] END ......................C=10, penalty=l1, solver=saga; total time=   0.7s\n",
      "[CV] END ......................C=50, penalty=l1, solver=saga; total time=   0.6s\n",
      "[CV] END ...................C=0.01, penalty=l2, solver=lbfgs; total time=   0.1s\n",
      "[CV] END ...............C=0.01, penalty=l2, solver=newton-cg; total time=   0.3s\n",
      "[CV] END ...............C=0.01, penalty=l2, solver=newton-cg; total time=   0.2s\n",
      "[CV] END .....................C=0.1, penalty=l2, solver=saga; total time=   0.6s\n",
      "[CV] END .....................C=0.1, penalty=l2, solver=saga; total time=   0.7s\n",
      "[CV] END .................C=10, penalty=l2, solver=newton-cg; total time=   0.2s\n",
      "[CV] END .................C=10, penalty=l2, solver=newton-cg; total time=   0.2s\n",
      "[CV] END ......................C=50, penalty=l2, solver=saga; total time=   0.6s\n"
     ]
    },
    {
     "name": "stderr",
     "output_type": "stream",
     "text": [
      "/opt/anaconda3/lib/python3.11/site-packages/joblib/externals/loky/process_executor.py:700: UserWarning: A worker stopped while some jobs were given to the executor. This can be caused by a too short worker timeout or by a memory leak.\n",
      "  warnings.warn(\n"
     ]
    },
    {
     "name": "stdout",
     "output_type": "stream",
     "text": [
      "[CV] END ....................C=1.0, penalty=none, solver=sag; total time=   0.8s\n",
      "[CV] END .......................C=1, penalty=l1, solver=saga; total time=   2.9s\n",
      "[CV] END ...................C=0.01, penalty=l2, solver=lbfgs; total time=   0.1s\n",
      "[CV] END ....................C=0.01, penalty=l2, solver=saga; total time=   0.6s\n",
      "[CV] END ......................C=1, penalty=l2, solver=lbfgs; total time=   0.1s\n",
      "[CV] END ......................C=1, penalty=l2, solver=lbfgs; total time=   0.1s\n",
      "[CV] END .......................C=1, penalty=l2, solver=saga; total time=   0.7s\n",
      "[CV] END .......................C=1, penalty=l2, solver=saga; total time=   0.7s\n",
      "[CV] END .......................C=50, penalty=l2, solver=sag; total time=   0.7s\n",
      "[CV] END .................C=50, penalty=l2, solver=newton-cg; total time=   0.2s\n",
      "[CV] END ..................C=1.0, penalty=none, solver=lbfgs; total time=   0.1s\n",
      "[CV] END ..............C=1.0, penalty=none, solver=newton-cg; total time=   0.2s\n",
      "[CV] END ..............C=1.0, penalty=none, solver=newton-cg; total time=   0.2s\n",
      "[CV] END ....................C=0.01, penalty=l1, solver=saga; total time=   0.8s\n",
      "[CV] END ......................C=10, penalty=l1, solver=saga; total time=   0.8s\n",
      "[CV] END ......................C=50, penalty=l1, solver=saga; total time=   0.7s\n",
      "[CV] END ......................C=50, penalty=l1, solver=saga; total time=   0.7s\n",
      "[CV] END ....................C=0.01, penalty=l2, solver=saga; total time=   0.6s\n",
      "[CV] END ......................C=1, penalty=l2, solver=lbfgs; total time=   0.1s\n",
      "[CV] END ........................C=1, penalty=l2, solver=sag; total time=   1.0s\n",
      "[CV] END .......................C=10, penalty=l2, solver=sag; total time=   0.6s\n",
      "[CV] END .......................C=10, penalty=l2, solver=sag; total time=   0.8s\n",
      "Running Time: 0.34343595\n"
     ]
    }
   ],
   "source": [
    "start = datetime.now()\n",
    "RandomForestHyper = RandomForest_grd.fit(X_train,y_train)\n",
    "print(f\"Running Time: {(datetime.now()-start).total_seconds()/60}\")"
   ]
  },
  {
   "cell_type": "code",
   "execution_count": 36,
   "id": "32a933ca-eba1-47f4-8837-c87fa36bf60c",
   "metadata": {
    "colab": {
     "base_uri": "https://localhost:8080/"
    },
    "executionInfo": {
     "elapsed": 15,
     "status": "ok",
     "timestamp": 1681197192787,
     "user": {
      "displayName": "Adnan sevinç",
      "userId": "10606629957436102111"
     },
     "user_tz": -120
    },
    "id": "32a933ca-eba1-47f4-8837-c87fa36bf60c",
    "outputId": "8e8319f6-e5b9-4840-ae74-b3a7774cc902",
    "papermill": {
     "duration": 0.077298,
     "end_time": "2023-03-19T01:47:07.686248",
     "exception": false,
     "start_time": "2023-03-19T01:47:07.608950",
     "status": "completed"
    },
    "tags": []
   },
   "outputs": [
    {
     "name": "stdout",
     "output_type": "stream",
     "text": [
      "############## Output: #################\n",
      "Best params:\n",
      "{'max_depth': None, 'n_estimators': 200}\n",
      "Best estimators\n",
      "RandomForestClassifier(n_estimators=200, random_state=42)\n",
      "Best Score:\n",
      "0.8367203630682845\n"
     ]
    }
   ],
   "source": [
    "print(f\"############## Output: #################\")\n",
    "print(\"Best params:\")\n",
    "print(RandomForestHyper.best_params_)\n",
    "print(\"Best estimators\")\n",
    "print(RandomForestHyper.best_estimator_)\n",
    "print(\"Best Score:\")\n",
    "print(RandomForestHyper.best_score_)\n"
   ]
  },
  {
   "cell_type": "code",
   "execution_count": 37,
   "id": "fcf28006-0a50-4f18-9b0e-48460a0512c3",
   "metadata": {
    "id": "fcf28006-0a50-4f18-9b0e-48460a0512c3",
    "papermill": {
     "duration": 10.839259,
     "end_time": "2023-03-19T01:47:18.589654",
     "exception": false,
     "start_time": "2023-03-19T01:47:07.750395",
     "status": "completed"
    },
    "tags": []
   },
   "outputs": [],
   "source": [
    "RandomForestHyperOutput = PrettyTable()\n",
    "RandomForestHyperOutput.field_names = [\"Train AUCROC\", \"Test AUCROC\",\"Train Gini\", \"Test Gini\"]\n",
    "RandomForestHyperOutput.add_row([\n",
    "                        roc_auc_score(y_train, RandomForestHyper.predict(X_train)),\n",
    "                        roc_auc_score(y_test, RandomForestHyper.predict(X_test)),\n",
    "                        2*roc_auc_score(y_train, RandomForestHyper.predict(X_train))-1,\n",
    "                        2*roc_auc_score(y_test, RandomForestHyper.predict(X_test))-1\n",
    "\t\t\t\t\t\t])   \n",
    "                        "
   ]
  },
  {
   "cell_type": "code",
   "execution_count": 38,
   "id": "e21ce6b8-849c-4bf4-97eb-347b972c8ccf",
   "metadata": {
    "colab": {
     "base_uri": "https://localhost:8080/"
    },
    "executionInfo": {
     "elapsed": 32,
     "status": "ok",
     "timestamp": 1681197214415,
     "user": {
      "displayName": "Adnan sevinç",
      "userId": "10606629957436102111"
     },
     "user_tz": -120
    },
    "id": "e21ce6b8-849c-4bf4-97eb-347b972c8ccf",
    "outputId": "101ed792-035b-4b77-a5d6-134aa6690bf9",
    "papermill": {
     "duration": 0.068237,
     "end_time": "2023-03-19T01:47:18.727558",
     "exception": false,
     "start_time": "2023-03-19T01:47:18.659321",
     "status": "completed"
    },
    "tags": []
   },
   "outputs": [
    {
     "name": "stdout",
     "output_type": "stream",
     "text": [
      "+--------------+--------------------+------------+--------------------+\n",
      "| Train AUCROC |    Test AUCROC     | Train Gini |     Test Gini      |\n",
      "+--------------+--------------------+------------+--------------------+\n",
      "|     1.0      | 0.7595883515097376 |    1.0     | 0.5191767030194752 |\n",
      "+--------------+--------------------+------------+--------------------+\n"
     ]
    }
   ],
   "source": [
    "print(RandomForestHyperOutput)"
   ]
  },
  {
   "cell_type": "code",
   "execution_count": 39,
   "id": "e4009276-142d-4664-a242-197701522472",
   "metadata": {
    "colab": {
     "base_uri": "https://localhost:8080/"
    },
    "executionInfo": {
     "elapsed": 16857,
     "status": "ok",
     "timestamp": 1681197231248,
     "user": {
      "displayName": "Adnan sevinç",
      "userId": "10606629957436102111"
     },
     "user_tz": -120
    },
    "id": "e4009276-142d-4664-a242-197701522472",
    "outputId": "cdd2d801-272e-4d17-d528-0646c536e05a",
    "papermill": {
     "duration": 10.930708,
     "end_time": "2023-03-19T01:47:29.727730",
     "exception": false,
     "start_time": "2023-03-19T01:47:18.797022",
     "status": "completed"
    },
    "tags": []
   },
   "outputs": [
    {
     "name": "stdout",
     "output_type": "stream",
     "text": [
      "              precision    recall  f1-score   support\n",
      "\n",
      "           0       0.98      0.73      0.84    177533\n",
      "           1       0.16      0.79      0.26     11331\n",
      "\n",
      "    accuracy                           0.74    188864\n",
      "   macro avg       0.57      0.76      0.55    188864\n",
      "weighted avg       0.93      0.74      0.81    188864\n",
      "\n",
      "[[130244  47289]\n",
      " [  2430   8901]]\n"
     ]
    }
   ],
   "source": [
    "print(classification_report(y_test,RandomForestHyper.predict(X_test)))\n",
    "print(confusion_matrix(y_test,RandomForestHyper.predict(X_test)))\n"
   ]
  },
  {
   "cell_type": "code",
   "execution_count": 40,
   "id": "990d637f-5617-4a22-905b-0308d4ed5433",
   "metadata": {
    "colab": {
     "base_uri": "https://localhost:8080/",
     "height": 449
    },
    "executionInfo": {
     "elapsed": 9666,
     "status": "ok",
     "timestamp": 1681197240910,
     "user": {
      "displayName": "Adnan sevinç",
      "userId": "10606629957436102111"
     },
     "user_tz": -120
    },
    "id": "990d637f-5617-4a22-905b-0308d4ed5433",
    "outputId": "88d5e2fd-539e-44c4-ade5-2403a8e82587",
    "papermill": {
     "duration": 5.549777,
     "end_time": "2023-03-19T01:47:35.350290",
     "exception": false,
     "start_time": "2023-03-19T01:47:29.800513",
     "status": "completed"
    },
    "tags": []
   },
   "outputs": [
    {
     "data": {
      "image/png": "[encoded data removed]",
      "text/plain": [
       "<Figure size 640x480 with 2 Axes>"
      ]
     },
     "metadata": {},
     "output_type": "display_data"
    }
   ],
   "source": [
    "cm = confusion_matrix(y_test,RandomForestHyper.predict(X_test))\n",
    "disp = ConfusionMatrixDisplay(confusion_matrix=cm,display_labels=RandomForestHyper.classes_)\n",
    "disp.plot()\n",
    "plt.show()"
   ]
  },
  {
   "cell_type": "markdown",
   "id": "fd860deb-83ff-4fc0-92ec-134980d44748",
   "metadata": {
    "id": "fd860deb-83ff-4fc0-92ec-134980d44748",
    "papermill": {
     "duration": 0.067286,
     "end_time": "2023-03-19T01:47:35.490081",
     "exception": false,
     "start_time": "2023-03-19T01:47:35.422795",
     "status": "completed"
    },
    "tags": []
   },
   "source": [
    "## XGBOOST"
   ]
  },
  {
   "cell_type": "code",
   "execution_count": 41,
   "id": "38121411-27cc-4e68-8299-048df919624b",
   "metadata": {
    "id": "38121411-27cc-4e68-8299-048df919624b",
    "papermill": {
     "duration": 0.079607,
     "end_time": "2023-03-19T01:47:35.637209",
     "exception": false,
     "start_time": "2023-03-19T01:47:35.557602",
     "status": "completed"
    },
    "tags": []
   },
   "outputs": [],
   "source": [
    "from xgboost import XGBClassifier"
   ]
  },
  {
   "cell_type": "code",
   "execution_count": 42,
   "id": "ee52da5e-83e8-42a4-a92d-060d3c27f0b9",
   "metadata": {
    "id": "ee52da5e-83e8-42a4-a92d-060d3c27f0b9",
    "papermill": {
     "duration": 0.069227,
     "end_time": "2023-03-19T01:47:35.778313",
     "exception": false,
     "start_time": "2023-03-19T01:47:35.709086",
     "status": "completed"
    },
    "tags": []
   },
   "outputs": [],
   "source": [
    "param_grid_XGBOOST = {\n",
    "                        'n_estimators':[50,100, 200], \n",
    "                        'max_depth' : [3, 6,10],\n",
    "                        'learning_rate':[0.05,0.1,0.5],\n",
    "                        'subsample': [0.5,0.7,1]\n",
    "                            }"
   ]
  },
  {
   "cell_type": "code",
   "execution_count": 43,
   "id": "bea21c2c-b4e1-4611-8cdf-70c30475bf1c",
   "metadata": {
    "id": "bea21c2c-b4e1-4611-8cdf-70c30475bf1c",
    "papermill": {
     "duration": 0.068284,
     "end_time": "2023-03-19T01:47:35.921383",
     "exception": false,
     "start_time": "2023-03-19T01:47:35.853099",
     "status": "completed"
    },
    "tags": []
   },
   "outputs": [],
   "source": [
    "\n",
    "XGBOOST_grd = GridSearchCV(\n",
    "                                  estimator=xgboost.XGBClassifier(seed=42,objective='binary:logistic')  , \n",
    "                                  param_grid=param_grid_XGBOOST,\n",
    "                                  cv=3, \n",
    "                                  verbose=1,\n",
    "                                  scoring = 'roc_auc',\n",
    "                                   n_jobs=-1\n",
    "                                    ) # n_jobs=-1 sometimes doesn't work"
   ]
  },
  {
   "cell_type": "code",
   "execution_count": 44,
   "id": "e3dc151c-2292-4d24-ad32-6853aa2c5cb5",
   "metadata": {
    "colab": {
     "base_uri": "https://localhost:8080/"
    },
    "executionInfo": {
     "elapsed": 2844679,
     "status": "ok",
     "timestamp": 1681200085583,
     "user": {
      "displayName": "Adnan sevinç",
      "userId": "10606629957436102111"
     },
     "user_tz": -120
    },
    "id": "e3dc151c-2292-4d24-ad32-6853aa2c5cb5",
    "outputId": "e0abb1ba-d6b4-405f-f50f-60c68294de2c",
    "papermill": {
     "duration": 1430.222843,
     "end_time": "2023-03-19T02:11:26.210903",
     "exception": false,
     "start_time": "2023-03-19T01:47:35.988060",
     "status": "completed"
    },
    "tags": []
   },
   "outputs": [
    {
     "name": "stdout",
     "output_type": "stream",
     "text": [
      "Fitting 3 folds for each of 81 candidates, totalling 243 fits\n",
      "[CV] END ...................C=1.0, penalty=none, solver=saga; total time=   0.7s\n",
      "[CV] END .....................C=0.1, penalty=l1, solver=saga; total time=   2.7s\n",
      "[CV] END .....................C=0.01, penalty=l2, solver=sag; total time=   0.7s\n",
      "[CV] END ........................C=1, penalty=l2, solver=sag; total time=   0.6s\n",
      "[CV] END ........................C=1, penalty=l2, solver=sag; total time=   0.8s\n",
      "[CV] END .....................C=50, penalty=l2, solver=lbfgs; total time=   0.1s\n",
      "[CV] END .......................C=50, penalty=l2, solver=sag; total time=   0.9s\n"
     ]
    },
    {
     "name": "stderr",
     "output_type": "stream",
     "text": [
      "/opt/anaconda3/lib/python3.11/site-packages/joblib/externals/loky/process_executor.py:700: UserWarning: A worker stopped while some jobs were given to the executor. This can be caused by a too short worker timeout or by a memory leak.\n",
      "  warnings.warn(\n"
     ]
    },
    {
     "name": "stdout",
     "output_type": "stream",
     "text": [
      "[CV] END ..................C=1.0, penalty=none, solver=lbfgs; total time=   0.1s\n",
      "[CV] END ....................C=1.0, penalty=none, solver=sag; total time=   0.6s\n",
      "[CV] END .....................C=0.1, penalty=l1, solver=saga; total time=   2.8s\n",
      "[CV] END .....................C=0.01, penalty=l2, solver=sag; total time=   0.5s\n",
      "[CV] END ......................C=0.1, penalty=l2, solver=sag; total time=   1.0s\n",
      "[CV] END .....................C=10, penalty=l2, solver=lbfgs; total time=   0.1s\n",
      "[CV] END .....................C=10, penalty=l2, solver=lbfgs; total time=   0.1s\n",
      "[CV] END .....................C=10, penalty=l2, solver=lbfgs; total time=   0.1s\n",
      "[CV] END .......................C=10, penalty=l2, solver=sag; total time=   1.0s\n",
      "[CV] END ......................C=50, penalty=l2, solver=saga; total time=   0.6s\n",
      "[CV] END ...................C=1.0, penalty=none, solver=saga; total time=   0.7s\n",
      "[CV] END ....................C=0.01, penalty=l1, solver=saga; total time=   0.6s\n",
      "[CV] END .......................C=1, penalty=l1, solver=saga; total time=   2.6s\n",
      "[CV] END .....................C=0.01, penalty=l2, solver=sag; total time=   0.6s\n",
      "[CV] END .....................C=0.1, penalty=l2, solver=saga; total time=   0.6s\n",
      "[CV] END ................C=0.1, penalty=l2, solver=newton-cg; total time=   0.2s\n",
      "[CV] END ..................C=1, penalty=l2, solver=newton-cg; total time=   0.2s\n",
      "[CV] END ..................C=1, penalty=l2, solver=newton-cg; total time=   0.2s\n",
      "[CV] END ......................C=10, penalty=l2, solver=saga; total time=   0.7s\n",
      "[CV] END .................C=10, penalty=l2, solver=newton-cg; total time=   0.2s\n",
      "[CV] END .................C=50, penalty=l2, solver=newton-cg; total time=   0.2s\n",
      "[CV] END .................C=50, penalty=l2, solver=newton-cg; total time=   0.2s\n",
      "[CV] END ...................C=1.0, penalty=none, solver=saga; total time=   0.7s\n",
      "[CV] END .......................C=1, penalty=l1, solver=saga; total time=   3.5s\n",
      "[CV] END ...................C=0.01, penalty=l2, solver=lbfgs; total time=   0.1s\n",
      "[CV] END ...............C=0.01, penalty=l2, solver=newton-cg; total time=   0.2s\n",
      "[CV] END ....................C=0.1, penalty=l2, solver=lbfgs; total time=   0.1s\n",
      "[CV] END ....................C=0.1, penalty=l2, solver=lbfgs; total time=   0.1s\n",
      "[CV] END ....................C=0.1, penalty=l2, solver=lbfgs; total time=   0.1s\n",
      "[CV] END ......................C=0.1, penalty=l2, solver=sag; total time=   0.6s\n",
      "[CV] END ......................C=0.1, penalty=l2, solver=sag; total time=   0.8s\n",
      "[CV] END ......................C=10, penalty=l2, solver=saga; total time=   0.7s\n",
      "[CV] END ......................C=10, penalty=l2, solver=saga; total time=   0.6s\n",
      "[CV] END ....................C=1.0, penalty=none, solver=sag; total time=   0.6s\n",
      "[CV] END .....................C=0.1, penalty=l1, solver=saga; total time=   3.2s\n",
      "[CV] END ....................C=0.01, penalty=l2, solver=saga; total time=   0.6s\n",
      "[CV] END ................C=0.1, penalty=l2, solver=newton-cg; total time=   0.3s\n",
      "[CV] END ................C=0.1, penalty=l2, solver=newton-cg; total time=   0.2s\n",
      "[CV] END .......................C=1, penalty=l2, solver=saga; total time=   0.7s\n",
      "[CV] END ..................C=1, penalty=l2, solver=newton-cg; total time=   0.2s\n",
      "[CV] END .....................C=50, penalty=l2, solver=lbfgs; total time=   0.1s\n",
      "[CV] END .....................C=50, penalty=l2, solver=lbfgs; total time=   0.1s\n",
      "[CV] END .......................C=50, penalty=l2, solver=sag; total time=   0.5s\n",
      "[CV] END ......................C=50, penalty=l2, solver=saga; total time=   0.6s\n",
      "Running Time: 0.5121078166666667\n"
     ]
    }
   ],
   "source": [
    "start = datetime.now()\n",
    "XGBOOSTHyper = XGBOOST_grd.fit(X_train,y_train)\n",
    "print(f\"Running Time: {(datetime.now()-start).total_seconds()/60}\")"
   ]
  },
  {
   "cell_type": "code",
   "execution_count": 45,
   "id": "1ed91570-241f-46d6-9b90-7e501a1ae797",
   "metadata": {
    "colab": {
     "base_uri": "https://localhost:8080/"
    },
    "executionInfo": {
     "elapsed": 7,
     "status": "ok",
     "timestamp": 1681200085583,
     "user": {
      "displayName": "Adnan sevinç",
      "userId": "10606629957436102111"
     },
     "user_tz": -120
    },
    "id": "1ed91570-241f-46d6-9b90-7e501a1ae797",
    "outputId": "66a7b734-74f9-4d4e-bc36-45d2b846e197",
    "papermill": {
     "duration": 0.083395,
     "end_time": "2023-03-19T02:11:26.370296",
     "exception": false,
     "start_time": "2023-03-19T02:11:26.286901",
     "status": "completed"
    },
    "tags": []
   },
   "outputs": [
    {
     "name": "stdout",
     "output_type": "stream",
     "text": [
      "############## Output: #################\n",
      "Best params:\n",
      "{'learning_rate': 0.1, 'max_depth': 3, 'n_estimators': 200, 'subsample': 0.7}\n",
      "Best estimators\n",
      "XGBClassifier(base_score=None, booster=None, callbacks=None,\n",
      "              colsample_bylevel=None, colsample_bynode=None,\n",
      "              colsample_bytree=None, device=None, early_stopping_rounds=None,\n",
      "              enable_categorical=False, eval_metric=None, feature_types=None,\n",
      "              gamma=None, grow_policy=None, importance_type=None,\n",
      "              interaction_constraints=None, learning_rate=0.1, max_bin=None,\n",
      "              max_cat_threshold=None, max_cat_to_onehot=None,\n",
      "              max_delta_step=None, max_depth=3, max_leaves=None,\n",
      "              min_child_weight=None, missing=nan, monotone_constraints=None,\n",
      "              multi_strategy=None, n_estimators=200, n_jobs=None,\n",
      "              num_parallel_tree=None, random_state=None, ...)\n",
      "Best Score:\n",
      "0.8434461330088956\n"
     ]
    }
   ],
   "source": [
    "print(f\"############## Output: #################\")\n",
    "print(\"Best params:\")\n",
    "print(XGBOOSTHyper.best_params_)\n",
    "print(\"Best estimators\")\n",
    "print(XGBOOSTHyper.best_estimator_)\n",
    "print(\"Best Score:\")\n",
    "print(XGBOOSTHyper.best_score_)\n"
   ]
  },
  {
   "cell_type": "code",
   "execution_count": 46,
   "id": "e3e6101c-0c39-41e5-a256-6ac6726d69bf",
   "metadata": {
    "id": "e3e6101c-0c39-41e5-a256-6ac6726d69bf",
    "papermill": {
     "duration": 0.735411,
     "end_time": "2023-03-19T02:11:27.182682",
     "exception": false,
     "start_time": "2023-03-19T02:11:26.447271",
     "status": "completed"
    },
    "tags": []
   },
   "outputs": [],
   "source": [
    "XGBOOSTHyperOutput = PrettyTable()\n",
    "XGBOOSTHyperOutput.field_names = [\"Train AUCROC\", \"Test AUCROC\",\"Train Gini\", \"Test Gini\"]\n",
    "XGBOOSTHyperOutput.add_row([\n",
    "                        roc_auc_score(y_train, XGBOOSTHyper.predict(X_train)),\n",
    "                        roc_auc_score(y_test, XGBOOSTHyper.predict(X_test)),\n",
    "                        2*roc_auc_score(y_train, XGBOOSTHyper.predict(X_train))-1,\n",
    "                        2*roc_auc_score(y_test, XGBOOSTHyper.predict(X_test))-1\n",
    "\t\t\t\t\t\t])   \n",
    "                        "
   ]
  },
  {
   "cell_type": "code",
   "execution_count": 47,
   "id": "f8c82f14-832d-49fb-9691-04abeb1b7f34",
   "metadata": {
    "colab": {
     "base_uri": "https://localhost:8080/"
    },
    "executionInfo": {
     "elapsed": 7,
     "status": "ok",
     "timestamp": 1681200087615,
     "user": {
      "displayName": "Adnan sevinç",
      "userId": "10606629957436102111"
     },
     "user_tz": -120
    },
    "id": "f8c82f14-832d-49fb-9691-04abeb1b7f34",
    "outputId": "076aff5a-f4f0-467b-9228-5027f92c153b",
    "papermill": {
     "duration": 0.088462,
     "end_time": "2023-03-19T02:11:27.379090",
     "exception": false,
     "start_time": "2023-03-19T02:11:27.290628",
     "status": "completed"
    },
    "tags": []
   },
   "outputs": [
    {
     "name": "stdout",
     "output_type": "stream",
     "text": [
      "+--------------------+--------------------+-------------------+--------------------+\n",
      "|    Train AUCROC    |    Test AUCROC     |     Train Gini    |     Test Gini      |\n",
      "+--------------------+--------------------+-------------------+--------------------+\n",
      "| 0.7708412134049475 | 0.7633961047348999 | 0.541682426809895 | 0.5267922094697999 |\n",
      "+--------------------+--------------------+-------------------+--------------------+\n"
     ]
    }
   ],
   "source": [
    "print(XGBOOSTHyperOutput)"
   ]
  },
  {
   "cell_type": "code",
   "execution_count": 48,
   "id": "69cb0b7b-42f1-4f8f-bd5f-d162a73b8ba2",
   "metadata": {
    "colab": {
     "base_uri": "https://localhost:8080/"
    },
    "executionInfo": {
     "elapsed": 2481,
     "status": "ok",
     "timestamp": 1681200090093,
     "user": {
      "displayName": "Adnan sevinç",
      "userId": "10606629957436102111"
     },
     "user_tz": -120
    },
    "id": "69cb0b7b-42f1-4f8f-bd5f-d162a73b8ba2",
    "outputId": "cb403d15-6d37-4823-c54b-63eed1162044",
    "papermill": {
     "duration": 1.072753,
     "end_time": "2023-03-19T02:11:28.528689",
     "exception": false,
     "start_time": "2023-03-19T02:11:27.455936",
     "status": "completed"
    },
    "tags": []
   },
   "outputs": [
    {
     "name": "stdout",
     "output_type": "stream",
     "text": [
      "              precision    recall  f1-score   support\n",
      "\n",
      "           0       0.98      0.74      0.84    177533\n",
      "           1       0.16      0.79      0.27     11331\n",
      "\n",
      "    accuracy                           0.74    188864\n",
      "   macro avg       0.57      0.76      0.56    188864\n",
      "weighted avg       0.93      0.74      0.81    188864\n",
      "\n",
      "[[131549  45984]\n",
      " [  2427   8904]]\n"
     ]
    }
   ],
   "source": [
    "print(classification_report(y_test,XGBOOSTHyper.predict(X_test)))\n",
    "print(confusion_matrix(y_test,XGBOOSTHyper.predict(X_test)))"
   ]
  },
  {
   "cell_type": "code",
   "execution_count": 49,
   "id": "49559c76-2081-47f4-9e04-d119e2f0f8c0",
   "metadata": {
    "colab": {
     "base_uri": "https://localhost:8080/",
     "height": 449
    },
    "executionInfo": {
     "elapsed": 462,
     "status": "ok",
     "timestamp": 1681200090552,
     "user": {
      "displayName": "Adnan sevinç",
      "userId": "10606629957436102111"
     },
     "user_tz": -120
    },
    "id": "49559c76-2081-47f4-9e04-d119e2f0f8c0",
    "outputId": "537d9f92-b689-4e3b-e5a2-0e085a1a97ac",
    "papermill": {
     "duration": 0.656514,
     "end_time": "2023-03-19T02:11:29.259225",
     "exception": false,
     "start_time": "2023-03-19T02:11:28.602711",
     "status": "completed"
    },
    "tags": []
   },
   "outputs": [
    {
     "data": {
      "image/png": "[encoded data removed]",
      "text/plain": [
       "<Figure size 640x480 with 2 Axes>"
      ]
     },
     "metadata": {},
     "output_type": "display_data"
    }
   ],
   "source": [
    "cm = confusion_matrix(y_test,XGBOOSTHyper.predict(X_test))\n",
    "disp = ConfusionMatrixDisplay(confusion_matrix=cm,display_labels=XGBOOSTHyper.classes_)\n",
    "disp.plot()\n",
    "plt.show()\n"
   ]
  }
 ],
 "metadata": {
  "colab": {
   "machine_shape": "hm",
   "provenance": []
  },
  "domo": {
   "notebook_id": "e5263409-2339-4f40-a06e-1befe3662997"
  },
  "gpuClass": "standard",
  "kernelspec": {
   "display_name": "Python 3 (ipykernel)",
   "language": "python",
   "name": "python3"
  },
  "language_info": {
   "codemirror_mode": {
    "name": "ipython",
    "version": 3
   },
   "file_extension": ".py",
   "mimetype": "text/x-python",
   "name": "python",
   "nbconvert_exporter": "python",
   "pygments_lexer": "ipython3",
   "version": "3.11.7"
  },
  "papermill": {
   "default_parameters": {},
   "duration": 4520.99764,
   "end_time": "2023-03-19T03:00:04.540527",
   "environment_variables": {},
   "exception": null,
   "input_path": "MachineLearningHyperUnderSampling.ipynb",
   "output_path": "/home/domo/recent_executions/2023-03-19T01-44-43/output.ipynb",
   "parameters": {},
   "start_time": "2023-03-19T01:44:43.542887",
   "version": "2.4.0"
  }
 },
 "nbformat": 4,
 "nbformat_minor": 5
}
